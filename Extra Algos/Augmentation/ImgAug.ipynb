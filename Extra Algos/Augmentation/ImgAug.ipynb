{
 "cells": [
  {
   "cell_type": "markdown",
   "metadata": {},
   "source": [
    "# **Importing the Libraries**"
   ]
  },
  {
   "cell_type": "code",
   "execution_count": 4,
   "metadata": {},
   "outputs": [],
   "source": [
    "import cv2\n",
    "import numpy as np\n",
    "from PIL import Image\n",
    "import os\n",
    "import glob"
   ]
  },
  {
   "cell_type": "markdown",
   "metadata": {},
   "source": [
    "### Current Working Directory"
   ]
  },
  {
   "cell_type": "code",
   "execution_count": 1,
   "metadata": {},
   "outputs": [
    {
     "data": {
      "text/plain": [
       "'c:\\\\Users\\\\kulsh\\\\OneDrive\\\\Desktop\\\\Study\\\\ML Lab'"
      ]
     },
     "execution_count": 1,
     "metadata": {},
     "output_type": "execute_result"
    }
   ],
   "source": [
    "os.getcwd()"
   ]
  },
  {
   "cell_type": "code",
   "execution_count": null,
   "metadata": {},
   "outputs": [],
   "source": []
  },
  {
   "cell_type": "markdown",
   "metadata": {},
   "source": [
    "# **Rotation**"
   ]
  },
  {
   "cell_type": "code",
   "execution_count": 10,
   "metadata": {},
   "outputs": [],
   "source": [
    "# Train Angry Dataset Rotate\n",
    "inputFolder = r\"C:\\Users\\kulsh\\OneDrive\\Desktop\\Study\\ML Lab\\Face_Dataset\\train\\angry\"\n",
    "os.chdir(r\"C:\\Users\\kulsh\\OneDrive\\Desktop\\Study\\ML Lab\\Face_Dataset\\train\\angry\")\n",
    "folderlen = len(inputFolder)\n",
    "os.mkdir('Rotation')\n",
    "for img in glob.glob(inputFolder+\"/*.jpg\"):\n",
    "    image = cv2.imread(img)\n",
    "    height, width = image.shape[:2]\n",
    "    rotation_matrix = cv2.getRotationMatrix2D((width/2,height/2),45,.5) # 45 Degrees\n",
    "    rotated_image = cv2.warpAffine(image,rotation_matrix,(width,height))\n",
    "    cv2.imwrite(r\"C:\\Users\\kulsh\\OneDrive\\Desktop\\Study\\ML Lab\\Face_Dataset\\train\\angry\\Rotation\"+img[folderlen:], rotated_image)"
   ]
  },
  {
   "cell_type": "markdown",
   "metadata": {},
   "source": [
    "# **Brightness**"
   ]
  },
  {
   "cell_type": "code",
   "execution_count": 6,
   "metadata": {},
   "outputs": [],
   "source": [
    "# Train Angry Dataset Brightness Increase\n",
    "inputFolder = r\"C:\\Users\\kulsh\\OneDrive\\Desktop\\Study\\ML Lab\\Face_Dataset\\train\\angry\"\n",
    "os.chdir(r\"C:\\Users\\kulsh\\OneDrive\\Desktop\\Study\\ML Lab\\Face_Dataset\\train\\angry\")\n",
    "folderlen = len(inputFolder)\n",
    "os.mkdir('Increase Brightness')\n",
    "for img in glob.glob(inputFolder+\"/*.jpg\"):\n",
    "    image = cv2.imread(img)\n",
    "    bright = np.ones(image.shape, dtype=\"uint8\") * 70\n",
    "    brightincrease = cv2.add(image, bright)\n",
    "    cv2.imwrite(r\"C:\\Users\\kulsh\\OneDrive\\Desktop\\Study\\ML Lab\\Face_Dataset\\train\\angry\\Increase Brightness\"+img[folderlen:], brightincrease)"
   ]
  },
  {
   "cell_type": "code",
   "execution_count": 7,
   "metadata": {},
   "outputs": [],
   "source": [
    "# Train Angry Dataset Brightness Decrease\n",
    "inputFolder = r\"C:\\Users\\kulsh\\OneDrive\\Desktop\\Study\\ML Lab\\Face_Dataset\\train\\angry\"\n",
    "os.chdir(r\"C:\\Users\\kulsh\\OneDrive\\Desktop\\Study\\ML Lab\\Face_Dataset\\train\\angry\")\n",
    "folderlen = len(inputFolder)\n",
    "os.mkdir('Decrease Brightness')\n",
    "for img in glob.glob(inputFolder+\"/*.jpg\"):\n",
    "    image = cv2.imread(img)\n",
    "    bright = np.ones(image.shape, dtype=\"uint8\") * 70\n",
    "    brightdecrease = cv2.subtract(image, bright)\n",
    "    cv2.imwrite(r\"C:\\Users\\kulsh\\OneDrive\\Desktop\\Study\\ML Lab\\Face_Dataset\\train\\angry\\Decrease Brightness\"+img[folderlen:], brightdecrease)"
   ]
  },
  {
   "cell_type": "markdown",
   "metadata": {},
   "source": [
    "# **Flipping**"
   ]
  },
  {
   "cell_type": "code",
   "execution_count": 8,
   "metadata": {},
   "outputs": [],
   "source": [
    "# Train Angry Dataset Flipping Horizontally\n",
    "inputFolder = r\"C:\\Users\\kulsh\\OneDrive\\Desktop\\Study\\ML Lab\\Face_Dataset\\train\\angry\"\n",
    "os.chdir(r\"C:\\Users\\kulsh\\OneDrive\\Desktop\\Study\\ML Lab\\Face_Dataset\\train\\angry\")\n",
    "folderlen = len(inputFolder)\n",
    "os.mkdir('Flip Horizontal')\n",
    "for img in glob.glob(inputFolder+\"/*.jpg\"):\n",
    "    image = cv2.imread(img)\n",
    "    flip = cv2.flip(image, 3)\n",
    "    cv2.imwrite(r\"C:\\Users\\kulsh\\OneDrive\\Desktop\\Study\\ML Lab\\Face_Dataset\\train\\angry\\Flip Horizontal\"+img[folderlen:],flip)"
   ]
  },
  {
   "cell_type": "code",
   "execution_count": 9,
   "metadata": {},
   "outputs": [],
   "source": [
    "# Train Angry Dataset Flipping Vertically\n",
    "inputFolder = r\"C:\\Users\\kulsh\\OneDrive\\Desktop\\Study\\ML Lab\\Face_Dataset\\train\\angry\"\n",
    "os.chdir(r\"C:\\Users\\kulsh\\OneDrive\\Desktop\\Study\\ML Lab\\Face_Dataset\\train\\angry\")\n",
    "folderlen = len(inputFolder)\n",
    "os.mkdir('Flip Vertical')\n",
    "for img in glob.glob(inputFolder+\"/*.jpg\"):\n",
    "    image = cv2.imread(img)\n",
    "    flip = cv2.flip(image, 0)\n",
    "    cv2.imwrite(r\"C:\\Users\\kulsh\\OneDrive\\Desktop\\Study\\ML Lab\\Face_Dataset\\train\\angry\\Flip Vertical\"+img[folderlen:],flip)"
   ]
  },
  {
   "cell_type": "code",
   "execution_count": 10,
   "metadata": {},
   "outputs": [],
   "source": [
    "# Train Angry Dataset Flipping Horizontally & Verically Both\n",
    "inputFolder = r\"C:\\Users\\kulsh\\OneDrive\\Desktop\\Study\\ML Lab\\Face_Dataset\\train\\angry\"\n",
    "os.chdir(r\"C:\\Users\\kulsh\\OneDrive\\Desktop\\Study\\ML Lab\\Face_Dataset\\train\\angry\")\n",
    "folderlen = len(inputFolder)\n",
    "os.mkdir('Flip HorVer')\n",
    "for img in glob.glob(inputFolder+\"/*.jpg\"):\n",
    "    image = cv2.imread(img)\n",
    "    flip = cv2.flip(image, -1)\n",
    "    cv2.imwrite(r\"C:\\Users\\kulsh\\OneDrive\\Desktop\\Study\\ML Lab\\Face_Dataset\\train\\angry\\Flip HorVer\"+img[folderlen:],flip)"
   ]
  },
  {
   "cell_type": "markdown",
   "metadata": {},
   "source": [
    "# **Image Sharpening**"
   ]
  },
  {
   "cell_type": "code",
   "execution_count": 11,
   "metadata": {},
   "outputs": [],
   "source": [
    "# Train Angry Dataset Sharpening\n",
    "inputFolder = r\"C:\\Users\\kulsh\\OneDrive\\Desktop\\Study\\ML Lab\\Face_Dataset\\train\\angry\"\n",
    "os.chdir(r\"C:\\Users\\kulsh\\OneDrive\\Desktop\\Study\\ML Lab\\Face_Dataset\\train\\angry\")\n",
    "folderlen = len(inputFolder)\n",
    "os.mkdir('Sharpening')\n",
    "for img in glob.glob(inputFolder+\"/*.jpg\"):\n",
    "    image = cv2.imread(img)\n",
    "    sharpening = np.array([ [-1,-1,-1],\n",
    "                            [-1,10,-1],\n",
    "                            [-1,-1,-1] ]) \n",
    "    sharpened = cv2.filter2D(image,-1,sharpening)\n",
    "    cv2.imwrite(r\"C:\\Users\\kulsh\\OneDrive\\Desktop\\Study\\ML Lab\\Face_Dataset\\train\\angry\\Sharpening\"+img[folderlen:],sharpened)"
   ]
  },
  {
   "cell_type": "markdown",
   "metadata": {},
   "source": [
    "# **Zoom**"
   ]
  },
  {
   "cell_type": "code",
   "execution_count": 5,
   "metadata": {},
   "outputs": [],
   "source": [
    "# Train Angry Dataset Zoom\n",
    "import random\n",
    "inputFolder = r\"C:\\Users\\kulsh\\OneDrive\\Desktop\\Study\\ML Lab\\Face_Dataset\\train\\angry\"\n",
    "os.chdir(r\"C:\\Users\\kulsh\\OneDrive\\Desktop\\Study\\ML Lab\\Face_Dataset\\train\\angry\")\n",
    "folderlen = len(inputFolder)\n",
    "os.mkdir('Zoom')\n",
    "def fill(img, h, w):\n",
    "    img = cv2.resize(img, (h, w), interpolation=cv2.INTER_CUBIC)\n",
    "    return img\n",
    "def zoom(img, value):\n",
    "    if value > 1 or value < 0:\n",
    "        print('Value for zoom should be less than 1 and greater than 0')\n",
    "        return img\n",
    "    value = random.uniform(value, 1)\n",
    "    h, w = img.shape[:2]\n",
    "    h_taken = int(value*h)\n",
    "    w_taken = int(value*w)\n",
    "    h_start = random.randint(0, h-h_taken)\n",
    "    w_start = random.randint(0, w-w_taken)\n",
    "    img = img[h_start:h_start+h_taken, w_start:w_start+w_taken, :]\n",
    "    img = fill(img, h, w)\n",
    "    return img\n",
    "for img in glob.glob(inputFolder+\"/*.jpg\"):\n",
    "    image = cv2.imread(img)\n",
    "    Zoom = zoom(image, 0.5)\n",
    "    cv2.imwrite(r\"C:\\Users\\kulsh\\OneDrive\\Desktop\\Study\\ML Lab\\Face_Dataset\\train\\angry\\Zoom\"+img[folderlen:],Zoom)"
   ]
  }
 ],
 "metadata": {
  "kernelspec": {
   "display_name": "Python 3.11.0 64-bit",
   "language": "python",
   "name": "python3"
  },
  "language_info": {
   "codemirror_mode": {
    "name": "ipython",
    "version": 3
   },
   "file_extension": ".py",
   "mimetype": "text/x-python",
   "name": "python",
   "nbconvert_exporter": "python",
   "pygments_lexer": "ipython3",
   "version": "3.11.0"
  },
  "orig_nbformat": 4,
  "vscode": {
   "interpreter": {
    "hash": "48714993e846fc5f514fd0ef99d4703e086984bc3371fa8f7d6f8ac5dd0c55d1"
   }
  }
 },
 "nbformat": 4,
 "nbformat_minor": 2
}
