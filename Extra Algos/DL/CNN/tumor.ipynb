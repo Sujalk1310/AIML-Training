{
 "cells": [
  {
   "cell_type": "code",
   "execution_count": 1,
   "metadata": {},
   "outputs": [],
   "source": [
    "import tensorflow as tf\n",
    "from keras.preprocessing.image import ImageDataGenerator"
   ]
  },
  {
   "cell_type": "code",
   "execution_count": 2,
   "metadata": {},
   "outputs": [
    {
     "name": "stdout",
     "output_type": "stream",
     "text": [
      "Found 253 images belonging to 2 classes.\n"
     ]
    }
   ],
   "source": [
    "train_datagen = ImageDataGenerator(rescale = 1./255,\n",
    "                                   shear_range = 0.2,\n",
    "                                   zoom_range = 0.2,\n",
    "                                   horizontal_flip = True)\n",
    "training_set = train_datagen.flow_from_directory('dataset/brain_tumor_dataset/training',\n",
    "                                                 target_size = (64, 64),\n",
    "                                                 batch_size = 32,\n",
    "                                                 class_mode = 'binary')"
   ]
  },
  {
   "cell_type": "code",
   "execution_count": 3,
   "metadata": {},
   "outputs": [
    {
     "name": "stdout",
     "output_type": "stream",
     "text": [
      "Found 80 images belonging to 2 classes.\n"
     ]
    }
   ],
   "source": [
    "test_datagen = ImageDataGenerator(rescale = 1./255)\n",
    "test_set = test_datagen.flow_from_directory('dataset/brain_tumor_dataset/testing',\n",
    "                                            target_size = (64, 64),\n",
    "                                            batch_size = 32,\n",
    "                                            class_mode = 'binary')"
   ]
  },
  {
   "cell_type": "code",
   "execution_count": 4,
   "metadata": {},
   "outputs": [],
   "source": [
    "cnn = tf.keras.models.Sequential()"
   ]
  },
  {
   "cell_type": "code",
   "execution_count": 5,
   "metadata": {},
   "outputs": [],
   "source": [
    "cnn.add(tf.keras.layers.Conv2D(filters=32, kernel_size=3, activation='relu', input_shape=[64, 64, 3]))"
   ]
  },
  {
   "cell_type": "code",
   "execution_count": 6,
   "metadata": {},
   "outputs": [],
   "source": [
    "cnn.add(tf.keras.layers.MaxPool2D(pool_size=2, strides=2))"
   ]
  },
  {
   "cell_type": "code",
   "execution_count": 7,
   "metadata": {},
   "outputs": [],
   "source": [
    "cnn.add(tf.keras.layers.Conv2D(filters=32, kernel_size=3, activation='relu'))\n",
    "cnn.add(tf.keras.layers.MaxPool2D(pool_size=2, strides=2))"
   ]
  },
  {
   "cell_type": "code",
   "execution_count": 8,
   "metadata": {},
   "outputs": [],
   "source": [
    "cnn.add(tf.keras.layers.Flatten())"
   ]
  },
  {
   "cell_type": "code",
   "execution_count": 9,
   "metadata": {},
   "outputs": [],
   "source": [
    "cnn.add(tf.keras.layers.Dense(units=128, activation='relu'))"
   ]
  },
  {
   "cell_type": "code",
   "execution_count": 10,
   "metadata": {},
   "outputs": [],
   "source": [
    "cnn.add(tf.keras.layers.Dense(units=1, activation='sigmoid'))"
   ]
  },
  {
   "cell_type": "code",
   "execution_count": 11,
   "metadata": {},
   "outputs": [],
   "source": [
    "cnn.compile(optimizer = 'adam', loss = 'binary_crossentropy', metrics = ['accuracy'])"
   ]
  },
  {
   "cell_type": "code",
   "execution_count": 12,
   "metadata": {},
   "outputs": [
    {
     "name": "stdout",
     "output_type": "stream",
     "text": [
      "Model: \"sequential\"\n",
      "_________________________________________________________________\n",
      " Layer (type)                Output Shape              Param #   \n",
      "=================================================================\n",
      " conv2d (Conv2D)             (None, 62, 62, 32)        896       \n",
      "                                                                 \n",
      " max_pooling2d (MaxPooling2D  (None, 31, 31, 32)       0         \n",
      " )                                                               \n",
      "                                                                 \n",
      " conv2d_1 (Conv2D)           (None, 29, 29, 32)        9248      \n",
      "                                                                 \n",
      " max_pooling2d_1 (MaxPooling  (None, 14, 14, 32)       0         \n",
      " 2D)                                                             \n",
      "                                                                 \n",
      " flatten (Flatten)           (None, 6272)              0         \n",
      "                                                                 \n",
      " dense (Dense)               (None, 128)               802944    \n",
      "                                                                 \n",
      " dense_1 (Dense)             (None, 1)                 129       \n",
      "                                                                 \n",
      "=================================================================\n",
      "Total params: 813,217\n",
      "Trainable params: 813,217\n",
      "Non-trainable params: 0\n",
      "_________________________________________________________________\n"
     ]
    }
   ],
   "source": [
    "cnn.summary()"
   ]
  },
  {
   "cell_type": "code",
   "execution_count": 13,
   "metadata": {},
   "outputs": [
    {
     "name": "stdout",
     "output_type": "stream",
     "text": [
      "Epoch 1/50\n",
      "8/8 [==============================] - 9s 298ms/step - loss: 0.6264 - accuracy: 0.6364 - val_loss: 0.6168 - val_accuracy: 0.7125\n",
      "Epoch 2/50\n",
      "8/8 [==============================] - 1s 78ms/step - loss: 0.5785 - accuracy: 0.7194 - val_loss: 0.5487 - val_accuracy: 0.6875\n",
      "Epoch 3/50\n",
      "8/8 [==============================] - 1s 86ms/step - loss: 0.5690 - accuracy: 0.7154 - val_loss: 0.5998 - val_accuracy: 0.7125\n",
      "Epoch 4/50\n",
      "8/8 [==============================] - 1s 79ms/step - loss: 0.5450 - accuracy: 0.7233 - val_loss: 0.6254 - val_accuracy: 0.7125\n",
      "Epoch 5/50\n",
      "8/8 [==============================] - 1s 91ms/step - loss: 0.5537 - accuracy: 0.7352 - val_loss: 0.5195 - val_accuracy: 0.7500\n",
      "Epoch 6/50\n",
      "8/8 [==============================] - 1s 88ms/step - loss: 0.5157 - accuracy: 0.7668 - val_loss: 0.5080 - val_accuracy: 0.7375\n",
      "Epoch 7/50\n",
      "8/8 [==============================] - 1s 76ms/step - loss: 0.4801 - accuracy: 0.7628 - val_loss: 0.5821 - val_accuracy: 0.7125\n",
      "Epoch 8/50\n",
      "8/8 [==============================] - 1s 76ms/step - loss: 0.5058 - accuracy: 0.7668 - val_loss: 0.4306 - val_accuracy: 0.8500\n",
      "Epoch 9/50\n",
      "8/8 [==============================] - 1s 95ms/step - loss: 0.4356 - accuracy: 0.8379 - val_loss: 0.4600 - val_accuracy: 0.7750\n",
      "Epoch 10/50\n",
      "8/8 [==============================] - 1s 85ms/step - loss: 0.3898 - accuracy: 0.8182 - val_loss: 0.4509 - val_accuracy: 0.8000\n",
      "Epoch 11/50\n",
      "8/8 [==============================] - 1s 82ms/step - loss: 0.4480 - accuracy: 0.8142 - val_loss: 0.3657 - val_accuracy: 0.8000\n",
      "Epoch 12/50\n",
      "8/8 [==============================] - 1s 89ms/step - loss: 0.3620 - accuracy: 0.8419 - val_loss: 0.4011 - val_accuracy: 0.8125\n",
      "Epoch 13/50\n",
      "8/8 [==============================] - 1s 83ms/step - loss: 0.3957 - accuracy: 0.8419 - val_loss: 0.7057 - val_accuracy: 0.6875\n",
      "Epoch 14/50\n",
      "8/8 [==============================] - 1s 80ms/step - loss: 0.4774 - accuracy: 0.7945 - val_loss: 0.3857 - val_accuracy: 0.8625\n",
      "Epoch 15/50\n",
      "8/8 [==============================] - 1s 82ms/step - loss: 0.4537 - accuracy: 0.7905 - val_loss: 0.4115 - val_accuracy: 0.8250\n",
      "Epoch 16/50\n",
      "8/8 [==============================] - 1s 87ms/step - loss: 0.4066 - accuracy: 0.8379 - val_loss: 0.3960 - val_accuracy: 0.8375\n",
      "Epoch 17/50\n",
      "8/8 [==============================] - 1s 77ms/step - loss: 0.3349 - accuracy: 0.8419 - val_loss: 0.2913 - val_accuracy: 0.9000\n",
      "Epoch 18/50\n",
      "8/8 [==============================] - 1s 83ms/step - loss: 0.3377 - accuracy: 0.8379 - val_loss: 0.4041 - val_accuracy: 0.8375\n",
      "Epoch 19/50\n",
      "8/8 [==============================] - 1s 83ms/step - loss: 0.3755 - accuracy: 0.8538 - val_loss: 0.3047 - val_accuracy: 0.8750\n",
      "Epoch 20/50\n",
      "8/8 [==============================] - 1s 81ms/step - loss: 0.3387 - accuracy: 0.8498 - val_loss: 0.2703 - val_accuracy: 0.8750\n",
      "Epoch 21/50\n",
      "8/8 [==============================] - 1s 88ms/step - loss: 0.3164 - accuracy: 0.8577 - val_loss: 0.3886 - val_accuracy: 0.8500\n",
      "Epoch 22/50\n",
      "8/8 [==============================] - 1s 101ms/step - loss: 0.3091 - accuracy: 0.8617 - val_loss: 0.2266 - val_accuracy: 0.9000\n",
      "Epoch 23/50\n",
      "8/8 [==============================] - 1s 97ms/step - loss: 0.3251 - accuracy: 0.8814 - val_loss: 0.2274 - val_accuracy: 0.8750\n",
      "Epoch 24/50\n",
      "8/8 [==============================] - 1s 99ms/step - loss: 0.3420 - accuracy: 0.8458 - val_loss: 0.2740 - val_accuracy: 0.8750\n",
      "Epoch 25/50\n",
      "8/8 [==============================] - 1s 92ms/step - loss: 0.2728 - accuracy: 0.8775 - val_loss: 0.2142 - val_accuracy: 0.8625\n",
      "Epoch 26/50\n",
      "8/8 [==============================] - 1s 100ms/step - loss: 0.2710 - accuracy: 0.8972 - val_loss: 0.2223 - val_accuracy: 0.9125\n",
      "Epoch 27/50\n",
      "8/8 [==============================] - 1s 84ms/step - loss: 0.2709 - accuracy: 0.9012 - val_loss: 0.2316 - val_accuracy: 0.8875\n",
      "Epoch 28/50\n",
      "8/8 [==============================] - 1s 83ms/step - loss: 0.2714 - accuracy: 0.9012 - val_loss: 0.2349 - val_accuracy: 0.9125\n",
      "Epoch 29/50\n",
      "8/8 [==============================] - 1s 82ms/step - loss: 0.2836 - accuracy: 0.8854 - val_loss: 0.1643 - val_accuracy: 0.9500\n",
      "Epoch 30/50\n",
      "8/8 [==============================] - 1s 82ms/step - loss: 0.2729 - accuracy: 0.8972 - val_loss: 0.2348 - val_accuracy: 0.8750\n",
      "Epoch 31/50\n",
      "8/8 [==============================] - 1s 80ms/step - loss: 0.2637 - accuracy: 0.9091 - val_loss: 0.1690 - val_accuracy: 0.9500\n",
      "Epoch 32/50\n",
      "8/8 [==============================] - 1s 82ms/step - loss: 0.2514 - accuracy: 0.8814 - val_loss: 0.1479 - val_accuracy: 0.9250\n",
      "Epoch 33/50\n",
      "8/8 [==============================] - 1s 85ms/step - loss: 0.2543 - accuracy: 0.8854 - val_loss: 0.1725 - val_accuracy: 0.9125\n",
      "Epoch 34/50\n",
      "8/8 [==============================] - 1s 80ms/step - loss: 0.1972 - accuracy: 0.9249 - val_loss: 0.1848 - val_accuracy: 0.9250\n",
      "Epoch 35/50\n",
      "8/8 [==============================] - 1s 81ms/step - loss: 0.2322 - accuracy: 0.9130 - val_loss: 0.2242 - val_accuracy: 0.9000\n",
      "Epoch 36/50\n",
      "8/8 [==============================] - 1s 83ms/step - loss: 0.2696 - accuracy: 0.9012 - val_loss: 0.1453 - val_accuracy: 0.9500\n",
      "Epoch 37/50\n",
      "8/8 [==============================] - 1s 90ms/step - loss: 0.2563 - accuracy: 0.9170 - val_loss: 0.1464 - val_accuracy: 0.9625\n",
      "Epoch 38/50\n",
      "8/8 [==============================] - 1s 99ms/step - loss: 0.2501 - accuracy: 0.9130 - val_loss: 0.1403 - val_accuracy: 0.9500\n",
      "Epoch 39/50\n",
      "8/8 [==============================] - 1s 92ms/step - loss: 0.2125 - accuracy: 0.9368 - val_loss: 0.2026 - val_accuracy: 0.9125\n",
      "Epoch 40/50\n",
      "8/8 [==============================] - 1s 81ms/step - loss: 0.1850 - accuracy: 0.9209 - val_loss: 0.1171 - val_accuracy: 0.9750\n",
      "Epoch 41/50\n",
      "8/8 [==============================] - 1s 91ms/step - loss: 0.2150 - accuracy: 0.9170 - val_loss: 0.0855 - val_accuracy: 0.9875\n",
      "Epoch 42/50\n",
      "8/8 [==============================] - 1s 84ms/step - loss: 0.1906 - accuracy: 0.9209 - val_loss: 0.1663 - val_accuracy: 0.9250\n",
      "Epoch 43/50\n",
      "8/8 [==============================] - 1s 88ms/step - loss: 0.2019 - accuracy: 0.9130 - val_loss: 0.0874 - val_accuracy: 0.9625\n",
      "Epoch 44/50\n",
      "8/8 [==============================] - 1s 91ms/step - loss: 0.1662 - accuracy: 0.9328 - val_loss: 0.0957 - val_accuracy: 0.9750\n",
      "Epoch 45/50\n",
      "8/8 [==============================] - 1s 89ms/step - loss: 0.1444 - accuracy: 0.9486 - val_loss: 0.1139 - val_accuracy: 0.9625\n",
      "Epoch 46/50\n",
      "8/8 [==============================] - 1s 100ms/step - loss: 0.1546 - accuracy: 0.9447 - val_loss: 0.1020 - val_accuracy: 0.9625\n",
      "Epoch 47/50\n",
      "8/8 [==============================] - 1s 108ms/step - loss: 0.1733 - accuracy: 0.9368 - val_loss: 0.0832 - val_accuracy: 0.9750\n",
      "Epoch 48/50\n",
      "8/8 [==============================] - 1s 87ms/step - loss: 0.1503 - accuracy: 0.9565 - val_loss: 0.1460 - val_accuracy: 0.9375\n",
      "Epoch 49/50\n",
      "8/8 [==============================] - 1s 90ms/step - loss: 0.1750 - accuracy: 0.9328 - val_loss: 0.1454 - val_accuracy: 0.9125\n",
      "Epoch 50/50\n",
      "8/8 [==============================] - 1s 94ms/step - loss: 0.1453 - accuracy: 0.9486 - val_loss: 0.1433 - val_accuracy: 0.9375\n"
     ]
    },
    {
     "data": {
      "text/plain": [
       "<keras.callbacks.History at 0x27080914310>"
      ]
     },
     "execution_count": 13,
     "metadata": {},
     "output_type": "execute_result"
    }
   ],
   "source": [
    "cnn.fit(x = training_set, validation_data = test_set, epochs = 50)"
   ]
  },
  {
   "cell_type": "code",
   "execution_count": 15,
   "metadata": {},
   "outputs": [
    {
     "name": "stdout",
     "output_type": "stream",
     "text": [
      "1/1 [==============================] - 0s 20ms/step\n",
      "no\n"
     ]
    }
   ],
   "source": [
    "import tensorflow as tf\n",
    "import numpy as np\n",
    "#from keras.preprocessing import image\n",
    "from keras.utils import load_img, img_to_array\n",
    "test_image = tf.keras.utils.load_img('dataset/brain_tumor_dataset/testing/no/1 no.jpeg', target_size = (64, 64))\n",
    "test_image =tf.keras.utils.img_to_array(test_image)\n",
    "test_image = np.expand_dims(test_image, axis = 0)\n",
    "result = cnn.predict(test_image)\n",
    "training_set.class_indices\n",
    "if result[0][0] == 1:\n",
    "  prediction = 'yes'\n",
    "else:\n",
    "  prediction = 'no'\n",
    "print(prediction)"
   ]
  }
 ],
 "metadata": {
  "kernelspec": {
   "display_name": "Python 3",
   "language": "python",
   "name": "python3"
  },
  "language_info": {
   "codemirror_mode": {
    "name": "ipython",
    "version": 3
   },
   "file_extension": ".py",
   "mimetype": "text/x-python",
   "name": "python",
   "nbconvert_exporter": "python",
   "pygments_lexer": "ipython3",
   "version": "3.10.8 (tags/v3.10.8:aaaf517, Oct 11 2022, 16:50:30) [MSC v.1933 64 bit (AMD64)]"
  },
  "orig_nbformat": 4,
  "vscode": {
   "interpreter": {
    "hash": "1ed739916f056cbaa1c1d07d49b59abad810f48beee2c23ab8674585a1239e62"
   }
  }
 },
 "nbformat": 4,
 "nbformat_minor": 2
}
