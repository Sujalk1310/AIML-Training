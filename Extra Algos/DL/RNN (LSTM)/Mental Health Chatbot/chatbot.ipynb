{
 "cells": [
  {
   "cell_type": "code",
   "execution_count": null,
   "id": "b1d44435",
   "metadata": {},
   "outputs": [],
   "source": [
    "import os\n",
    "os.environ['TF_ENABLE_ONEDNN_OPTS']='1'\n",
    "os.environ['TF_ENABLE_MKL_NATIVE_FORMAT']='1'\n",
    "os.environ['KMP_BLOCKTIME']='1'\n",
    "os.environ['KMP_SETTINGS']='1'\n",
    "os.environ['OMP_NUM_THREADS']='6'\n",
    "os.environ['KMP_AFFINITY']='granularity=fine,verbose,compact,1,0'"
   ]
  },
  {
   "cell_type": "code",
   "execution_count": null,
   "id": "82c0f653",
   "metadata": {},
   "outputs": [],
   "source": [
    "import tensorflow as tf\n",
    "import tensorflow as tf\n",
    "tf.config.threading.set_inter_op_parallelism_threads(2) \n",
    "tf.config.threading.set_intra_op_parallelism_threads(8)\n",
    "tf.config.set_soft_device_placement(False)\n",
    "import os\n",
    "\n",
    "def get_mkl_enabled_flag():\n",
    "\n",
    "    mkl_enabled = False\n",
    "    major_version = int(tf.__version__.split(\".\")[0])\n",
    "    minor_version = int(tf.__version__.split(\".\")[1])\n",
    "    if major_version >= 2:\n",
    "        if minor_version < 5:\n",
    "            from tensorflow.python import _pywrap_util_port\n",
    "        elif minor_version >= 9:\n",
    "\n",
    "            from tensorflow.python.util import _pywrap_util_port\n",
    "            onednn_enabled = int(os.environ.get('TF_ENABLE_ONEDNN_OPTS', '1'))\n",
    "\n",
    "        else:\n",
    "            from tensorflow.python.util import _pywrap_util_port\n",
    "            onednn_enabled = int(os.environ.get('TF_ENABLE_ONEDNN_OPTS', '0'))\n",
    "        mkl_enabled = _pywrap_util_port.IsMklEnabled() or (onednn_enabled == 1)\n",
    "    else:\n",
    "        mkl_enabled = tf.pywrap_tensorflow.IsMklEnabled()\n",
    "    return mkl_enabled\n",
    "\n",
    "print (\"We are using Tensorflow version\", tf.__version__)\n",
    "print(\"MKL enabled :\", get_mkl_enabled_flag())"
   ]
  },
  {
   "cell_type": "code",
   "execution_count": 1,
   "id": "c16cddab-7c8d-4c74-909c-b9f535ab313f",
   "metadata": {},
   "outputs": [
    {
     "name": "stderr",
     "output_type": "stream",
     "text": [
      "Intel(R) Extension for Scikit-learn* enabled (https://github.com/intel/scikit-learn-intelex)\n"
     ]
    }
   ],
   "source": [
    "import numpy as np # linear algebra\n",
    "import sklearnex\n",
    "from sklearnex import patch_sklearn\n",
    "patch_sklearn() \n",
    "import modin.pandas as pd # data processing, CSV file I/O (e.g. pd.read_csv)\n",
    "from time import time"
   ]
  },
  {
   "cell_type": "code",
   "execution_count": 2,
   "id": "4254f324-7d8d-482b-9339-4925c39fa21c",
   "metadata": {},
   "outputs": [
    {
     "name": "stderr",
     "output_type": "stream",
     "text": [
      "UserWarning: Ray execution environment not yet initialized. Initializing...\n",
      "To remove this warning, run the following python code before doing dataframe operations:\n",
      "\n",
      "    import ray\n",
      "    ray.init(runtime_env={'env_vars': {'__MODIN_AUTOIMPORT_PANDAS__': '1'}})\n",
      "\n",
      "2023-05-26 15:44:51,413\tINFO worker.py:1625 -- Started a local Ray instance.\n",
      "UserWarning: Distributing <class 'list'> object. This may take some time.\n"
     ]
    }
   ],
   "source": [
    "import json\n",
    "\n",
    "with open(r'intents.json') as f:\n",
    "    data = json.load(f)\n",
    "\n",
    "df = pd.DataFrame(data['intents'])"
   ]
  },
  {
   "cell_type": "code",
   "execution_count": 3,
   "id": "37e70f77-ee60-44b6-ab76-b29ee99c7a83",
   "metadata": {},
   "outputs": [
    {
     "data": {
      "text/html": [
       "<div>\n",
       "<style scoped>\n",
       "    .dataframe tbody tr th:only-of-type {\n",
       "        vertical-align: middle;\n",
       "    }\n",
       "\n",
       "    .dataframe tbody tr th {\n",
       "        vertical-align: top;\n",
       "    }\n",
       "\n",
       "    .dataframe thead th {\n",
       "        text-align: right;\n",
       "    }\n",
       "</style>\n",
       "<table border=\"1\" class=\"dataframe\">\n",
       "  <thead>\n",
       "    <tr style=\"text-align: right;\">\n",
       "      <th></th>\n",
       "      <th>tag</th>\n",
       "      <th>patterns</th>\n",
       "      <th>responses</th>\n",
       "    </tr>\n",
       "  </thead>\n",
       "  <tbody>\n",
       "    <tr>\n",
       "      <th>0</th>\n",
       "      <td>greeting</td>\n",
       "      <td>[Hi, Hey, Is anyone there?, Hi there, Hello, H...</td>\n",
       "      <td>[Hello there. Tell me how are you feeling toda...</td>\n",
       "    </tr>\n",
       "    <tr>\n",
       "      <th>1</th>\n",
       "      <td>morning</td>\n",
       "      <td>[Good morning]</td>\n",
       "      <td>[Good morning. I hope you had a good night's s...</td>\n",
       "    </tr>\n",
       "    <tr>\n",
       "      <th>2</th>\n",
       "      <td>afternoon</td>\n",
       "      <td>[Good afternoon]</td>\n",
       "      <td>[Good afternoon. How is your day going?]</td>\n",
       "    </tr>\n",
       "    <tr>\n",
       "      <th>3</th>\n",
       "      <td>evening</td>\n",
       "      <td>[Good evening]</td>\n",
       "      <td>[Good evening. How has your day been?]</td>\n",
       "    </tr>\n",
       "    <tr>\n",
       "      <th>4</th>\n",
       "      <td>night</td>\n",
       "      <td>[Good night]</td>\n",
       "      <td>[Good night. Get some proper sleep, Good night...</td>\n",
       "    </tr>\n",
       "    <tr>\n",
       "      <th>...</th>\n",
       "      <td>...</td>\n",
       "      <td>...</td>\n",
       "      <td>...</td>\n",
       "    </tr>\n",
       "    <tr>\n",
       "      <th>76</th>\n",
       "      <td>fact-29</td>\n",
       "      <td>[How do I know if I'm unwell?]</td>\n",
       "      <td>[If your beliefs , thoughts , feelings or beha...</td>\n",
       "    </tr>\n",
       "    <tr>\n",
       "      <th>77</th>\n",
       "      <td>fact-30</td>\n",
       "      <td>[How can I maintain social connections? What i...</td>\n",
       "      <td>[A lot of people are alone right now, but we d...</td>\n",
       "    </tr>\n",
       "    <tr>\n",
       "      <th>78</th>\n",
       "      <td>gibberish</td>\n",
       "      <td>[jhjbdsjcxn]</td>\n",
       "      <td>[I'm sorry, I couldn't understand your message...</td>\n",
       "    </tr>\n",
       "    <tr>\n",
       "      <th>79</th>\n",
       "      <td>fact-31</td>\n",
       "      <td>[What's the difference between anxiety and str...</td>\n",
       "      <td>[Stress and anxiety are often used interchange...</td>\n",
       "    </tr>\n",
       "    <tr>\n",
       "      <th>80</th>\n",
       "      <td>fact-32</td>\n",
       "      <td>[What's the difference between sadness and dep...</td>\n",
       "      <td>[Sadness is a normal reaction to a loss, disap...</td>\n",
       "    </tr>\n",
       "  </tbody>\n",
       "</table>\n",
       "<p>81 rows x 3 columns</p>\n",
       "</div>"
      ],
      "text/plain": [
       "          tag                                           patterns  \\\n",
       "0    greeting  [Hi, Hey, Is anyone there?, Hi there, Hello, H...   \n",
       "1     morning                                     [Good morning]   \n",
       "2   afternoon                                   [Good afternoon]   \n",
       "3     evening                                     [Good evening]   \n",
       "4       night                                       [Good night]   \n",
       "..        ...                                                ...   \n",
       "76    fact-29                     [How do I know if I'm unwell?]   \n",
       "77    fact-30  [How can I maintain social connections? What i...   \n",
       "78  gibberish                                       [jhjbdsjcxn]   \n",
       "79    fact-31  [What's the difference between anxiety and str...   \n",
       "80    fact-32  [What's the difference between sadness and dep...   \n",
       "\n",
       "                                            responses  \n",
       "0   [Hello there. Tell me how are you feeling toda...  \n",
       "1   [Good morning. I hope you had a good night's s...  \n",
       "2            [Good afternoon. How is your day going?]  \n",
       "3              [Good evening. How has your day been?]  \n",
       "4   [Good night. Get some proper sleep, Good night...  \n",
       "..                                                ...  \n",
       "76  [If your beliefs , thoughts , feelings or beha...  \n",
       "77  [A lot of people are alone right now, but we d...  \n",
       "78  [I'm sorry, I couldn't understand your message...  \n",
       "79  [Stress and anxiety are often used interchange...  \n",
       "80  [Sadness is a normal reaction to a loss, disap...  \n",
       "\n",
       "[81 rows x 3 columns]"
      ]
     },
     "execution_count": 3,
     "metadata": {},
     "output_type": "execute_result"
    }
   ],
   "source": [
    "df"
   ]
  },
  {
   "cell_type": "code",
   "execution_count": 4,
   "id": "2afd2596-8dec-4169-9a98-5a9dee008b21",
   "metadata": {},
   "outputs": [],
   "source": [
    "dic = {\"tag\":[], \"patterns\":[], \"responses\":[]}\n",
    "for i in range(len(df)):\n",
    "    ptrns = df[df.index == i]['patterns'].values[0]\n",
    "    rspns = df[df.index == i]['responses'].values[0]\n",
    "    tag = df[df.index == i]['tag'].values[0]\n",
    "    for j in range(len(ptrns)):\n",
    "        dic['tag'].append(tag)\n",
    "        dic['patterns'].append(ptrns[j])\n",
    "        dic['responses'].append(rspns)"
   ]
  },
  {
   "cell_type": "code",
   "execution_count": 5,
   "id": "d4a094cf-a18c-4adb-9a99-a445b95d4a38",
   "metadata": {},
   "outputs": [
    {
     "name": "stderr",
     "output_type": "stream",
     "text": [
      "UserWarning: `from_dict` is not currently supported by PandasOnRay, defaulting to pandas implementation.\n",
      "Please refer to https://modin.readthedocs.io/en/stable/supported_apis/defaulting_to_pandas.html for explanation.\n"
     ]
    }
   ],
   "source": [
    "df = pd.DataFrame.from_dict(dic)"
   ]
  },
  {
   "cell_type": "code",
   "execution_count": 6,
   "id": "009136f6",
   "metadata": {},
   "outputs": [
    {
     "data": {
      "text/html": [
       "<div>\n",
       "<style scoped>\n",
       "    .dataframe tbody tr th:only-of-type {\n",
       "        vertical-align: middle;\n",
       "    }\n",
       "\n",
       "    .dataframe tbody tr th {\n",
       "        vertical-align: top;\n",
       "    }\n",
       "\n",
       "    .dataframe thead th {\n",
       "        text-align: right;\n",
       "    }\n",
       "</style>\n",
       "<table border=\"1\" class=\"dataframe\">\n",
       "  <thead>\n",
       "    <tr style=\"text-align: right;\">\n",
       "      <th></th>\n",
       "      <th>tag</th>\n",
       "      <th>patterns</th>\n",
       "      <th>responses</th>\n",
       "    </tr>\n",
       "  </thead>\n",
       "  <tbody>\n",
       "    <tr>\n",
       "      <th>0</th>\n",
       "      <td>greeting</td>\n",
       "      <td>Hi</td>\n",
       "      <td>[Hello there. Tell me how are you feeling toda...</td>\n",
       "    </tr>\n",
       "    <tr>\n",
       "      <th>1</th>\n",
       "      <td>greeting</td>\n",
       "      <td>Hey</td>\n",
       "      <td>[Hello there. Tell me how are you feeling toda...</td>\n",
       "    </tr>\n",
       "    <tr>\n",
       "      <th>2</th>\n",
       "      <td>greeting</td>\n",
       "      <td>Is anyone there?</td>\n",
       "      <td>[Hello there. Tell me how are you feeling toda...</td>\n",
       "    </tr>\n",
       "    <tr>\n",
       "      <th>3</th>\n",
       "      <td>greeting</td>\n",
       "      <td>Hi there</td>\n",
       "      <td>[Hello there. Tell me how are you feeling toda...</td>\n",
       "    </tr>\n",
       "    <tr>\n",
       "      <th>4</th>\n",
       "      <td>greeting</td>\n",
       "      <td>Hello</td>\n",
       "      <td>[Hello there. Tell me how are you feeling toda...</td>\n",
       "    </tr>\n",
       "    <tr>\n",
       "      <th>...</th>\n",
       "      <td>...</td>\n",
       "      <td>...</td>\n",
       "      <td>...</td>\n",
       "    </tr>\n",
       "    <tr>\n",
       "      <th>228</th>\n",
       "      <td>fact-30</td>\n",
       "      <td>How can I maintain social connections? What if...</td>\n",
       "      <td>[A lot of people are alone right now, but we d...</td>\n",
       "    </tr>\n",
       "    <tr>\n",
       "      <th>229</th>\n",
       "      <td>gibberish</td>\n",
       "      <td>jhjbdsjcxn</td>\n",
       "      <td>[I'm sorry, I couldn't understand your message...</td>\n",
       "    </tr>\n",
       "    <tr>\n",
       "      <th>230</th>\n",
       "      <td>fact-31</td>\n",
       "      <td>What's the difference between anxiety and stress?</td>\n",
       "      <td>[Stress and anxiety are often used interchange...</td>\n",
       "    </tr>\n",
       "    <tr>\n",
       "      <th>231</th>\n",
       "      <td>fact-32</td>\n",
       "      <td>What's the difference between sadness and depr...</td>\n",
       "      <td>[Sadness is a normal reaction to a loss, disap...</td>\n",
       "    </tr>\n",
       "    <tr>\n",
       "      <th>232</th>\n",
       "      <td>fact-32</td>\n",
       "      <td>difference between sadness and depression</td>\n",
       "      <td>[Sadness is a normal reaction to a loss, disap...</td>\n",
       "    </tr>\n",
       "  </tbody>\n",
       "</table>\n",
       "<p>233 rows x 3 columns</p>\n",
       "</div>"
      ],
      "text/plain": [
       "           tag                                           patterns  \\\n",
       "0     greeting                                                 Hi   \n",
       "1     greeting                                                Hey   \n",
       "2     greeting                                   Is anyone there?   \n",
       "3     greeting                                           Hi there   \n",
       "4     greeting                                              Hello   \n",
       "..         ...                                                ...   \n",
       "228    fact-30  How can I maintain social connections? What if...   \n",
       "229  gibberish                                         jhjbdsjcxn   \n",
       "230    fact-31  What's the difference between anxiety and stress?   \n",
       "231    fact-32  What's the difference between sadness and depr...   \n",
       "232    fact-32          difference between sadness and depression   \n",
       "\n",
       "                                             responses  \n",
       "0    [Hello there. Tell me how are you feeling toda...  \n",
       "1    [Hello there. Tell me how are you feeling toda...  \n",
       "2    [Hello there. Tell me how are you feeling toda...  \n",
       "3    [Hello there. Tell me how are you feeling toda...  \n",
       "4    [Hello there. Tell me how are you feeling toda...  \n",
       "..                                                 ...  \n",
       "228  [A lot of people are alone right now, but we d...  \n",
       "229  [I'm sorry, I couldn't understand your message...  \n",
       "230  [Stress and anxiety are often used interchange...  \n",
       "231  [Sadness is a normal reaction to a loss, disap...  \n",
       "232  [Sadness is a normal reaction to a loss, disap...  \n",
       "\n",
       "[233 rows x 3 columns]"
      ]
     },
     "execution_count": 6,
     "metadata": {},
     "output_type": "execute_result"
    }
   ],
   "source": [
    "df"
   ]
  },
  {
   "cell_type": "code",
   "execution_count": 7,
   "id": "badc2ec4",
   "metadata": {},
   "outputs": [],
   "source": [
    "df.to_csv('./dataframe_chatbot.csv', index=True)"
   ]
  },
  {
   "cell_type": "code",
   "execution_count": 8,
   "id": "35399c07-8f96-4a93-ac61-e4257f2a6dca",
   "metadata": {},
   "outputs": [
    {
     "name": "stdout",
     "output_type": "stream",
     "text": [
      "number of unique words =  304\n",
      "X shape =  (233, 18)\n",
      "y shape =  (233,)\n",
      "num of classes =  81\n"
     ]
    }
   ],
   "source": [
    "from tensorflow.keras.preprocessing.text import Tokenizer\n",
    "\n",
    "tokenizer = Tokenizer(lower=True, split=' ')\n",
    "tokenizer.fit_on_texts(df['patterns'])\n",
    "tokenizer.get_config()\n",
    "\n",
    "vacab_size = len(tokenizer.word_index)\n",
    "print('number of unique words = ', vacab_size)\n",
    "\n",
    "from tensorflow.keras.preprocessing.sequence import pad_sequences\n",
    "from sklearn.preprocessing import LabelEncoder\n",
    "\n",
    "ptrn2seq = tokenizer.texts_to_sequences(df['patterns'])\n",
    "X = pad_sequences(ptrn2seq, padding='post')\n",
    "print('X shape = ', X.shape)\n",
    "\n",
    "lbl_enc = LabelEncoder()\n",
    "y = lbl_enc.fit_transform(df['tag'])\n",
    "print('y shape = ', y.shape)\n",
    "print('num of classes = ', len(np.unique(y)))\n"
   ]
  },
  {
   "cell_type": "code",
   "execution_count": 9,
   "id": "acf836cb-c769-4dee-9d7d-081e3fc09a28",
   "metadata": {},
   "outputs": [
    {
     "name": "stdout",
     "output_type": "stream",
     "text": [
      "Model: \"sequential\"\n",
      "_________________________________________________________________\n",
      " Layer (type)                Output Shape              Param #   \n",
      "=================================================================\n",
      " embedding (Embedding)       (None, 18, 100)           30500     \n",
      "                                                                 \n",
      " lstm (LSTM)                 (None, 18, 32)            17024     \n",
      "                                                                 \n",
      " layer_normalization (LayerN  (None, 18, 32)           64        \n",
      " ormalization)                                                   \n",
      "                                                                 \n",
      " lstm_1 (LSTM)               (None, 18, 32)            8320      \n",
      "                                                                 \n",
      " layer_normalization_1 (Laye  (None, 18, 32)           64        \n",
      " rNormalization)                                                 \n",
      "                                                                 \n",
      " lstm_2 (LSTM)               (None, 32)                8320      \n",
      "                                                                 \n",
      " layer_normalization_2 (Laye  (None, 32)               64        \n",
      " rNormalization)                                                 \n",
      "                                                                 \n",
      " dense (Dense)               (None, 128)               4224      \n",
      "                                                                 \n",
      " layer_normalization_3 (Laye  (None, 128)              256       \n",
      " rNormalization)                                                 \n",
      "                                                                 \n",
      " dropout (Dropout)           (None, 128)               0         \n",
      "                                                                 \n",
      " dense_1 (Dense)             (None, 128)               16512     \n",
      "                                                                 \n",
      " layer_normalization_4 (Laye  (None, 128)              256       \n",
      " rNormalization)                                                 \n",
      "                                                                 \n",
      " dropout_1 (Dropout)         (None, 128)               0         \n",
      "                                                                 \n",
      " dense_2 (Dense)             (None, 81)                10449     \n",
      "                                                                 \n",
      "=================================================================\n",
      "Total params: 96,053\n",
      "Trainable params: 96,053\n",
      "Non-trainable params: 0\n",
      "_________________________________________________________________\n",
      "You must install pydot (`pip install pydot`) and install graphviz (see instructions at https://graphviz.gitlab.io/download/) for plot_model to work.\n"
     ]
    }
   ],
   "source": [
    "import tensorflow\n",
    "from tensorflow import keras\n",
    "from tensorflow.keras.models import Sequential\n",
    "from tensorflow.keras.layers import Input, Embedding, LSTM, LayerNormalization, Dense, Dropout\n",
    "from tensorflow.keras.utils import plot_model\n",
    "\n",
    "model = Sequential()\n",
    "model.add(Input(shape=(X.shape[1])))\n",
    "model.add(Embedding(input_dim=vacab_size+1, output_dim=100, mask_zero=True))\n",
    "model.add(LSTM(32, return_sequences=True))\n",
    "model.add(LayerNormalization())\n",
    "model.add(LSTM(32, return_sequences=True))\n",
    "model.add(LayerNormalization())\n",
    "model.add(LSTM(32))\n",
    "model.add(LayerNormalization())\n",
    "model.add(Dense(128, activation=\"relu\"))\n",
    "model.add(LayerNormalization())\n",
    "model.add(Dropout(0.2))\n",
    "model.add(Dense(128, activation=\"relu\"))\n",
    "model.add(LayerNormalization())\n",
    "model.add(Dropout(0.2))\n",
    "model.add(Dense(len(np.unique(y)), activation=\"softmax\"))\n",
    "model.compile(optimizer='adam', loss=\"sparse_categorical_crossentropy\", metrics=['accuracy'])\n",
    "\n",
    "model.summary()\n",
    "plot_model(model, show_shapes=True)"
   ]
  },
  {
   "cell_type": "code",
   "execution_count": 10,
   "id": "2b931bbd-7f6d-471b-bb31-910fd5882bec",
   "metadata": {},
   "outputs": [
    {
     "name": "stdout",
     "output_type": "stream",
     "text": [
      "Epoch 1/30\n",
      "24/24 [==============================] - 9s 16ms/step - loss: 4.8752 - accuracy: 0.0343\n",
      "Epoch 2/30\n",
      "24/24 [==============================] - 0s 17ms/step - loss: 3.9074 - accuracy: 0.1373\n",
      "Epoch 3/30\n",
      "24/24 [==============================] - 0s 16ms/step - loss: 3.2253 - accuracy: 0.2403\n",
      "Epoch 4/30\n",
      "24/24 [==============================] - 0s 16ms/step - loss: 2.5902 - accuracy: 0.4077\n",
      "Epoch 5/30\n",
      "24/24 [==============================] - 0s 15ms/step - loss: 2.2565 - accuracy: 0.4678\n",
      "Epoch 6/30\n",
      "24/24 [==============================] - 0s 15ms/step - loss: 1.9149 - accuracy: 0.5837\n",
      "Epoch 7/30\n",
      "24/24 [==============================] - 0s 17ms/step - loss: 1.4828 - accuracy: 0.6738\n",
      "Epoch 8/30\n",
      "24/24 [==============================] - 0s 17ms/step - loss: 1.2540 - accuracy: 0.7339\n",
      "Epoch 9/30\n",
      "24/24 [==============================] - 0s 16ms/step - loss: 1.0184 - accuracy: 0.8112\n",
      "Epoch 10/30\n",
      "24/24 [==============================] - 0s 17ms/step - loss: 0.8406 - accuracy: 0.8541\n",
      "Epoch 11/30\n",
      "24/24 [==============================] - 0s 15ms/step - loss: 0.6794 - accuracy: 0.8712\n",
      "Epoch 12/30\n",
      "24/24 [==============================] - 0s 15ms/step - loss: 0.6422 - accuracy: 0.8927\n",
      "Epoch 13/30\n",
      "24/24 [==============================] - 0s 15ms/step - loss: 0.4885 - accuracy: 0.9399\n",
      "Epoch 14/30\n",
      "24/24 [==============================] - 0s 16ms/step - loss: 0.3663 - accuracy: 0.9657\n",
      "Epoch 15/30\n",
      "24/24 [==============================] - 0s 15ms/step - loss: 0.3306 - accuracy: 0.9571\n",
      "Epoch 16/30\n",
      "24/24 [==============================] - 0s 15ms/step - loss: 0.2541 - accuracy: 0.9785\n",
      "Epoch 17/30\n",
      "24/24 [==============================] - 0s 16ms/step - loss: 0.2181 - accuracy: 0.9871\n",
      "Epoch 18/30\n",
      "24/24 [==============================] - 0s 16ms/step - loss: 0.1979 - accuracy: 0.9785\n",
      "Epoch 19/30\n",
      "24/24 [==============================] - 0s 15ms/step - loss: 0.1854 - accuracy: 0.9871\n",
      "Epoch 20/30\n",
      "24/24 [==============================] - 0s 15ms/step - loss: 0.1598 - accuracy: 0.9785\n",
      "Total time taken to train without Intel oneAPI Optimization: 16.45s\n"
     ]
    }
   ],
   "source": [
    "start_time = time()\n",
    "model_history = model.fit(x=X,\n",
    "                          y=y,\n",
    "                          batch_size=10,\n",
    "                          callbacks=[tensorflow.keras.callbacks.EarlyStopping(monitor='accuracy', patience=3)],\n",
    "                          epochs=30)\n",
    "end_time = time()\n",
    "print(f\"Total time taken to train without Intel oneAPI Optimization: {(end_time - start_time):.2f}s\")"
   ]
  },
  {
   "cell_type": "code",
   "execution_count": 27,
   "id": "1c52e092-dd14-4a9d-9484-769831509420",
   "metadata": {},
   "outputs": [],
   "source": [
    "import re\n",
    "import random\n",
    "\n",
    "def model_responce(query, model):\n",
    "        text = []\n",
    "        txt = re.sub('[^a-zA-Z\\']', ' ', query)\n",
    "        txt = txt.lower()\n",
    "        txt = txt.split()\n",
    "        txt = \" \".join(txt)\n",
    "        text.append(txt)\n",
    "        x_test = tokenizer.texts_to_sequences(text)\n",
    "        if (len(query.split(' ')) > 1):\n",
    "                x_test = np.array(x_test).squeeze()\n",
    "        else:\n",
    "                x_test = np.reshape(x_test, -1)\n",
    "        try:\n",
    "                x_test = pad_sequences([x_test], padding='post', maxlen=X.shape[1])\n",
    "        except Exception as e:\n",
    "                return \"Error 404: Word not found in my dictionary\"\n",
    "        y_pred = model.predict(x_test)\n",
    "        y_pred = y_pred.argmax()\n",
    "        tag = lbl_enc.inverse_transform([y_pred])[0]\n",
    "        responses = df[df['tag'] == tag]['responses'].values[0]\n",
    "\n",
    "        print(\"you: {}\".format(query))\n",
    "        print(\"model: {}\".format(random.choice(responses)))\n"
   ]
  },
  {
   "cell_type": "code",
   "execution_count": 28,
   "id": "86d4f0f1-5721-4207-9865-d1ba191c0707",
   "metadata": {},
   "outputs": [
    {
     "name": "stdout",
     "output_type": "stream",
     "text": [
      "1/1 [==============================] - 0s 21ms/step\n",
      "you: Hi! How are you?\n",
      "model: Hi there. How are you feeling today?\n"
     ]
    }
   ],
   "source": [
    "model_responce('Hi! How are you?', model)"
   ]
  },
  {
   "cell_type": "code",
   "execution_count": null,
   "id": "cef98e07",
   "metadata": {},
   "outputs": [
    {
     "name": "stdout",
     "output_type": "stream",
     "text": [
      "1/1 [==============================] - 0s 28ms/step\n",
      "you: How can I maintain social connections? What if I feel lonely?\n",
      "model: I'm here for you. Could you tell me why you're feeling this way?\n"
     ]
    }
   ],
   "source": [
    "model_responce('How can I maintain social connections? What if I feel lonely?', model)"
   ]
  },
  {
   "cell_type": "code",
   "execution_count": null,
   "id": "dbf9c300-ed31-4113-a25d-fc8713361e7d",
   "metadata": {},
   "outputs": [
    {
     "name": "stdout",
     "output_type": "stream",
     "text": [
      "1/1 [==============================] - 0s 19ms/step\n",
      "you: Well... I'm feeling sad!\n",
      "model: Oh that's really great. I'd be willing to answer anything that I know about it.\n"
     ]
    }
   ],
   "source": [
    "model_responce('Well... I\\'m feeling sad!')"
   ]
  },
  {
   "cell_type": "code",
   "execution_count": null,
   "id": "23e8b82e-ca40-46eb-9549-751710133674",
   "metadata": {},
   "outputs": [
    {
     "name": "stdout",
     "output_type": "stream",
     "text": [
      "1/1 [==============================] - 0s 19ms/step\n",
      "you: Maybe I just didn't want to be born :)\n",
      "model: I want to help you. I really do. But in order for me to help you, you're gonna have to talk to me.\n"
     ]
    }
   ],
   "source": [
    "model_responce('Maybe I just didn\\'t want to be born :)')"
   ]
  },
  {
   "cell_type": "code",
   "execution_count": null,
   "id": "d11a26d3-c03c-4536-9c36-fb7eb92469c9",
   "metadata": {},
   "outputs": [
    {
     "name": "stdout",
     "output_type": "stream",
     "text": [
      "1/1 [==============================] - 0s 18ms/step\n",
      "you: I want commit suicide\n",
      "model: I'm very sorry to hear that but you have so much to look forward to. Please seek help by contacting: 9152987821.\n"
     ]
    }
   ],
   "source": [
    "model_responce('I want commit suicide')"
   ]
  },
  {
   "cell_type": "code",
   "execution_count": null,
   "id": "b0385192-230c-4ea3-83b7-10d70a58e186",
   "metadata": {},
   "outputs": [
    {
     "name": "stdout",
     "output_type": "stream",
     "text": [
      "1/1 [==============================] - 0s 17ms/step\n",
      "you: I am facing a lot of problems\n",
      "model: I first want to let you know that you are not alone in your feelings and there is always someone there to help . you can always change your feelings and change your way of thinking by being open to trying to change.\n"
     ]
    }
   ],
   "source": [
    "model_responce('I am facing a lot of problems')"
   ]
  },
  {
   "cell_type": "code",
   "execution_count": null,
   "id": "5ae1259a-3625-4066-8c5d-9d8e4b2ce38b",
   "metadata": {},
   "outputs": [
    {
     "name": "stdout",
     "output_type": "stream",
     "text": [
      "1/1 [==============================] - 0s 18ms/step\n",
      "you: i do not think you can help me\n",
      "model: What do you think is the reason behind this?\n"
     ]
    }
   ],
   "source": [
    "model_responce('i do not think you can help me')"
   ]
  },
  {
   "cell_type": "code",
   "execution_count": null,
   "id": "4324e783-9cce-496c-94dd-bb0d9b452da7",
   "metadata": {},
   "outputs": [
    {
     "name": "stdout",
     "output_type": "stream",
     "text": [
      "1/1 [==============================] - 0s 19ms/step\n",
      "you: I need help\n",
      "model: Sure. Tell me how can i assist you\n"
     ]
    }
   ],
   "source": [
    "model_responce('I need help')"
   ]
  },
  {
   "cell_type": "code",
   "execution_count": null,
   "id": "5fd268ea-515b-4c16-b464-aa39f7f6e92d",
   "metadata": {},
   "outputs": [
    {
     "name": "stdout",
     "output_type": "stream",
     "text": [
      "1/1 [==============================] - 0s 18ms/step\n",
      "you: Good morning\n",
      "model: Good morning. I hope you had a good night's sleep. How are you feeling today? \n"
     ]
    }
   ],
   "source": [
    "model_responce('Good morning')"
   ]
  },
  {
   "cell_type": "code",
   "execution_count": null,
   "id": "712391a3-92cf-4af6-8781-5a80a28245b2",
   "metadata": {},
   "outputs": [
    {
     "name": "stdout",
     "output_type": "stream",
     "text": [
      "1/1 [==============================] - 0s 18ms/step\n",
      "you: Good evening\n",
      "model: Good evening. How has your day been?\n"
     ]
    }
   ],
   "source": [
    "model_responce('Good evening')"
   ]
  },
  {
   "cell_type": "code",
   "execution_count": null,
   "id": "d975bc2c-a6ac-48d7-a819-ba20a6f7736f",
   "metadata": {},
   "outputs": [
    {
     "name": "stdout",
     "output_type": "stream",
     "text": [
      "1/1 [==============================] - 0s 21ms/step\n",
      "you: Gosadj kjasndkja sadan  kadsjnbkjabdhjk\n",
      "model: Not sure I understand that.\n"
     ]
    }
   ],
   "source": [
    "model_responce('Gosadj kjasndkja sadan  kadsjnbkjabdhjk')"
   ]
  },
  {
   "cell_type": "code",
   "execution_count": null,
   "id": "f4254a01",
   "metadata": {},
   "outputs": [],
   "source": [
    "model.save('./chatbot_model.h5')"
   ]
  }
 ],
 "metadata": {
  "kernelspec": {
   "display_name": "tf-intel",
   "language": "python",
   "name": "python3"
  },
  "language_info": {
   "codemirror_mode": {
    "name": "ipython",
    "version": 3
   },
   "file_extension": ".py",
   "mimetype": "text/x-python",
   "name": "python",
   "nbconvert_exporter": "python",
   "pygments_lexer": "ipython3",
   "version": "3.9.16"
  },
  "widgets": {
   "application/vnd.jupyter.widget-state+json": {
    "state": {},
    "version_major": 2,
    "version_minor": 0
   }
  }
 },
 "nbformat": 4,
 "nbformat_minor": 5
}
