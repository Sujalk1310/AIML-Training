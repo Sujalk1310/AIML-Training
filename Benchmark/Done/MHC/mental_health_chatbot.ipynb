{
 "cells": [
  {
   "cell_type": "code",
   "execution_count": 1,
   "id": "2fc09052",
   "metadata": {},
   "outputs": [],
   "source": [
    "With_OneAPI = 1 # Make sure to change environment\n",
    "Model = \"Mental Health Chatbot\""
   ]
  },
  {
   "cell_type": "code",
   "execution_count": 2,
   "id": "b1d44435",
   "metadata": {},
   "outputs": [],
   "source": [
    "import os\n",
    "if With_OneAPI == 1:\n",
    "    os.environ['TF_ENABLE_ONEDNN_OPTS']='1'\n",
    "    os.environ['TF_ENABLE_MKL_NATIVE_FORMAT']='1'\n",
    "    os.environ['KMP_BLOCKTIME']='1'\n",
    "    os.environ['KMP_SETTINGS']='1'\n",
    "    os.environ['OMP_NUM_THREADS']='6'\n",
    "    os.environ['KMP_AFFINITY']='granularity=fine,verbose,compact,1,0'\n",
    "    import tensorflow as tf\n",
    "    tf.config.threading.set_inter_op_parallelism_threads(2) \n",
    "    tf.config.threading.set_intra_op_parallelism_threads(6)\n",
    "    tf.config.set_soft_device_placement(False)\n",
    "else:\n",
    "    import tensorflow as tf\n",
    "    "
   ]
  },
  {
   "cell_type": "code",
   "execution_count": 3,
   "id": "c16cddab-7c8d-4c74-909c-b9f535ab313f",
   "metadata": {},
   "outputs": [
    {
     "name": "stderr",
     "output_type": "stream",
     "text": [
      "Intel(R) Extension for Scikit-learn* enabled (https://github.com/intel/scikit-learn-intelex)\n"
     ]
    }
   ],
   "source": [
    "import numpy as np\n",
    "import pandas as pd\n",
    "from sklearnex import patch_sklearn\n",
    "patch_sklearn() \n",
    "import modin.pandas as pd"
   ]
  },
  {
   "cell_type": "code",
   "execution_count": 4,
   "id": "4254f324-7d8d-482b-9339-4925c39fa21c",
   "metadata": {},
   "outputs": [
    {
     "name": "stderr",
     "output_type": "stream",
     "text": [
      "2023-07-01 15:25:49,042\tINFO worker.py:1616 -- Started a local Ray instance. View the dashboard at \u001b[1m\u001b[32m127.0.0.1:8265 \u001b[39m\u001b[22m\n",
      "UserWarning: Distributing <class 'list'> object. This may take some time.\n"
     ]
    }
   ],
   "source": [
    "import json\n",
    "import ray\n",
    "ray.init(runtime_env={'env_vars': {'__MODIN_AUTOIMPORT_PANDAS__': '1'}})\n",
    "\n",
    "with open(r'./dataset/intents.json') as f:\n",
    "    data = json.load(f)\n",
    "\n",
    "df = pd.DataFrame(data['intents'])"
   ]
  },
  {
   "cell_type": "code",
   "execution_count": 5,
   "id": "37e70f77-ee60-44b6-ab76-b29ee99c7a83",
   "metadata": {},
   "outputs": [
    {
     "data": {
      "text/html": [
       "<div>\n",
       "<style scoped>\n",
       "    .dataframe tbody tr th:only-of-type {\n",
       "        vertical-align: middle;\n",
       "    }\n",
       "\n",
       "    .dataframe tbody tr th {\n",
       "        vertical-align: top;\n",
       "    }\n",
       "\n",
       "    .dataframe thead th {\n",
       "        text-align: right;\n",
       "    }\n",
       "</style>\n",
       "<table border=\"1\" class=\"dataframe\">\n",
       "  <thead>\n",
       "    <tr style=\"text-align: right;\">\n",
       "      <th></th>\n",
       "      <th>tag</th>\n",
       "      <th>patterns</th>\n",
       "      <th>responses</th>\n",
       "    </tr>\n",
       "  </thead>\n",
       "  <tbody>\n",
       "    <tr>\n",
       "      <th>0</th>\n",
       "      <td>greeting</td>\n",
       "      <td>[Hi, Hey, Is anyone there?, Hi there, Hello, H...</td>\n",
       "      <td>[Hello there. Tell me how are you feeling toda...</td>\n",
       "    </tr>\n",
       "    <tr>\n",
       "      <th>1</th>\n",
       "      <td>morning</td>\n",
       "      <td>[Good morning]</td>\n",
       "      <td>[Good morning. I hope you had a good night's s...</td>\n",
       "    </tr>\n",
       "    <tr>\n",
       "      <th>2</th>\n",
       "      <td>afternoon</td>\n",
       "      <td>[Good afternoon]</td>\n",
       "      <td>[Good afternoon. How is your day going?]</td>\n",
       "    </tr>\n",
       "    <tr>\n",
       "      <th>3</th>\n",
       "      <td>evening</td>\n",
       "      <td>[Good evening]</td>\n",
       "      <td>[Good evening. How has your day been?]</td>\n",
       "    </tr>\n",
       "    <tr>\n",
       "      <th>4</th>\n",
       "      <td>night</td>\n",
       "      <td>[Good night]</td>\n",
       "      <td>[Good night. Get some proper sleep, Good night...</td>\n",
       "    </tr>\n",
       "    <tr>\n",
       "      <th>...</th>\n",
       "      <td>...</td>\n",
       "      <td>...</td>\n",
       "      <td>...</td>\n",
       "    </tr>\n",
       "    <tr>\n",
       "      <th>76</th>\n",
       "      <td>fact-29</td>\n",
       "      <td>[How do I know if I'm unwell?]</td>\n",
       "      <td>[If your beliefs , thoughts , feelings or beha...</td>\n",
       "    </tr>\n",
       "    <tr>\n",
       "      <th>77</th>\n",
       "      <td>fact-30</td>\n",
       "      <td>[How can I maintain social connections? What i...</td>\n",
       "      <td>[A lot of people are alone right now, but we d...</td>\n",
       "    </tr>\n",
       "    <tr>\n",
       "      <th>78</th>\n",
       "      <td>gibberish</td>\n",
       "      <td>[jhjbdsjcxn]</td>\n",
       "      <td>[I'm sorry, I couldn't understand your message...</td>\n",
       "    </tr>\n",
       "    <tr>\n",
       "      <th>79</th>\n",
       "      <td>fact-31</td>\n",
       "      <td>[What's the difference between anxiety and str...</td>\n",
       "      <td>[Stress and anxiety are often used interchange...</td>\n",
       "    </tr>\n",
       "    <tr>\n",
       "      <th>80</th>\n",
       "      <td>fact-32</td>\n",
       "      <td>[What's the difference between sadness and dep...</td>\n",
       "      <td>[Sadness is a normal reaction to a loss, disap...</td>\n",
       "    </tr>\n",
       "  </tbody>\n",
       "</table>\n",
       "<p>81 rows x 3 columns</p>\n",
       "</div>"
      ],
      "text/plain": [
       "          tag                                           patterns  \\\n",
       "0    greeting  [Hi, Hey, Is anyone there?, Hi there, Hello, H...   \n",
       "1     morning                                     [Good morning]   \n",
       "2   afternoon                                   [Good afternoon]   \n",
       "3     evening                                     [Good evening]   \n",
       "4       night                                       [Good night]   \n",
       "..        ...                                                ...   \n",
       "76    fact-29                     [How do I know if I'm unwell?]   \n",
       "77    fact-30  [How can I maintain social connections? What i...   \n",
       "78  gibberish                                       [jhjbdsjcxn]   \n",
       "79    fact-31  [What's the difference between anxiety and str...   \n",
       "80    fact-32  [What's the difference between sadness and dep...   \n",
       "\n",
       "                                            responses  \n",
       "0   [Hello there. Tell me how are you feeling toda...  \n",
       "1   [Good morning. I hope you had a good night's s...  \n",
       "2            [Good afternoon. How is your day going?]  \n",
       "3              [Good evening. How has your day been?]  \n",
       "4   [Good night. Get some proper sleep, Good night...  \n",
       "..                                                ...  \n",
       "76  [If your beliefs , thoughts , feelings or beha...  \n",
       "77  [A lot of people are alone right now, but we d...  \n",
       "78  [I'm sorry, I couldn't understand your message...  \n",
       "79  [Stress and anxiety are often used interchange...  \n",
       "80  [Sadness is a normal reaction to a loss, disap...  \n",
       "\n",
       "[81 rows x 3 columns]"
      ]
     },
     "execution_count": 5,
     "metadata": {},
     "output_type": "execute_result"
    }
   ],
   "source": [
    "df"
   ]
  },
  {
   "cell_type": "code",
   "execution_count": 6,
   "id": "2afd2596-8dec-4169-9a98-5a9dee008b21",
   "metadata": {},
   "outputs": [],
   "source": [
    "dic = {\"tag\":[], \"patterns\":[], \"responses\":[]}\n",
    "for i in range(len(df)):\n",
    "    ptrns = df[df.index == i]['patterns'].values[0]\n",
    "    rspns = df[df.index == i]['responses'].values[0]\n",
    "    tag = df[df.index == i]['tag'].values[0]\n",
    "    for j in range(len(ptrns)):\n",
    "        dic['tag'].append(tag)\n",
    "        dic['patterns'].append(ptrns[j])\n",
    "        dic['responses'].append(rspns)"
   ]
  },
  {
   "cell_type": "code",
   "execution_count": 7,
   "id": "d4a094cf-a18c-4adb-9a99-a445b95d4a38",
   "metadata": {},
   "outputs": [
    {
     "name": "stderr",
     "output_type": "stream",
     "text": [
      "UserWarning: `from_dict` is not currently supported by PandasOnRay, defaulting to pandas implementation.\n",
      "Please refer to https://modin.readthedocs.io/en/stable/supported_apis/defaulting_to_pandas.html for explanation.\n"
     ]
    }
   ],
   "source": [
    "df = pd.DataFrame.from_dict(dic)"
   ]
  },
  {
   "cell_type": "code",
   "execution_count": 8,
   "id": "009136f6",
   "metadata": {},
   "outputs": [
    {
     "data": {
      "text/html": [
       "<div>\n",
       "<style scoped>\n",
       "    .dataframe tbody tr th:only-of-type {\n",
       "        vertical-align: middle;\n",
       "    }\n",
       "\n",
       "    .dataframe tbody tr th {\n",
       "        vertical-align: top;\n",
       "    }\n",
       "\n",
       "    .dataframe thead th {\n",
       "        text-align: right;\n",
       "    }\n",
       "</style>\n",
       "<table border=\"1\" class=\"dataframe\">\n",
       "  <thead>\n",
       "    <tr style=\"text-align: right;\">\n",
       "      <th></th>\n",
       "      <th>tag</th>\n",
       "      <th>patterns</th>\n",
       "      <th>responses</th>\n",
       "    </tr>\n",
       "  </thead>\n",
       "  <tbody>\n",
       "    <tr>\n",
       "      <th>0</th>\n",
       "      <td>greeting</td>\n",
       "      <td>Hi</td>\n",
       "      <td>[Hello there. Tell me how are you feeling toda...</td>\n",
       "    </tr>\n",
       "    <tr>\n",
       "      <th>1</th>\n",
       "      <td>greeting</td>\n",
       "      <td>Hey</td>\n",
       "      <td>[Hello there. Tell me how are you feeling toda...</td>\n",
       "    </tr>\n",
       "    <tr>\n",
       "      <th>2</th>\n",
       "      <td>greeting</td>\n",
       "      <td>Is anyone there?</td>\n",
       "      <td>[Hello there. Tell me how are you feeling toda...</td>\n",
       "    </tr>\n",
       "    <tr>\n",
       "      <th>3</th>\n",
       "      <td>greeting</td>\n",
       "      <td>Hi there</td>\n",
       "      <td>[Hello there. Tell me how are you feeling toda...</td>\n",
       "    </tr>\n",
       "    <tr>\n",
       "      <th>4</th>\n",
       "      <td>greeting</td>\n",
       "      <td>Hello</td>\n",
       "      <td>[Hello there. Tell me how are you feeling toda...</td>\n",
       "    </tr>\n",
       "    <tr>\n",
       "      <th>...</th>\n",
       "      <td>...</td>\n",
       "      <td>...</td>\n",
       "      <td>...</td>\n",
       "    </tr>\n",
       "    <tr>\n",
       "      <th>228</th>\n",
       "      <td>fact-30</td>\n",
       "      <td>How can I maintain social connections? What if...</td>\n",
       "      <td>[A lot of people are alone right now, but we d...</td>\n",
       "    </tr>\n",
       "    <tr>\n",
       "      <th>229</th>\n",
       "      <td>gibberish</td>\n",
       "      <td>jhjbdsjcxn</td>\n",
       "      <td>[I'm sorry, I couldn't understand your message...</td>\n",
       "    </tr>\n",
       "    <tr>\n",
       "      <th>230</th>\n",
       "      <td>fact-31</td>\n",
       "      <td>What's the difference between anxiety and stress?</td>\n",
       "      <td>[Stress and anxiety are often used interchange...</td>\n",
       "    </tr>\n",
       "    <tr>\n",
       "      <th>231</th>\n",
       "      <td>fact-32</td>\n",
       "      <td>What's the difference between sadness and depr...</td>\n",
       "      <td>[Sadness is a normal reaction to a loss, disap...</td>\n",
       "    </tr>\n",
       "    <tr>\n",
       "      <th>232</th>\n",
       "      <td>fact-32</td>\n",
       "      <td>difference between sadness and depression</td>\n",
       "      <td>[Sadness is a normal reaction to a loss, disap...</td>\n",
       "    </tr>\n",
       "  </tbody>\n",
       "</table>\n",
       "<p>233 rows x 3 columns</p>\n",
       "</div>"
      ],
      "text/plain": [
       "           tag                                           patterns  \\\n",
       "0     greeting                                                 Hi   \n",
       "1     greeting                                                Hey   \n",
       "2     greeting                                   Is anyone there?   \n",
       "3     greeting                                           Hi there   \n",
       "4     greeting                                              Hello   \n",
       "..         ...                                                ...   \n",
       "228    fact-30  How can I maintain social connections? What if...   \n",
       "229  gibberish                                         jhjbdsjcxn   \n",
       "230    fact-31  What's the difference between anxiety and stress?   \n",
       "231    fact-32  What's the difference between sadness and depr...   \n",
       "232    fact-32          difference between sadness and depression   \n",
       "\n",
       "                                             responses  \n",
       "0    [Hello there. Tell me how are you feeling toda...  \n",
       "1    [Hello there. Tell me how are you feeling toda...  \n",
       "2    [Hello there. Tell me how are you feeling toda...  \n",
       "3    [Hello there. Tell me how are you feeling toda...  \n",
       "4    [Hello there. Tell me how are you feeling toda...  \n",
       "..                                                 ...  \n",
       "228  [A lot of people are alone right now, but we d...  \n",
       "229  [I'm sorry, I couldn't understand your message...  \n",
       "230  [Stress and anxiety are often used interchange...  \n",
       "231  [Sadness is a normal reaction to a loss, disap...  \n",
       "232  [Sadness is a normal reaction to a loss, disap...  \n",
       "\n",
       "[233 rows x 3 columns]"
      ]
     },
     "execution_count": 8,
     "metadata": {},
     "output_type": "execute_result"
    }
   ],
   "source": [
    "df"
   ]
  },
  {
   "cell_type": "code",
   "execution_count": 9,
   "id": "badc2ec4",
   "metadata": {},
   "outputs": [],
   "source": [
    "df.to_csv('./dataset/dataframe_chatbot.csv', index=True)"
   ]
  },
  {
   "cell_type": "code",
   "execution_count": 10,
   "id": "35399c07-8f96-4a93-ac61-e4257f2a6dca",
   "metadata": {},
   "outputs": [
    {
     "name": "stdout",
     "output_type": "stream",
     "text": [
      "number of unique words =  304\n",
      "X shape =  (233, 18)\n",
      "y shape =  (233,)\n",
      "num of classes =  81\n"
     ]
    }
   ],
   "source": [
    "from tensorflow.keras.preprocessing.text import Tokenizer\n",
    "\n",
    "tokenizer = Tokenizer(lower=True, split=' ')\n",
    "tokenizer.fit_on_texts(df['patterns'])\n",
    "tokenizer.get_config()\n",
    "\n",
    "vacab_size = len(tokenizer.word_index)\n",
    "print('number of unique words = ', vacab_size)\n",
    "\n",
    "from tensorflow.keras.preprocessing.sequence import pad_sequences\n",
    "from sklearn.preprocessing import LabelEncoder\n",
    "\n",
    "ptrn2seq = tokenizer.texts_to_sequences(df['patterns'])\n",
    "X = pad_sequences(ptrn2seq, padding='post')\n",
    "print('X shape = ', X.shape)\n",
    "\n",
    "lbl_enc = LabelEncoder()\n",
    "y = lbl_enc.fit_transform(df['tag'])\n",
    "print('y shape = ', y.shape)\n",
    "print('num of classes = ', len(np.unique(y)))\n"
   ]
  },
  {
   "cell_type": "code",
   "execution_count": 11,
   "id": "acf836cb-c769-4dee-9d7d-081e3fc09a28",
   "metadata": {},
   "outputs": [
    {
     "name": "stdout",
     "output_type": "stream",
     "text": [
      "Model: \"sequential\"\n",
      "_________________________________________________________________\n",
      " Layer (type)                Output Shape              Param #   \n",
      "=================================================================\n",
      " embedding (Embedding)       (None, 18, 100)           30500     \n",
      "                                                                 \n",
      " lstm (LSTM)                 (None, 18, 32)            17024     \n",
      "                                                                 \n",
      " layer_normalization (LayerN  (None, 18, 32)           64        \n",
      " ormalization)                                                   \n",
      "                                                                 \n",
      " lstm_1 (LSTM)               (None, 18, 32)            8320      \n",
      "                                                                 \n",
      " layer_normalization_1 (Laye  (None, 18, 32)           64        \n",
      " rNormalization)                                                 \n",
      "                                                                 \n",
      " lstm_2 (LSTM)               (None, 32)                8320      \n",
      "                                                                 \n",
      " layer_normalization_2 (Laye  (None, 32)               64        \n",
      " rNormalization)                                                 \n",
      "                                                                 \n",
      " dense (Dense)               (None, 128)               4224      \n",
      "                                                                 \n",
      " layer_normalization_3 (Laye  (None, 128)              256       \n",
      " rNormalization)                                                 \n",
      "                                                                 \n",
      " dropout (Dropout)           (None, 128)               0         \n",
      "                                                                 \n",
      " dense_1 (Dense)             (None, 128)               16512     \n",
      "                                                                 \n",
      " layer_normalization_4 (Laye  (None, 128)              256       \n",
      " rNormalization)                                                 \n",
      "                                                                 \n",
      " dropout_1 (Dropout)         (None, 128)               0         \n",
      "                                                                 \n",
      " dense_2 (Dense)             (None, 81)                10449     \n",
      "                                                                 \n",
      "=================================================================\n",
      "Total params: 96,053\n",
      "Trainable params: 96,053\n",
      "Non-trainable params: 0\n",
      "_________________________________________________________________\n",
      "You must install pydot (`pip install pydot`) and install graphviz (see instructions at https://graphviz.gitlab.io/download/) for plot_model to work.\n"
     ]
    }
   ],
   "source": [
    "from tensorflow import keras\n",
    "from tensorflow.keras.models import Sequential\n",
    "from tensorflow.keras.layers import Input, Embedding, LSTM, LayerNormalization, Dense, Dropout\n",
    "from tensorflow.keras.utils import plot_model\n",
    "\n",
    "model = Sequential()\n",
    "model.add(Input(shape=(X.shape[1])))\n",
    "model.add(Embedding(input_dim=vacab_size+1, output_dim=100, mask_zero=True))\n",
    "model.add(LSTM(32, return_sequences=True))\n",
    "model.add(LayerNormalization())\n",
    "model.add(LSTM(32, return_sequences=True))\n",
    "model.add(LayerNormalization())\n",
    "model.add(LSTM(32))\n",
    "model.add(LayerNormalization())\n",
    "model.add(Dense(128, activation=\"relu\"))\n",
    "model.add(LayerNormalization())\n",
    "model.add(Dropout(0.2))\n",
    "model.add(Dense(128, activation=\"relu\"))\n",
    "model.add(LayerNormalization())\n",
    "model.add(Dropout(0.2))\n",
    "model.add(Dense(len(np.unique(y)), activation=\"softmax\"))\n",
    "model.compile(optimizer='adam', loss=\"sparse_categorical_crossentropy\", metrics=['accuracy'])\n",
    "\n",
    "model.summary()\n",
    "plot_model(model, show_shapes=True)"
   ]
  },
  {
   "cell_type": "code",
   "execution_count": 12,
   "id": "2b931bbd-7f6d-471b-bb31-910fd5882bec",
   "metadata": {},
   "outputs": [
    {
     "name": "stdout",
     "output_type": "stream",
     "text": [
      "Epoch 1/30\n",
      "24/24 [==============================] - 8s 14ms/step - loss: 4.9000 - accuracy: 0.0343\n",
      "Epoch 2/30\n",
      "24/24 [==============================] - 0s 15ms/step - loss: 3.7195 - accuracy: 0.1245\n",
      "Epoch 3/30\n",
      "24/24 [==============================] - 0s 14ms/step - loss: 3.1352 - accuracy: 0.2704\n",
      "Epoch 4/30\n",
      "24/24 [==============================] - 0s 14ms/step - loss: 2.6165 - accuracy: 0.3605\n",
      "Epoch 5/30\n",
      "24/24 [==============================] - 0s 14ms/step - loss: 2.1855 - accuracy: 0.4979\n",
      "Epoch 6/30\n",
      "24/24 [==============================] - 0s 14ms/step - loss: 1.8033 - accuracy: 0.5622\n",
      "Epoch 7/30\n",
      "24/24 [==============================] - 0s 15ms/step - loss: 1.4704 - accuracy: 0.6652\n",
      "Epoch 8/30\n",
      "24/24 [==============================] - 0s 14ms/step - loss: 1.1654 - accuracy: 0.7382\n",
      "Epoch 9/30\n",
      "24/24 [==============================] - 0s 14ms/step - loss: 0.8592 - accuracy: 0.8155\n",
      "Epoch 10/30\n",
      "24/24 [==============================] - 0s 14ms/step - loss: 0.7773 - accuracy: 0.8326\n",
      "Epoch 11/30\n",
      "24/24 [==============================] - 0s 14ms/step - loss: 0.6399 - accuracy: 0.8712\n",
      "Epoch 12/30\n",
      "24/24 [==============================] - 0s 14ms/step - loss: 0.5336 - accuracy: 0.9142\n",
      "Epoch 13/30\n",
      "24/24 [==============================] - 0s 14ms/step - loss: 0.4358 - accuracy: 0.9227\n",
      "Epoch 14/30\n",
      "24/24 [==============================] - 0s 14ms/step - loss: 0.3928 - accuracy: 0.9442\n",
      "Epoch 15/30\n",
      "24/24 [==============================] - 0s 15ms/step - loss: 0.2925 - accuracy: 0.9657\n",
      "Epoch 16/30\n",
      "24/24 [==============================] - 0s 14ms/step - loss: 0.2721 - accuracy: 0.9614\n",
      "Epoch 17/30\n",
      "24/24 [==============================] - 0s 14ms/step - loss: 0.2513 - accuracy: 0.9742\n",
      "Epoch 18/30\n",
      "24/24 [==============================] - 0s 14ms/step - loss: 0.2401 - accuracy: 0.9742\n",
      "Epoch 19/30\n",
      "24/24 [==============================] - 0s 14ms/step - loss: 0.1870 - accuracy: 0.9828\n",
      "Epoch 20/30\n",
      "24/24 [==============================] - 0s 15ms/step - loss: 0.1541 - accuracy: 0.9785\n",
      "Epoch 21/30\n",
      "24/24 [==============================] - 0s 14ms/step - loss: 0.1499 - accuracy: 0.9828\n",
      "Epoch 22/30\n",
      "24/24 [==============================] - 0s 14ms/step - loss: 0.1152 - accuracy: 0.9828\n"
     ]
    }
   ],
   "source": [
    "import time\n",
    "start = time.time()\n",
    "model_history = model.fit(x=X,\n",
    "                          y=y,\n",
    "                          batch_size=10,\n",
    "                          callbacks=[tf.keras.callbacks.EarlyStopping(monitor='accuracy', patience=3)],\n",
    "                          epochs=30)\n",
    "end = time.time()"
   ]
  },
  {
   "cell_type": "code",
   "execution_count": 13,
   "id": "1c52e092-dd14-4a9d-9484-769831509420",
   "metadata": {},
   "outputs": [],
   "source": [
    "import re\n",
    "import random\n",
    "\n",
    "def model_responce(query, model):\n",
    "        text = []\n",
    "        txt = re.sub('[^a-zA-Z\\']', ' ', query)\n",
    "        txt = txt.lower()\n",
    "        txt = txt.split()\n",
    "        txt = \" \".join(txt)\n",
    "        text.append(txt)\n",
    "        x_test = tokenizer.texts_to_sequences(text)\n",
    "        if (len(query.split(' ')) > 1):\n",
    "                x_test = np.array(x_test).squeeze()\n",
    "        else:\n",
    "                x_test = np.reshape(x_test, -1)\n",
    "        try:\n",
    "                x_test = pad_sequences([x_test], padding='post', maxlen=X.shape[1])\n",
    "        except Exception as e:\n",
    "                return \"Error 404: Word not found in my dictionary\"\n",
    "        y_pred = model.predict(x_test)\n",
    "        y_pred = y_pred.argmax()\n",
    "        tag = lbl_enc.inverse_transform([y_pred])[0]\n",
    "        responses = df[df['tag'] == tag]['responses'].values[0]\n",
    "\n",
    "        print(\"you: {}\".format(query))\n",
    "        print(\"model: {}\".format(random.choice(responses)))\n",
    "        return random.choice(responses)"
   ]
  },
  {
   "cell_type": "code",
   "execution_count": 14,
   "id": "86d4f0f1-5721-4207-9865-d1ba191c0707",
   "metadata": {},
   "outputs": [
    {
     "name": "stdout",
     "output_type": "stream",
     "text": [
      "1/1 [==============================] - 2s 2s/step\n",
      "you: Hi! How are you?\n",
      "model: I was created by Phoenix 13.\n"
     ]
    },
    {
     "data": {
      "text/plain": [
       "'I was created by Phoenix 13.'"
      ]
     },
     "execution_count": 14,
     "metadata": {},
     "output_type": "execute_result"
    }
   ],
   "source": [
    "model_responce('Hi! How are you?', model)"
   ]
  },
  {
   "cell_type": "code",
   "execution_count": 15,
   "id": "cef98e07",
   "metadata": {},
   "outputs": [
    {
     "name": "stdout",
     "output_type": "stream",
     "text": [
      "1/1 [==============================] - 0s 18ms/step\n",
      "you: How can I maintain social connections? What if I feel lonely?\n",
      "model: A lot of people are alone right now, but we don't have to be lonely. We're all in this together. Think about the different ways to connect that are most meaningful for you. For example, you might prefer a video chat over a phone call, or you might prefer to text throughout the day rather than one set time for a video call. Then, work with your social networks to make a plan. You might video chat with your close friends in the evening and phone a family member once a week. Remember to be mindful of people who may not be online. Check in by phone and ask how you can help. The quality of your social connections matter. Mindlessly scrolling through social media and liking a few posts usually doesn't build strong social connections. Make sure you focus on strategies that actually make you feel included and connected. If your current strategies don't help you feel connected, problem-solve to see if you can find a solution. Everyone feels lonely at times. Maybe you recently moved to a new city, are changing your circle of friends, lost someone important in your life, or lost your job and also lost important social connections with coworkers. Other people may have physical connections to others but may feel like their emotional or social needs aren't met. Measures like social distancing or self-isolation can make loneliness feel worse no matter why you feel lonely now. Reach out to the connections you do have. Suggest ways to keep in touch and see if you can set a regular time to connect. People may hesitate to reach out for a lot of different reasons, so don't be afraid to be the one who asks. Look for local community support groups and mutual aid groups on social media. This pandemic is bringing everyone together, so look for opportunities to make new connections. These groups are a great way to share your skills and abilities or seek help and support. Look for specialized support groups. Support groups are moving online, and there are a lot of different support lines to call if you need to talk to someone.\n"
     ]
    },
    {
     "data": {
      "text/plain": [
       "\"A lot of people are alone right now, but we don't have to be lonely. We're all in this together. Think about the different ways to connect that are most meaningful for you. For example, you might prefer a video chat over a phone call, or you might prefer to text throughout the day rather than one set time for a video call. Then, work with your social networks to make a plan. You might video chat with your close friends in the evening and phone a family member once a week. Remember to be mindful of people who may not be online. Check in by phone and ask how you can help. The quality of your social connections matter. Mindlessly scrolling through social media and liking a few posts usually doesn't build strong social connections. Make sure you focus on strategies that actually make you feel included and connected. If your current strategies don't help you feel connected, problem-solve to see if you can find a solution. Everyone feels lonely at times. Maybe you recently moved to a new city, are changing your circle of friends, lost someone important in your life, or lost your job and also lost important social connections with coworkers. Other people may have physical connections to others but may feel like their emotional or social needs aren't met. Measures like social distancing or self-isolation can make loneliness feel worse no matter why you feel lonely now. Reach out to the connections you do have. Suggest ways to keep in touch and see if you can set a regular time to connect. People may hesitate to reach out for a lot of different reasons, so don't be afraid to be the one who asks. Look for local community support groups and mutual aid groups on social media. This pandemic is bringing everyone together, so look for opportunities to make new connections. These groups are a great way to share your skills and abilities or seek help and support. Look for specialized support groups. Support groups are moving online, and there are a lot of different support lines to call if you need to talk to someone.\""
      ]
     },
     "execution_count": 15,
     "metadata": {},
     "output_type": "execute_result"
    }
   ],
   "source": [
    "model_responce('How can I maintain social connections? What if I feel lonely?', model)"
   ]
  },
  {
   "cell_type": "code",
   "execution_count": 16,
   "id": "dbf9c300-ed31-4113-a25d-fc8713361e7d",
   "metadata": {},
   "outputs": [
    {
     "name": "stdout",
     "output_type": "stream",
     "text": [
      "1/1 [==============================] - 0s 21ms/step\n",
      "you: Well... I'm feeling sad!\n",
      "model: I was trained on a text dataset using Deep Learning & Natural Language Processing techniques\n"
     ]
    },
    {
     "data": {
      "text/plain": [
       "'The real question is: Who created you?'"
      ]
     },
     "execution_count": 16,
     "metadata": {},
     "output_type": "execute_result"
    }
   ],
   "source": [
    "model_responce('Well... I\\'m feeling sad!', model)"
   ]
  },
  {
   "cell_type": "code",
   "execution_count": 17,
   "id": "23e8b82e-ca40-46eb-9549-751710133674",
   "metadata": {},
   "outputs": [
    {
     "name": "stdout",
     "output_type": "stream",
     "text": [
      "1/1 [==============================] - 0s 27ms/step\n",
      "you: Maybe I just didn't want to be born :)\n",
      "model: Talking about something really helps. If you're not ready to open up then that's ok. Just know that i'm here for you, whenever you need me.\n"
     ]
    },
    {
     "data": {
      "text/plain": [
       "'You can talk to me without fear of judgement.'"
      ]
     },
     "execution_count": 17,
     "metadata": {},
     "output_type": "execute_result"
    }
   ],
   "source": [
    "model_responce('Maybe I just didn\\'t want to be born :)', model)"
   ]
  },
  {
   "cell_type": "code",
   "execution_count": 18,
   "id": "d11a26d3-c03c-4536-9c36-fb7eb92469c9",
   "metadata": {},
   "outputs": [
    {
     "name": "stdout",
     "output_type": "stream",
     "text": [
      "1/1 [==============================] - 0s 23ms/step\n",
      "you: I want commit suicide\n",
      "model: I'm very sorry to hear that but you have so much to look forward to. Please seek help by contacting: 9152987821.\n"
     ]
    },
    {
     "data": {
      "text/plain": [
       "\"I'm very sorry to hear that but you have so much to look forward to. Please seek help by contacting: 9152987821.\""
      ]
     },
     "execution_count": 18,
     "metadata": {},
     "output_type": "execute_result"
    }
   ],
   "source": [
    "model_responce('I want commit suicide', model)"
   ]
  },
  {
   "cell_type": "code",
   "execution_count": 19,
   "id": "b0385192-230c-4ea3-83b7-10d70a58e186",
   "metadata": {},
   "outputs": [
    {
     "name": "stdout",
     "output_type": "stream",
     "text": [
      "1/1 [==============================] - 0s 19ms/step\n",
      "you: I am facing a lot of problems\n",
      "model: I am sorry to hear that. What is the reason behind this?\n"
     ]
    },
    {
     "data": {
      "text/plain": [
       "'I am sorry to hear that. What is the reason behind this?'"
      ]
     },
     "execution_count": 19,
     "metadata": {},
     "output_type": "execute_result"
    }
   ],
   "source": [
    "model_responce('I am facing a lot of problems', model)"
   ]
  },
  {
   "cell_type": "code",
   "execution_count": 20,
   "id": "5ae1259a-3625-4066-8c5d-9d8e4b2ce38b",
   "metadata": {},
   "outputs": [
    {
     "name": "stdout",
     "output_type": "stream",
     "text": [
      "1/1 [==============================] - 0s 24ms/step\n",
      "you: i do not think you can help me\n",
      "model: It sound like i'm not being very helpful right now.\n"
     ]
    },
    {
     "data": {
      "text/plain": [
       "\"It sound like i'm not being very helpful right now.\""
      ]
     },
     "execution_count": 20,
     "metadata": {},
     "output_type": "execute_result"
    }
   ],
   "source": [
    "model_responce('i do not think you can help me', model)"
   ]
  },
  {
   "cell_type": "code",
   "execution_count": 21,
   "id": "4324e783-9cce-496c-94dd-bb0d9b452da7",
   "metadata": {},
   "outputs": [
    {
     "name": "stdout",
     "output_type": "stream",
     "text": [
      "1/1 [==============================] - 0s 27ms/step\n",
      "you: I need help\n",
      "model: Tell me your problem so that i can assist you\n"
     ]
    },
    {
     "data": {
      "text/plain": [
       "'Sure. Tell me how can i assist you'"
      ]
     },
     "execution_count": 21,
     "metadata": {},
     "output_type": "execute_result"
    }
   ],
   "source": [
    "model_responce('I need help', model)"
   ]
  },
  {
   "cell_type": "code",
   "execution_count": 22,
   "id": "5fd268ea-515b-4c16-b464-aa39f7f6e92d",
   "metadata": {},
   "outputs": [
    {
     "name": "stdout",
     "output_type": "stream",
     "text": [
      "1/1 [==============================] - 0s 27ms/step\n",
      "you: Good morning\n",
      "model: Good morning. I hope you had a good night's sleep. How are you feeling today? \n"
     ]
    },
    {
     "data": {
      "text/plain": [
       "\"Good morning. I hope you had a good night's sleep. How are you feeling today? \""
      ]
     },
     "execution_count": 22,
     "metadata": {},
     "output_type": "execute_result"
    }
   ],
   "source": [
    "model_responce('Good morning', model)"
   ]
  },
  {
   "cell_type": "code",
   "execution_count": 23,
   "id": "712391a3-92cf-4af6-8781-5a80a28245b2",
   "metadata": {},
   "outputs": [
    {
     "name": "stdout",
     "output_type": "stream",
     "text": [
      "1/1 [==============================] - 0s 20ms/step\n",
      "you: Good evening\n",
      "model: Good evening. How has your day been?\n"
     ]
    },
    {
     "data": {
      "text/plain": [
       "'Good evening. How has your day been?'"
      ]
     },
     "execution_count": 23,
     "metadata": {},
     "output_type": "execute_result"
    }
   ],
   "source": [
    "model_responce('Good evening', model)"
   ]
  },
  {
   "cell_type": "code",
   "execution_count": 24,
   "id": "d975bc2c-a6ac-48d7-a819-ba20a6f7736f",
   "metadata": {},
   "outputs": [
    {
     "name": "stdout",
     "output_type": "stream",
     "text": [
      "1/1 [==============================] - 0s 18ms/step\n",
      "you: Gosadj kjasndkja sadan  kadsjnbkjabdhjk\n",
      "model: Sorry, I didn't understand you.\n"
     ]
    },
    {
     "data": {
      "text/plain": [
       "\"Sorry, I didn't understand you.\""
      ]
     },
     "execution_count": 24,
     "metadata": {},
     "output_type": "execute_result"
    }
   ],
   "source": [
    "model_responce('Gosadj kjasndkja sadan  kadsjnbkjabdhjk', model)"
   ]
  },
  {
   "cell_type": "code",
   "execution_count": 25,
   "id": "f4254a01",
   "metadata": {},
   "outputs": [],
   "source": [
    "model.save('./chatbot_model.h5')"
   ]
  },
  {
   "cell_type": "code",
   "execution_count": 26,
   "id": "90d30ff9",
   "metadata": {},
   "outputs": [
    {
     "data": {
      "text/plain": [
       "20"
      ]
     },
     "execution_count": 26,
     "metadata": {},
     "output_type": "execute_result"
    }
   ],
   "source": [
    "test_list = ['Hi! How are you?', \n",
    "             'How can I maintain social connections? What if I feel lonely?', \n",
    "             'Well... I\\'m feeling sad!', \n",
    "             'Maybe I just didn\\'t want to be born :)', \n",
    "             'I want commit suicide', \n",
    "             'I am facing a lot of problems', \n",
    "             'i do not think you can help me', \n",
    "             'I need help', \n",
    "             'Good morning', \n",
    "             'Good evening', \n",
    "             'Gosadj kjasndkja sadan  kadsjnbkjabdhjk',\n",
    "             \"Goodbye\",\n",
    "             \"You hate me\",\n",
    "             \"You already told me that\",\n",
    "             \"Where are you?\",\n",
    "             \"yeah you're right. i deserve a break.\",\n",
    "             \"I want to learn about mental health.\",\n",
    "             \"Why is mental health important?\",\n",
    "             \"How do I know if I'm unwell?\",\n",
    "             \"How were you made?\"]\n",
    "len(test_list)"
   ]
  },
  {
   "cell_type": "code",
   "execution_count": 27,
   "id": "b9e1959b",
   "metadata": {},
   "outputs": [
    {
     "name": "stdout",
     "output_type": "stream",
     "text": [
      "1/1 [==============================] - 0s 20ms/step\n",
      "you: Hi! How are you?\n",
      "model: I was trained on a text dataset using Deep Learning & Natural Language Processing techniques\n",
      "1/1 [==============================] - 0s 20ms/step\n"
     ]
    },
    {
     "name": "stdout",
     "output_type": "stream",
     "text": [
      "you: How can I maintain social connections? What if I feel lonely?\n",
      "model: A lot of people are alone right now, but we don't have to be lonely. We're all in this together. Think about the different ways to connect that are most meaningful for you. For example, you might prefer a video chat over a phone call, or you might prefer to text throughout the day rather than one set time for a video call. Then, work with your social networks to make a plan. You might video chat with your close friends in the evening and phone a family member once a week. Remember to be mindful of people who may not be online. Check in by phone and ask how you can help. The quality of your social connections matter. Mindlessly scrolling through social media and liking a few posts usually doesn't build strong social connections. Make sure you focus on strategies that actually make you feel included and connected. If your current strategies don't help you feel connected, problem-solve to see if you can find a solution. Everyone feels lonely at times. Maybe you recently moved to a new city, are changing your circle of friends, lost someone important in your life, or lost your job and also lost important social connections with coworkers. Other people may have physical connections to others but may feel like their emotional or social needs aren't met. Measures like social distancing or self-isolation can make loneliness feel worse no matter why you feel lonely now. Reach out to the connections you do have. Suggest ways to keep in touch and see if you can set a regular time to connect. People may hesitate to reach out for a lot of different reasons, so don't be afraid to be the one who asks. Look for local community support groups and mutual aid groups on social media. This pandemic is bringing everyone together, so look for opportunities to make new connections. These groups are a great way to share your skills and abilities or seek help and support. Look for specialized support groups. Support groups are moving online, and there are a lot of different support lines to call if you need to talk to someone.\n",
      "1/1 [==============================] - 0s 22ms/step\n",
      "you: Well... I'm feeling sad!\n",
      "model: The real question is: Who created you?\n",
      "1/1 [==============================] - 0s 20ms/step\n",
      "you: Maybe I just didn't want to be born :)\n",
      "model: I want to help you. I really do. But in order for me to help you, you're gonna have to talk to me.\n",
      "1/1 [==============================] - 0s 17ms/step\n",
      "you: I want commit suicide\n",
      "model: I'm very sorry to hear that but you have so much to look forward to. Please seek help by contacting: 9152987821.\n",
      "1/1 [==============================] - 0s 18ms/step\n",
      "you: I am facing a lot of problems\n",
      "model: What do you think is causing this?\n",
      "1/1 [==============================] - 0s 18ms/step\n",
      "you: i do not think you can help me\n",
      "model: I'm sorry to hear that. I'm doing my best to help\n",
      "1/1 [==============================] - 0s 21ms/step\n",
      "you: I need help\n",
      "model: Tell me your problem so that i can assist you\n",
      "1/1 [==============================] - 0s 26ms/step\n",
      "you: Good morning\n",
      "model: Good morning. I hope you had a good night's sleep. How are you feeling today? \n",
      "1/1 [==============================] - 0s 17ms/step\n",
      "you: Good evening\n",
      "model: Good evening. How has your day been?\n",
      "1/1 [==============================] - 0s 19ms/step\n",
      "you: Gosadj kjasndkja sadan  kadsjnbkjabdhjk\n",
      "model: Please go on.\n",
      "1/1 [==============================] - 0s 21ms/step\n",
      "you: Goodbye\n",
      "model: Have a nice day.\n",
      "1/1 [==============================] - 0s 22ms/step\n",
      "you: You hate me\n",
      "model: Why do you think so?\n",
      "1/1 [==============================] - 0s 20ms/step\n",
      "you: You already told me that\n",
      "model: Oh sorry I didn't realise that. I'll try not to repeat myself again.\n",
      "1/1 [==============================] - 0s 19ms/step\n",
      "you: Where are you?\n",
      "model: Duh I live in your computer\n",
      "1/1 [==============================] - 0s 18ms/step\n",
      "you: yeah you're right. i deserve a break.\n",
      "model: Next, I would suggest you to practice meditation. Meditation can produce a deep state of relaxation and a tranquil mind.\n",
      "1/1 [==============================] - 0s 19ms/step\n",
      "you: I want to learn about mental health.\n",
      "model: Oh that's really great. I'd be willing to answer anything that I know about it.\n",
      "1/1 [==============================] - 0s 18ms/step\n",
      "you: Why is mental health important?\n",
      "model: Maintaining mental health is crucial to stabilizing constructive behaviors, emotions, and thoughts. Focusing on mental health care can increase productivity, enhance our self-image, and improve relationships.\n",
      "1/1 [==============================] - 0s 19ms/step\n",
      "you: How do I know if I'm unwell?\n",
      "model: If your beliefs , thoughts , feelings or behaviours have a significant impact on your ability to function in what might be considered a normal or ordinary way, it would be important to seek help.\n",
      "1/1 [==============================] - 0s 19ms/step\n",
      "you: How were you made?\n",
      "model: The real question is: Who created you?\n"
     ]
    }
   ],
   "source": [
    "import time\n",
    "\n",
    "total_inference_time = []\n",
    "\n",
    "for test in test_list:\n",
    "\n",
    "    start_time = time.time()\n",
    "\n",
    "    _ = model_responce(test, model)\n",
    "\n",
    "    end_time = time.time()\n",
    "    inference_time = end_time - start_time\n",
    "    total_inference_time.append(inference_time)"
   ]
  },
  {
   "cell_type": "code",
   "execution_count": 28,
   "id": "36a74c59",
   "metadata": {},
   "outputs": [],
   "source": [
    "inference_speed = len(test_list) / sum(total_inference_time)\n",
    "latency = sum(total_inference_time) / len(test_list)\n",
    "throughput = len(test_list) / sum(total_inference_time)\n",
    "training_time = end - start"
   ]
  },
  {
   "cell_type": "code",
   "execution_count": 29,
   "id": "70f00afd",
   "metadata": {},
   "outputs": [
    {
     "name": "stdout",
     "output_type": "stream",
     "text": [
      "Inference Speed: 12.422992065440788 outputs/second\n",
      "Latency: 0.08049590587615967 seconds\n",
      "Throughput: 12.422992065440788 outputs/second\n",
      "Training Time: 15.987110614776611 seconds\n"
     ]
    }
   ],
   "source": [
    "print(f\"Inference Speed: {inference_speed} outputs/second\")\n",
    "print(f\"Latency: {latency} seconds\")\n",
    "print(f\"Throughput: {throughput} outputs/second\")\n",
    "print(f\"Training Time: {training_time} seconds\")"
   ]
  },
  {
   "cell_type": "code",
   "execution_count": 30,
   "id": "b4001ee2",
   "metadata": {},
   "outputs": [],
   "source": [
    "benchmarks = [\"Inference_Speed\", \"Latency\", \"Throughput\", \"Training_Time\"] \n",
    "results = {\"Inference_Speed\": inference_speed, \n",
    "           \"Latency\": latency, \n",
    "           \"Throughput\": throughput,\n",
    "           \"Training_Time\": training_time}"
   ]
  },
  {
   "cell_type": "code",
   "execution_count": 31,
   "id": "834db18f",
   "metadata": {},
   "outputs": [],
   "source": [
    "# import csv\n",
    "\n",
    "# csv_file_path = './benchmarking.csv'\n",
    "# if With_OneAPI == 0:\n",
    "#     column_index = 3\n",
    "#     # Read the existing CSV file\n",
    "#     with open(csv_file_path, 'r') as file:\n",
    "#         reader = csv.reader(file)\n",
    "#         data = list(reader)\n",
    "\n",
    "#     # Add the new data to the appropriate columns\n",
    "#     for i in benchmarks:\n",
    "#         new_line = [Model, i, '', '']\n",
    "#         new_line[column_index] = results[i]\n",
    "#         data.append(new_line)\n",
    "\n",
    "#     # Write the modified data back to the CSV file\n",
    "#     with open(csv_file_path, 'w', newline='') as file:\n",
    "#         writer = csv.writer(file)\n",
    "#         writer.writerows(data)\n",
    "# else:\n",
    "#     column_index = 2\n",
    "#     import pandas as pd\n",
    "\n",
    "#     df = pd.read_csv(\"./benchmarking.csv\")\n",
    "\n",
    "#     for i in benchmarks:\n",
    "#         df.loc[(df['Model'] == Model) & (df[\"benchmark_parameter\"] == i), \"With_ONEAPI\"] = results[i]\n",
    "\n",
    "#     df.to_csv('./benchmarking.csv', index= False)\n"
   ]
  }
 ],
 "metadata": {
  "kernelspec": {
   "display_name": "tf-intel",
   "language": "python",
   "name": "python3"
  },
  "language_info": {
   "codemirror_mode": {
    "name": "ipython",
    "version": 3
   },
   "file_extension": ".py",
   "mimetype": "text/x-python",
   "name": "python",
   "nbconvert_exporter": "python",
   "pygments_lexer": "ipython3",
   "version": "3.9.16"
  },
  "widgets": {
   "application/vnd.jupyter.widget-state+json": {
    "state": {},
    "version_major": 2,
    "version_minor": 0
   }
  }
 },
 "nbformat": 4,
 "nbformat_minor": 5
}
