{
  "cells": [
    {
      "cell_type": "markdown",
      "metadata": {
        "id": "3DR-eO17geWu"
      },
      "source": [
        "# Convolutional Neural Network"
      ]
    },
    {
      "cell_type": "markdown",
      "metadata": {
        "id": "EMefrVPCg-60"
      },
      "source": [
        "### Importing the libraries"
      ]
    },
    {
      "cell_type": "code",
      "execution_count": 2,
      "metadata": {
        "id": "sCV30xyVhFbE"
      },
      "outputs": [],
      "source": [
        "import tensorflow as tf\n",
        "from keras.preprocessing.image import ImageDataGenerator"
      ]
    },
    {
      "cell_type": "markdown",
      "metadata": {
        "id": "oxQxCBWyoGPE"
      },
      "source": [
        "## Part 1 - Data Preprocessing"
      ]
    },
    {
      "cell_type": "markdown",
      "metadata": {
        "id": "MvE-heJNo3GG"
      },
      "source": [
        "### Preprocessing the Training set"
      ]
    },
    {
      "cell_type": "code",
      "execution_count": 3,
      "metadata": {
        "colab": {
          "base_uri": "https://localhost:8080/"
        },
        "id": "0koUcJMJpEBD",
        "outputId": "61000893-01a9-45d9-f4f8-36ee77c44f76"
      },
      "outputs": [
        {
          "name": "stdout",
          "output_type": "stream",
          "text": [
            "Found 8000 images belonging to 2 classes.\n"
          ]
        }
      ],
      "source": [
        "train_datagen = ImageDataGenerator(rescale = 1./255,\n",
        "                                   shear_range = 0.2,\n",
        "                                   zoom_range = 0.2,\n",
        "                                   horizontal_flip = True)\n",
        "training_set = train_datagen.flow_from_directory('Dataset/Cat_Dog/training_set',\n",
        "                                                 target_size = (64, 64),\n",
        "                                                 batch_size = 32,\n",
        "                                                 class_mode = 'binary')"
      ]
    },
    {
      "cell_type": "markdown",
      "metadata": {
        "id": "mrCMmGw9pHys"
      },
      "source": [
        "### Preprocessing the Test set"
      ]
    },
    {
      "cell_type": "code",
      "execution_count": 4,
      "metadata": {
        "colab": {
          "base_uri": "https://localhost:8080/"
        },
        "id": "SH4WzfOhpKc3",
        "outputId": "3d792bdb-07cd-48b8-e22d-f9361c8ce2e2"
      },
      "outputs": [
        {
          "name": "stdout",
          "output_type": "stream",
          "text": [
            "Found 2000 images belonging to 2 classes.\n"
          ]
        }
      ],
      "source": [
        "test_datagen = ImageDataGenerator(rescale = 1./255)\n",
        "test_set = test_datagen.flow_from_directory('Dataset/Cat_Dog/test_set',\n",
        "                                            target_size = (64, 64),\n",
        "                                            batch_size = 32,\n",
        "                                            class_mode = 'binary')"
      ]
    },
    {
      "cell_type": "markdown",
      "metadata": {
        "id": "af8O4l90gk7B"
      },
      "source": [
        "## Part 2 - Building the CNN"
      ]
    },
    {
      "cell_type": "markdown",
      "metadata": {
        "id": "ces1gXY2lmoX"
      },
      "source": [
        "### Initialising the CNN"
      ]
    },
    {
      "cell_type": "code",
      "execution_count": 5,
      "metadata": {
        "id": "SAUt4UMPlhLS"
      },
      "outputs": [],
      "source": [
        "cnn = tf.keras.models.Sequential()"
      ]
    },
    {
      "cell_type": "markdown",
      "metadata": {
        "id": "u5YJj_XMl5LF"
      },
      "source": [
        "### Step 1 - Convolution"
      ]
    },
    {
      "cell_type": "code",
      "execution_count": 6,
      "metadata": {
        "id": "XPzPrMckl-hV"
      },
      "outputs": [],
      "source": [
        "cnn.add(tf.keras.layers.Conv2D(filters=32, kernel_size=3, activation='relu', input_shape=[64, 64, 3]))"
      ]
    },
    {
      "cell_type": "markdown",
      "metadata": {
        "id": "tf87FpvxmNOJ"
      },
      "source": [
        "### Step 2 - Pooling"
      ]
    },
    {
      "cell_type": "code",
      "execution_count": 7,
      "metadata": {
        "id": "ncpqPl69mOac"
      },
      "outputs": [],
      "source": [
        "cnn.add(tf.keras.layers.MaxPool2D(pool_size=2, strides=2))"
      ]
    },
    {
      "cell_type": "markdown",
      "metadata": {
        "id": "xaTOgD8rm4mU"
      },
      "source": [
        "### Adding a second convolutional layer"
      ]
    },
    {
      "cell_type": "code",
      "execution_count": 8,
      "metadata": {
        "id": "i_-FZjn_m8gk"
      },
      "outputs": [],
      "source": [
        "cnn.add(tf.keras.layers.Conv2D(filters=32, kernel_size=3, activation='relu'))\n",
        "cnn.add(tf.keras.layers.MaxPool2D(pool_size=2, strides=2))"
      ]
    },
    {
      "cell_type": "markdown",
      "metadata": {
        "id": "tmiEuvTunKfk"
      },
      "source": [
        "### Step 3 - Flattening"
      ]
    },
    {
      "cell_type": "code",
      "execution_count": 9,
      "metadata": {
        "id": "6AZeOGCvnNZn"
      },
      "outputs": [],
      "source": [
        "cnn.add(tf.keras.layers.Flatten())"
      ]
    },
    {
      "cell_type": "markdown",
      "metadata": {
        "id": "dAoSECOm203v"
      },
      "source": [
        "### Step 4 - Full Connection"
      ]
    },
    {
      "cell_type": "code",
      "execution_count": 10,
      "metadata": {
        "id": "8GtmUlLd26Nq"
      },
      "outputs": [],
      "source": [
        "cnn.add(tf.keras.layers.Dense(units=128, activation='relu'))"
      ]
    },
    {
      "cell_type": "markdown",
      "metadata": {
        "id": "yTldFvbX28Na"
      },
      "source": [
        "### Step 5 - Output Layer"
      ]
    },
    {
      "cell_type": "code",
      "execution_count": 11,
      "metadata": {
        "id": "1p_Zj1Mc3Ko_"
      },
      "outputs": [],
      "source": [
        "cnn.add(tf.keras.layers.Dense(units=1, activation='sigmoid'))"
      ]
    },
    {
      "cell_type": "markdown",
      "metadata": {
        "id": "D6XkI90snSDl"
      },
      "source": [
        "## Part 3 - Training the CNN"
      ]
    },
    {
      "cell_type": "markdown",
      "metadata": {
        "id": "vfrFQACEnc6i"
      },
      "source": [
        "### Compiling the CNN"
      ]
    },
    {
      "cell_type": "code",
      "execution_count": 12,
      "metadata": {
        "id": "NALksrNQpUlJ"
      },
      "outputs": [],
      "source": [
        "cnn.compile(optimizer = 'adam', loss = 'binary_crossentropy', metrics = ['accuracy'])"
      ]
    },
    {
      "cell_type": "markdown",
      "metadata": {
        "id": "ehS-v3MIpX2h"
      },
      "source": [
        "### Training the CNN on the Training set and evaluating it on the Test set"
      ]
    },
    {
      "cell_type": "code",
      "execution_count": 13,
      "metadata": {
        "colab": {
          "base_uri": "https://localhost:8080/"
        },
        "id": "XUj1W4PJptta",
        "outputId": "ae3789e8-0810-4a0f-e0ea-47ca1863d491"
      },
      "outputs": [
        {
          "name": "stdout",
          "output_type": "stream",
          "text": [
            "Epoch 1/50\n",
            "250/250 [==============================] - 100s 374ms/step - loss: 0.6595 - accuracy: 0.5974 - val_loss: 0.6073 - val_accuracy: 0.6765\n",
            "Epoch 2/50\n",
            "250/250 [==============================] - 18s 72ms/step - loss: 0.5912 - accuracy: 0.6890 - val_loss: 0.5479 - val_accuracy: 0.7335\n",
            "Epoch 3/50\n",
            "250/250 [==============================] - 21s 85ms/step - loss: 0.5562 - accuracy: 0.7143 - val_loss: 0.5233 - val_accuracy: 0.7440\n",
            "Epoch 4/50\n",
            "250/250 [==============================] - 16s 65ms/step - loss: 0.5296 - accuracy: 0.7335 - val_loss: 0.5092 - val_accuracy: 0.7590\n",
            "Epoch 5/50\n",
            "250/250 [==============================] - 19s 76ms/step - loss: 0.5113 - accuracy: 0.7465 - val_loss: 0.5617 - val_accuracy: 0.7220\n",
            "Epoch 6/50\n",
            "250/250 [==============================] - 18s 71ms/step - loss: 0.4919 - accuracy: 0.7623 - val_loss: 0.4895 - val_accuracy: 0.7730\n",
            "Epoch 7/50\n",
            "250/250 [==============================] - 17s 66ms/step - loss: 0.4750 - accuracy: 0.7696 - val_loss: 0.4716 - val_accuracy: 0.7800\n",
            "Epoch 8/50\n",
            "250/250 [==============================] - 19s 75ms/step - loss: 0.4676 - accuracy: 0.7747 - val_loss: 0.4699 - val_accuracy: 0.7750\n",
            "Epoch 9/50\n",
            "250/250 [==============================] - 17s 68ms/step - loss: 0.4539 - accuracy: 0.7859 - val_loss: 0.5110 - val_accuracy: 0.7565\n",
            "Epoch 10/50\n",
            "250/250 [==============================] - 19s 77ms/step - loss: 0.4353 - accuracy: 0.7951 - val_loss: 0.5236 - val_accuracy: 0.7430\n",
            "Epoch 11/50\n",
            "250/250 [==============================] - 17s 67ms/step - loss: 0.4277 - accuracy: 0.7969 - val_loss: 0.4858 - val_accuracy: 0.7740\n",
            "Epoch 12/50\n",
            "250/250 [==============================] - 17s 68ms/step - loss: 0.4210 - accuracy: 0.8062 - val_loss: 0.4865 - val_accuracy: 0.7835\n",
            "Epoch 13/50\n",
            "250/250 [==============================] - 16s 66ms/step - loss: 0.4097 - accuracy: 0.8087 - val_loss: 0.4635 - val_accuracy: 0.7800\n",
            "Epoch 14/50\n",
            "250/250 [==============================] - 16s 64ms/step - loss: 0.3996 - accuracy: 0.8156 - val_loss: 0.4597 - val_accuracy: 0.7915\n",
            "Epoch 15/50\n",
            "250/250 [==============================] - 17s 68ms/step - loss: 0.3852 - accuracy: 0.8242 - val_loss: 0.4794 - val_accuracy: 0.7925\n",
            "Epoch 16/50\n",
            "250/250 [==============================] - 18s 72ms/step - loss: 0.3766 - accuracy: 0.8356 - val_loss: 0.4603 - val_accuracy: 0.7975\n",
            "Epoch 17/50\n",
            "250/250 [==============================] - 18s 74ms/step - loss: 0.3613 - accuracy: 0.8400 - val_loss: 0.5066 - val_accuracy: 0.7845\n",
            "Epoch 18/50\n",
            "250/250 [==============================] - 19s 74ms/step - loss: 0.3587 - accuracy: 0.8406 - val_loss: 0.4538 - val_accuracy: 0.8000\n",
            "Epoch 19/50\n",
            "250/250 [==============================] - 19s 74ms/step - loss: 0.3495 - accuracy: 0.8445 - val_loss: 0.4464 - val_accuracy: 0.8055\n",
            "Epoch 20/50\n",
            "250/250 [==============================] - 20s 78ms/step - loss: 0.3390 - accuracy: 0.8485 - val_loss: 0.4432 - val_accuracy: 0.8065\n",
            "Epoch 21/50\n",
            "250/250 [==============================] - 19s 75ms/step - loss: 0.3321 - accuracy: 0.8559 - val_loss: 0.4988 - val_accuracy: 0.7940\n",
            "Epoch 22/50\n",
            "250/250 [==============================] - 17s 70ms/step - loss: 0.3105 - accuracy: 0.8616 - val_loss: 0.5042 - val_accuracy: 0.7915\n",
            "Epoch 23/50\n",
            "250/250 [==============================] - 17s 68ms/step - loss: 0.3099 - accuracy: 0.8666 - val_loss: 0.4924 - val_accuracy: 0.7905\n",
            "Epoch 24/50\n",
            "250/250 [==============================] - 18s 70ms/step - loss: 0.3060 - accuracy: 0.8691 - val_loss: 0.4872 - val_accuracy: 0.7965\n",
            "Epoch 25/50\n",
            "250/250 [==============================] - 18s 71ms/step - loss: 0.2886 - accuracy: 0.8786 - val_loss: 0.4947 - val_accuracy: 0.8000\n",
            "Epoch 26/50\n",
            "250/250 [==============================] - 17s 67ms/step - loss: 0.2772 - accuracy: 0.8789 - val_loss: 0.5215 - val_accuracy: 0.7950\n",
            "Epoch 27/50\n",
            "250/250 [==============================] - 17s 69ms/step - loss: 0.2803 - accuracy: 0.8809 - val_loss: 0.4992 - val_accuracy: 0.8020\n",
            "Epoch 28/50\n",
            "250/250 [==============================] - 17s 69ms/step - loss: 0.2650 - accuracy: 0.8871 - val_loss: 0.5440 - val_accuracy: 0.7960\n",
            "Epoch 29/50\n",
            "250/250 [==============================] - 17s 69ms/step - loss: 0.2625 - accuracy: 0.8941 - val_loss: 0.4770 - val_accuracy: 0.8070\n",
            "Epoch 30/50\n",
            "250/250 [==============================] - 17s 68ms/step - loss: 0.2385 - accuracy: 0.8995 - val_loss: 0.5080 - val_accuracy: 0.8090\n",
            "Epoch 31/50\n",
            "250/250 [==============================] - 17s 68ms/step - loss: 0.2339 - accuracy: 0.9050 - val_loss: 0.5304 - val_accuracy: 0.8030\n",
            "Epoch 32/50\n",
            "250/250 [==============================] - 19s 74ms/step - loss: 0.2364 - accuracy: 0.9014 - val_loss: 0.5406 - val_accuracy: 0.8025\n",
            "Epoch 33/50\n",
            "250/250 [==============================] - 17s 70ms/step - loss: 0.2236 - accuracy: 0.9080 - val_loss: 0.5370 - val_accuracy: 0.8055\n",
            "Epoch 34/50\n",
            "250/250 [==============================] - 17s 69ms/step - loss: 0.2286 - accuracy: 0.9024 - val_loss: 0.6126 - val_accuracy: 0.7845\n",
            "Epoch 35/50\n",
            "250/250 [==============================] - 17s 67ms/step - loss: 0.2076 - accuracy: 0.9151 - val_loss: 0.5323 - val_accuracy: 0.8065\n",
            "Epoch 36/50\n",
            "250/250 [==============================] - 18s 71ms/step - loss: 0.2003 - accuracy: 0.9186 - val_loss: 0.5649 - val_accuracy: 0.8085\n",
            "Epoch 37/50\n",
            "250/250 [==============================] - 18s 70ms/step - loss: 0.1908 - accuracy: 0.9224 - val_loss: 0.5780 - val_accuracy: 0.7975\n",
            "Epoch 38/50\n",
            "250/250 [==============================] - 17s 69ms/step - loss: 0.1937 - accuracy: 0.9247 - val_loss: 0.5825 - val_accuracy: 0.8095\n",
            "Epoch 39/50\n",
            "250/250 [==============================] - 17s 69ms/step - loss: 0.1838 - accuracy: 0.9247 - val_loss: 0.7090 - val_accuracy: 0.7890\n",
            "Epoch 40/50\n",
            "250/250 [==============================] - 18s 70ms/step - loss: 0.1875 - accuracy: 0.9268 - val_loss: 0.5754 - val_accuracy: 0.8085\n",
            "Epoch 41/50\n",
            "250/250 [==============================] - 18s 70ms/step - loss: 0.1714 - accuracy: 0.9335 - val_loss: 0.6795 - val_accuracy: 0.7985\n",
            "Epoch 42/50\n",
            "250/250 [==============================] - 17s 70ms/step - loss: 0.1616 - accuracy: 0.9321 - val_loss: 0.6966 - val_accuracy: 0.7835\n",
            "Epoch 43/50\n",
            "250/250 [==============================] - 17s 67ms/step - loss: 0.1604 - accuracy: 0.9345 - val_loss: 0.6337 - val_accuracy: 0.7950\n",
            "Epoch 44/50\n",
            "250/250 [==============================] - 17s 70ms/step - loss: 0.1560 - accuracy: 0.9410 - val_loss: 0.6676 - val_accuracy: 0.7935\n",
            "Epoch 45/50\n",
            "250/250 [==============================] - 18s 72ms/step - loss: 0.1482 - accuracy: 0.9452 - val_loss: 0.6895 - val_accuracy: 0.7970\n",
            "Epoch 46/50\n",
            "250/250 [==============================] - 18s 71ms/step - loss: 0.1456 - accuracy: 0.9421 - val_loss: 0.6182 - val_accuracy: 0.8075\n",
            "Epoch 47/50\n",
            "250/250 [==============================] - 18s 71ms/step - loss: 0.1446 - accuracy: 0.9451 - val_loss: 0.6654 - val_accuracy: 0.8085\n",
            "Epoch 48/50\n",
            "250/250 [==============================] - 18s 72ms/step - loss: 0.1422 - accuracy: 0.9434 - val_loss: 0.7310 - val_accuracy: 0.7975\n",
            "Epoch 49/50\n",
            "250/250 [==============================] - 17s 67ms/step - loss: 0.1361 - accuracy: 0.9482 - val_loss: 0.6874 - val_accuracy: 0.8035\n",
            "Epoch 50/50\n",
            "250/250 [==============================] - 18s 73ms/step - loss: 0.1302 - accuracy: 0.9513 - val_loss: 0.7327 - val_accuracy: 0.8005\n"
          ]
        },
        {
          "data": {
            "text/plain": [
              "<keras.callbacks.History at 0x20bee594850>"
            ]
          },
          "execution_count": 13,
          "metadata": {},
          "output_type": "execute_result"
        }
      ],
      "source": [
        "cnn.fit(x = training_set, validation_data = test_set, epochs = 50)"
      ]
    },
    {
      "cell_type": "markdown",
      "metadata": {
        "id": "U3PZasO0006Z"
      },
      "source": [
        "## Part 4 - Making a single prediction"
      ]
    },
    {
      "cell_type": "code",
      "execution_count": 14,
      "metadata": {
        "colab": {
          "base_uri": "https://localhost:8080/"
        },
        "id": "gsSiWEJY1BPB",
        "outputId": "ab4371fd-08c0-498f-b330-daaf8c5c4b38"
      },
      "outputs": [
        {
          "name": "stdout",
          "output_type": "stream",
          "text": [
            "1/1 [==============================] - 0s 175ms/step\n"
          ]
        }
      ],
      "source": [
        "import tensorflow as tf\n",
        "import numpy as np\n",
        "#from keras.preprocessing import image\n",
        "from keras.utils import load_img, img_to_array\n",
        "test_image = tf.keras.utils.load_img('Dataset/Cat_Dog/single_prediction/cat_or_dog_2.jpg', target_size = (64, 64))\n",
        "test_image =tf.keras.utils.img_to_array(test_image)\n",
        "test_image = np.expand_dims(test_image, axis = 0)\n",
        "result = cnn.predict(test_image)\n",
        "training_set.class_indices\n",
        "if result[0][0] == 1:\n",
        "  prediction = 'dog'\n",
        "else:\n",
        "  prediction = 'cat'"
      ]
    },
    {
      "cell_type": "code",
      "execution_count": 15,
      "metadata": {
        "colab": {
          "base_uri": "https://localhost:8080/"
        },
        "id": "ED9KB3I54c1i",
        "outputId": "95bb6633-aff7-4d3f-9844-286ac1462f0f"
      },
      "outputs": [
        {
          "name": "stdout",
          "output_type": "stream",
          "text": [
            "cat\n"
          ]
        }
      ],
      "source": [
        "print(prediction)"
      ]
    }
  ],
  "metadata": {
    "colab": {
      "provenance": []
    },
    "kernelspec": {
      "display_name": "Python 3",
      "language": "python",
      "name": "python3"
    },
    "language_info": {
      "codemirror_mode": {
        "name": "ipython",
        "version": 3
      },
      "file_extension": ".py",
      "mimetype": "text/x-python",
      "name": "python",
      "nbconvert_exporter": "python",
      "pygments_lexer": "ipython3",
      "version": "3.10.8"
    },
    "vscode": {
      "interpreter": {
        "hash": "1ed739916f056cbaa1c1d07d49b59abad810f48beee2c23ab8674585a1239e62"
      }
    }
  },
  "nbformat": 4,
  "nbformat_minor": 0
}
