{
  "cells": [
    {
      "cell_type": "code",
      "execution_count": 8,
      "metadata": {
        "id": "FG7hQ98_qikw"
      },
      "outputs": [],
      "source": [
        "from keras.datasets import fashion_mnist \n",
        "from keras.layers import Dense, Activation, Flatten, Conv2D, MaxPooling2D\n",
        "from keras.models import Sequential\n",
        "from keras.utils import to_categorical\n",
        "import numpy as np\n",
        "import matplotlib.pyplot as plt"
      ]
    },
    {
      "cell_type": "code",
      "execution_count": 9,
      "metadata": {
        "colab": {
          "base_uri": "https://localhost:8080/"
        },
        "id": "K_GsolpMqpRJ",
        "outputId": "81e9311e-a9a8-49f5-c1d0-a9dfa62519a1"
      },
      "outputs": [],
      "source": [
        "(train_X,train_Y), (test_X,test_Y) = fashion_mnist.load_data()"
      ]
    },
    {
      "cell_type": "code",
      "execution_count": 10,
      "metadata": {
        "colab": {
          "base_uri": "https://localhost:8080/",
          "height": 71
        },
        "id": "CKUcBKg1qsbt",
        "outputId": "42789800-6487-4815-ee4f-7fdea12fdc5e"
      },
      "outputs": [
        {
          "data": {
            "text/plain": [
              "'\\nWhen using a convolutional layer as the first layer to our model,\\n we need to reshape our data to (n_images, x_shape, y_shape, channels).\\n  All you really need to know is that you should set channels to 1 for grayscale images\\n   and set channels to 3 when you have a set of RGB-images as input.\\n'"
            ]
          },
          "execution_count": 10,
          "metadata": {},
          "output_type": "execute_result"
        }
      ],
      "source": [
        "train_X = train_X.reshape(-1, 28,28, 1)\n",
        "test_X = test_X.reshape(-1, 28,28, 1)\n",
        "\n",
        "'''\n",
        "When using a convolutional layer as the first layer to our model,\n",
        " we need to reshape our data to (n_images, x_shape, y_shape, channels).\n",
        "  All you really need to know is that you should set channels to 1 for grayscale images\n",
        "   and set channels to 3 when you have a set of RGB-images as input.\n",
        "'''"
      ]
    },
    {
      "cell_type": "code",
      "execution_count": 11,
      "metadata": {
        "colab": {
          "base_uri": "https://localhost:8080/"
        },
        "id": "vH7YWhupq5HU",
        "outputId": "d0671ce7-65ed-4985-8527-670a15340d92"
      },
      "outputs": [
        {
          "data": {
            "text/plain": [
              "(60000, 28, 28, 1)"
            ]
          },
          "execution_count": 11,
          "metadata": {},
          "output_type": "execute_result"
        }
      ],
      "source": [
        "train_X.shape"
      ]
    },
    {
      "cell_type": "code",
      "execution_count": 12,
      "metadata": {
        "id": "uQKefz3Lq83U"
      },
      "outputs": [],
      "source": [
        "train_X = train_X.astype('float32')\n",
        "test_X = test_X.astype('float32')\n",
        "train_X = train_X / 255\n",
        "test_X = test_X / 255"
      ]
    },
    {
      "cell_type": "code",
      "execution_count": 13,
      "metadata": {
        "id": "NSOZ_mYDq_tR"
      },
      "outputs": [],
      "source": [
        "train_Y_one_hot = to_categorical(train_Y)\n",
        "test_Y_one_hot = to_categorical(test_Y)"
      ]
    },
    {
      "cell_type": "code",
      "execution_count": 14,
      "metadata": {
        "id": "f_CRKw2RrFRd"
      },
      "outputs": [],
      "source": [
        "model = Sequential()\n",
        "model.add(Conv2D(128, (3,3), input_shape=(28, 28, 1)))\n",
        "model.add(Activation('relu'))\n",
        "model.add(MaxPooling2D(pool_size=(2,2)))\n",
        "model.add(Conv2D(64, (3,3)))\n",
        "model.add(Activation('relu'))\n",
        "model.add(MaxPooling2D(pool_size=(2,2)))\n",
        "model.add(Flatten())\n",
        "model.add(Dense(64))\n",
        "model.add(Dense(10))\n",
        "model.add(Activation('softmax'))\n",
        "model.compile(loss=\"categorical_crossentropy\", optimizer=\"Adam\",metrics=['accuracy'])"
      ]
    },
    {
      "cell_type": "code",
      "execution_count": 15,
      "metadata": {
        "colab": {
          "base_uri": "https://localhost:8080/"
        },
        "id": "rZ3aHNI7t7dM",
        "outputId": "da003867-6d6c-4a28-c7b3-d590ddee91cb"
      },
      "outputs": [
        {
          "name": "stdout",
          "output_type": "stream",
          "text": [
            "Epoch 1/4\n",
            "938/938 [==============================] - 10s 7ms/step - loss: 0.4615 - accuracy: 0.8326\n",
            "Epoch 2/4\n",
            "938/938 [==============================] - 6s 7ms/step - loss: 0.3087 - accuracy: 0.8878\n",
            "Epoch 3/4\n",
            "938/938 [==============================] - 6s 7ms/step - loss: 0.2688 - accuracy: 0.9018\n",
            "Epoch 4/4\n",
            "938/938 [==============================] - 6s 7ms/step - loss: 0.2431 - accuracy: 0.9110\n"
          ]
        },
        {
          "data": {
            "text/plain": [
              "<keras.callbacks.History at 0x1e5da5a56c0>"
            ]
          },
          "execution_count": 15,
          "metadata": {},
          "output_type": "execute_result"
        }
      ],
      "source": [
        "model.fit(train_X, train_Y_one_hot, batch_size=64, epochs=4)"
      ]
    },
    {
      "cell_type": "code",
      "execution_count": 16,
      "metadata": {
        "colab": {
          "base_uri": "https://localhost:8080/"
        },
        "id": "zTAwhYKbuBJl",
        "outputId": "84a230aa-94e9-4ba0-d84c-201a6152b855"
      },
      "outputs": [
        {
          "name": "stdout",
          "output_type": "stream",
          "text": [
            "313/313 [==============================] - 1s 3ms/step - loss: 0.2840 - accuracy: 0.8933\n",
            "Test loss 0.2839701175689697\n",
            "Test accuracy 0.8932999968528748\n"
          ]
        }
      ],
      "source": [
        "test_loss, test_acc = model.evaluate(test_X, test_Y_one_hot)\n",
        "print('Test loss', test_loss)\n",
        "print('Test accuracy', test_acc)"
      ]
    },
    {
      "cell_type": "code",
      "execution_count": 17,
      "metadata": {
        "colab": {
          "base_uri": "https://localhost:8080/"
        },
        "id": "ydFyHYawu6TV",
        "outputId": "efa48eb0-06ee-49dd-d393-00459a7a9623"
      },
      "outputs": [
        {
          "name": "stdout",
          "output_type": "stream",
          "text": [
            "313/313 [==============================] - 1s 2ms/step\n",
            "5\n",
            "Footwear\n"
          ]
        },
        {
          "data": {
            "image/png": "[encoded data removed]",
            "text/plain": [
              "<Figure size 640x480 with 1 Axes>"
            ]
          },
          "metadata": {},
          "output_type": "display_data"
        }
      ],
      "source": [
        "predictions = model.predict(test_X)\n",
        "list = {0 : 'Sweater',\n",
        "        1 : 'Pant',\n",
        "        2 : 'T-shirt',\n",
        "        3 : 'Dress',\n",
        "        4 : 'Shirt',\n",
        "        5 : 'Footwear',\n",
        "        6 : 'Jacket',\n",
        "        7 : 'Sneaker',\n",
        "        8 : 'Purse',\n",
        "        9 : 'Boots'}\n",
        "# for i in range (0, 314):\n",
        "#         print(np.argmax(np.round(predictions[i])), end=\" \")\n",
        "i = 1\n",
        "ind = np.argmax(np.round(predictions[i]))\n",
        "print(ind)\n",
        "print(list[ind])\n",
        "plt.imshow(test_X[i].reshape(28, 28), cmap = plt.cm.binary)\n",
        "plt.show()"
      ]
    }
  ],
  "metadata": {
    "colab": {
      "provenance": []
    },
    "kernelspec": {
      "display_name": "Python 3",
      "language": "python",
      "name": "python3"
    },
    "language_info": {
      "codemirror_mode": {
        "name": "ipython",
        "version": 3
      },
      "file_extension": ".py",
      "mimetype": "text/x-python",
      "name": "python",
      "nbconvert_exporter": "python",
      "pygments_lexer": "ipython3",
      "version": "3.10.8"
    },
    "vscode": {
      "interpreter": {
        "hash": "1ed739916f056cbaa1c1d07d49b59abad810f48beee2c23ab8674585a1239e62"
      }
    }
  },
  "nbformat": 4,
  "nbformat_minor": 0
}
