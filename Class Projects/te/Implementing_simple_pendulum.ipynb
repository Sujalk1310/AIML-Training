{
  "cells": [
    {
      "cell_type": "code",
      "execution_count": null,
      "metadata": {
        "colab": {
          "base_uri": "https://localhost:8080/"
        },
        "id": "AnHDUKHOYpqc",
        "outputId": "d6ff7811-5fe9-49eb-80f1-7ff9fce94ae2"
      },
      "outputs": [
        {
          "name": "stderr",
          "output_type": "stream",
          "text": [
            "<ipython-input-1-ed55d6174f43>:6: MatplotlibDeprecationWarning: The seaborn styles shipped by Matplotlib are deprecated since 3.6, as they no longer correspond to the styles shipped by seaborn. However, they will remain available as 'seaborn-v0_8-<style>'. Alternatively, directly use the seaborn API instead.\n",
            "  plt.style.use('seaborn')\n"
          ]
        }
      ],
      "source": [
        "import numpy as np\n",
        "import matplotlib.pyplot as plt\n",
        "from matplotlib import animation\n",
        "from matplotlib.animation import PillowWriter\n",
        "from IPython.display import HTML\n",
        "plt.style.use('seaborn')"
      ]
    },
    {
      "cell_type": "code",
      "execution_count": null,
      "metadata": {
        "colab": {
          "base_uri": "https://localhost:8080/"
        },
        "id": "S_DW-lIHYR-a",
        "outputId": "70662fa1-4dcd-4105-e94a-537f8383b4d5"
      },
      "outputs": [
        {
          "name": "stdout",
          "output_type": "stream",
          "text": [
            "2.007089923154493\n"
          ]
        }
      ],
      "source": [
        "l = 1\n",
        "g = 9.8\n",
        "T = 2 * np.pi * ((l/g) ** (1/2))\n",
        "print(T)"
      ]
    },
    {
      "cell_type": "code",
      "execution_count": null,
      "metadata": {
        "id": "3LLEpqq6cKxL"
      },
      "outputs": [],
      "source": [
        "theta0,v0 = np.radians(60),0\n",
        "theta, v = [theta0], [v0]\n",
        "dt = 0.001\n",
        "i = 0\n",
        "while True:\n",
        "  i += 1\n",
        "  t = i*dt\n",
        "  old_theta, old_v = theta[-1], v[-1]\n",
        "  omega = old_v/l\n",
        "  new_theta = old_theta + omega * dt\n",
        "  acc = g * np.sin(old_theta)\n",
        "  new_v = old_v + acc * t\n",
        "  if t > T and new_v * old_v < 0:\n",
        "    break\n",
        "  theta.append(new_theta)\n",
        "  v.append(new_v)"
      ]
    },
    {
      "cell_type": "code",
      "execution_count": null,
      "metadata": {
        "colab": {
          "base_uri": "https://localhost:8080/"
        },
        "id": "FGa6IXjwddUM",
        "outputId": "b3127b78-0d5c-416c-c286-dbfc101a94a1"
      },
      "outputs": [
        {
          "data": {
            "text/plain": [
              "(2212.7752677068906, 753384.1507802026)"
            ]
          },
          "execution_count": 4,
          "metadata": {},
          "output_type": "execute_result"
        }
      ],
      "source": [
        "v[-1], theta[-1]"
      ]
    },
    {
      "cell_type": "code",
      "execution_count": null,
      "metadata": {
        "colab": {
          "base_uri": "https://localhost:8080/",
          "height": 501
        },
        "id": "9xcI-CrVdhsr",
        "outputId": "d5fd6c0d-fddc-461b-e24e-a18f00725772"
      },
      "outputs": [
        {
          "data": {
            "text/plain": [
              "(-1.2, 1.2)"
            ]
          },
          "execution_count": 5,
          "metadata": {},
          "output_type": "execute_result"
        },
        {
          "data": {
            "image/png": "[encoded data removed]",
            "text/plain": [
              "<Figure size 800x550 with 1 Axes>"
            ]
          },
          "metadata": {},
          "output_type": "display_data"
        }
      ],
      "source": [
        "def getCords(th):\n",
        "  return l*np.sin(th), -l*np.cos(th)\n",
        "fig = plt.figure()\n",
        "ax = fig.add_subplot(aspect = 'equal')\n",
        "x0,y0 = getCords(theta0)\n",
        "line, = ax.plot([0,x0], [0,y0], lw = 3, c = 'k')\n",
        "objred = 0.08\n",
        "circle = ax.add_patch(plt.Circle(getCords(theta0), objred, fc = 'r', zorder = 3))\n",
        "ax.set_xlim(-l * 1.2, l*1.2)\n",
        "ax.set_ylim(-l * 1.2, l * 1.2)\n"
      ]
    },
    {
      "cell_type": "code",
      "execution_count": null,
      "metadata": {
        "id": "cA_zFqJ0gAAN"
      },
      "outputs": [],
      "source": [
        "def animate(i):\n",
        "  x,y = getCords(theta[i])\n",
        "  line.set_data([0,x], [0,y])\n",
        "  circle.set_center((x,y))"
      ]
    },
    {
      "cell_type": "code",
      "execution_count": null,
      "metadata": {
        "colab": {
          "background_save": true
        },
        "id": "46FyOptDi7Xw"
      },
      "outputs": [],
      "source": [
        "nframes = len(theta)\n",
        "interval = dt * 1000\n",
        "ani = animation.FuncAnimation(fig,animate, frames = nframes, repeat = True, interval = interval)\n",
        "HTML(ani.to_html5_video())"
      ]
    }
  ],
  "metadata": {
    "accelerator": "GPU",
    "colab": {
      "provenance": []
    },
    "gpuClass": "standard",
    "kernelspec": {
      "display_name": "Python 3",
      "name": "python3"
    },
    "language_info": {
      "name": "python"
    }
  },
  "nbformat": 4,
  "nbformat_minor": 0
}
