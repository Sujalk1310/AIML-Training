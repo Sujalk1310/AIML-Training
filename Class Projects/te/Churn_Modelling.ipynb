{
 "cells": [
  {
   "cell_type": "code",
   "execution_count": 51,
   "metadata": {},
   "outputs": [],
   "source": [
    "import numpy as np\n",
    "import pandas as pd\n",
    "import tensorflow as tf"
   ]
  },
  {
   "cell_type": "code",
   "execution_count": 54,
   "metadata": {},
   "outputs": [],
   "source": [
    "dataset = pd.read_csv(r\"Dataset\\Churn\\Churn.csv\")\n",
    "X = dataset.iloc[:, 3:-1].values\n",
    "y = dataset.iloc[:, -1].values"
   ]
  },
  {
   "cell_type": "code",
   "execution_count": 55,
   "metadata": {},
   "outputs": [
    {
     "name": "stdout",
     "output_type": "stream",
     "text": [
      "(10000, 14)\n"
     ]
    }
   ],
   "source": [
    "print(dataset.shape)"
   ]
  },
  {
   "cell_type": "code",
   "execution_count": 56,
   "metadata": {},
   "outputs": [
    {
     "data": {
      "text/html": [
       "<div>\n",
       "<style scoped>\n",
       "    .dataframe tbody tr th:only-of-type {\n",
       "        vertical-align: middle;\n",
       "    }\n",
       "\n",
       "    .dataframe tbody tr th {\n",
       "        vertical-align: top;\n",
       "    }\n",
       "\n",
       "    .dataframe thead th {\n",
       "        text-align: right;\n",
       "    }\n",
       "</style>\n",
       "<table border=\"1\" class=\"dataframe\">\n",
       "  <thead>\n",
       "    <tr style=\"text-align: right;\">\n",
       "      <th></th>\n",
       "      <th>RowNumber</th>\n",
       "      <th>CustomerId</th>\n",
       "      <th>Surname</th>\n",
       "      <th>CreditScore</th>\n",
       "      <th>Geography</th>\n",
       "      <th>Gender</th>\n",
       "      <th>Age</th>\n",
       "      <th>Tenure</th>\n",
       "      <th>Balance</th>\n",
       "      <th>NumOfProducts</th>\n",
       "      <th>HasCrCard</th>\n",
       "      <th>IsActiveMember</th>\n",
       "      <th>EstimatedSalary</th>\n",
       "      <th>Exited</th>\n",
       "    </tr>\n",
       "  </thead>\n",
       "  <tbody>\n",
       "    <tr>\n",
       "      <th>0</th>\n",
       "      <td>1</td>\n",
       "      <td>15634602</td>\n",
       "      <td>Hargrave</td>\n",
       "      <td>619</td>\n",
       "      <td>France</td>\n",
       "      <td>Female</td>\n",
       "      <td>42</td>\n",
       "      <td>2</td>\n",
       "      <td>0.00</td>\n",
       "      <td>1</td>\n",
       "      <td>1</td>\n",
       "      <td>1</td>\n",
       "      <td>101348.88</td>\n",
       "      <td>1</td>\n",
       "    </tr>\n",
       "    <tr>\n",
       "      <th>1</th>\n",
       "      <td>2</td>\n",
       "      <td>15647311</td>\n",
       "      <td>Hill</td>\n",
       "      <td>608</td>\n",
       "      <td>Spain</td>\n",
       "      <td>Female</td>\n",
       "      <td>41</td>\n",
       "      <td>1</td>\n",
       "      <td>83807.86</td>\n",
       "      <td>1</td>\n",
       "      <td>0</td>\n",
       "      <td>1</td>\n",
       "      <td>112542.58</td>\n",
       "      <td>0</td>\n",
       "    </tr>\n",
       "    <tr>\n",
       "      <th>2</th>\n",
       "      <td>3</td>\n",
       "      <td>15619304</td>\n",
       "      <td>Onio</td>\n",
       "      <td>502</td>\n",
       "      <td>France</td>\n",
       "      <td>Female</td>\n",
       "      <td>42</td>\n",
       "      <td>8</td>\n",
       "      <td>159660.80</td>\n",
       "      <td>3</td>\n",
       "      <td>1</td>\n",
       "      <td>0</td>\n",
       "      <td>113931.57</td>\n",
       "      <td>1</td>\n",
       "    </tr>\n",
       "    <tr>\n",
       "      <th>3</th>\n",
       "      <td>4</td>\n",
       "      <td>15701354</td>\n",
       "      <td>Boni</td>\n",
       "      <td>699</td>\n",
       "      <td>France</td>\n",
       "      <td>Female</td>\n",
       "      <td>39</td>\n",
       "      <td>1</td>\n",
       "      <td>0.00</td>\n",
       "      <td>2</td>\n",
       "      <td>0</td>\n",
       "      <td>0</td>\n",
       "      <td>93826.63</td>\n",
       "      <td>0</td>\n",
       "    </tr>\n",
       "    <tr>\n",
       "      <th>4</th>\n",
       "      <td>5</td>\n",
       "      <td>15737888</td>\n",
       "      <td>Mitchell</td>\n",
       "      <td>850</td>\n",
       "      <td>Spain</td>\n",
       "      <td>Female</td>\n",
       "      <td>43</td>\n",
       "      <td>2</td>\n",
       "      <td>125510.82</td>\n",
       "      <td>1</td>\n",
       "      <td>1</td>\n",
       "      <td>1</td>\n",
       "      <td>79084.10</td>\n",
       "      <td>0</td>\n",
       "    </tr>\n",
       "    <tr>\n",
       "      <th>...</th>\n",
       "      <td>...</td>\n",
       "      <td>...</td>\n",
       "      <td>...</td>\n",
       "      <td>...</td>\n",
       "      <td>...</td>\n",
       "      <td>...</td>\n",
       "      <td>...</td>\n",
       "      <td>...</td>\n",
       "      <td>...</td>\n",
       "      <td>...</td>\n",
       "      <td>...</td>\n",
       "      <td>...</td>\n",
       "      <td>...</td>\n",
       "      <td>...</td>\n",
       "    </tr>\n",
       "    <tr>\n",
       "      <th>9995</th>\n",
       "      <td>9996</td>\n",
       "      <td>15606229</td>\n",
       "      <td>Obijiaku</td>\n",
       "      <td>771</td>\n",
       "      <td>France</td>\n",
       "      <td>Male</td>\n",
       "      <td>39</td>\n",
       "      <td>5</td>\n",
       "      <td>0.00</td>\n",
       "      <td>2</td>\n",
       "      <td>1</td>\n",
       "      <td>0</td>\n",
       "      <td>96270.64</td>\n",
       "      <td>0</td>\n",
       "    </tr>\n",
       "    <tr>\n",
       "      <th>9996</th>\n",
       "      <td>9997</td>\n",
       "      <td>15569892</td>\n",
       "      <td>Johnstone</td>\n",
       "      <td>516</td>\n",
       "      <td>France</td>\n",
       "      <td>Male</td>\n",
       "      <td>35</td>\n",
       "      <td>10</td>\n",
       "      <td>57369.61</td>\n",
       "      <td>1</td>\n",
       "      <td>1</td>\n",
       "      <td>1</td>\n",
       "      <td>101699.77</td>\n",
       "      <td>0</td>\n",
       "    </tr>\n",
       "    <tr>\n",
       "      <th>9997</th>\n",
       "      <td>9998</td>\n",
       "      <td>15584532</td>\n",
       "      <td>Liu</td>\n",
       "      <td>709</td>\n",
       "      <td>France</td>\n",
       "      <td>Female</td>\n",
       "      <td>36</td>\n",
       "      <td>7</td>\n",
       "      <td>0.00</td>\n",
       "      <td>1</td>\n",
       "      <td>0</td>\n",
       "      <td>1</td>\n",
       "      <td>42085.58</td>\n",
       "      <td>1</td>\n",
       "    </tr>\n",
       "    <tr>\n",
       "      <th>9998</th>\n",
       "      <td>9999</td>\n",
       "      <td>15682355</td>\n",
       "      <td>Sabbatini</td>\n",
       "      <td>772</td>\n",
       "      <td>Germany</td>\n",
       "      <td>Male</td>\n",
       "      <td>42</td>\n",
       "      <td>3</td>\n",
       "      <td>75075.31</td>\n",
       "      <td>2</td>\n",
       "      <td>1</td>\n",
       "      <td>0</td>\n",
       "      <td>92888.52</td>\n",
       "      <td>1</td>\n",
       "    </tr>\n",
       "    <tr>\n",
       "      <th>9999</th>\n",
       "      <td>10000</td>\n",
       "      <td>15628319</td>\n",
       "      <td>Walker</td>\n",
       "      <td>792</td>\n",
       "      <td>France</td>\n",
       "      <td>Female</td>\n",
       "      <td>28</td>\n",
       "      <td>4</td>\n",
       "      <td>130142.79</td>\n",
       "      <td>1</td>\n",
       "      <td>1</td>\n",
       "      <td>0</td>\n",
       "      <td>38190.78</td>\n",
       "      <td>0</td>\n",
       "    </tr>\n",
       "  </tbody>\n",
       "</table>\n",
       "<p>10000 rows × 14 columns</p>\n",
       "</div>"
      ],
      "text/plain": [
       "      RowNumber  CustomerId    Surname  CreditScore Geography  Gender  Age  \\\n",
       "0             1    15634602   Hargrave          619    France  Female   42   \n",
       "1             2    15647311       Hill          608     Spain  Female   41   \n",
       "2             3    15619304       Onio          502    France  Female   42   \n",
       "3             4    15701354       Boni          699    France  Female   39   \n",
       "4             5    15737888   Mitchell          850     Spain  Female   43   \n",
       "...         ...         ...        ...          ...       ...     ...  ...   \n",
       "9995       9996    15606229   Obijiaku          771    France    Male   39   \n",
       "9996       9997    15569892  Johnstone          516    France    Male   35   \n",
       "9997       9998    15584532        Liu          709    France  Female   36   \n",
       "9998       9999    15682355  Sabbatini          772   Germany    Male   42   \n",
       "9999      10000    15628319     Walker          792    France  Female   28   \n",
       "\n",
       "      Tenure    Balance  NumOfProducts  HasCrCard  IsActiveMember  \\\n",
       "0          2       0.00              1          1               1   \n",
       "1          1   83807.86              1          0               1   \n",
       "2          8  159660.80              3          1               0   \n",
       "3          1       0.00              2          0               0   \n",
       "4          2  125510.82              1          1               1   \n",
       "...      ...        ...            ...        ...             ...   \n",
       "9995       5       0.00              2          1               0   \n",
       "9996      10   57369.61              1          1               1   \n",
       "9997       7       0.00              1          0               1   \n",
       "9998       3   75075.31              2          1               0   \n",
       "9999       4  130142.79              1          1               0   \n",
       "\n",
       "      EstimatedSalary  Exited  \n",
       "0           101348.88       1  \n",
       "1           112542.58       0  \n",
       "2           113931.57       1  \n",
       "3            93826.63       0  \n",
       "4            79084.10       0  \n",
       "...               ...     ...  \n",
       "9995         96270.64       0  \n",
       "9996        101699.77       0  \n",
       "9997         42085.58       1  \n",
       "9998         92888.52       1  \n",
       "9999         38190.78       0  \n",
       "\n",
       "[10000 rows x 14 columns]"
      ]
     },
     "execution_count": 56,
     "metadata": {},
     "output_type": "execute_result"
    }
   ],
   "source": [
    "dataset"
   ]
  },
  {
   "cell_type": "code",
   "execution_count": 57,
   "metadata": {},
   "outputs": [
    {
     "name": "stdout",
     "output_type": "stream",
     "text": [
      "[[619 'France' 'Female' ... 1 1 101348.88]\n",
      " [608 'Spain' 'Female' ... 0 1 112542.58]\n",
      " [502 'France' 'Female' ... 1 0 113931.57]\n",
      " ...\n",
      " [709 'France' 'Female' ... 0 1 42085.58]\n",
      " [772 'Germany' 'Male' ... 1 0 92888.52]\n",
      " [792 'France' 'Female' ... 1 0 38190.78]]\n"
     ]
    }
   ],
   "source": [
    "print(X)"
   ]
  },
  {
   "cell_type": "code",
   "execution_count": 58,
   "metadata": {},
   "outputs": [
    {
     "name": "stdout",
     "output_type": "stream",
     "text": [
      "[1 0 1 ... 1 1 0]\n"
     ]
    }
   ],
   "source": [
    "print(y)"
   ]
  },
  {
   "cell_type": "code",
   "execution_count": 59,
   "metadata": {},
   "outputs": [],
   "source": [
    "from sklearn.preprocessing import LabelEncoder\n",
    "le = LabelEncoder()\n",
    "X[:, 2] = le.fit_transform(X[: ,2])"
   ]
  },
  {
   "cell_type": "code",
   "execution_count": 60,
   "metadata": {},
   "outputs": [
    {
     "name": "stdout",
     "output_type": "stream",
     "text": [
      "[[619 'France' 0 ... 1 1 101348.88]\n",
      " [608 'Spain' 0 ... 0 1 112542.58]\n",
      " [502 'France' 0 ... 1 0 113931.57]\n",
      " ...\n",
      " [709 'France' 0 ... 0 1 42085.58]\n",
      " [772 'Germany' 1 ... 1 0 92888.52]\n",
      " [792 'France' 0 ... 1 0 38190.78]]\n"
     ]
    }
   ],
   "source": [
    "print(X)"
   ]
  },
  {
   "attachments": {},
   "cell_type": "markdown",
   "metadata": {},
   "source": [
    "# Encoding"
   ]
  },
  {
   "cell_type": "code",
   "execution_count": 61,
   "metadata": {},
   "outputs": [],
   "source": [
    "from sklearn.compose import ColumnTransformer\n",
    "from sklearn.preprocessing import OneHotEncoder\n",
    "ct = ColumnTransformer(transformers=[('encoder', OneHotEncoder(), [1])], remainder='passthrough')\n",
    "X = np.array(ct.fit_transform(X))"
   ]
  },
  {
   "cell_type": "code",
   "execution_count": 62,
   "metadata": {},
   "outputs": [],
   "source": [
    "from sklearn.model_selection import train_test_split\n",
    "X_train, X_test, y_train, y_test = train_test_split(X, y, test_size = 0.2, random_state = 0)"
   ]
  },
  {
   "attachments": {},
   "cell_type": "markdown",
   "metadata": {},
   "source": [
    "# Feature Scaling"
   ]
  },
  {
   "cell_type": "code",
   "execution_count": 63,
   "metadata": {},
   "outputs": [],
   "source": [
    "from sklearn.preprocessing import StandardScaler\n",
    "sc = StandardScaler()\n",
    "X_train = sc.fit_transform(X_train)\n",
    "X_test = sc.transform(X_test)"
   ]
  },
  {
   "attachments": {},
   "cell_type": "markdown",
   "metadata": {},
   "source": [
    "# Part 2 - Building the ANN"
   ]
  },
  {
   "attachments": {},
   "cell_type": "markdown",
   "metadata": {},
   "source": [
    "### Initializing the ANN"
   ]
  },
  {
   "cell_type": "code",
   "execution_count": 64,
   "metadata": {},
   "outputs": [],
   "source": [
    "ann = tf.keras.models.Sequential()"
   ]
  },
  {
   "attachments": {},
   "cell_type": "markdown",
   "metadata": {},
   "source": [
    "### Adding the input layer and the first hidden layer"
   ]
  },
  {
   "cell_type": "code",
   "execution_count": 65,
   "metadata": {},
   "outputs": [],
   "source": [
    "# ann.add(tf.keras.Input(shape = (11,)))"
   ]
  },
  {
   "cell_type": "code",
   "execution_count": 66,
   "metadata": {},
   "outputs": [],
   "source": [
    "ann.add(tf.keras.layers.Dense(units = 32, activation = 'relu'))"
   ]
  },
  {
   "attachments": {},
   "cell_type": "markdown",
   "metadata": {},
   "source": [
    "### Adding the second hidden layer"
   ]
  },
  {
   "cell_type": "code",
   "execution_count": 67,
   "metadata": {},
   "outputs": [],
   "source": [
    "ann.add(tf.keras.layers.Dense(units = 32, activation = 'relu'))"
   ]
  },
  {
   "attachments": {},
   "cell_type": "markdown",
   "metadata": {},
   "source": [
    "### Adding the third hidden layer"
   ]
  },
  {
   "cell_type": "code",
   "execution_count": 68,
   "metadata": {},
   "outputs": [],
   "source": [
    "ann.add(tf.keras.layers.Dense(units = 32, activation = 'relu'))"
   ]
  },
  {
   "attachments": {},
   "cell_type": "markdown",
   "metadata": {},
   "source": [
    "### Adding the output layer"
   ]
  },
  {
   "cell_type": "code",
   "execution_count": 69,
   "metadata": {},
   "outputs": [],
   "source": [
    "ann.add(tf.keras.layers.Dense(units = 1, activation = 'sigmoid'))"
   ]
  },
  {
   "attachments": {},
   "cell_type": "markdown",
   "metadata": {},
   "source": [
    "# Part 3 - Training the ANN"
   ]
  },
  {
   "attachments": {},
   "cell_type": "markdown",
   "metadata": {},
   "source": [
    "### Compiling the ANN"
   ]
  },
  {
   "cell_type": "code",
   "execution_count": 70,
   "metadata": {},
   "outputs": [],
   "source": [
    "ann.compile(optimizer = 'adam', loss = 'binary_crossentropy', metrics = ['accuracy'])"
   ]
  },
  {
   "attachments": {},
   "cell_type": "markdown",
   "metadata": {},
   "source": [
    "### Training the ANN on the Training set"
   ]
  },
  {
   "cell_type": "code",
   "execution_count": 71,
   "metadata": {},
   "outputs": [
    {
     "name": "stdout",
     "output_type": "stream",
     "text": [
      "Epoch 1/150\n",
      "250/250 [==============================] - 1s 3ms/step - loss: 0.4600 - accuracy: 0.7996\n",
      "Epoch 2/150\n",
      "250/250 [==============================] - 1s 3ms/step - loss: 0.4071 - accuracy: 0.8235\n",
      "Epoch 3/150\n",
      "250/250 [==============================] - 1s 2ms/step - loss: 0.3744 - accuracy: 0.8462\n",
      "Epoch 4/150\n",
      "250/250 [==============================] - 1s 2ms/step - loss: 0.3522 - accuracy: 0.8562\n",
      "Epoch 5/150\n",
      "250/250 [==============================] - 0s 2ms/step - loss: 0.3418 - accuracy: 0.8596\n",
      "Epoch 6/150\n",
      "250/250 [==============================] - 0s 2ms/step - loss: 0.3365 - accuracy: 0.8614\n",
      "Epoch 7/150\n",
      "250/250 [==============================] - 0s 2ms/step - loss: 0.3314 - accuracy: 0.8615\n",
      "Epoch 8/150\n",
      "250/250 [==============================] - 1s 2ms/step - loss: 0.3291 - accuracy: 0.8644\n",
      "Epoch 9/150\n",
      "250/250 [==============================] - 0s 2ms/step - loss: 0.3252 - accuracy: 0.8650\n",
      "Epoch 10/150\n",
      "250/250 [==============================] - 0s 2ms/step - loss: 0.3238 - accuracy: 0.8626\n",
      "Epoch 11/150\n",
      "250/250 [==============================] - 0s 2ms/step - loss: 0.3211 - accuracy: 0.8674\n",
      "Epoch 12/150\n",
      "250/250 [==============================] - 1s 2ms/step - loss: 0.3188 - accuracy: 0.8700\n",
      "Epoch 13/150\n",
      "250/250 [==============================] - 1s 2ms/step - loss: 0.3156 - accuracy: 0.8676\n",
      "Epoch 14/150\n",
      "250/250 [==============================] - 0s 2ms/step - loss: 0.3158 - accuracy: 0.8692\n",
      "Epoch 15/150\n",
      "250/250 [==============================] - 0s 2ms/step - loss: 0.3134 - accuracy: 0.8692\n",
      "Epoch 16/150\n",
      "250/250 [==============================] - 1s 2ms/step - loss: 0.3118 - accuracy: 0.8706\n",
      "Epoch 17/150\n",
      "250/250 [==============================] - 0s 2ms/step - loss: 0.3106 - accuracy: 0.8720\n",
      "Epoch 18/150\n",
      "250/250 [==============================] - 1s 2ms/step - loss: 0.3103 - accuracy: 0.8696\n",
      "Epoch 19/150\n",
      "250/250 [==============================] - 1s 2ms/step - loss: 0.3069 - accuracy: 0.8740\n",
      "Epoch 20/150\n",
      "250/250 [==============================] - 1s 2ms/step - loss: 0.3047 - accuracy: 0.8698\n",
      "Epoch 21/150\n",
      "250/250 [==============================] - 0s 2ms/step - loss: 0.3037 - accuracy: 0.8711\n",
      "Epoch 22/150\n",
      "250/250 [==============================] - 0s 2ms/step - loss: 0.3037 - accuracy: 0.8714\n",
      "Epoch 23/150\n",
      "250/250 [==============================] - 0s 2ms/step - loss: 0.3026 - accuracy: 0.8735\n",
      "Epoch 24/150\n",
      "250/250 [==============================] - 0s 2ms/step - loss: 0.3003 - accuracy: 0.8733\n",
      "Epoch 25/150\n",
      "250/250 [==============================] - 1s 2ms/step - loss: 0.2977 - accuracy: 0.8752\n",
      "Epoch 26/150\n",
      "250/250 [==============================] - 1s 2ms/step - loss: 0.2989 - accuracy: 0.8759\n",
      "Epoch 27/150\n",
      "250/250 [==============================] - 0s 2ms/step - loss: 0.2965 - accuracy: 0.8748\n",
      "Epoch 28/150\n",
      "250/250 [==============================] - 0s 2ms/step - loss: 0.2946 - accuracy: 0.8771\n",
      "Epoch 29/150\n",
      "250/250 [==============================] - 0s 2ms/step - loss: 0.2934 - accuracy: 0.8766\n",
      "Epoch 30/150\n",
      "250/250 [==============================] - 1s 2ms/step - loss: 0.2913 - accuracy: 0.8776\n",
      "Epoch 31/150\n",
      "250/250 [==============================] - 0s 2ms/step - loss: 0.2900 - accuracy: 0.8784\n",
      "Epoch 32/150\n",
      "250/250 [==============================] - 1s 2ms/step - loss: 0.2885 - accuracy: 0.8784\n",
      "Epoch 33/150\n",
      "250/250 [==============================] - 0s 2ms/step - loss: 0.2894 - accuracy: 0.8775\n",
      "Epoch 34/150\n",
      "250/250 [==============================] - 1s 2ms/step - loss: 0.2870 - accuracy: 0.8823\n",
      "Epoch 35/150\n",
      "250/250 [==============================] - 0s 2ms/step - loss: 0.2864 - accuracy: 0.8819\n",
      "Epoch 36/150\n",
      "250/250 [==============================] - 0s 2ms/step - loss: 0.2849 - accuracy: 0.8820\n",
      "Epoch 37/150\n",
      "250/250 [==============================] - 0s 2ms/step - loss: 0.2844 - accuracy: 0.8809\n",
      "Epoch 38/150\n",
      "250/250 [==============================] - 1s 2ms/step - loss: 0.2814 - accuracy: 0.8825\n",
      "Epoch 39/150\n",
      "250/250 [==============================] - 0s 2ms/step - loss: 0.2808 - accuracy: 0.8825\n",
      "Epoch 40/150\n",
      "250/250 [==============================] - 1s 2ms/step - loss: 0.2803 - accuracy: 0.8854\n",
      "Epoch 41/150\n",
      "250/250 [==============================] - 0s 2ms/step - loss: 0.2793 - accuracy: 0.8840\n",
      "Epoch 42/150\n",
      "250/250 [==============================] - 1s 2ms/step - loss: 0.2781 - accuracy: 0.8827\n",
      "Epoch 43/150\n",
      "250/250 [==============================] - 1s 2ms/step - loss: 0.2762 - accuracy: 0.8852\n",
      "Epoch 44/150\n",
      "250/250 [==============================] - 1s 2ms/step - loss: 0.2766 - accuracy: 0.8839\n",
      "Epoch 45/150\n",
      "250/250 [==============================] - 1s 2ms/step - loss: 0.2737 - accuracy: 0.8873\n",
      "Epoch 46/150\n",
      "250/250 [==============================] - 0s 2ms/step - loss: 0.2726 - accuracy: 0.8854\n",
      "Epoch 47/150\n",
      "250/250 [==============================] - 0s 2ms/step - loss: 0.2734 - accuracy: 0.8873\n",
      "Epoch 48/150\n",
      "250/250 [==============================] - 1s 2ms/step - loss: 0.2696 - accuracy: 0.8900\n",
      "Epoch 49/150\n",
      "250/250 [==============================] - 0s 2ms/step - loss: 0.2703 - accuracy: 0.8878\n",
      "Epoch 50/150\n",
      "250/250 [==============================] - 1s 2ms/step - loss: 0.2672 - accuracy: 0.8895\n",
      "Epoch 51/150\n",
      "250/250 [==============================] - 1s 2ms/step - loss: 0.2686 - accuracy: 0.8879\n",
      "Epoch 52/150\n",
      "250/250 [==============================] - 1s 2ms/step - loss: 0.2664 - accuracy: 0.8884\n",
      "Epoch 53/150\n",
      "250/250 [==============================] - 1s 2ms/step - loss: 0.2655 - accuracy: 0.8895\n",
      "Epoch 54/150\n",
      "250/250 [==============================] - 1s 2ms/step - loss: 0.2647 - accuracy: 0.8904\n",
      "Epoch 55/150\n",
      "250/250 [==============================] - 0s 2ms/step - loss: 0.2643 - accuracy: 0.8926\n",
      "Epoch 56/150\n",
      "250/250 [==============================] - 0s 2ms/step - loss: 0.2644 - accuracy: 0.8892\n",
      "Epoch 57/150\n",
      "250/250 [==============================] - 1s 2ms/step - loss: 0.2615 - accuracy: 0.8939\n",
      "Epoch 58/150\n",
      "250/250 [==============================] - 1s 2ms/step - loss: 0.2602 - accuracy: 0.8920\n",
      "Epoch 59/150\n",
      "250/250 [==============================] - 1s 2ms/step - loss: 0.2614 - accuracy: 0.8920\n",
      "Epoch 60/150\n",
      "250/250 [==============================] - 1s 2ms/step - loss: 0.2590 - accuracy: 0.8930\n",
      "Epoch 61/150\n",
      "250/250 [==============================] - 1s 2ms/step - loss: 0.2590 - accuracy: 0.8925\n",
      "Epoch 62/150\n",
      "250/250 [==============================] - 1s 2ms/step - loss: 0.2576 - accuracy: 0.8935\n",
      "Epoch 63/150\n",
      "250/250 [==============================] - 1s 2ms/step - loss: 0.2578 - accuracy: 0.8904\n",
      "Epoch 64/150\n",
      "250/250 [==============================] - 1s 2ms/step - loss: 0.2552 - accuracy: 0.8931\n",
      "Epoch 65/150\n",
      "250/250 [==============================] - 1s 2ms/step - loss: 0.2541 - accuracy: 0.8947\n",
      "Epoch 66/150\n",
      "250/250 [==============================] - 0s 2ms/step - loss: 0.2536 - accuracy: 0.8970\n",
      "Epoch 67/150\n",
      "250/250 [==============================] - 0s 2ms/step - loss: 0.2513 - accuracy: 0.8953\n",
      "Epoch 68/150\n",
      "250/250 [==============================] - 1s 2ms/step - loss: 0.2530 - accuracy: 0.8919\n",
      "Epoch 69/150\n",
      "250/250 [==============================] - 1s 2ms/step - loss: 0.2514 - accuracy: 0.8946\n",
      "Epoch 70/150\n",
      "250/250 [==============================] - 1s 3ms/step - loss: 0.2507 - accuracy: 0.8950\n",
      "Epoch 71/150\n",
      "250/250 [==============================] - 1s 3ms/step - loss: 0.2499 - accuracy: 0.8970\n",
      "Epoch 72/150\n",
      "250/250 [==============================] - 1s 2ms/step - loss: 0.2468 - accuracy: 0.8976\n",
      "Epoch 73/150\n",
      "250/250 [==============================] - 1s 2ms/step - loss: 0.2473 - accuracy: 0.8964\n",
      "Epoch 74/150\n",
      "250/250 [==============================] - 1s 2ms/step - loss: 0.2469 - accuracy: 0.8956\n",
      "Epoch 75/150\n",
      "250/250 [==============================] - 1s 2ms/step - loss: 0.2463 - accuracy: 0.8975\n",
      "Epoch 76/150\n",
      "250/250 [==============================] - 1s 2ms/step - loss: 0.2460 - accuracy: 0.8976\n",
      "Epoch 77/150\n",
      "250/250 [==============================] - 1s 2ms/step - loss: 0.2461 - accuracy: 0.8967\n",
      "Epoch 78/150\n",
      "250/250 [==============================] - 1s 2ms/step - loss: 0.2438 - accuracy: 0.8996\n",
      "Epoch 79/150\n",
      "250/250 [==============================] - 1s 2ms/step - loss: 0.2436 - accuracy: 0.8986\n",
      "Epoch 80/150\n",
      "250/250 [==============================] - 1s 2ms/step - loss: 0.2408 - accuracy: 0.8992\n",
      "Epoch 81/150\n",
      "250/250 [==============================] - 0s 2ms/step - loss: 0.2393 - accuracy: 0.9004\n",
      "Epoch 82/150\n",
      "250/250 [==============================] - 1s 2ms/step - loss: 0.2403 - accuracy: 0.9004\n",
      "Epoch 83/150\n",
      "250/250 [==============================] - 1s 2ms/step - loss: 0.2393 - accuracy: 0.8975\n",
      "Epoch 84/150\n",
      "250/250 [==============================] - 1s 2ms/step - loss: 0.2384 - accuracy: 0.8995\n",
      "Epoch 85/150\n",
      "250/250 [==============================] - 1s 2ms/step - loss: 0.2379 - accuracy: 0.9010\n",
      "Epoch 86/150\n",
      "250/250 [==============================] - 1s 2ms/step - loss: 0.2368 - accuracy: 0.9015\n",
      "Epoch 87/150\n",
      "250/250 [==============================] - 1s 2ms/step - loss: 0.2344 - accuracy: 0.9030\n",
      "Epoch 88/150\n",
      "250/250 [==============================] - 1s 2ms/step - loss: 0.2331 - accuracy: 0.9044\n",
      "Epoch 89/150\n",
      "250/250 [==============================] - 0s 2ms/step - loss: 0.2327 - accuracy: 0.9026\n",
      "Epoch 90/150\n",
      "250/250 [==============================] - 1s 2ms/step - loss: 0.2355 - accuracy: 0.8997\n",
      "Epoch 91/150\n",
      "250/250 [==============================] - 0s 2ms/step - loss: 0.2320 - accuracy: 0.9026\n",
      "Epoch 92/150\n",
      "250/250 [==============================] - 1s 2ms/step - loss: 0.2308 - accuracy: 0.9038\n",
      "Epoch 93/150\n",
      "250/250 [==============================] - 1s 2ms/step - loss: 0.2315 - accuracy: 0.9024\n",
      "Epoch 94/150\n",
      "250/250 [==============================] - 1s 2ms/step - loss: 0.2309 - accuracy: 0.9039\n",
      "Epoch 95/150\n",
      "250/250 [==============================] - 1s 2ms/step - loss: 0.2289 - accuracy: 0.9024\n",
      "Epoch 96/150\n",
      "250/250 [==============================] - 1s 2ms/step - loss: 0.2280 - accuracy: 0.9035\n",
      "Epoch 97/150\n",
      "250/250 [==============================] - 1s 2ms/step - loss: 0.2267 - accuracy: 0.9032\n",
      "Epoch 98/150\n",
      "250/250 [==============================] - 1s 2ms/step - loss: 0.2286 - accuracy: 0.9043\n",
      "Epoch 99/150\n",
      "250/250 [==============================] - 1s 2ms/step - loss: 0.2260 - accuracy: 0.9049\n",
      "Epoch 100/150\n",
      "250/250 [==============================] - 1s 2ms/step - loss: 0.2258 - accuracy: 0.9071\n",
      "Epoch 101/150\n",
      "250/250 [==============================] - 1s 2ms/step - loss: 0.2246 - accuracy: 0.9047\n",
      "Epoch 102/150\n",
      "250/250 [==============================] - 1s 2ms/step - loss: 0.2233 - accuracy: 0.9045\n",
      "Epoch 103/150\n",
      "250/250 [==============================] - 1s 2ms/step - loss: 0.2244 - accuracy: 0.9061\n",
      "Epoch 104/150\n",
      "250/250 [==============================] - 1s 2ms/step - loss: 0.2192 - accuracy: 0.9087\n",
      "Epoch 105/150\n",
      "250/250 [==============================] - 0s 2ms/step - loss: 0.2203 - accuracy: 0.9089\n",
      "Epoch 106/150\n",
      "250/250 [==============================] - 1s 2ms/step - loss: 0.2217 - accuracy: 0.9049\n",
      "Epoch 107/150\n",
      "250/250 [==============================] - 1s 2ms/step - loss: 0.2183 - accuracy: 0.9089\n",
      "Epoch 108/150\n",
      "250/250 [==============================] - 1s 2ms/step - loss: 0.2214 - accuracy: 0.9074\n",
      "Epoch 109/150\n",
      "250/250 [==============================] - 1s 2ms/step - loss: 0.2193 - accuracy: 0.9074\n",
      "Epoch 110/150\n",
      "250/250 [==============================] - 1s 2ms/step - loss: 0.2187 - accuracy: 0.9081\n",
      "Epoch 111/150\n",
      "250/250 [==============================] - 1s 2ms/step - loss: 0.2180 - accuracy: 0.9078\n",
      "Epoch 112/150\n",
      "250/250 [==============================] - 1s 2ms/step - loss: 0.2145 - accuracy: 0.9090\n",
      "Epoch 113/150\n",
      "250/250 [==============================] - 1s 2ms/step - loss: 0.2169 - accuracy: 0.9085\n",
      "Epoch 114/150\n",
      "250/250 [==============================] - 1s 2ms/step - loss: 0.2165 - accuracy: 0.9094\n",
      "Epoch 115/150\n",
      "250/250 [==============================] - 1s 2ms/step - loss: 0.2139 - accuracy: 0.9109\n",
      "Epoch 116/150\n",
      "250/250 [==============================] - 1s 2ms/step - loss: 0.2120 - accuracy: 0.9079\n",
      "Epoch 117/150\n",
      "250/250 [==============================] - 1s 2ms/step - loss: 0.2148 - accuracy: 0.9107\n",
      "Epoch 118/150\n",
      "250/250 [==============================] - 1s 2ms/step - loss: 0.2134 - accuracy: 0.9106\n",
      "Epoch 119/150\n",
      "250/250 [==============================] - 1s 2ms/step - loss: 0.2120 - accuracy: 0.9104\n",
      "Epoch 120/150\n",
      "250/250 [==============================] - 1s 2ms/step - loss: 0.2112 - accuracy: 0.9105\n",
      "Epoch 121/150\n",
      "250/250 [==============================] - 1s 2ms/step - loss: 0.2112 - accuracy: 0.9089\n",
      "Epoch 122/150\n",
      "250/250 [==============================] - 1s 2ms/step - loss: 0.2083 - accuracy: 0.9119\n",
      "Epoch 123/150\n",
      "250/250 [==============================] - 1s 2ms/step - loss: 0.2099 - accuracy: 0.9090\n",
      "Epoch 124/150\n",
      "250/250 [==============================] - 1s 2ms/step - loss: 0.2101 - accuracy: 0.9126\n",
      "Epoch 125/150\n",
      "250/250 [==============================] - 1s 2ms/step - loss: 0.2048 - accuracy: 0.9114\n",
      "Epoch 126/150\n",
      "250/250 [==============================] - 1s 2ms/step - loss: 0.2059 - accuracy: 0.9150\n",
      "Epoch 127/150\n",
      "250/250 [==============================] - 1s 2ms/step - loss: 0.2058 - accuracy: 0.9158\n",
      "Epoch 128/150\n",
      "250/250 [==============================] - 1s 2ms/step - loss: 0.2036 - accuracy: 0.9145\n",
      "Epoch 129/150\n",
      "250/250 [==============================] - 1s 2ms/step - loss: 0.2049 - accuracy: 0.9118\n",
      "Epoch 130/150\n",
      "250/250 [==============================] - 1s 2ms/step - loss: 0.2046 - accuracy: 0.9125\n",
      "Epoch 131/150\n",
      "250/250 [==============================] - 1s 2ms/step - loss: 0.2038 - accuracy: 0.9106\n",
      "Epoch 132/150\n",
      "250/250 [==============================] - 1s 2ms/step - loss: 0.2022 - accuracy: 0.9164\n",
      "Epoch 133/150\n",
      "250/250 [==============================] - 1s 2ms/step - loss: 0.2045 - accuracy: 0.9136\n",
      "Epoch 134/150\n",
      "250/250 [==============================] - 1s 2ms/step - loss: 0.2009 - accuracy: 0.9160\n",
      "Epoch 135/150\n",
      "250/250 [==============================] - 1s 2ms/step - loss: 0.1974 - accuracy: 0.9184\n",
      "Epoch 136/150\n",
      "250/250 [==============================] - 1s 2ms/step - loss: 0.1991 - accuracy: 0.9170\n",
      "Epoch 137/150\n",
      "250/250 [==============================] - 1s 2ms/step - loss: 0.2006 - accuracy: 0.9150\n",
      "Epoch 138/150\n",
      "250/250 [==============================] - 1s 3ms/step - loss: 0.1968 - accuracy: 0.9185\n",
      "Epoch 139/150\n",
      "250/250 [==============================] - 1s 2ms/step - loss: 0.1959 - accuracy: 0.9172\n",
      "Epoch 140/150\n",
      "250/250 [==============================] - 1s 2ms/step - loss: 0.1958 - accuracy: 0.9171\n",
      "Epoch 141/150\n",
      "250/250 [==============================] - 1s 2ms/step - loss: 0.1954 - accuracy: 0.9171\n",
      "Epoch 142/150\n",
      "250/250 [==============================] - 1s 2ms/step - loss: 0.1946 - accuracy: 0.9218\n",
      "Epoch 143/150\n",
      "250/250 [==============================] - 1s 2ms/step - loss: 0.1952 - accuracy: 0.9180\n",
      "Epoch 144/150\n",
      "250/250 [==============================] - 1s 2ms/step - loss: 0.1953 - accuracy: 0.9161\n",
      "Epoch 145/150\n",
      "250/250 [==============================] - 1s 2ms/step - loss: 0.1951 - accuracy: 0.9185\n",
      "Epoch 146/150\n",
      "250/250 [==============================] - 1s 2ms/step - loss: 0.1916 - accuracy: 0.9204\n",
      "Epoch 147/150\n",
      "250/250 [==============================] - 1s 2ms/step - loss: 0.1931 - accuracy: 0.9201\n",
      "Epoch 148/150\n",
      "250/250 [==============================] - 1s 2ms/step - loss: 0.1942 - accuracy: 0.9184\n",
      "Epoch 149/150\n",
      "250/250 [==============================] - 1s 2ms/step - loss: 0.1936 - accuracy: 0.9183\n",
      "Epoch 150/150\n",
      "250/250 [==============================] - 1s 2ms/step - loss: 0.1903 - accuracy: 0.9202\n"
     ]
    },
    {
     "data": {
      "text/plain": [
       "<keras.callbacks.History at 0x1e66ab513f0>"
      ]
     },
     "execution_count": 71,
     "metadata": {},
     "output_type": "execute_result"
    }
   ],
   "source": [
    "ann.fit(X_train, y_train, batch_size = 32, epochs = 150)"
   ]
  },
  {
   "attachments": {},
   "cell_type": "markdown",
   "metadata": {},
   "source": [
    "# Part 4 - Making the prediction "
   ]
  },
  {
   "attachments": {},
   "cell_type": "markdown",
   "metadata": {},
   "source": [
    "### Predicting the result of a single observation"
   ]
  },
  {
   "attachments": {},
   "cell_type": "markdown",
   "metadata": {},
   "source": [
    "Use our ANN model to predict if the customer with the following informations will leave the bank:\n",
    "\n",
    "Geography: France\n",
    "\n",
    "Credit Score: 600\n",
    "\n",
    "Gender: Male\n",
    "\n",
    "Age: 40 years old\n",
    "\n",
    "Tenure: 3 years\n",
    "\n",
    "Balance: $ 60000\n",
    "\n",
    "Number of Products: 2\n",
    "\n",
    "Does this customer have a credit card ? Yes\n",
    "\n",
    "Is this customer an Active Member: Yes\n",
    "\n",
    "Estimated Salary: $ 50000\n",
    "\n",
    "So, should we say goodbye to that customer ?"
   ]
  },
  {
   "cell_type": "code",
   "execution_count": 72,
   "metadata": {},
   "outputs": [
    {
     "name": "stdout",
     "output_type": "stream",
     "text": [
      "1/1 [==============================] - 0s 61ms/step\n",
      "[[False]]\n"
     ]
    }
   ],
   "source": [
    "print(ann.predict(sc.transform([[1, 0, 0, 600, 1, 40, 3, 60000, 2, 1, 1, 50000]])) > 0.5)"
   ]
  },
  {
   "attachments": {},
   "cell_type": "markdown",
   "metadata": {},
   "source": [
    "### Predicting the Test set results"
   ]
  },
  {
   "cell_type": "code",
   "execution_count": 73,
   "metadata": {},
   "outputs": [
    {
     "name": "stdout",
     "output_type": "stream",
     "text": [
      "63/63 [==============================] - 0s 892us/step\n",
      "[[1 0]\n",
      " [0 1]\n",
      " [0 0]\n",
      " ...\n",
      " [0 0]\n",
      " [0 0]\n",
      " [0 0]]\n"
     ]
    }
   ],
   "source": [
    "y_pred = ann.predict(X_test)\n",
    "y_pred = (y_pred > 0.5)\n",
    "print(np.concatenate((y_pred.reshape(len(y_pred),1), y_test.reshape(len(y_test),1)),1))"
   ]
  },
  {
   "attachments": {},
   "cell_type": "markdown",
   "metadata": {},
   "source": [
    "### Making the Confusion Matrix"
   ]
  },
  {
   "cell_type": "code",
   "execution_count": 74,
   "metadata": {},
   "outputs": [
    {
     "name": "stdout",
     "output_type": "stream",
     "text": [
      "[[1438  157]\n",
      " [ 186  219]]\n"
     ]
    },
    {
     "data": {
      "text/plain": [
       "0.8285"
      ]
     },
     "execution_count": 74,
     "metadata": {},
     "output_type": "execute_result"
    }
   ],
   "source": [
    "from sklearn.metrics import confusion_matrix, accuracy_score\n",
    "cm = confusion_matrix(y_test, y_pred)\n",
    "print(cm)\n",
    "accuracy_score(y_test, y_pred)"
   ]
  },
  {
   "cell_type": "code",
   "execution_count": 75,
   "metadata": {},
   "outputs": [
    {
     "name": "stdout",
     "output_type": "stream",
     "text": [
      "Model: \"sequential_2\"\n",
      "_________________________________________________________________\n",
      " Layer (type)                Output Shape              Param #   \n",
      "=================================================================\n",
      " dense_8 (Dense)             (None, 32)                416       \n",
      "                                                                 \n",
      " dense_9 (Dense)             (None, 32)                1056      \n",
      "                                                                 \n",
      " dense_10 (Dense)            (None, 32)                1056      \n",
      "                                                                 \n",
      " dense_11 (Dense)            (None, 1)                 33        \n",
      "                                                                 \n",
      "=================================================================\n",
      "Total params: 2,561\n",
      "Trainable params: 2,561\n",
      "Non-trainable params: 0\n",
      "_________________________________________________________________\n"
     ]
    }
   ],
   "source": [
    "ann.summary()"
   ]
  }
 ],
 "metadata": {
  "kernelspec": {
   "display_name": "Python 3",
   "language": "python",
   "name": "python3"
  },
  "language_info": {
   "codemirror_mode": {
    "name": "ipython",
    "version": 3
   },
   "file_extension": ".py",
   "mimetype": "text/x-python",
   "name": "python",
   "nbconvert_exporter": "python",
   "pygments_lexer": "ipython3",
   "version": "3.10.8"
  },
  "orig_nbformat": 4,
  "vscode": {
   "interpreter": {
    "hash": "1ed739916f056cbaa1c1d07d49b59abad810f48beee2c23ab8674585a1239e62"
   }
  }
 },
 "nbformat": 4,
 "nbformat_minor": 2
}
