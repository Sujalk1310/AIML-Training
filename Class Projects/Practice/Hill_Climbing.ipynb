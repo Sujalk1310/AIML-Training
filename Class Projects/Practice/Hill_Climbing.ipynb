{
 "cells": [
  {
   "cell_type": "code",
   "execution_count": 15,
   "metadata": {},
   "outputs": [],
   "source": [
    "from random import randint"
   ]
  },
  {
   "cell_type": "code",
   "execution_count": 16,
   "metadata": {},
   "outputs": [],
   "source": [
    "N = 4"
   ]
  },
  {
   "cell_type": "code",
   "execution_count": 17,
   "metadata": {},
   "outputs": [],
   "source": [
    "def configure_randomly(board, state):\n",
    "    for i in  range(N):\n",
    "        state[i] = randint(0, 100000) % N\n",
    "        board[state[i]][i] = 1"
   ]
  },
  {
   "cell_type": "code",
   "execution_count": 18,
   "metadata": {},
   "outputs": [],
   "source": [
    "def print_board(board):\n",
    "    for i in range(N):\n",
    "        print(*board[i])"
   ]
  },
  {
   "cell_type": "code",
   "execution_count": 19,
   "metadata": {},
   "outputs": [],
   "source": [
    "def print_state(state):\n",
    "    print(*state)"
   ]
  },
  {
   "cell_type": "code",
   "execution_count": 20,
   "metadata": {},
   "outputs": [],
   "source": [
    "def compare_state(state1, state2):\n",
    "    for i in range(N):\n",
    "        if (state1[i] != state2[i]):\n",
    "            return False\n",
    "    return True"
   ]
  },
  {
   "cell_type": "code",
   "execution_count": 21,
   "metadata": {},
   "outputs": [],
   "source": [
    "def fill_board(board, value):\n",
    "    for i in range(N):\n",
    "        for j in range(N):\n",
    "            board[i][j] = value"
   ]
  },
  {
   "cell_type": "code",
   "execution_count": 22,
   "metadata": {},
   "outputs": [],
   "source": [
    "def calculate_objective(board, state):\n",
    "    attacking = 0\n",
    "    for i in range(N):\n",
    "        # LEFT\n",
    "        row = state[i]\n",
    "        col = i-1\n",
    "        while (col >= 0 and board[row][col] != 1):\n",
    "            col -= 1\n",
    "        if (col >= 0 and board[row][col] != 1):\n",
    "            attacking += 1\n",
    "        # RIGHT\n",
    "        row = state[i]\n",
    "        col = i+1\n",
    "        while (col < N and board[row][col] != 1):\n",
    "            col += 1\n",
    "        if (col < N and board[row][col] != 1):\n",
    "            attacking += 1\n",
    "        # DIAGONAL RIGHT UP\n",
    "        row = state[i] + 1\n",
    "        col = i+1\n",
    "        while (col < N and row < N and board[row][col] != 1):\n",
    "            col += 1\n",
    "            row += 1\n",
    "        if (col < N and row < N and board[row][col] != 1):\n",
    "            attacking += 1\n",
    "        # DIAGONAL RIGHT DOWN\n",
    "        row = state[i] - 1\n",
    "        col = i+1\n",
    "        while (col < N and row >= 0 and board[row][col] != 1):\n",
    "            col += 1\n",
    "            row -= 1\n",
    "        if (col < N and row >= 0 and board[row][col] != 1):\n",
    "            attacking += 1\n",
    "        # DIAGONAL LEFT UP\n",
    "        row = state[i] + 1\n",
    "        col = i-1\n",
    "        while (col >= 0 and row < N and board[row][col] != 1):\n",
    "            col -= 1\n",
    "            row += 1\n",
    "        if (col >= 0 and row < N and board[row][col] != 1):\n",
    "            attacking += 1\n",
    "        # DIAGONAL LEFT DOWN    \n",
    "        row = state[i] - 1\n",
    "        col = i-1\n",
    "        while (col >= 0 and row >= 0 and board[row][col] != 1):\n",
    "            col -= 1\n",
    "            row -= 1\n",
    "        if (col >= 0 and row >= 0 and board[row][col] != 1):\n",
    "            attacking += 1\n",
    "    return int(attacking/2)"
   ]
  },
  {
   "cell_type": "code",
   "execution_count": 23,
   "metadata": {},
   "outputs": [],
   "source": [
    "def generate_board(board, state):\n",
    "    fill_board(board, 0)\n",
    "    for i in range(N):\n",
    "        board[state[i]][i] = 1"
   ]
  },
  {
   "cell_type": "code",
   "execution_count": 24,
   "metadata": {},
   "outputs": [],
   "source": [
    "def copy_state(state1 ,state2):\n",
    "    for i in range(N):\n",
    "        state1[i] = state2[i]"
   ]
  },
  {
   "cell_type": "code",
   "execution_count": 25,
   "metadata": {},
   "outputs": [],
   "source": [
    "def get_neighbour(board, state):\n",
    "    op_board = [[0 for _ in range(N)] for _ in range(N)]\n",
    "    op_state = [0 for _ in range(N)]\n",
    "    copy_state(op_state, state)\n",
    "    generate_board(op_board, op_state) \n",
    "    op_objective = calculate_objective(op_board, op_state)\n",
    "    neighbour_board = [[0 for _ in range(N)] for _ in range(N)]\n",
    "    neighbour_state = [0 for _ in range(N)]\n",
    "    copy_state(neighbour_state, state)\n",
    "    generate_board(neighbour_board, neighbour_state) \n",
    "    for i in range(N):\n",
    "        for j in range(N):\n",
    "            if (j != state[i]):\n",
    "                neighbour_state[i] = j\n",
    "                neighbour_board[neighbour_state[i]][i] = 1\n",
    "                neighbour_board[state[i]][i] = 0\n",
    "                temp = calculate_objective(neighbour_board, neighbour_state)\n",
    "                if (temp <= op_objective):\n",
    "                    op_objective = temp\n",
    "                    copy_state(op_state, neighbour_state)\n",
    "                    generate_board(op_board, op_state)\n",
    "                neighbour_board[neighbour_state[i]][i] = 0\n",
    "                neighbour_state[i] = state[i]\n",
    "                neighbour_board[state[i]][i] = 1\n",
    "    copy_state(state, op_state)\n",
    "    fill_board(board, 0)\n",
    "    generate_board(board, state)"
   ]
  },
  {
   "cell_type": "code",
   "execution_count": 26,
   "metadata": {},
   "outputs": [],
   "source": [
    "def hill_climbing(board, state):\n",
    "    neighbour_state = [0 for _ in range(N)]\n",
    "    neighbour_board = [[0 for _ in range(N)] for _ in range(N)]\n",
    "    copy_state(neighbour_state, state)\n",
    "    generate_board(neighbour_board, neighbour_state)\n",
    "    while(True):\n",
    "        copy_state(state, neighbour_state)\n",
    "        generate_board(board, state)\n",
    "        get_neighbour(neighbour_board, neighbour_state)\n",
    "        if (compare_state(state, neighbour_state)):\n",
    "            print_board(board)\n",
    "            break\n",
    "        elif (calculate_objective(board, state) == calculate_objective(neighbour_board, neighbour_state)):\n",
    "            neighbour_state[randint(0, 100000) % N] = randint(0, 100000) % N\n",
    "            generate_board(neighbour_board, neighbour_state)"
   ]
  },
  {
   "cell_type": "code",
   "execution_count": 27,
   "metadata": {},
   "outputs": [
    {
     "ename": "KeyboardInterrupt",
     "evalue": "",
     "output_type": "error",
     "traceback": [
      "\u001b[1;31m---------------------------------------------------------------------------\u001b[0m",
      "\u001b[1;31mKeyboardInterrupt\u001b[0m                         Traceback (most recent call last)",
      "Cell \u001b[1;32mIn[27], line 4\u001b[0m\n\u001b[0;32m      2\u001b[0m board \u001b[39m=\u001b[39m [[\u001b[39m0\u001b[39m \u001b[39mfor\u001b[39;00m _ \u001b[39min\u001b[39;00m \u001b[39mrange\u001b[39m(N)] \u001b[39mfor\u001b[39;00m _ \u001b[39min\u001b[39;00m \u001b[39mrange\u001b[39m(N)]\n\u001b[0;32m      3\u001b[0m configure_randomly(board, state)\n\u001b[1;32m----> 4\u001b[0m hill_climbing(board, state)\n",
      "Cell \u001b[1;32mIn[26], line 9\u001b[0m, in \u001b[0;36mhill_climbing\u001b[1;34m(board, state)\u001b[0m\n\u001b[0;32m      7\u001b[0m copy_state(state, neighbour_state)\n\u001b[0;32m      8\u001b[0m generate_board(board, state)\n\u001b[1;32m----> 9\u001b[0m get_neighbour(neighbour_board, neighbour_state)\n\u001b[0;32m     10\u001b[0m \u001b[39mif\u001b[39;00m (compare_state(state, neighbour_state)):\n\u001b[0;32m     11\u001b[0m     print_board(board)\n",
      "Cell \u001b[1;32mIn[25], line 17\u001b[0m, in \u001b[0;36mget_neighbour\u001b[1;34m(board, state)\u001b[0m\n\u001b[0;32m     15\u001b[0m neighbour_board[neighbour_state[i]][i] \u001b[39m=\u001b[39m \u001b[39m1\u001b[39m\n\u001b[0;32m     16\u001b[0m neighbour_board[state[i]][i] \u001b[39m=\u001b[39m \u001b[39m0\u001b[39m\n\u001b[1;32m---> 17\u001b[0m temp \u001b[39m=\u001b[39m calculate_objective(neighbour_board, neighbour_state)\n\u001b[0;32m     18\u001b[0m \u001b[39mif\u001b[39;00m (temp \u001b[39m<\u001b[39m\u001b[39m=\u001b[39m op_objective):\n\u001b[0;32m     19\u001b[0m     op_objective \u001b[39m=\u001b[39m temp\n",
      "Cell \u001b[1;32mIn[22], line 48\u001b[0m, in \u001b[0;36mcalculate_objective\u001b[1;34m(board, state)\u001b[0m\n\u001b[0;32m     46\u001b[0m         col \u001b[39m-\u001b[39m\u001b[39m=\u001b[39m \u001b[39m1\u001b[39m\n\u001b[0;32m     47\u001b[0m         row \u001b[39m-\u001b[39m\u001b[39m=\u001b[39m \u001b[39m1\u001b[39m\n\u001b[1;32m---> 48\u001b[0m     \u001b[39mif\u001b[39;00m (col \u001b[39m>\u001b[39m\u001b[39m=\u001b[39m \u001b[39m0\u001b[39m \u001b[39mand\u001b[39;00m row \u001b[39m>\u001b[39m\u001b[39m=\u001b[39m \u001b[39m0\u001b[39m \u001b[39mand\u001b[39;00m board[row][col] \u001b[39m!=\u001b[39m \u001b[39m1\u001b[39m):\n\u001b[0;32m     49\u001b[0m         attacking \u001b[39m+\u001b[39m\u001b[39m=\u001b[39m \u001b[39m1\u001b[39m\n\u001b[0;32m     50\u001b[0m \u001b[39mreturn\u001b[39;00m \u001b[39mint\u001b[39m(attacking\u001b[39m/\u001b[39m\u001b[39m2\u001b[39m)\n",
      "\u001b[1;31mKeyboardInterrupt\u001b[0m: "
     ]
    }
   ],
   "source": [
    "state = [0] * N\n",
    "board = [[0 for _ in range(N)] for _ in range(N)]\n",
    "configure_randomly(board, state)\n",
    "hill_climbing(board, state)"
   ]
  }
 ],
 "metadata": {
  "kernelspec": {
   "display_name": "Python 3",
   "language": "python",
   "name": "python3"
  },
  "language_info": {
   "codemirror_mode": {
    "name": "ipython",
    "version": 3
   },
   "file_extension": ".py",
   "mimetype": "text/x-python",
   "name": "python",
   "nbconvert_exporter": "python",
   "pygments_lexer": "ipython3",
   "version": "3.10.8"
  },
  "orig_nbformat": 4
 },
 "nbformat": 4,
 "nbformat_minor": 2
}
