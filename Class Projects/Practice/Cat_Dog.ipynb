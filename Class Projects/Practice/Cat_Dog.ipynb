{
 "cells": [
  {
   "cell_type": "code",
   "execution_count": 3,
   "metadata": {},
   "outputs": [],
   "source": [
    "from keras.preprocessing.image import ImageDataGenerator\n",
    "import tensorflow as tf\n",
    "from keras.models import Sequential\n",
    "from keras.layers import Conv2D, MaxPool2D, Dense, Flatten\n",
    "from keras.utils import load_img, img_to_array"
   ]
  },
  {
   "cell_type": "code",
   "execution_count": 6,
   "metadata": {},
   "outputs": [
    {
     "name": "stdout",
     "output_type": "stream",
     "text": [
      "Found 8000 images belonging to 2 classes.\n"
     ]
    }
   ],
   "source": [
    "train_gen = ImageDataGenerator(\n",
    "    rescale=1./255,\n",
    "    shear_range=0.2,\n",
    "    zoom_range=0.2,\n",
    "    horizontal_flip=True\n",
    ")\n",
    "training_data = train_gen.flow_from_directory(r\"C:\\Users\\kulsh\\OneDrive\\Desktop\\End\\AIML\\Practical\\CNN\\Dataset\\Cat_Dog\\training_set\",\n",
    "                                              target_size=(64, 64),\n",
    "                                              batch_size=32,\n",
    "                                              class_mode='binary'\n",
    ")\n"
   ]
  },
  {
   "cell_type": "code",
   "execution_count": 7,
   "metadata": {},
   "outputs": [
    {
     "name": "stdout",
     "output_type": "stream",
     "text": [
      "Found 2000 images belonging to 2 classes.\n"
     ]
    }
   ],
   "source": [
    "test_gen = ImageDataGenerator(\n",
    "    rescale=1./255,\n",
    ")\n",
    "testing_data = test_gen.flow_from_directory(r\"C:\\Users\\kulsh\\OneDrive\\Desktop\\End\\AIML\\Practical\\CNN\\Dataset\\Cat_Dog\\test_set\",\n",
    "                                              target_size=(64, 64),\n",
    "                                              batch_size=32,\n",
    "                                              class_mode='binary'\n",
    ")\n"
   ]
  },
  {
   "cell_type": "code",
   "execution_count": 8,
   "metadata": {},
   "outputs": [],
   "source": [
    "cnn = Sequential()"
   ]
  },
  {
   "cell_type": "code",
   "execution_count": 10,
   "metadata": {},
   "outputs": [],
   "source": [
    "cnn.add(tf.keras.layers.Conv2D(filters = 32,kernel_size= 3, activation='relu', input_shape = [64, 64, 3]))"
   ]
  },
  {
   "cell_type": "code",
   "execution_count": 11,
   "metadata": {},
   "outputs": [],
   "source": [
    "cnn.add(MaxPool2D(pool_size=2, strides=2))"
   ]
  },
  {
   "cell_type": "code",
   "execution_count": 12,
   "metadata": {},
   "outputs": [],
   "source": [
    "cnn.add(tf.keras.layers.Conv2D(filters = 32,kernel_size= 3, activation='relu'))\n",
    "cnn.add(MaxPool2D(pool_size=2, strides=2))"
   ]
  },
  {
   "cell_type": "code",
   "execution_count": 13,
   "metadata": {},
   "outputs": [],
   "source": [
    "cnn.add(Flatten())"
   ]
  },
  {
   "cell_type": "code",
   "execution_count": 14,
   "metadata": {},
   "outputs": [],
   "source": [
    "cnn.add(Dense(units = 128, activation= 'relu'))\n",
    "cnn.add(Dense(units = 1, activation= 'sigmoid'))"
   ]
  },
  {
   "cell_type": "code",
   "execution_count": 15,
   "metadata": {},
   "outputs": [],
   "source": [
    "cnn.compile(optimizer='adam', loss='binary_crossentropy', metrics=[\"Accuracy\"])"
   ]
  },
  {
   "cell_type": "code",
   "execution_count": 17,
   "metadata": {},
   "outputs": [
    {
     "name": "stdout",
     "output_type": "stream",
     "text": [
      "Epoch 1/10\n",
      "250/250 [==============================] - 45s 165ms/step - loss: 0.6602 - Accuracy: 0.5914 - val_loss: 0.6302 - val_Accuracy: 0.6355\n",
      "Epoch 2/10\n",
      "250/250 [==============================] - 18s 71ms/step - loss: 0.5807 - Accuracy: 0.6944 - val_loss: 0.5522 - val_Accuracy: 0.7160\n",
      "Epoch 3/10\n",
      "250/250 [==============================] - 20s 79ms/step - loss: 0.5401 - Accuracy: 0.7256 - val_loss: 0.5174 - val_Accuracy: 0.7570\n",
      "Epoch 4/10\n",
      "250/250 [==============================] - 20s 80ms/step - loss: 0.5206 - Accuracy: 0.7437 - val_loss: 0.4964 - val_Accuracy: 0.7640\n",
      "Epoch 5/10\n",
      "250/250 [==============================] - 21s 83ms/step - loss: 0.4979 - Accuracy: 0.7600 - val_loss: 0.5041 - val_Accuracy: 0.7590\n",
      "Epoch 6/10\n",
      "250/250 [==============================] - 21s 84ms/step - loss: 0.4797 - Accuracy: 0.7634 - val_loss: 0.4727 - val_Accuracy: 0.7775\n",
      "Epoch 7/10\n",
      "250/250 [==============================] - 19s 76ms/step - loss: 0.4676 - Accuracy: 0.7768 - val_loss: 0.4779 - val_Accuracy: 0.7780\n",
      "Epoch 8/10\n",
      "250/250 [==============================] - 19s 78ms/step - loss: 0.4481 - Accuracy: 0.7901 - val_loss: 0.4937 - val_Accuracy: 0.7610\n",
      "Epoch 9/10\n",
      "250/250 [==============================] - 19s 76ms/step - loss: 0.4449 - Accuracy: 0.7895 - val_loss: 0.4668 - val_Accuracy: 0.7785\n",
      "Epoch 10/10\n",
      "250/250 [==============================] - 18s 73ms/step - loss: 0.4231 - Accuracy: 0.8012 - val_loss: 0.4534 - val_Accuracy: 0.7935\n"
     ]
    },
    {
     "data": {
      "text/plain": [
       "<keras.callbacks.History at 0x27248abd870>"
      ]
     },
     "execution_count": 17,
     "metadata": {},
     "output_type": "execute_result"
    }
   ],
   "source": [
    "cnn.fit(x = training_data,validation_data= testing_data,epochs= 10)"
   ]
  },
  {
   "cell_type": "code",
   "execution_count": 20,
   "metadata": {},
   "outputs": [
    {
     "name": "stdout",
     "output_type": "stream",
     "text": [
      "1/1 [==============================] - 0s 29ms/step\n",
      "Cat\n"
     ]
    }
   ],
   "source": [
    "import numpy as np\n",
    "test_image = load_img(r\"C:\\Users\\kulsh\\OneDrive\\Desktop\\End\\AIML\\Practical\\CNN\\Dataset\\Cat_Dog\\single_prediction\\cat_or_dog_2.jpg\", target_size=(64, 64))\n",
    "test_img = img_to_array(test_image)\n",
    "test_image = np.expand_dims(test_image, axis = 0)\n",
    "result = cnn.predict(test_image)\n",
    "if result[0][0] == 1:\n",
    "    print(\"Dog\")\n",
    "else :\n",
    "    print(\"Cat\")"
   ]
  },
  {
   "cell_type": "code",
   "execution_count": null,
   "metadata": {},
   "outputs": [],
   "source": []
  }
 ],
 "metadata": {
  "kernelspec": {
   "display_name": "Python 3",
   "language": "python",
   "name": "python3"
  },
  "language_info": {
   "codemirror_mode": {
    "name": "ipython",
    "version": 3
   },
   "file_extension": ".py",
   "mimetype": "text/x-python",
   "name": "python",
   "nbconvert_exporter": "python",
   "pygments_lexer": "ipython3",
   "version": "3.10.8"
  },
  "orig_nbformat": 4
 },
 "nbformat": 4,
 "nbformat_minor": 2
}
