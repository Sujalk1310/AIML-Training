{
  "cells": [
    {
      "cell_type": "markdown",
      "source": [
        "<div style=\"display: flex; flex-direction: column; align-items: center; padding-top: 5px;\">\n",
        "    <div style=\"display: flex; gap: 0 50px;\">\n",
        "        <img style=\"box-sizing: border-box; border-radius: 100%; outline: 10px solid lightblue; border: 3px solid black;\" src=\"https://cdn.discordapp.com/attachments/998995040514883694/1005571542001909840/Sujal.jpg\" width=\"200px\" alt=\"Profile_Pic\" />\n",
        "        <div style=\"display: flex; flex-direction: column; justify-content: center; line-height: 0;\">\n",
        "            <h1>Sujal Kulshrestha</h1>\n",
        "            <h3>2115500144 - 2T - (51)</h3>\n",
        "            <h3>GLA University, Mathura (281406)</h3>\n",
        "        </div>\n",
        "        <img height=\"140px\" style=\"padding-top: 20px; padding-right: 50px;\" src=\"https://cdn.discordapp.com/attachments/998995040514883694/1018942042178588752/GLA.png\" alt=\"GLA Logo\" />\n",
        "    </div>\n",
        "    <h3 style=\"text-align: center; text-decoration: underline;\">Workshop - 2</h3>\n",
        "</div>"
      ],
      "metadata": {
        "id": "IbKgIi9e8iTB"
      }
    },
    {
      "cell_type": "code",
      "source": [
        "from google.colab import drive\n",
        "drive.mount('/content/drive')"
      ],
      "metadata": {
        "colab": {
          "base_uri": "https://localhost:8080/"
        },
        "id": "xNNXC22N70uw",
        "outputId": "2f4e8d42-eeee-4247-ca45-86ce26e58f3c"
      },
      "execution_count": null,
      "outputs": [
        {
          "output_type": "stream",
          "name": "stdout",
          "text": [
            "Drive already mounted at /content/drive; to attempt to forcibly remount, call drive.mount(\"/content/drive\", force_remount=True).\n"
          ]
        }
      ]
    },
    {
      "cell_type": "code",
      "execution_count": null,
      "metadata": {
        "id": "Kc5LeUef7u1o"
      },
      "outputs": [],
      "source": [
        "import numpy as np\n",
        "import pandas as pd\n",
        "import sklearn"
      ]
    },
    {
      "cell_type": "code",
      "execution_count": null,
      "metadata": {
        "id": "T8hrEFOx7u1p"
      },
      "outputs": [],
      "source": [
        "boss = pd.read_csv('/content/drive/MyDrive/ML-Lab/Datasets/HousingData.csv')"
      ]
    },
    {
      "cell_type": "code",
      "execution_count": null,
      "metadata": {
        "colab": {
          "base_uri": "https://localhost:8080/",
          "height": 206
        },
        "id": "zPnnI1ao7u1q",
        "outputId": "d3245cf6-23b6-4f4b-8c51-ae80c68d5a7d"
      },
      "outputs": [
        {
          "output_type": "execute_result",
          "data": {
            "text/plain": [
              "      CRIM    ZN  INDUS  CHAS    NOX     RM   AGE     DIS  RAD  TAX  PTRATIO  \\\n",
              "0  0.00632  18.0   2.31     0  0.538  6.575  65.2  4.0900    1  296     15.3   \n",
              "1  0.02731   0.0   7.07     0  0.469  6.421  78.9  4.9671    2  242     17.8   \n",
              "2  0.02729   0.0   7.07     0  0.469  7.185  61.1  4.9671    2  242     17.8   \n",
              "3  0.03237   0.0   2.18     0  0.458  6.998  45.8  6.0622    3  222     18.7   \n",
              "4  0.06905   0.0   2.18     0  0.458  7.147  54.2  6.0622    3  222     18.7   \n",
              "\n",
              "        B  LSTAT  MEDV  \n",
              "0  396.90  4.980  24.0  \n",
              "1  396.90  9.140  21.6  \n",
              "2  392.83  4.030  34.7  \n",
              "3  394.63  2.940  33.4  \n",
              "4  396.90  3.023  36.2  "
            ],
            "text/html": [
              "\n",
              "  <div id=\"df-044d9da9-0cd2-4d6d-86e5-4554e08e752b\">\n",
              "    <div class=\"colab-df-container\">\n",
              "      <div>\n",
              "<style scoped>\n",
              "    .dataframe tbody tr th:only-of-type {\n",
              "        vertical-align: middle;\n",
              "    }\n",
              "\n",
              "    .dataframe tbody tr th {\n",
              "        vertical-align: top;\n",
              "    }\n",
              "\n",
              "    .dataframe thead th {\n",
              "        text-align: right;\n",
              "    }\n",
              "</style>\n",
              "<table border=\"1\" class=\"dataframe\">\n",
              "  <thead>\n",
              "    <tr style=\"text-align: right;\">\n",
              "      <th></th>\n",
              "      <th>CRIM</th>\n",
              "      <th>ZN</th>\n",
              "      <th>INDUS</th>\n",
              "      <th>CHAS</th>\n",
              "      <th>NOX</th>\n",
              "      <th>RM</th>\n",
              "      <th>AGE</th>\n",
              "      <th>DIS</th>\n",
              "      <th>RAD</th>\n",
              "      <th>TAX</th>\n",
              "      <th>PTRATIO</th>\n",
              "      <th>B</th>\n",
              "      <th>LSTAT</th>\n",
              "      <th>MEDV</th>\n",
              "    </tr>\n",
              "  </thead>\n",
              "  <tbody>\n",
              "    <tr>\n",
              "      <th>0</th>\n",
              "      <td>0.00632</td>\n",
              "      <td>18.0</td>\n",
              "      <td>2.31</td>\n",
              "      <td>0</td>\n",
              "      <td>0.538</td>\n",
              "      <td>6.575</td>\n",
              "      <td>65.2</td>\n",
              "      <td>4.0900</td>\n",
              "      <td>1</td>\n",
              "      <td>296</td>\n",
              "      <td>15.3</td>\n",
              "      <td>396.90</td>\n",
              "      <td>4.980</td>\n",
              "      <td>24.0</td>\n",
              "    </tr>\n",
              "    <tr>\n",
              "      <th>1</th>\n",
              "      <td>0.02731</td>\n",
              "      <td>0.0</td>\n",
              "      <td>7.07</td>\n",
              "      <td>0</td>\n",
              "      <td>0.469</td>\n",
              "      <td>6.421</td>\n",
              "      <td>78.9</td>\n",
              "      <td>4.9671</td>\n",
              "      <td>2</td>\n",
              "      <td>242</td>\n",
              "      <td>17.8</td>\n",
              "      <td>396.90</td>\n",
              "      <td>9.140</td>\n",
              "      <td>21.6</td>\n",
              "    </tr>\n",
              "    <tr>\n",
              "      <th>2</th>\n",
              "      <td>0.02729</td>\n",
              "      <td>0.0</td>\n",
              "      <td>7.07</td>\n",
              "      <td>0</td>\n",
              "      <td>0.469</td>\n",
              "      <td>7.185</td>\n",
              "      <td>61.1</td>\n",
              "      <td>4.9671</td>\n",
              "      <td>2</td>\n",
              "      <td>242</td>\n",
              "      <td>17.8</td>\n",
              "      <td>392.83</td>\n",
              "      <td>4.030</td>\n",
              "      <td>34.7</td>\n",
              "    </tr>\n",
              "    <tr>\n",
              "      <th>3</th>\n",
              "      <td>0.03237</td>\n",
              "      <td>0.0</td>\n",
              "      <td>2.18</td>\n",
              "      <td>0</td>\n",
              "      <td>0.458</td>\n",
              "      <td>6.998</td>\n",
              "      <td>45.8</td>\n",
              "      <td>6.0622</td>\n",
              "      <td>3</td>\n",
              "      <td>222</td>\n",
              "      <td>18.7</td>\n",
              "      <td>394.63</td>\n",
              "      <td>2.940</td>\n",
              "      <td>33.4</td>\n",
              "    </tr>\n",
              "    <tr>\n",
              "      <th>4</th>\n",
              "      <td>0.06905</td>\n",
              "      <td>0.0</td>\n",
              "      <td>2.18</td>\n",
              "      <td>0</td>\n",
              "      <td>0.458</td>\n",
              "      <td>7.147</td>\n",
              "      <td>54.2</td>\n",
              "      <td>6.0622</td>\n",
              "      <td>3</td>\n",
              "      <td>222</td>\n",
              "      <td>18.7</td>\n",
              "      <td>396.90</td>\n",
              "      <td>3.023</td>\n",
              "      <td>36.2</td>\n",
              "    </tr>\n",
              "  </tbody>\n",
              "</table>\n",
              "</div>\n",
              "      <button class=\"colab-df-convert\" onclick=\"convertToInteractive('df-044d9da9-0cd2-4d6d-86e5-4554e08e752b')\"\n",
              "              title=\"Convert this dataframe to an interactive table.\"\n",
              "              style=\"display:none;\">\n",
              "        \n",
              "  <svg xmlns=\"http://www.w3.org/2000/svg\" height=\"24px\"viewBox=\"0 0 24 24\"\n",
              "       width=\"24px\">\n",
              "    <path d=\"M0 0h24v24H0V0z\" fill=\"none\"/>\n",
              "    <path d=\"M18.56 5.44l.94 2.06.94-2.06 2.06-.94-2.06-.94-.94-2.06-.94 2.06-2.06.94zm-11 1L8.5 8.5l.94-2.06 2.06-.94-2.06-.94L8.5 2.5l-.94 2.06-2.06.94zm10 10l.94 2.06.94-2.06 2.06-.94-2.06-.94-.94-2.06-.94 2.06-2.06.94z\"/><path d=\"M17.41 7.96l-1.37-1.37c-.4-.4-.92-.59-1.43-.59-.52 0-1.04.2-1.43.59L10.3 9.45l-7.72 7.72c-.78.78-.78 2.05 0 2.83L4 21.41c.39.39.9.59 1.41.59.51 0 1.02-.2 1.41-.59l7.78-7.78 2.81-2.81c.8-.78.8-2.07 0-2.86zM5.41 20L4 18.59l7.72-7.72 1.47 1.35L5.41 20z\"/>\n",
              "  </svg>\n",
              "      </button>\n",
              "      \n",
              "  <style>\n",
              "    .colab-df-container {\n",
              "      display:flex;\n",
              "      flex-wrap:wrap;\n",
              "      gap: 12px;\n",
              "    }\n",
              "\n",
              "    .colab-df-convert {\n",
              "      background-color: #E8F0FE;\n",
              "      border: none;\n",
              "      border-radius: 50%;\n",
              "      cursor: pointer;\n",
              "      display: none;\n",
              "      fill: #1967D2;\n",
              "      height: 32px;\n",
              "      padding: 0 0 0 0;\n",
              "      width: 32px;\n",
              "    }\n",
              "\n",
              "    .colab-df-convert:hover {\n",
              "      background-color: #E2EBFA;\n",
              "      box-shadow: 0px 1px 2px rgba(60, 64, 67, 0.3), 0px 1px 3px 1px rgba(60, 64, 67, 0.15);\n",
              "      fill: #174EA6;\n",
              "    }\n",
              "\n",
              "    [theme=dark] .colab-df-convert {\n",
              "      background-color: #3B4455;\n",
              "      fill: #D2E3FC;\n",
              "    }\n",
              "\n",
              "    [theme=dark] .colab-df-convert:hover {\n",
              "      background-color: #434B5C;\n",
              "      box-shadow: 0px 1px 3px 1px rgba(0, 0, 0, 0.15);\n",
              "      filter: drop-shadow(0px 1px 2px rgba(0, 0, 0, 0.3));\n",
              "      fill: #FFFFFF;\n",
              "    }\n",
              "  </style>\n",
              "\n",
              "      <script>\n",
              "        const buttonEl =\n",
              "          document.querySelector('#df-044d9da9-0cd2-4d6d-86e5-4554e08e752b button.colab-df-convert');\n",
              "        buttonEl.style.display =\n",
              "          google.colab.kernel.accessAllowed ? 'block' : 'none';\n",
              "\n",
              "        async function convertToInteractive(key) {\n",
              "          const element = document.querySelector('#df-044d9da9-0cd2-4d6d-86e5-4554e08e752b');\n",
              "          const dataTable =\n",
              "            await google.colab.kernel.invokeFunction('convertToInteractive',\n",
              "                                                     [key], {});\n",
              "          if (!dataTable) return;\n",
              "\n",
              "          const docLinkHtml = 'Like what you see? Visit the ' +\n",
              "            '<a target=\"_blank\" href=https://colab.research.google.com/notebooks/data_table.ipynb>data table notebook</a>'\n",
              "            + ' to learn more about interactive tables.';\n",
              "          element.innerHTML = '';\n",
              "          dataTable['output_type'] = 'display_data';\n",
              "          await google.colab.output.renderOutput(dataTable, element);\n",
              "          const docLink = document.createElement('div');\n",
              "          docLink.innerHTML = docLinkHtml;\n",
              "          element.appendChild(docLink);\n",
              "        }\n",
              "      </script>\n",
              "    </div>\n",
              "  </div>\n",
              "  "
            ]
          },
          "metadata": {},
          "execution_count": 8
        }
      ],
      "source": [
        "boss.head()"
      ]
    },
    {
      "cell_type": "code",
      "execution_count": null,
      "metadata": {
        "colab": {
          "base_uri": "https://localhost:8080/"
        },
        "id": "YEQ4T8BH7u1q",
        "outputId": "78b842ab-b1c2-47eb-bc0e-a1c2a16d497c"
      },
      "outputs": [
        {
          "output_type": "execute_result",
          "data": {
            "text/plain": [
              "(506, 14)"
            ]
          },
          "metadata": {},
          "execution_count": 9
        }
      ],
      "source": [
        "boss.shape"
      ]
    },
    {
      "cell_type": "code",
      "execution_count": null,
      "metadata": {
        "colab": {
          "base_uri": "https://localhost:8080/"
        },
        "id": "NoFp7Ew-7u1q",
        "outputId": "717012f9-5dbc-4694-e371-941b2e3bf613"
      },
      "outputs": [
        {
          "output_type": "execute_result",
          "data": {
            "text/plain": [
              "CRIM       0\n",
              "ZN         0\n",
              "INDUS      0\n",
              "CHAS       0\n",
              "NOX        0\n",
              "RM         0\n",
              "AGE        0\n",
              "DIS        0\n",
              "RAD        0\n",
              "TAX        0\n",
              "PTRATIO    0\n",
              "B          0\n",
              "LSTAT      0\n",
              "MEDV       0\n",
              "dtype: int64"
            ]
          },
          "metadata": {},
          "execution_count": 10
        }
      ],
      "source": [
        "boss.isna().sum()"
      ]
    },
    {
      "cell_type": "code",
      "execution_count": null,
      "metadata": {
        "id": "2zBSgzKF7u1r"
      },
      "outputs": [],
      "source": [
        "from sklearn.model_selection import train_test_split\n",
        "X = np.array(boss.iloc[:,0:13])\n",
        "Y = np.array(boss['MEDV'])\n",
        "x_train, x_test, y_train, y_test = train_test_split(X, Y, test_size = 0.30, random_state = 5)"
      ]
    },
    {
      "cell_type": "code",
      "execution_count": null,
      "metadata": {
        "id": "UMjZNuUa7u1r"
      },
      "outputs": [],
      "source": [
        "from sklearn.neighbors import KNeighborsRegressor"
      ]
    },
    {
      "cell_type": "code",
      "execution_count": null,
      "metadata": {
        "id": "Nbmn6m8I7u1r"
      },
      "outputs": [],
      "source": [
        "Nn = KNeighborsRegressor(3)\n",
        "Nn.fit(x_train, y_train)\n",
        "pred_Nn = Nn.predict(x_test)"
      ]
    },
    {
      "cell_type": "code",
      "execution_count": null,
      "metadata": {
        "colab": {
          "base_uri": "https://localhost:8080/"
        },
        "id": "11FuDw9C7u1r",
        "outputId": "b978398f-a2d3-4b32-ca3b-b7ff0a3a2064"
      },
      "outputs": [
        {
          "output_type": "stream",
          "name": "stdout",
          "text": [
            "Error for k(1) = 8.651988667048567\n",
            "Error for k(2) = 7.714997356482135\n",
            "Error for k(3) = 7.572807906625076\n",
            "Error for k(4) = 7.596133885076012\n",
            "Error for k(5) = 7.429386706997103\n",
            "Error for k(6) = 7.703071698776484\n",
            "Error for k(7) = 7.66242777514003\n",
            "Error for k(8) = 7.587643472804632\n",
            "Error for k(9) = 7.717076412481308\n",
            "Error for k(10) = 7.757729083070366\n",
            "Error for k(11) = 7.732540281715411\n",
            "Error for k(12) = 7.798714035450021\n",
            "Error for k(13) = 7.852507573676285\n",
            "Error for k(14) = 7.89697424771447\n",
            "Error for k(15) = 7.982352336899779\n",
            "Error for k(16) = 8.028595615265097\n",
            "Error for k(17) = 8.052943960925552\n",
            "Error for k(18) = 8.103688662571882\n",
            "Error for k(19) = 8.203088336670614\n",
            "Error for k(20) = 8.255795781162659\n",
            "Error for k(21) = 8.315592833271433\n",
            "Error for k(22) = 8.337482209017866\n",
            "Error for k(23) = 8.352867001846269\n",
            "Error for k(24) = 8.413766816323927\n",
            "Error for k(25) = 8.453579154790933\n",
            "Error for k(26) = 8.472520569229307\n",
            "Error for k(27) = 8.505896711148806\n",
            "Error for k(28) = 8.525830320841157\n",
            "Error for k(29) = 8.55346806723566\n",
            "Error for k(30) = 8.589661906423714\n",
            "Error for k(31) = 8.592107205601131\n",
            "Error for k(32) = 8.58748186104128\n",
            "Error for k(33) = 8.597021996845637\n",
            "Error for k(34) = 8.627436281460295\n",
            "Error for k(35) = 8.654639743960713\n",
            "Error for k(36) = 8.681127121533669\n",
            "Error for k(37) = 8.696611911242565\n",
            "Error for k(38) = 8.728648026037222\n",
            "Error for k(39) = 8.727998035792218\n",
            "Error for k(40) = 8.736222414314348\n",
            "Error for k(41) = 8.724845599950683\n",
            "Error for k(42) = 8.750016510222604\n",
            "Error for k(43) = 8.760916808440447\n",
            "Error for k(44) = 8.787770520948389\n",
            "Error for k(45) = 8.810642325825754\n",
            "Error for k(46) = 8.81186090012388\n",
            "Error for k(47) = 8.812575833232218\n",
            "Error for k(48) = 8.829123150048927\n",
            "Error for k(49) = 8.825878357340933\n"
          ]
        }
      ],
      "source": [
        "import sklearn\n",
        "import sklearn.metrics\n",
        "N_List = []\n",
        "MSE_List = []\n",
        "for i in range(1,50):\n",
        "    model = KNeighborsRegressor(i)\n",
        "    model.fit(x_train, y_train)\n",
        "    pred_y = model.predict(x_test)\n",
        "    mse = sklearn.metrics.mean_squared_error(y_test, pred_y, squared=False)\n",
        "    N_List.append(i)\n",
        "    MSE_List.append(mse)\n",
        "    print(\"Error for k({}) = {}\".format(i, mse))"
      ]
    },
    {
      "cell_type": "code",
      "execution_count": null,
      "metadata": {
        "colab": {
          "base_uri": "https://localhost:8080/",
          "height": 295
        },
        "id": "0aqfmnB27u1s",
        "outputId": "6a37be4e-ef16-4676-dbad-71d37ee02d9e"
      },
      "outputs": [
        {
          "output_type": "display_data",
          "data": {
            "text/plain": [
              "<Figure size 432x288 with 1 Axes>"
            ],
            "image/png": "[encoded data removed]"
          },
          "metadata": {
            "needs_background": "light"
          }
        }
      ],
      "source": [
        "import matplotlib.pyplot as plt\n",
        "plt.scatter(N_List, MSE_List)\n",
        "plt.xlabel(\"K\")\n",
        "plt.ylabel(\"MSE\")\n",
        "plt.title(\"MSE vs K\")\n",
        "plt.show()"
      ]
    }
  ],
  "metadata": {
    "kernelspec": {
      "display_name": "Python 3.11.0 64-bit",
      "language": "python",
      "name": "python3"
    },
    "language_info": {
      "codemirror_mode": {
        "name": "ipython",
        "version": 3
      },
      "file_extension": ".py",
      "mimetype": "text/x-python",
      "name": "python",
      "nbconvert_exporter": "python",
      "pygments_lexer": "ipython3",
      "version": "3.11.0"
    },
    "orig_nbformat": 4,
    "vscode": {
      "interpreter": {
        "hash": "48714993e846fc5f514fd0ef99d4703e086984bc3371fa8f7d6f8ac5dd0c55d1"
      }
    },
    "colab": {
      "provenance": []
    }
  },
  "nbformat": 4,
  "nbformat_minor": 0
}