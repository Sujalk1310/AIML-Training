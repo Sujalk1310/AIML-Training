{
  "nbformat": 4,
  "nbformat_minor": 0,
  "metadata": {
    "colab": {
      "provenance": []
    },
    "kernelspec": {
      "name": "python3",
      "display_name": "Python 3"
    },
    "language_info": {
      "name": "python"
    }
  },
  "cells": [
    {
      "cell_type": "markdown",
      "source": [
        "\n",
        "# **Attaching Drive**"
      ],
      "metadata": {
        "id": "PzDEofoSt85S"
      }
    },
    {
      "cell_type": "code",
      "source": [
        "from google.colab import drive\n",
        "drive.mount('/content/drive')"
      ],
      "metadata": {
        "colab": {
          "base_uri": "https://localhost:8080/"
        },
        "id": "tJyE_74Ys4WP",
        "outputId": "e1077a08-92f6-4d02-d2a1-c69bc5f748c4"
      },
      "execution_count": null,
      "outputs": [
        {
          "output_type": "stream",
          "name": "stdout",
          "text": [
            "Drive already mounted at /content/drive; to attempt to forcibly remount, call drive.mount(\"/content/drive\", force_remount=True).\n"
          ]
        }
      ]
    },
    {
      "cell_type": "markdown",
      "source": [
        "# **Importing the Libraries**"
      ],
      "metadata": {
        "id": "jMR7dXYfuISt"
      }
    },
    {
      "cell_type": "code",
      "execution_count": null,
      "metadata": {
        "id": "6UaCYL0go4yf"
      },
      "outputs": [],
      "source": [
        "import numpy as np\n",
        "import pandas as pd\n",
        "from tqdm import tqdm\n",
        "import cv2\n",
        "import os"
      ]
    },
    {
      "cell_type": "markdown",
      "source": [
        "# **Accessing the Folder**"
      ],
      "metadata": {
        "id": "OWdvPqD8uQY1"
      }
    },
    {
      "cell_type": "code",
      "source": [
        "folder_path = r\"/content/drive/MyDrive/Colab Notebooks/Datasets/Face_Dataset\"\n",
        "os.listdir(folder_path)"
      ],
      "metadata": {
        "colab": {
          "base_uri": "https://localhost:8080/"
        },
        "id": "r6sMvDoatRPI",
        "outputId": "4f1739f2-fa4b-4f10-d8b5-22d6a21fa032"
      },
      "execution_count": null,
      "outputs": [
        {
          "output_type": "execute_result",
          "data": {
            "text/plain": [
              "['train', 'test']"
            ]
          },
          "metadata": {},
          "execution_count": 3
        }
      ]
    },
    {
      "cell_type": "markdown",
      "source": [
        "# **Fetching the Data**"
      ],
      "metadata": {
        "id": "Y35-BrlTuqn7"
      }
    },
    {
      "cell_type": "code",
      "source": [
        "def get_data(s): # s = Train / Validation\n",
        "  labels = os.listdir(f'{folder_path}/{s}')\n",
        "  x = []\n",
        "  y = []\n",
        "  for label in labels:\n",
        "    if (label == \"disgust\"):\n",
        "      continue\n",
        "    image_it = os.listdir(f'{folder_path}/{s}/{label}')\n",
        "    for img_name in tqdm(image_it):\n",
        "      img_path = (f'{folder_path}/{s}/{label}/{img_name}')\n",
        "      img = cv2.imread(img_path)\n",
        "      x.append(np.expand_dims(cv2.cvtColor(img,cv2.COLOR_BGR2GRAY),axis=-1)) # Why not directly\n",
        "      y.append(label)\n",
        "  return np.array(x), np.array(y)\n",
        "train_image, train_label = get_data('train')\n",
        "test_image, test_label = get_data('test')"
      ],
      "metadata": {
        "colab": {
          "base_uri": "https://localhost:8080/"
        },
        "id": "w8apPNiIttwb",
        "outputId": "89d2ba14-afe5-4c68-94ff-950b46e1d3f0"
      },
      "execution_count": null,
      "outputs": [
        {
          "output_type": "stream",
          "name": "stderr",
          "text": [
            "100%|██████████| 3995/3995 [01:41<00:00, 39.35it/s] \n",
            "100%|██████████| 3171/3171 [01:32<00:00, 34.18it/s] \n",
            "100%|██████████| 4965/4965 [02:07<00:00, 39.07it/s] \n",
            "100%|██████████| 7215/7215 [03:36<00:00, 33.33it/s] \n",
            "100%|██████████| 4097/4097 [01:38<00:00, 41.62it/s] \n",
            "100%|██████████| 4830/4830 [02:11<00:00, 36.77it/s] \n",
            "100%|██████████| 1247/1247 [00:23<00:00, 53.48it/s] \n",
            "100%|██████████| 1233/1233 [00:23<00:00, 53.54it/s] \n",
            "100%|██████████| 831/831 [00:24<00:00, 33.84it/s] \n",
            "100%|██████████| 1774/1774 [00:33<00:00, 52.52it/s] \n",
            "100%|██████████| 958/958 [00:30<00:00, 31.72it/s] \n",
            "100%|██████████| 1024/1024 [00:32<00:00, 31.17it/s]\n"
          ]
        }
      ]
    },
    {
      "cell_type": "markdown",
      "source": [
        "# **Dataset Shape**"
      ],
      "metadata": {
        "id": "hmsvMnjTuk1O"
      }
    },
    {
      "cell_type": "code",
      "source": [
        "train_image.shape, train_label.shape, test_image.shape, test_label.shape"
      ],
      "metadata": {
        "colab": {
          "base_uri": "https://localhost:8080/"
        },
        "id": "twysadR21Yla",
        "outputId": "f325399a-cace-435a-daf8-d351ef3bb374"
      },
      "execution_count": null,
      "outputs": [
        {
          "output_type": "execute_result",
          "data": {
            "text/plain": [
              "((28273, 48, 48, 1), (28273,), (7067, 48, 48, 1), (7067,))"
            ]
          },
          "metadata": {},
          "execution_count": 5
        }
      ]
    },
    {
      "cell_type": "markdown",
      "source": [
        "# **Dataset Qty**"
      ],
      "metadata": {
        "id": "0mYkSBtz1oiI"
      }
    },
    {
      "cell_type": "code",
      "source": [
        "# Train Dataset\n",
        "pd.Series(train_label).value_counts()"
      ],
      "metadata": {
        "colab": {
          "base_uri": "https://localhost:8080/"
        },
        "id": "-52XCdrw1gqk",
        "outputId": "0078d66a-1b24-4f32-80d7-79f478618b18"
      },
      "execution_count": null,
      "outputs": [
        {
          "output_type": "execute_result",
          "data": {
            "text/plain": [
              "happy       7215\n",
              "neutral     4965\n",
              "sad         4830\n",
              "fear        4097\n",
              "angry       3995\n",
              "surprise    3171\n",
              "dtype: int64"
            ]
          },
          "metadata": {},
          "execution_count": 6
        }
      ]
    },
    {
      "cell_type": "code",
      "source": [
        "# Test Dataset\n",
        "pd.Series(test_label).value_counts()"
      ],
      "metadata": {
        "colab": {
          "base_uri": "https://localhost:8080/"
        },
        "id": "ZQk2SjM82EFl",
        "outputId": "c256b317-6219-4ad2-8e5f-767f7a8d8a16"
      },
      "execution_count": null,
      "outputs": [
        {
          "output_type": "execute_result",
          "data": {
            "text/plain": [
              "happy       1774\n",
              "sad         1247\n",
              "neutral     1233\n",
              "fear        1024\n",
              "angry        958\n",
              "surprise     831\n",
              "dtype: int64"
            ]
          },
          "metadata": {},
          "execution_count": 7
        }
      ]
    },
    {
      "cell_type": "markdown",
      "source": [
        "# **Converting to Single Array**"
      ],
      "metadata": {
        "id": "zrUim8TS2LqN"
      }
    },
    {
      "cell_type": "code",
      "source": [
        "train_label = pd.Series(train_label)\n",
        "test_label = pd.Series(test_label)"
      ],
      "metadata": {
        "id": "4WSMMqSC2JhI"
      },
      "execution_count": null,
      "outputs": []
    },
    {
      "cell_type": "markdown",
      "source": [
        "# **Printing Dataset**"
      ],
      "metadata": {
        "id": "RPXdMP2l2ZW-"
      }
    },
    {
      "cell_type": "code",
      "source": [
        "train_label"
      ],
      "metadata": {
        "colab": {
          "base_uri": "https://localhost:8080/"
        },
        "id": "kzaRZsKf2ZBQ",
        "outputId": "b2cfbf47-7813-45e0-d0b7-e64856d006a8"
      },
      "execution_count": null,
      "outputs": [
        {
          "output_type": "execute_result",
          "data": {
            "text/plain": [
              "0        angry\n",
              "1        angry\n",
              "2        angry\n",
              "3        angry\n",
              "4        angry\n",
              "         ...  \n",
              "28268      sad\n",
              "28269      sad\n",
              "28270      sad\n",
              "28271      sad\n",
              "28272      sad\n",
              "Length: 28273, dtype: object"
            ]
          },
          "metadata": {},
          "execution_count": 9
        }
      ]
    },
    {
      "cell_type": "code",
      "source": [
        "test_label"
      ],
      "metadata": {
        "colab": {
          "base_uri": "https://localhost:8080/"
        },
        "id": "0v8llQi22eLe",
        "outputId": "c8e35a2b-45ad-4a55-a3bb-da7b2a1c828e"
      },
      "execution_count": null,
      "outputs": [
        {
          "output_type": "execute_result",
          "data": {
            "text/plain": [
              "0        sad\n",
              "1        sad\n",
              "2        sad\n",
              "3        sad\n",
              "4        sad\n",
              "        ... \n",
              "7062    fear\n",
              "7063    fear\n",
              "7064    fear\n",
              "7065    fear\n",
              "7066    fear\n",
              "Length: 7067, dtype: object"
            ]
          },
          "metadata": {},
          "execution_count": 10
        }
      ]
    },
    {
      "cell_type": "markdown",
      "source": [
        "# **Building Model**"
      ],
      "metadata": {
        "id": "lsclAV8W2jlK"
      }
    },
    {
      "cell_type": "code",
      "source": [
        "from keras.models import Sequential\n",
        "from keras.layers import Conv2D, MaxPool2D, Flatten, Dense\n",
        "from keras.utils import np_utils\n",
        "import tensorflow as tf\n",
        "\n",
        "train_image = train_image.astype('float32')\n",
        "test_image = test_image.astype('float32')\n",
        "\n",
        "train_image /= 255\n",
        "test_image /= 255\n",
        "\n",
        "classes = 7\n",
        "\n",
        "# One-Hot Encoding\n",
        "train_label1 = np_utils.to_categorical(np.asarray(train_label.factorize()[0]), classes)\n",
        "test_label1 = np_utils.to_categorical(np.asarray(test_label.factorize()[0]), classes)\n",
        "\n",
        "# Stacking Layers\n",
        "model = Sequential()\n",
        "\n",
        "# Convolutional Layer\n",
        "model.add(Conv2D(25, kernel_size=(3,3), strides=(2,2), activation='relu', input_shape=(48,48,1)))\n",
        "\n",
        "# Maxpooling Layer\n",
        "model.add(MaxPool2D(pool_size=(2,2)))\n",
        "\n",
        "# Flattening Layer\n",
        "model.add(Flatten())\n",
        "\n",
        "# Dense/Hidden Layers\n",
        "model.add(Dense(128, activation='relu'))\n",
        "model.add(Dense(64, activation='relu'))\n",
        "model.add(Dense(32, activation='relu'))\n",
        "model.add(Dense(16, activation='relu'))\n",
        "\n",
        "# Output Layer\n",
        "model.add(Dense(7, activation='softmax'))\n",
        "\n",
        "# Checkpoints Model\n",
        "checkpoint_filepath = '/tmp/checkpoint'\n",
        "model_checkpoint_callback = tf.keras.callbacks.ModelCheckpoint(filepath=checkpoint_filepath, save_weights_only=True, monitor='val_accuracy', mode='max', save_best_only=True)\n",
        "\n",
        "# Compiling the Model\n",
        "model.compile(loss=\"categorical_crossentropy\", metrics=['accuracy'], optimizer='adam')"
      ],
      "metadata": {
        "id": "fLpfL5jQ2fka"
      },
      "execution_count": null,
      "outputs": []
    },
    {
      "cell_type": "markdown",
      "source": [
        "# **Training the Model**"
      ],
      "metadata": {
        "id": "eJLNGxzg-ozS"
      }
    },
    {
      "cell_type": "code",
      "source": [
        "model.fit(train_image, train_label1, batch_size=256, epochs=100, validation_data=(test_image, test_label1), callbacks=[model_checkpoint_callback])"
      ],
      "metadata": {
        "id": "0KQ6AnS_59k7",
        "colab": {
          "base_uri": "https://localhost:8080/"
        },
        "outputId": "6c49bf8b-c866-4480-c78b-d545b22f7e55"
      },
      "execution_count": null,
      "outputs": [
        {
          "output_type": "stream",
          "name": "stdout",
          "text": [
            "Epoch 1/100\n",
            "111/111 [==============================] - 10s 86ms/step - loss: 1.7913 - accuracy: 0.2342 - val_loss: 1.7826 - val_accuracy: 0.2510\n",
            "Epoch 2/100\n",
            "111/111 [==============================] - 9s 83ms/step - loss: 1.7604 - accuracy: 0.2552 - val_loss: 1.7935 - val_accuracy: 0.2510\n",
            "Epoch 3/100\n",
            "111/111 [==============================] - 9s 84ms/step - loss: 1.7601 - accuracy: 0.2552 - val_loss: 1.7842 - val_accuracy: 0.2510\n",
            "Epoch 4/100\n",
            "111/111 [==============================] - 11s 103ms/step - loss: 1.7600 - accuracy: 0.2552 - val_loss: 1.7968 - val_accuracy: 0.2510\n",
            "Epoch 5/100\n",
            "111/111 [==============================] - 11s 103ms/step - loss: 1.7596 - accuracy: 0.2552 - val_loss: 1.8055 - val_accuracy: 0.2510\n",
            "Epoch 6/100\n",
            "111/111 [==============================] - 9s 82ms/step - loss: 1.7589 - accuracy: 0.2552 - val_loss: 1.7949 - val_accuracy: 0.2510\n",
            "Epoch 7/100\n",
            "111/111 [==============================] - 10s 86ms/step - loss: 1.7579 - accuracy: 0.2552 - val_loss: 1.7863 - val_accuracy: 0.2510\n",
            "Epoch 8/100\n",
            "111/111 [==============================] - 12s 111ms/step - loss: 1.7546 - accuracy: 0.2552 - val_loss: 1.7883 - val_accuracy: 0.2510\n",
            "Epoch 9/100\n",
            "111/111 [==============================] - 10s 90ms/step - loss: 1.7362 - accuracy: 0.2584 - val_loss: 1.8470 - val_accuracy: 0.2486\n",
            "Epoch 10/100\n",
            "111/111 [==============================] - 11s 104ms/step - loss: 1.7079 - accuracy: 0.2768 - val_loss: 1.9094 - val_accuracy: 0.2513\n",
            "Epoch 11/100\n",
            "111/111 [==============================] - 9s 84ms/step - loss: 1.6736 - accuracy: 0.2974 - val_loss: 1.9011 - val_accuracy: 0.2536\n",
            "Epoch 12/100\n",
            "111/111 [==============================] - 9s 82ms/step - loss: 1.6515 - accuracy: 0.3152 - val_loss: 1.9470 - val_accuracy: 0.2609\n",
            "Epoch 13/100\n",
            "111/111 [==============================] - 9s 82ms/step - loss: 1.6315 - accuracy: 0.3324 - val_loss: 1.9034 - val_accuracy: 0.2623\n",
            "Epoch 14/100\n",
            "111/111 [==============================] - 9s 81ms/step - loss: 1.6109 - accuracy: 0.3458 - val_loss: 1.8852 - val_accuracy: 0.2516\n",
            "Epoch 15/100\n",
            "111/111 [==============================] - 9s 81ms/step - loss: 1.6010 - accuracy: 0.3511 - val_loss: 1.9124 - val_accuracy: 0.2428\n",
            "Epoch 16/100\n",
            "111/111 [==============================] - 11s 101ms/step - loss: 1.5920 - accuracy: 0.3558 - val_loss: 1.8768 - val_accuracy: 0.2565\n",
            "Epoch 17/100\n",
            "111/111 [==============================] - 9s 81ms/step - loss: 1.5895 - accuracy: 0.3607 - val_loss: 1.8618 - val_accuracy: 0.2584\n",
            "Epoch 18/100\n",
            "111/111 [==============================] - 9s 81ms/step - loss: 1.5828 - accuracy: 0.3621 - val_loss: 1.8736 - val_accuracy: 0.2420\n",
            "Epoch 19/100\n",
            "111/111 [==============================] - 9s 81ms/step - loss: 1.5776 - accuracy: 0.3645 - val_loss: 1.9056 - val_accuracy: 0.2578\n",
            "Epoch 20/100\n",
            "111/111 [==============================] - 9s 82ms/step - loss: 1.5735 - accuracy: 0.3669 - val_loss: 1.9271 - val_accuracy: 0.2531\n",
            "Epoch 21/100\n",
            "111/111 [==============================] - 9s 83ms/step - loss: 1.5671 - accuracy: 0.3681 - val_loss: 1.8944 - val_accuracy: 0.2558\n",
            "Epoch 22/100\n",
            "111/111 [==============================] - 11s 102ms/step - loss: 1.5633 - accuracy: 0.3705 - val_loss: 1.9101 - val_accuracy: 0.2546\n",
            "Epoch 23/100\n",
            "111/111 [==============================] - 9s 83ms/step - loss: 1.5581 - accuracy: 0.3728 - val_loss: 1.9076 - val_accuracy: 0.2427\n",
            "Epoch 24/100\n",
            "111/111 [==============================] - 9s 83ms/step - loss: 1.5518 - accuracy: 0.3748 - val_loss: 1.9108 - val_accuracy: 0.2372\n",
            "Epoch 25/100\n",
            "111/111 [==============================] - 9s 82ms/step - loss: 1.5481 - accuracy: 0.3780 - val_loss: 1.9031 - val_accuracy: 0.2553\n",
            "Epoch 26/100\n",
            "111/111 [==============================] - 9s 82ms/step - loss: 1.5433 - accuracy: 0.3763 - val_loss: 1.9066 - val_accuracy: 0.2565\n",
            "Epoch 27/100\n",
            "111/111 [==============================] - 11s 102ms/step - loss: 1.5366 - accuracy: 0.3796 - val_loss: 1.8989 - val_accuracy: 0.2575\n",
            "Epoch 28/100\n",
            "111/111 [==============================] - 11s 102ms/step - loss: 1.5313 - accuracy: 0.3846 - val_loss: 1.8976 - val_accuracy: 0.2635\n",
            "Epoch 29/100\n",
            "111/111 [==============================] - 9s 82ms/step - loss: 1.5270 - accuracy: 0.3850 - val_loss: 1.9501 - val_accuracy: 0.2291\n",
            "Epoch 30/100\n",
            "111/111 [==============================] - 9s 82ms/step - loss: 1.5239 - accuracy: 0.3831 - val_loss: 1.9369 - val_accuracy: 0.2468\n",
            "Epoch 31/100\n",
            "111/111 [==============================] - 9s 82ms/step - loss: 1.5174 - accuracy: 0.3878 - val_loss: 1.8947 - val_accuracy: 0.2597\n",
            "Epoch 32/100\n",
            "111/111 [==============================] - 9s 82ms/step - loss: 1.5124 - accuracy: 0.3938 - val_loss: 1.9423 - val_accuracy: 0.2489\n",
            "Epoch 33/100\n",
            "111/111 [==============================] - 9s 82ms/step - loss: 1.5122 - accuracy: 0.3939 - val_loss: 1.9344 - val_accuracy: 0.2379\n",
            "Epoch 34/100\n",
            "111/111 [==============================] - 11s 102ms/step - loss: 1.5069 - accuracy: 0.3940 - val_loss: 1.9416 - val_accuracy: 0.2614\n",
            "Epoch 35/100\n",
            "111/111 [==============================] - 9s 82ms/step - loss: 1.5027 - accuracy: 0.3967 - val_loss: 1.9448 - val_accuracy: 0.2515\n",
            "Epoch 36/100\n",
            "111/111 [==============================] - 9s 82ms/step - loss: 1.4986 - accuracy: 0.4006 - val_loss: 1.9552 - val_accuracy: 0.2427\n",
            "Epoch 37/100\n",
            "111/111 [==============================] - 9s 82ms/step - loss: 1.4962 - accuracy: 0.4009 - val_loss: 1.9600 - val_accuracy: 0.2592\n",
            "Epoch 38/100\n",
            "111/111 [==============================] - 9s 81ms/step - loss: 1.4900 - accuracy: 0.4040 - val_loss: 1.9618 - val_accuracy: 0.2517\n",
            "Epoch 39/100\n",
            "111/111 [==============================] - 9s 82ms/step - loss: 1.4885 - accuracy: 0.4063 - val_loss: 1.9573 - val_accuracy: 0.2563\n",
            "Epoch 40/100\n",
            "111/111 [==============================] - 11s 102ms/step - loss: 1.4843 - accuracy: 0.4072 - val_loss: 1.9405 - val_accuracy: 0.2527\n",
            "Epoch 41/100\n",
            "111/111 [==============================] - 9s 82ms/step - loss: 1.4806 - accuracy: 0.4087 - val_loss: 1.9554 - val_accuracy: 0.2664\n",
            "Epoch 42/100\n",
            "111/111 [==============================] - 9s 82ms/step - loss: 1.4765 - accuracy: 0.4109 - val_loss: 1.9864 - val_accuracy: 0.2500\n",
            "Epoch 43/100\n",
            "111/111 [==============================] - 9s 82ms/step - loss: 1.4738 - accuracy: 0.4123 - val_loss: 1.9887 - val_accuracy: 0.2626\n",
            "Epoch 44/100\n",
            "111/111 [==============================] - 9s 82ms/step - loss: 1.4700 - accuracy: 0.4146 - val_loss: 1.9653 - val_accuracy: 0.2727\n",
            "Epoch 45/100\n",
            "111/111 [==============================] - 9s 83ms/step - loss: 1.4674 - accuracy: 0.4161 - val_loss: 1.9934 - val_accuracy: 0.2672\n",
            "Epoch 46/100\n",
            "111/111 [==============================] - 11s 102ms/step - loss: 1.4642 - accuracy: 0.4188 - val_loss: 2.0030 - val_accuracy: 0.2454\n",
            "Epoch 47/100\n",
            "111/111 [==============================] - 9s 83ms/step - loss: 1.4566 - accuracy: 0.4196 - val_loss: 1.9470 - val_accuracy: 0.2646\n",
            "Epoch 48/100\n",
            "111/111 [==============================] - 9s 83ms/step - loss: 1.4568 - accuracy: 0.4209 - val_loss: 1.9957 - val_accuracy: 0.2582\n",
            "Epoch 49/100\n",
            "111/111 [==============================] - 9s 82ms/step - loss: 1.4550 - accuracy: 0.4212 - val_loss: 2.0197 - val_accuracy: 0.2520\n",
            "Epoch 50/100\n",
            "111/111 [==============================] - 11s 103ms/step - loss: 1.4493 - accuracy: 0.4238 - val_loss: 1.9947 - val_accuracy: 0.2635\n",
            "Epoch 51/100\n",
            "111/111 [==============================] - 10s 87ms/step - loss: 1.4466 - accuracy: 0.4249 - val_loss: 1.9828 - val_accuracy: 0.2623\n",
            "Epoch 52/100\n",
            "111/111 [==============================] - 11s 100ms/step - loss: 1.4409 - accuracy: 0.4259 - val_loss: 2.0179 - val_accuracy: 0.2591\n",
            "Epoch 53/100\n",
            "111/111 [==============================] - 9s 84ms/step - loss: 1.4432 - accuracy: 0.4258 - val_loss: 2.0021 - val_accuracy: 0.2662\n",
            "Epoch 54/100\n",
            "111/111 [==============================] - 9s 83ms/step - loss: 1.4315 - accuracy: 0.4308 - val_loss: 2.0107 - val_accuracy: 0.2471\n",
            "Epoch 55/100\n",
            "111/111 [==============================] - 9s 83ms/step - loss: 1.4327 - accuracy: 0.4296 - val_loss: 2.0192 - val_accuracy: 0.2638\n",
            "Epoch 56/100\n",
            "111/111 [==============================] - 9s 83ms/step - loss: 1.4272 - accuracy: 0.4362 - val_loss: 2.0396 - val_accuracy: 0.2601\n",
            "Epoch 57/100\n",
            "111/111 [==============================] - 10s 94ms/step - loss: 1.4265 - accuracy: 0.4346 - val_loss: 1.9967 - val_accuracy: 0.2553\n",
            "Epoch 58/100\n",
            "111/111 [==============================] - 10s 92ms/step - loss: 1.4193 - accuracy: 0.4385 - val_loss: 1.9866 - val_accuracy: 0.2612\n",
            "Epoch 59/100\n",
            "111/111 [==============================] - 9s 83ms/step - loss: 1.4198 - accuracy: 0.4365 - val_loss: 2.0184 - val_accuracy: 0.2660\n",
            "Epoch 60/100\n",
            "111/111 [==============================] - 9s 83ms/step - loss: 1.4148 - accuracy: 0.4395 - val_loss: 1.9926 - val_accuracy: 0.2500\n",
            "Epoch 61/100\n",
            "111/111 [==============================] - 9s 84ms/step - loss: 1.4113 - accuracy: 0.4428 - val_loss: 2.0287 - val_accuracy: 0.2564\n",
            "Epoch 62/100\n",
            "111/111 [==============================] - 9s 84ms/step - loss: 1.4052 - accuracy: 0.4428 - val_loss: 2.0278 - val_accuracy: 0.2635\n",
            "Epoch 63/100\n",
            "111/111 [==============================] - 11s 104ms/step - loss: 1.4024 - accuracy: 0.4451 - val_loss: 2.0238 - val_accuracy: 0.2635\n",
            "Epoch 64/100\n",
            "111/111 [==============================] - 9s 83ms/step - loss: 1.4040 - accuracy: 0.4437 - val_loss: 2.0494 - val_accuracy: 0.2541\n",
            "Epoch 65/100\n",
            "111/111 [==============================] - 9s 84ms/step - loss: 1.3992 - accuracy: 0.4470 - val_loss: 2.0302 - val_accuracy: 0.2541\n",
            "Epoch 66/100\n",
            "111/111 [==============================] - 9s 83ms/step - loss: 1.3971 - accuracy: 0.4488 - val_loss: 2.0289 - val_accuracy: 0.2423\n",
            "Epoch 67/100\n",
            "111/111 [==============================] - 9s 83ms/step - loss: 1.3899 - accuracy: 0.4510 - val_loss: 2.0155 - val_accuracy: 0.2570\n",
            "Epoch 68/100\n",
            "111/111 [==============================] - 9s 83ms/step - loss: 1.3890 - accuracy: 0.4516 - val_loss: 2.0516 - val_accuracy: 0.2536\n",
            "Epoch 69/100\n",
            "111/111 [==============================] - 11s 100ms/step - loss: 1.3845 - accuracy: 0.4554 - val_loss: 2.0833 - val_accuracy: 0.2697\n",
            "Epoch 70/100\n",
            "111/111 [==============================] - 10s 86ms/step - loss: 1.3807 - accuracy: 0.4548 - val_loss: 2.0336 - val_accuracy: 0.2580\n",
            "Epoch 71/100\n",
            "111/111 [==============================] - 9s 84ms/step - loss: 1.3797 - accuracy: 0.4563 - val_loss: 2.0923 - val_accuracy: 0.2522\n",
            "Epoch 72/100\n",
            "111/111 [==============================] - 9s 82ms/step - loss: 1.3756 - accuracy: 0.4577 - val_loss: 2.0957 - val_accuracy: 0.2664\n",
            "Epoch 73/100\n",
            "111/111 [==============================] - 11s 103ms/step - loss: 1.3711 - accuracy: 0.4602 - val_loss: 2.0923 - val_accuracy: 0.2519\n",
            "Epoch 74/100\n",
            "111/111 [==============================] - 9s 84ms/step - loss: 1.3690 - accuracy: 0.4605 - val_loss: 2.0657 - val_accuracy: 0.2496\n",
            "Epoch 75/100\n",
            "111/111 [==============================] - 12s 104ms/step - loss: 1.3653 - accuracy: 0.4619 - val_loss: 2.0821 - val_accuracy: 0.2526\n",
            "Epoch 76/100\n",
            "111/111 [==============================] - 9s 84ms/step - loss: 1.3633 - accuracy: 0.4630 - val_loss: 2.1067 - val_accuracy: 0.2633\n",
            "Epoch 77/100\n",
            "111/111 [==============================] - 9s 85ms/step - loss: 1.3567 - accuracy: 0.4665 - val_loss: 2.0959 - val_accuracy: 0.2703\n",
            "Epoch 78/100\n",
            "111/111 [==============================] - 9s 85ms/step - loss: 1.3574 - accuracy: 0.4644 - val_loss: 2.1115 - val_accuracy: 0.2570\n",
            "Epoch 79/100\n",
            "111/111 [==============================] - 9s 84ms/step - loss: 1.3537 - accuracy: 0.4669 - val_loss: 2.1239 - val_accuracy: 0.2664\n",
            "Epoch 80/100\n",
            "111/111 [==============================] - 9s 83ms/step - loss: 1.3461 - accuracy: 0.4721 - val_loss: 2.1402 - val_accuracy: 0.2524\n",
            "Epoch 81/100\n",
            "111/111 [==============================] - 11s 104ms/step - loss: 1.3458 - accuracy: 0.4716 - val_loss: 2.1214 - val_accuracy: 0.2592\n",
            "Epoch 82/100\n",
            "111/111 [==============================] - 9s 84ms/step - loss: 1.3418 - accuracy: 0.4754 - val_loss: 2.1495 - val_accuracy: 0.2456\n",
            "Epoch 83/100\n",
            "111/111 [==============================] - 9s 84ms/step - loss: 1.3396 - accuracy: 0.4728 - val_loss: 2.1409 - val_accuracy: 0.2602\n",
            "Epoch 84/100\n",
            "111/111 [==============================] - 9s 84ms/step - loss: 1.3354 - accuracy: 0.4737 - val_loss: 2.1297 - val_accuracy: 0.2602\n",
            "Epoch 85/100\n",
            "111/111 [==============================] - 9s 84ms/step - loss: 1.3333 - accuracy: 0.4760 - val_loss: 2.1361 - val_accuracy: 0.2602\n",
            "Epoch 86/100\n",
            "111/111 [==============================] - 9s 84ms/step - loss: 1.3293 - accuracy: 0.4785 - val_loss: 2.1093 - val_accuracy: 0.2693\n",
            "Epoch 87/100\n",
            "111/111 [==============================] - 11s 103ms/step - loss: 1.3264 - accuracy: 0.4777 - val_loss: 2.1180 - val_accuracy: 0.2657\n",
            "Epoch 88/100\n",
            "111/111 [==============================] - 9s 83ms/step - loss: 1.3296 - accuracy: 0.4775 - val_loss: 2.1488 - val_accuracy: 0.2522\n",
            "Epoch 89/100\n",
            "111/111 [==============================] - 9s 84ms/step - loss: 1.3182 - accuracy: 0.4830 - val_loss: 2.1224 - val_accuracy: 0.2567\n",
            "Epoch 90/100\n",
            "111/111 [==============================] - 9s 84ms/step - loss: 1.3128 - accuracy: 0.4851 - val_loss: 2.1696 - val_accuracy: 0.2568\n",
            "Epoch 91/100\n",
            "111/111 [==============================] - 10s 86ms/step - loss: 1.3105 - accuracy: 0.4872 - val_loss: 2.1696 - val_accuracy: 0.2582\n",
            "Epoch 92/100\n",
            "111/111 [==============================] - 9s 85ms/step - loss: 1.3073 - accuracy: 0.4878 - val_loss: 2.2066 - val_accuracy: 0.2660\n",
            "Epoch 93/100\n",
            "111/111 [==============================] - 12s 106ms/step - loss: 1.3094 - accuracy: 0.4852 - val_loss: 2.2028 - val_accuracy: 0.2694\n",
            "Epoch 94/100\n",
            "111/111 [==============================] - 10s 87ms/step - loss: 1.3039 - accuracy: 0.4883 - val_loss: 2.1211 - val_accuracy: 0.2631\n",
            "Epoch 95/100\n",
            "111/111 [==============================] - 10s 87ms/step - loss: 1.2979 - accuracy: 0.4926 - val_loss: 2.1371 - val_accuracy: 0.2677\n",
            "Epoch 96/100\n",
            "111/111 [==============================] - 12s 105ms/step - loss: 1.2983 - accuracy: 0.4918 - val_loss: 2.1470 - val_accuracy: 0.2650\n",
            "Epoch 97/100\n",
            "111/111 [==============================] - 9s 85ms/step - loss: 1.2934 - accuracy: 0.4941 - val_loss: 2.1650 - val_accuracy: 0.2606\n",
            "Epoch 98/100\n",
            "111/111 [==============================] - 10s 92ms/step - loss: 1.2913 - accuracy: 0.4950 - val_loss: 2.1648 - val_accuracy: 0.2686\n",
            "Epoch 99/100\n",
            "111/111 [==============================] - 11s 96ms/step - loss: 1.2878 - accuracy: 0.4988 - val_loss: 2.1726 - val_accuracy: 0.2676\n",
            "Epoch 100/100\n",
            "111/111 [==============================] - 9s 84ms/step - loss: 1.2821 - accuracy: 0.4969 - val_loss: 2.1795 - val_accuracy: 0.2639\n"
          ]
        },
        {
          "output_type": "execute_result",
          "data": {
            "text/plain": [
              "<keras.callbacks.History at 0x7f4f09e695d0>"
            ]
          },
          "metadata": {},
          "execution_count": 13
        }
      ]
    },
    {
      "cell_type": "markdown",
      "source": [
        "# **Loading the best weights**"
      ],
      "metadata": {
        "id": "0sPH2F3GPMCV"
      }
    },
    {
      "cell_type": "code",
      "source": [
        "model.load_weights(checkpoint_filepath)"
      ],
      "metadata": {
        "id": "fE-QyPO-_Jua"
      },
      "execution_count": null,
      "outputs": []
    }
  ]
}