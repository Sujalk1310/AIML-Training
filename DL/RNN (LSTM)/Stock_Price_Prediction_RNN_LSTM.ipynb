{
 "cells": [
  {
   "attachments": {},
   "cell_type": "markdown",
   "metadata": {},
   "source": [
    "# Import the Libraries and Dependencies"
   ]
  },
  {
   "cell_type": "code",
   "execution_count": 89,
   "metadata": {},
   "outputs": [],
   "source": [
    "import numpy as np\n",
    "import pandas as pd\n",
    "from sklearn.preprocessing import MinMaxScaler\n",
    "from keras.models import Sequential\n",
    "from keras.layers import LSTM, Dense, Dropout\n",
    "from keras.callbacks import EarlyStopping\n",
    "from sklearn.metrics import mean_squared_error\n",
    "import matplotlib.pyplot as plt"
   ]
  },
  {
   "attachments": {},
   "cell_type": "markdown",
   "metadata": {},
   "source": [
    "# Download the S&P 500 dataset"
   ]
  },
  {
   "attachments": {},
   "cell_type": "markdown",
   "metadata": {},
   "source": [
    "#### Downloading and Importing Dependencies"
   ]
  },
  {
   "cell_type": "code",
   "execution_count": 90,
   "metadata": {},
   "outputs": [
    {
     "name": "stdout",
     "output_type": "stream",
     "text": [
      "Looking in indexes: https://pypi.org/simple, https://pypi.ngc.nvidia.com\n",
      "Requirement already satisfied: yfinance in c:\\users\\kulsh\\appdata\\local\\programs\\python\\python310\\lib\\site-packages (0.2.18)\n",
      "Requirement already satisfied: pandas>=1.3.0 in c:\\users\\kulsh\\appdata\\local\\programs\\python\\python310\\lib\\site-packages (from yfinance) (1.5.3)\n",
      "Requirement already satisfied: frozendict>=2.3.4 in c:\\users\\kulsh\\appdata\\local\\programs\\python\\python310\\lib\\site-packages (from yfinance) (2.3.8)\n",
      "Requirement already satisfied: html5lib>=1.1 in c:\\users\\kulsh\\appdata\\local\\programs\\python\\python310\\lib\\site-packages (from yfinance) (1.1)\n",
      "Requirement already satisfied: beautifulsoup4>=4.11.1 in c:\\users\\kulsh\\appdata\\local\\programs\\python\\python310\\lib\\site-packages (from yfinance) (4.11.1)\n",
      "Requirement already satisfied: lxml>=4.9.1 in c:\\users\\kulsh\\appdata\\local\\programs\\python\\python310\\lib\\site-packages (from yfinance) (4.9.2)\n",
      "Requirement already satisfied: cryptography>=3.3.2 in c:\\users\\kulsh\\appdata\\local\\programs\\python\\python310\\lib\\site-packages (from yfinance) (40.0.2)\n",
      "Requirement already satisfied: pytz>=2022.5 in c:\\users\\kulsh\\appdata\\local\\programs\\python\\python310\\lib\\site-packages (from yfinance) (2022.7.1)\n",
      "Requirement already satisfied: multitasking>=0.0.7 in c:\\users\\kulsh\\appdata\\local\\programs\\python\\python310\\lib\\site-packages (from yfinance) (0.0.11)\n",
      "Requirement already satisfied: numpy>=1.16.5 in c:\\users\\kulsh\\appdata\\local\\programs\\python\\python310\\lib\\site-packages (from yfinance) (1.24.1)\n",
      "Requirement already satisfied: requests>=2.26 in c:\\users\\kulsh\\appdata\\local\\programs\\python\\python310\\lib\\site-packages (from yfinance) (2.28.2)\n",
      "Requirement already satisfied: appdirs>=1.4.4 in c:\\users\\kulsh\\appdata\\local\\programs\\python\\python310\\lib\\site-packages (from yfinance) (1.4.4)\n",
      "Requirement already satisfied: soupsieve>1.2 in c:\\users\\kulsh\\appdata\\local\\programs\\python\\python310\\lib\\site-packages (from beautifulsoup4>=4.11.1->yfinance) (2.3.2.post1)\n",
      "Requirement already satisfied: cffi>=1.12 in c:\\users\\kulsh\\appdata\\local\\programs\\python\\python310\\lib\\site-packages (from cryptography>=3.3.2->yfinance) (1.15.1)\n",
      "Requirement already satisfied: webencodings in c:\\users\\kulsh\\appdata\\local\\programs\\python\\python310\\lib\\site-packages (from html5lib>=1.1->yfinance) (0.5.1)\n",
      "Requirement already satisfied: six>=1.9 in c:\\users\\kulsh\\appdata\\local\\programs\\python\\python310\\lib\\site-packages (from html5lib>=1.1->yfinance) (1.16.0)\n",
      "Requirement already satisfied: python-dateutil>=2.8.1 in c:\\users\\kulsh\\appdata\\local\\programs\\python\\python310\\lib\\site-packages (from pandas>=1.3.0->yfinance) (2.8.2)\n",
      "Requirement already satisfied: idna<4,>=2.5 in c:\\users\\kulsh\\appdata\\local\\programs\\python\\python310\\lib\\site-packages (from requests>=2.26->yfinance) (3.4)\n",
      "Requirement already satisfied: charset-normalizer<4,>=2 in c:\\users\\kulsh\\appdata\\local\\programs\\python\\python310\\lib\\site-packages (from requests>=2.26->yfinance) (3.0.1)\n",
      "Requirement already satisfied: certifi>=2017.4.17 in c:\\users\\kulsh\\appdata\\local\\programs\\python\\python310\\lib\\site-packages (from requests>=2.26->yfinance) (2022.12.7)\n",
      "Requirement already satisfied: urllib3<1.27,>=1.21.1 in c:\\users\\kulsh\\appdata\\local\\programs\\python\\python310\\lib\\site-packages (from requests>=2.26->yfinance) (1.26.14)\n",
      "Requirement already satisfied: pycparser in c:\\users\\kulsh\\appdata\\local\\programs\\python\\python310\\lib\\site-packages (from cffi>=1.12->cryptography>=3.3.2->yfinance) (2.21)\n",
      "Note: you may need to restart the kernel to use updated packages.\n"
     ]
    },
    {
     "name": "stderr",
     "output_type": "stream",
     "text": [
      "\n",
      "[notice] A new release of pip is available: 23.0.1 -> 23.1.2\n",
      "[notice] To update, run: python.exe -m pip install --upgrade pip\n"
     ]
    }
   ],
   "source": [
    "%pip install yfinance\n",
    "import yfinance as yf\n",
    "import datetime"
   ]
  },
  {
   "attachments": {},
   "cell_type": "markdown",
   "metadata": {},
   "source": [
    "#### Fetching the data from FRED"
   ]
  },
  {
   "cell_type": "code",
   "execution_count": 91,
   "metadata": {},
   "outputs": [
    {
     "name": "stdout",
     "output_type": "stream",
     "text": [
      "[*********************100%***********************]  1 of 1 completed\n"
     ]
    }
   ],
   "source": [
    "start_date = datetime.datetime(2010, 1, 1)\n",
    "end_date = datetime.datetime(2022, 12, 31)\n",
    "df = yf.download('^GSPC', start=start_date, end=end_date)"
   ]
  },
  {
   "cell_type": "code",
   "execution_count": 92,
   "metadata": {},
   "outputs": [
    {
     "data": {
      "text/html": [
       "<div>\n",
       "<style scoped>\n",
       "    .dataframe tbody tr th:only-of-type {\n",
       "        vertical-align: middle;\n",
       "    }\n",
       "\n",
       "    .dataframe tbody tr th {\n",
       "        vertical-align: top;\n",
       "    }\n",
       "\n",
       "    .dataframe thead th {\n",
       "        text-align: right;\n",
       "    }\n",
       "</style>\n",
       "<table border=\"1\" class=\"dataframe\">\n",
       "  <thead>\n",
       "    <tr style=\"text-align: right;\">\n",
       "      <th></th>\n",
       "      <th>Open</th>\n",
       "      <th>High</th>\n",
       "      <th>Low</th>\n",
       "      <th>Close</th>\n",
       "      <th>Adj Close</th>\n",
       "      <th>Volume</th>\n",
       "    </tr>\n",
       "    <tr>\n",
       "      <th>Date</th>\n",
       "      <th></th>\n",
       "      <th></th>\n",
       "      <th></th>\n",
       "      <th></th>\n",
       "      <th></th>\n",
       "      <th></th>\n",
       "    </tr>\n",
       "  </thead>\n",
       "  <tbody>\n",
       "    <tr>\n",
       "      <th>2010-01-04</th>\n",
       "      <td>1116.560059</td>\n",
       "      <td>1133.869995</td>\n",
       "      <td>1116.560059</td>\n",
       "      <td>1132.989990</td>\n",
       "      <td>1132.989990</td>\n",
       "      <td>3991400000</td>\n",
       "    </tr>\n",
       "    <tr>\n",
       "      <th>2010-01-05</th>\n",
       "      <td>1132.660034</td>\n",
       "      <td>1136.630005</td>\n",
       "      <td>1129.660034</td>\n",
       "      <td>1136.520020</td>\n",
       "      <td>1136.520020</td>\n",
       "      <td>2491020000</td>\n",
       "    </tr>\n",
       "    <tr>\n",
       "      <th>2010-01-06</th>\n",
       "      <td>1135.709961</td>\n",
       "      <td>1139.189941</td>\n",
       "      <td>1133.949951</td>\n",
       "      <td>1137.140015</td>\n",
       "      <td>1137.140015</td>\n",
       "      <td>4972660000</td>\n",
       "    </tr>\n",
       "    <tr>\n",
       "      <th>2010-01-07</th>\n",
       "      <td>1136.270020</td>\n",
       "      <td>1142.459961</td>\n",
       "      <td>1131.319946</td>\n",
       "      <td>1141.689941</td>\n",
       "      <td>1141.689941</td>\n",
       "      <td>5270680000</td>\n",
       "    </tr>\n",
       "    <tr>\n",
       "      <th>2010-01-08</th>\n",
       "      <td>1140.520020</td>\n",
       "      <td>1145.390015</td>\n",
       "      <td>1136.219971</td>\n",
       "      <td>1144.979980</td>\n",
       "      <td>1144.979980</td>\n",
       "      <td>4389590000</td>\n",
       "    </tr>\n",
       "    <tr>\n",
       "      <th>...</th>\n",
       "      <td>...</td>\n",
       "      <td>...</td>\n",
       "      <td>...</td>\n",
       "      <td>...</td>\n",
       "      <td>...</td>\n",
       "      <td>...</td>\n",
       "    </tr>\n",
       "    <tr>\n",
       "      <th>2022-12-23</th>\n",
       "      <td>3815.110107</td>\n",
       "      <td>3845.800049</td>\n",
       "      <td>3797.010010</td>\n",
       "      <td>3844.820068</td>\n",
       "      <td>3844.820068</td>\n",
       "      <td>2819280000</td>\n",
       "    </tr>\n",
       "    <tr>\n",
       "      <th>2022-12-27</th>\n",
       "      <td>3843.340088</td>\n",
       "      <td>3846.649902</td>\n",
       "      <td>3813.219971</td>\n",
       "      <td>3829.250000</td>\n",
       "      <td>3829.250000</td>\n",
       "      <td>3030300000</td>\n",
       "    </tr>\n",
       "    <tr>\n",
       "      <th>2022-12-28</th>\n",
       "      <td>3829.560059</td>\n",
       "      <td>3848.320068</td>\n",
       "      <td>3780.780029</td>\n",
       "      <td>3783.219971</td>\n",
       "      <td>3783.219971</td>\n",
       "      <td>3083520000</td>\n",
       "    </tr>\n",
       "    <tr>\n",
       "      <th>2022-12-29</th>\n",
       "      <td>3805.449951</td>\n",
       "      <td>3858.189941</td>\n",
       "      <td>3805.449951</td>\n",
       "      <td>3849.280029</td>\n",
       "      <td>3849.280029</td>\n",
       "      <td>3003680000</td>\n",
       "    </tr>\n",
       "    <tr>\n",
       "      <th>2022-12-30</th>\n",
       "      <td>3829.060059</td>\n",
       "      <td>3839.850098</td>\n",
       "      <td>3800.340088</td>\n",
       "      <td>3839.500000</td>\n",
       "      <td>3839.500000</td>\n",
       "      <td>2979870000</td>\n",
       "    </tr>\n",
       "  </tbody>\n",
       "</table>\n",
       "<p>3271 rows × 6 columns</p>\n",
       "</div>"
      ],
      "text/plain": [
       "                   Open         High          Low        Close    Adj Close  \\\n",
       "Date                                                                          \n",
       "2010-01-04  1116.560059  1133.869995  1116.560059  1132.989990  1132.989990   \n",
       "2010-01-05  1132.660034  1136.630005  1129.660034  1136.520020  1136.520020   \n",
       "2010-01-06  1135.709961  1139.189941  1133.949951  1137.140015  1137.140015   \n",
       "2010-01-07  1136.270020  1142.459961  1131.319946  1141.689941  1141.689941   \n",
       "2010-01-08  1140.520020  1145.390015  1136.219971  1144.979980  1144.979980   \n",
       "...                 ...          ...          ...          ...          ...   \n",
       "2022-12-23  3815.110107  3845.800049  3797.010010  3844.820068  3844.820068   \n",
       "2022-12-27  3843.340088  3846.649902  3813.219971  3829.250000  3829.250000   \n",
       "2022-12-28  3829.560059  3848.320068  3780.780029  3783.219971  3783.219971   \n",
       "2022-12-29  3805.449951  3858.189941  3805.449951  3849.280029  3849.280029   \n",
       "2022-12-30  3829.060059  3839.850098  3800.340088  3839.500000  3839.500000   \n",
       "\n",
       "                Volume  \n",
       "Date                    \n",
       "2010-01-04  3991400000  \n",
       "2010-01-05  2491020000  \n",
       "2010-01-06  4972660000  \n",
       "2010-01-07  5270680000  \n",
       "2010-01-08  4389590000  \n",
       "...                ...  \n",
       "2022-12-23  2819280000  \n",
       "2022-12-27  3030300000  \n",
       "2022-12-28  3083520000  \n",
       "2022-12-29  3003680000  \n",
       "2022-12-30  2979870000  \n",
       "\n",
       "[3271 rows x 6 columns]"
      ]
     },
     "execution_count": 92,
     "metadata": {},
     "output_type": "execute_result"
    }
   ],
   "source": [
    "df"
   ]
  },
  {
   "attachments": {},
   "cell_type": "markdown",
   "metadata": {},
   "source": [
    "# Preprocess the data"
   ]
  },
  {
   "cell_type": "code",
   "execution_count": 93,
   "metadata": {},
   "outputs": [],
   "source": [
    "stock_symbol = '^GSPC'  # Choose a stock symbol from the dataset\n",
    "stock_data = df['Close'].values.reshape(-1, 1)\n",
    "\n",
    "scaler = MinMaxScaler(feature_range=(0, 1))\n",
    "scaled_data = scaler.fit_transform(stock_data)"
   ]
  },
  {
   "attachments": {},
   "cell_type": "markdown",
   "metadata": {},
   "source": [
    "# Split the data into Training and Testing sets"
   ]
  },
  {
   "cell_type": "code",
   "execution_count": 94,
   "metadata": {},
   "outputs": [],
   "source": [
    "train_data = scaled_data[:int(0.8 * len(stock_data))]\n",
    "test_data = scaled_data[int(0.8 * len(stock_data)):]"
   ]
  },
  {
   "attachments": {},
   "cell_type": "markdown",
   "metadata": {},
   "source": [
    "# Create input sequences for the LSTM Model"
   ]
  },
  {
   "cell_type": "code",
   "execution_count": 95,
   "metadata": {},
   "outputs": [],
   "source": [
    "def create_sequences(data, seq_length):\n",
    "    x = []\n",
    "    y = []\n",
    "    for i in range(len(data)-seq_length-1):\n",
    "        x.append(data[i:(i+seq_length), 0])\n",
    "        y.append(data[i+seq_length, 0])\n",
    "    return np.array(x), np.array(y)"
   ]
  },
  {
   "cell_type": "code",
   "execution_count": 96,
   "metadata": {},
   "outputs": [],
   "source": [
    "seq_length = 20  # Adjust the sequence length as needed\n",
    "x_train, y_train = create_sequences(train_data, seq_length)\n",
    "x_test, y_test = create_sequences(test_data, seq_length)"
   ]
  },
  {
   "attachments": {},
   "cell_type": "markdown",
   "metadata": {},
   "source": [
    "# Build the LSTM Model"
   ]
  },
  {
   "cell_type": "code",
   "execution_count": 97,
   "metadata": {},
   "outputs": [],
   "source": [
    "model = Sequential()\n",
    "model.add(LSTM(units=64, return_sequences=True, input_shape=(seq_length, 1)))\n",
    "model.add(Dropout(0.1))\n",
    "model.add(LSTM(units=64, return_sequences=True))\n",
    "model.add(Dropout(0.1))\n",
    "model.add(LSTM(units=64))\n",
    "model.add(Dropout(0.1))\n",
    "model.add(Dense(units=1))"
   ]
  },
  {
   "attachments": {},
   "cell_type": "markdown",
   "metadata": {},
   "source": [
    "# Compile the Model"
   ]
  },
  {
   "cell_type": "code",
   "execution_count": 98,
   "metadata": {},
   "outputs": [],
   "source": [
    "model.compile(optimizer='adam', loss='mean_squared_error')"
   ]
  },
  {
   "attachments": {},
   "cell_type": "markdown",
   "metadata": {},
   "source": [
    "# Define Early Stopping Callback"
   ]
  },
  {
   "cell_type": "code",
   "execution_count": 99,
   "metadata": {},
   "outputs": [],
   "source": [
    "early_stopping = EarlyStopping(monitor='val_loss', patience=10, restore_best_weights=True)"
   ]
  },
  {
   "attachments": {},
   "cell_type": "markdown",
   "metadata": {},
   "source": [
    "# Train the Model"
   ]
  },
  {
   "cell_type": "code",
   "execution_count": 100,
   "metadata": {},
   "outputs": [
    {
     "name": "stdout",
     "output_type": "stream",
     "text": [
      "Epoch 1/200\n",
      "65/65 [==============================] - 4s 22ms/step - loss: 0.0038 - val_loss: 8.5873e-04\n",
      "Epoch 2/200\n",
      "65/65 [==============================] - 1s 9ms/step - loss: 3.6193e-04 - val_loss: 9.3606e-04\n",
      "Epoch 3/200\n",
      "65/65 [==============================] - 1s 9ms/step - loss: 3.0942e-04 - val_loss: 8.2707e-04\n",
      "Epoch 4/200\n",
      "65/65 [==============================] - 1s 9ms/step - loss: 2.8311e-04 - val_loss: 9.4988e-04\n",
      "Epoch 5/200\n",
      "65/65 [==============================] - 1s 9ms/step - loss: 2.5636e-04 - val_loss: 0.0013\n",
      "Epoch 6/200\n",
      "65/65 [==============================] - 1s 10ms/step - loss: 3.0390e-04 - val_loss: 7.9676e-04\n",
      "Epoch 7/200\n",
      "65/65 [==============================] - 1s 11ms/step - loss: 2.3509e-04 - val_loss: 9.0273e-04\n",
      "Epoch 8/200\n",
      "65/65 [==============================] - 1s 11ms/step - loss: 2.5687e-04 - val_loss: 7.3054e-04\n",
      "Epoch 9/200\n",
      "65/65 [==============================] - 1s 11ms/step - loss: 2.7224e-04 - val_loss: 7.4052e-04\n",
      "Epoch 10/200\n",
      "65/65 [==============================] - 1s 10ms/step - loss: 2.4030e-04 - val_loss: 8.6569e-04\n",
      "Epoch 11/200\n",
      "65/65 [==============================] - 1s 11ms/step - loss: 2.5310e-04 - val_loss: 8.2478e-04\n",
      "Epoch 12/200\n",
      "65/65 [==============================] - 1s 10ms/step - loss: 2.1376e-04 - val_loss: 7.5756e-04\n",
      "Epoch 13/200\n",
      "65/65 [==============================] - 1s 10ms/step - loss: 2.2160e-04 - val_loss: 7.4202e-04\n",
      "Epoch 14/200\n",
      "65/65 [==============================] - 1s 11ms/step - loss: 2.4015e-04 - val_loss: 8.0020e-04\n",
      "Epoch 15/200\n",
      "65/65 [==============================] - 1s 10ms/step - loss: 2.4314e-04 - val_loss: 8.4832e-04\n",
      "Epoch 16/200\n",
      "65/65 [==============================] - 1s 10ms/step - loss: 1.9357e-04 - val_loss: 7.1379e-04\n",
      "Epoch 17/200\n",
      "65/65 [==============================] - 1s 10ms/step - loss: 2.0587e-04 - val_loss: 6.1104e-04\n",
      "Epoch 18/200\n",
      "65/65 [==============================] - 1s 11ms/step - loss: 2.1031e-04 - val_loss: 6.0036e-04\n",
      "Epoch 19/200\n",
      "65/65 [==============================] - 1s 10ms/step - loss: 1.8613e-04 - val_loss: 7.4097e-04\n",
      "Epoch 20/200\n",
      "65/65 [==============================] - 1s 10ms/step - loss: 1.8022e-04 - val_loss: 8.1887e-04\n",
      "Epoch 21/200\n",
      "65/65 [==============================] - 1s 10ms/step - loss: 2.1209e-04 - val_loss: 6.1118e-04\n",
      "Epoch 22/200\n",
      "65/65 [==============================] - 1s 10ms/step - loss: 2.0044e-04 - val_loss: 6.4455e-04\n",
      "Epoch 23/200\n",
      "65/65 [==============================] - 1s 10ms/step - loss: 1.7862e-04 - val_loss: 6.3719e-04\n",
      "Epoch 24/200\n",
      "65/65 [==============================] - 1s 10ms/step - loss: 1.6885e-04 - val_loss: 6.5078e-04\n",
      "Epoch 25/200\n",
      "65/65 [==============================] - 1s 10ms/step - loss: 1.8478e-04 - val_loss: 6.5036e-04\n",
      "Epoch 26/200\n",
      "65/65 [==============================] - 1s 10ms/step - loss: 1.6238e-04 - val_loss: 9.3154e-04\n",
      "Epoch 27/200\n",
      "65/65 [==============================] - 1s 10ms/step - loss: 1.7740e-04 - val_loss: 6.0979e-04\n",
      "Epoch 28/200\n",
      "65/65 [==============================] - 1s 10ms/step - loss: 1.7279e-04 - val_loss: 4.8359e-04\n",
      "Epoch 29/200\n",
      "65/65 [==============================] - 1s 10ms/step - loss: 1.7762e-04 - val_loss: 4.6707e-04\n",
      "Epoch 30/200\n",
      "65/65 [==============================] - 1s 10ms/step - loss: 1.5970e-04 - val_loss: 4.5875e-04\n",
      "Epoch 31/200\n",
      "65/65 [==============================] - 1s 10ms/step - loss: 1.8700e-04 - val_loss: 4.4851e-04\n",
      "Epoch 32/200\n",
      "65/65 [==============================] - 1s 10ms/step - loss: 1.7112e-04 - val_loss: 4.4602e-04\n",
      "Epoch 33/200\n",
      "65/65 [==============================] - 1s 11ms/step - loss: 1.6691e-04 - val_loss: 5.4375e-04\n",
      "Epoch 34/200\n",
      "65/65 [==============================] - 1s 11ms/step - loss: 1.5070e-04 - val_loss: 8.3337e-04\n",
      "Epoch 35/200\n",
      "65/65 [==============================] - 1s 12ms/step - loss: 1.6103e-04 - val_loss: 6.1173e-04\n",
      "Epoch 36/200\n",
      "65/65 [==============================] - 1s 11ms/step - loss: 1.4090e-04 - val_loss: 4.1695e-04\n",
      "Epoch 37/200\n",
      "65/65 [==============================] - 1s 11ms/step - loss: 1.3665e-04 - val_loss: 6.6338e-04\n",
      "Epoch 38/200\n",
      "65/65 [==============================] - 1s 10ms/step - loss: 1.6430e-04 - val_loss: 4.5737e-04\n",
      "Epoch 39/200\n",
      "65/65 [==============================] - 1s 10ms/step - loss: 1.4650e-04 - val_loss: 4.3355e-04\n",
      "Epoch 40/200\n",
      "65/65 [==============================] - 1s 9ms/step - loss: 1.3789e-04 - val_loss: 5.7263e-04\n",
      "Epoch 41/200\n",
      "65/65 [==============================] - 1s 9ms/step - loss: 1.3367e-04 - val_loss: 7.1550e-04\n",
      "Epoch 42/200\n",
      "65/65 [==============================] - 1s 9ms/step - loss: 1.4214e-04 - val_loss: 3.7738e-04\n",
      "Epoch 43/200\n",
      "65/65 [==============================] - 1s 9ms/step - loss: 1.2773e-04 - val_loss: 3.4362e-04\n",
      "Epoch 44/200\n",
      "65/65 [==============================] - 1s 9ms/step - loss: 1.3806e-04 - val_loss: 3.8683e-04\n",
      "Epoch 45/200\n",
      "65/65 [==============================] - 1s 9ms/step - loss: 1.1521e-04 - val_loss: 3.5260e-04\n",
      "Epoch 46/200\n",
      "65/65 [==============================] - 1s 9ms/step - loss: 1.3157e-04 - val_loss: 3.4847e-04\n",
      "Epoch 47/200\n",
      "65/65 [==============================] - 1s 9ms/step - loss: 1.4283e-04 - val_loss: 3.2387e-04\n",
      "Epoch 48/200\n",
      "65/65 [==============================] - 1s 9ms/step - loss: 1.1502e-04 - val_loss: 5.5106e-04\n",
      "Epoch 49/200\n",
      "65/65 [==============================] - 1s 9ms/step - loss: 1.3468e-04 - val_loss: 8.4247e-04\n",
      "Epoch 50/200\n",
      "65/65 [==============================] - 1s 9ms/step - loss: 1.3305e-04 - val_loss: 3.1108e-04\n",
      "Epoch 51/200\n",
      "65/65 [==============================] - 1s 9ms/step - loss: 1.1167e-04 - val_loss: 2.9589e-04\n",
      "Epoch 52/200\n",
      "65/65 [==============================] - 1s 9ms/step - loss: 1.1564e-04 - val_loss: 3.4707e-04\n",
      "Epoch 53/200\n",
      "65/65 [==============================] - 1s 9ms/step - loss: 1.0073e-04 - val_loss: 3.0301e-04\n",
      "Epoch 54/200\n",
      "65/65 [==============================] - 1s 9ms/step - loss: 1.0604e-04 - val_loss: 3.0635e-04\n",
      "Epoch 55/200\n",
      "65/65 [==============================] - 1s 9ms/step - loss: 1.0777e-04 - val_loss: 3.7239e-04\n",
      "Epoch 56/200\n",
      "65/65 [==============================] - 1s 9ms/step - loss: 1.1250e-04 - val_loss: 2.7440e-04\n",
      "Epoch 57/200\n",
      "65/65 [==============================] - 1s 9ms/step - loss: 1.0450e-04 - val_loss: 2.7537e-04\n",
      "Epoch 58/200\n",
      "65/65 [==============================] - 1s 9ms/step - loss: 1.0128e-04 - val_loss: 5.3672e-04\n",
      "Epoch 59/200\n",
      "65/65 [==============================] - 1s 9ms/step - loss: 1.2296e-04 - val_loss: 2.6508e-04\n",
      "Epoch 60/200\n",
      "65/65 [==============================] - 1s 10ms/step - loss: 1.2523e-04 - val_loss: 3.0531e-04\n",
      "Epoch 61/200\n",
      "65/65 [==============================] - 1s 9ms/step - loss: 1.0940e-04 - val_loss: 7.1798e-04\n",
      "Epoch 62/200\n",
      "65/65 [==============================] - 1s 9ms/step - loss: 1.0481e-04 - val_loss: 2.5593e-04\n",
      "Epoch 63/200\n",
      "65/65 [==============================] - 1s 11ms/step - loss: 1.0020e-04 - val_loss: 3.0543e-04\n",
      "Epoch 64/200\n",
      "65/65 [==============================] - 1s 10ms/step - loss: 9.1357e-05 - val_loss: 2.6003e-04\n",
      "Epoch 65/200\n",
      "65/65 [==============================] - 1s 11ms/step - loss: 1.0327e-04 - val_loss: 2.5907e-04\n",
      "Epoch 66/200\n",
      "65/65 [==============================] - 1s 9ms/step - loss: 1.0182e-04 - val_loss: 2.4778e-04\n",
      "Epoch 67/200\n",
      "65/65 [==============================] - 1s 10ms/step - loss: 9.7944e-05 - val_loss: 2.4223e-04\n",
      "Epoch 68/200\n",
      "65/65 [==============================] - 1s 9ms/step - loss: 1.1056e-04 - val_loss: 3.0269e-04\n",
      "Epoch 69/200\n",
      "65/65 [==============================] - 1s 10ms/step - loss: 1.0898e-04 - val_loss: 2.4580e-04\n",
      "Epoch 70/200\n",
      "65/65 [==============================] - 1s 9ms/step - loss: 9.2237e-05 - val_loss: 2.5946e-04\n",
      "Epoch 71/200\n",
      "65/65 [==============================] - 1s 9ms/step - loss: 1.0122e-04 - val_loss: 2.4029e-04\n",
      "Epoch 72/200\n",
      "65/65 [==============================] - 1s 10ms/step - loss: 1.0728e-04 - val_loss: 3.7281e-04\n",
      "Epoch 73/200\n",
      "65/65 [==============================] - 1s 10ms/step - loss: 9.6549e-05 - val_loss: 2.9122e-04\n",
      "Epoch 74/200\n",
      "65/65 [==============================] - 1s 9ms/step - loss: 9.5845e-05 - val_loss: 2.5827e-04\n",
      "Epoch 75/200\n",
      "65/65 [==============================] - 1s 9ms/step - loss: 9.9549e-05 - val_loss: 2.2272e-04\n",
      "Epoch 76/200\n",
      "65/65 [==============================] - 1s 10ms/step - loss: 8.9493e-05 - val_loss: 2.1164e-04\n",
      "Epoch 77/200\n",
      "65/65 [==============================] - 1s 10ms/step - loss: 9.7191e-05 - val_loss: 2.3337e-04\n",
      "Epoch 78/200\n",
      "65/65 [==============================] - 1s 9ms/step - loss: 8.8804e-05 - val_loss: 2.4844e-04\n",
      "Epoch 79/200\n",
      "65/65 [==============================] - 1s 9ms/step - loss: 1.1044e-04 - val_loss: 1.9978e-04\n",
      "Epoch 80/200\n",
      "65/65 [==============================] - 1s 9ms/step - loss: 9.3182e-05 - val_loss: 3.6464e-04\n",
      "Epoch 81/200\n",
      "65/65 [==============================] - 1s 9ms/step - loss: 9.0805e-05 - val_loss: 2.5071e-04\n",
      "Epoch 82/200\n",
      "65/65 [==============================] - 1s 10ms/step - loss: 8.8487e-05 - val_loss: 1.9257e-04\n",
      "Epoch 83/200\n",
      "65/65 [==============================] - 1s 10ms/step - loss: 1.1049e-04 - val_loss: 2.3475e-04\n",
      "Epoch 84/200\n",
      "65/65 [==============================] - 1s 10ms/step - loss: 1.0429e-04 - val_loss: 2.0894e-04\n",
      "Epoch 85/200\n",
      "65/65 [==============================] - 1s 12ms/step - loss: 9.7976e-05 - val_loss: 3.5657e-04\n",
      "Epoch 86/200\n",
      "65/65 [==============================] - 1s 12ms/step - loss: 8.7570e-05 - val_loss: 2.4554e-04\n",
      "Epoch 87/200\n",
      "65/65 [==============================] - 1s 12ms/step - loss: 1.1207e-04 - val_loss: 2.5017e-04\n",
      "Epoch 88/200\n",
      "65/65 [==============================] - 1s 12ms/step - loss: 8.6074e-05 - val_loss: 2.3664e-04\n",
      "Epoch 89/200\n",
      "65/65 [==============================] - 1s 12ms/step - loss: 9.6091e-05 - val_loss: 1.7871e-04\n",
      "Epoch 90/200\n",
      "65/65 [==============================] - 1s 10ms/step - loss: 9.0183e-05 - val_loss: 1.7922e-04\n",
      "Epoch 91/200\n",
      "65/65 [==============================] - 1s 10ms/step - loss: 9.1503e-05 - val_loss: 1.8002e-04\n",
      "Epoch 92/200\n",
      "65/65 [==============================] - 1s 10ms/step - loss: 1.0562e-04 - val_loss: 2.8276e-04\n",
      "Epoch 93/200\n",
      "65/65 [==============================] - 1s 9ms/step - loss: 9.3872e-05 - val_loss: 1.7275e-04\n",
      "Epoch 94/200\n",
      "65/65 [==============================] - 1s 11ms/step - loss: 8.5493e-05 - val_loss: 2.1294e-04\n",
      "Epoch 95/200\n",
      "65/65 [==============================] - 1s 9ms/step - loss: 8.6228e-05 - val_loss: 1.7516e-04\n",
      "Epoch 96/200\n",
      "65/65 [==============================] - 1s 9ms/step - loss: 9.4593e-05 - val_loss: 3.4023e-04\n",
      "Epoch 97/200\n",
      "65/65 [==============================] - 1s 15ms/step - loss: 9.4446e-05 - val_loss: 1.6995e-04\n",
      "Epoch 98/200\n",
      "65/65 [==============================] - 1s 12ms/step - loss: 9.7742e-05 - val_loss: 2.0685e-04\n",
      "Epoch 99/200\n",
      "65/65 [==============================] - 1s 12ms/step - loss: 8.6957e-05 - val_loss: 1.8689e-04\n",
      "Epoch 100/200\n",
      "65/65 [==============================] - 1s 12ms/step - loss: 8.3856e-05 - val_loss: 3.2385e-04\n",
      "Epoch 101/200\n",
      "65/65 [==============================] - 1s 10ms/step - loss: 8.8083e-05 - val_loss: 1.8648e-04\n",
      "Epoch 102/200\n",
      "65/65 [==============================] - 1s 9ms/step - loss: 8.6059e-05 - val_loss: 1.7295e-04\n",
      "Epoch 103/200\n",
      "65/65 [==============================] - 1s 9ms/step - loss: 8.6109e-05 - val_loss: 1.7291e-04\n",
      "Epoch 104/200\n",
      "65/65 [==============================] - 1s 9ms/step - loss: 8.1522e-05 - val_loss: 2.7435e-04\n",
      "Epoch 105/200\n",
      "65/65 [==============================] - 1s 9ms/step - loss: 8.1979e-05 - val_loss: 1.5704e-04\n",
      "Epoch 106/200\n",
      "65/65 [==============================] - 1s 10ms/step - loss: 9.5944e-05 - val_loss: 3.5244e-04\n",
      "Epoch 107/200\n",
      "65/65 [==============================] - 1s 10ms/step - loss: 8.7895e-05 - val_loss: 2.5990e-04\n",
      "Epoch 108/200\n",
      "65/65 [==============================] - 1s 10ms/step - loss: 8.0501e-05 - val_loss: 3.1683e-04\n",
      "Epoch 109/200\n",
      "65/65 [==============================] - 1s 9ms/step - loss: 1.0175e-04 - val_loss: 2.0637e-04\n",
      "Epoch 110/200\n",
      "65/65 [==============================] - 1s 10ms/step - loss: 9.1054e-05 - val_loss: 2.5581e-04\n",
      "Epoch 111/200\n",
      "65/65 [==============================] - 1s 10ms/step - loss: 8.9397e-05 - val_loss: 1.5383e-04\n",
      "Epoch 112/200\n",
      "65/65 [==============================] - 1s 9ms/step - loss: 8.2883e-05 - val_loss: 1.7052e-04\n",
      "Epoch 113/200\n",
      "65/65 [==============================] - 1s 9ms/step - loss: 8.4563e-05 - val_loss: 1.5377e-04\n",
      "Epoch 114/200\n",
      "65/65 [==============================] - 1s 9ms/step - loss: 8.3818e-05 - val_loss: 2.2670e-04\n",
      "Epoch 115/200\n",
      "65/65 [==============================] - 1s 10ms/step - loss: 8.5094e-05 - val_loss: 2.6846e-04\n",
      "Epoch 116/200\n",
      "65/65 [==============================] - 1s 11ms/step - loss: 8.5241e-05 - val_loss: 1.4741e-04\n",
      "Epoch 117/200\n",
      "65/65 [==============================] - 1s 12ms/step - loss: 7.4635e-05 - val_loss: 2.5266e-04\n",
      "Epoch 118/200\n",
      "65/65 [==============================] - 1s 10ms/step - loss: 8.0651e-05 - val_loss: 2.5751e-04\n",
      "Epoch 119/200\n",
      "65/65 [==============================] - 1s 9ms/step - loss: 8.1575e-05 - val_loss: 3.4330e-04\n",
      "Epoch 120/200\n",
      "65/65 [==============================] - 1s 10ms/step - loss: 8.3213e-05 - val_loss: 1.4864e-04\n",
      "Epoch 121/200\n",
      "65/65 [==============================] - 1s 11ms/step - loss: 7.7902e-05 - val_loss: 1.5194e-04\n",
      "Epoch 122/200\n",
      "65/65 [==============================] - 1s 10ms/step - loss: 8.2399e-05 - val_loss: 2.3406e-04\n",
      "Epoch 123/200\n",
      "65/65 [==============================] - 1s 12ms/step - loss: 8.9872e-05 - val_loss: 4.9988e-04\n",
      "Epoch 124/200\n",
      "65/65 [==============================] - 1s 9ms/step - loss: 8.3617e-05 - val_loss: 1.7996e-04\n",
      "Epoch 125/200\n",
      "65/65 [==============================] - 1s 9ms/step - loss: 8.7256e-05 - val_loss: 1.4786e-04\n",
      "Epoch 126/200\n",
      "65/65 [==============================] - 1s 9ms/step - loss: 8.2351e-05 - val_loss: 2.3612e-04\n"
     ]
    }
   ],
   "source": [
    "history = model.fit(x_train, y_train, epochs=200, batch_size=32, validation_split=0.2, callbacks=[early_stopping], verbose=1)"
   ]
  },
  {
   "attachments": {},
   "cell_type": "markdown",
   "metadata": {},
   "source": [
    "# Make prediction on the test data"
   ]
  },
  {
   "cell_type": "code",
   "execution_count": 101,
   "metadata": {},
   "outputs": [
    {
     "name": "stdout",
     "output_type": "stream",
     "text": [
      "20/20 [==============================] - 1s 4ms/step\n"
     ]
    }
   ],
   "source": [
    "predictions = model.predict(x_test)\n",
    "predictions = scaler.inverse_transform(predictions)"
   ]
  },
  {
   "attachments": {},
   "cell_type": "markdown",
   "metadata": {},
   "source": [
    "# Evaluate the Model"
   ]
  },
  {
   "cell_type": "code",
   "execution_count": 102,
   "metadata": {},
   "outputs": [
    {
     "name": "stdout",
     "output_type": "stream",
     "text": [
      "Root Mean Squared Error (RMSE): 72.90778872167577\n"
     ]
    }
   ],
   "source": [
    "rmse = np.sqrt(mean_squared_error(scaler.inverse_transform(y_test.reshape(-1, 1)), predictions))\n",
    "print(\"Root Mean Squared Error (RMSE):\", rmse)"
   ]
  },
  {
   "attachments": {},
   "cell_type": "markdown",
   "metadata": {},
   "source": [
    "# Plot the training and validation loss"
   ]
  },
  {
   "cell_type": "code",
   "execution_count": 103,
   "metadata": {},
   "outputs": [
    {
     "data": {
      "image/png": "[encoded data removed]",
      "text/plain": [
       "<Figure size 640x480 with 1 Axes>"
      ]
     },
     "metadata": {},
     "output_type": "display_data"
    }
   ],
   "source": [
    "plt.plot(history.history['loss'], label='Training Loss')\n",
    "plt.plot(history.history['val_loss'], label='Validation Loss')\n",
    "plt.title('Training and Validation Loss')\n",
    "plt.xlabel('Epochs')\n",
    "plt.ylabel('Loss')\n",
    "plt.legend()\n",
    "plt.show()"
   ]
  },
  {
   "attachments": {},
   "cell_type": "markdown",
   "metadata": {},
   "source": [
    "# Plot the actual and predicted stock prices"
   ]
  },
  {
   "cell_type": "code",
   "execution_count": 104,
   "metadata": {},
   "outputs": [
    {
     "data": {
      "image/png": "[encoded data removed]",
      "text/plain": [
       "<Figure size 640x480 with 1 Axes>"
      ]
     },
     "metadata": {},
     "output_type": "display_data"
    }
   ],
   "source": [
    "plt.plot(df.index[int(0.8 * len(stock_data)) + seq_length + 1:], scaler.inverse_transform(y_test.reshape(-1, 1)), label='Actual')\n",
    "plt.plot(df.index[int(0.8 * len(stock_data)) + seq_length + 1:], predictions, label='Predicted')\n",
    "plt.title('Actual vs Predicted Stock Prices')\n",
    "plt.xlabel('Date')\n",
    "plt.ylabel('Stock Price')\n",
    "plt.xticks(rotation=90)\n",
    "plt.legend()\n",
    "plt.show()"
   ]
  }
 ],
 "metadata": {
  "kernelspec": {
   "display_name": "Python 3",
   "language": "python",
   "name": "python3"
  },
  "language_info": {
   "codemirror_mode": {
    "name": "ipython",
    "version": 3
   },
   "file_extension": ".py",
   "mimetype": "text/x-python",
   "name": "python",
   "nbconvert_exporter": "python",
   "pygments_lexer": "ipython3",
   "version": "3.10.8"
  },
  "orig_nbformat": 4
 },
 "nbformat": 4,
 "nbformat_minor": 2
}
