{
 "cells": [
  {
   "cell_type": "markdown",
   "metadata": {},
   "source": [
    "# TF-IDF Vector"
   ]
  },
  {
   "cell_type": "code",
   "execution_count": 41,
   "metadata": {},
   "outputs": [],
   "source": [
    "str1 = \"In the 21st century, digital technology has transformed the way we approach education, making online learning platforms more popular than ever before.\"\n",
    "str2 = \"The stock market experienced a significant downturn last week, leading to concerns about the overall health of the global economy.\"\n",
    "str3 = \"The Olympic Games are a showcase of human athleticism and international unity, bringing together athletes from all corners of the world to compete on a grand stage.\""
   ]
  },
  {
   "cell_type": "code",
   "execution_count": 42,
   "metadata": {},
   "outputs": [],
   "source": [
    "collections = [str1, str2, str3]"
   ]
  },
  {
   "cell_type": "code",
   "execution_count": 43,
   "metadata": {},
   "outputs": [],
   "source": [
    "from sklearn.feature_extraction.text import TfidfVectorizer"
   ]
  },
  {
   "cell_type": "code",
   "execution_count": 44,
   "metadata": {},
   "outputs": [],
   "source": [
    "tfidf = TfidfVectorizer()\n",
    "tfidf1 = tfidf.fit_transform(collections)"
   ]
  },
  {
   "cell_type": "code",
   "execution_count": 45,
   "metadata": {},
   "outputs": [
    {
     "name": "stdout",
     "output_type": "stream",
     "text": [
      "{'in': 27, 'the': 48, '21st': 0, 'century': 10, 'digital': 14, 'technology': 46, 'has': 24, 'transformed': 51, 'way': 53, 'we': 54, 'approach': 4, 'education': 17, 'making': 32, 'online': 38, 'learning': 31, 'platforms': 40, 'more': 34, 'popular': 41, 'than': 47, 'ever': 18, 'before': 8, 'stock': 45, 'market': 33, 'experienced': 19, 'significant': 43, 'downturn': 15, 'last': 29, 'week': 55, 'leading': 30, 'to': 49, 'concerns': 12, 'about': 1, 'overall': 39, 'health': 25, 'of': 35, 'global': 22, 'economy': 16, 'olympic': 36, 'games': 21, 'are': 5, 'showcase': 42, 'human': 26, 'athleticism': 7, 'and': 3, 'international': 28, 'unity': 52, 'bringing': 9, 'together': 50, 'athletes': 6, 'from': 20, 'all': 2, 'corners': 13, 'world': 56, 'compete': 11, 'on': 37, 'grand': 23, 'stage': 44}\n",
      "[1.69314718 1.69314718 1.69314718 1.69314718 1.69314718 1.69314718\n",
      " 1.69314718 1.69314718 1.69314718 1.69314718 1.69314718 1.69314718\n",
      " 1.69314718 1.69314718 1.69314718 1.69314718 1.69314718 1.69314718\n",
      " 1.69314718 1.69314718 1.69314718 1.69314718 1.69314718 1.69314718\n",
      " 1.69314718 1.69314718 1.69314718 1.69314718 1.69314718 1.69314718\n",
      " 1.69314718 1.69314718 1.69314718 1.69314718 1.69314718 1.28768207\n",
      " 1.69314718 1.69314718 1.69314718 1.69314718 1.69314718 1.69314718\n",
      " 1.69314718 1.69314718 1.69314718 1.69314718 1.69314718 1.69314718\n",
      " 1.         1.28768207 1.69314718 1.69314718 1.69314718 1.69314718\n",
      " 1.69314718 1.69314718 1.69314718]\n"
     ]
    }
   ],
   "source": [
    "print(tfidf.vocabulary_)\n",
    "print(tfidf.idf_)"
   ]
  },
  {
   "cell_type": "code",
   "execution_count": 46,
   "metadata": {},
   "outputs": [
    {
     "name": "stdout",
     "output_type": "stream",
     "text": [
      "['21st' 'about' 'all' 'and' 'approach' 'are' 'athletes' 'athleticism'\n",
      " 'before' 'bringing' 'century' 'compete' 'concerns' 'corners' 'digital'\n",
      " 'downturn' 'economy' 'education' 'ever' 'experienced' 'from' 'games'\n",
      " 'global' 'grand' 'has' 'health' 'human' 'in' 'international' 'last'\n",
      " 'leading' 'learning' 'making' 'market' 'more' 'of' 'olympic' 'on'\n",
      " 'online' 'overall' 'platforms' 'popular' 'showcase' 'significant' 'stage'\n",
      " 'stock' 'technology' 'than' 'the' 'to' 'together' 'transformed' 'unity'\n",
      " 'way' 'we' 'week' 'world']\n"
     ]
    }
   ],
   "source": [
    "terms = tfidf.get_feature_names_out()\n",
    "print(terms)"
   ]
  },
  {
   "cell_type": "code",
   "execution_count": 47,
   "metadata": {},
   "outputs": [],
   "source": [
    "import pandas as pd\n",
    "\n",
    "df = pd.DataFrame(\n",
    "    data = tfidf1.toarray(),\n",
    "    index = ['d1', 'd2', 'd3'],\n",
    "    columns = terms\n",
    ")"
   ]
  },
  {
   "cell_type": "code",
   "execution_count": 48,
   "metadata": {},
   "outputs": [
    {
     "data": {
      "text/html": [
       "<div>\n",
       "<style scoped>\n",
       "    .dataframe tbody tr th:only-of-type {\n",
       "        vertical-align: middle;\n",
       "    }\n",
       "\n",
       "    .dataframe tbody tr th {\n",
       "        vertical-align: top;\n",
       "    }\n",
       "\n",
       "    .dataframe thead th {\n",
       "        text-align: right;\n",
       "    }\n",
       "</style>\n",
       "<table border=\"1\" class=\"dataframe\">\n",
       "  <thead>\n",
       "    <tr style=\"text-align: right;\">\n",
       "      <th></th>\n",
       "      <th>21st</th>\n",
       "      <th>about</th>\n",
       "      <th>all</th>\n",
       "      <th>and</th>\n",
       "      <th>approach</th>\n",
       "      <th>are</th>\n",
       "      <th>athletes</th>\n",
       "      <th>athleticism</th>\n",
       "      <th>before</th>\n",
       "      <th>bringing</th>\n",
       "      <th>...</th>\n",
       "      <th>than</th>\n",
       "      <th>the</th>\n",
       "      <th>to</th>\n",
       "      <th>together</th>\n",
       "      <th>transformed</th>\n",
       "      <th>unity</th>\n",
       "      <th>way</th>\n",
       "      <th>we</th>\n",
       "      <th>week</th>\n",
       "      <th>world</th>\n",
       "    </tr>\n",
       "  </thead>\n",
       "  <tbody>\n",
       "    <tr>\n",
       "      <th>d1</th>\n",
       "      <td>0.216193</td>\n",
       "      <td>0.000000</td>\n",
       "      <td>0.000000</td>\n",
       "      <td>0.000000</td>\n",
       "      <td>0.216193</td>\n",
       "      <td>0.000000</td>\n",
       "      <td>0.000000</td>\n",
       "      <td>0.000000</td>\n",
       "      <td>0.216193</td>\n",
       "      <td>0.000000</td>\n",
       "      <td>...</td>\n",
       "      <td>0.216193</td>\n",
       "      <td>0.255374</td>\n",
       "      <td>0.000000</td>\n",
       "      <td>0.000000</td>\n",
       "      <td>0.216193</td>\n",
       "      <td>0.000000</td>\n",
       "      <td>0.216193</td>\n",
       "      <td>0.216193</td>\n",
       "      <td>0.000000</td>\n",
       "      <td>0.000000</td>\n",
       "    </tr>\n",
       "    <tr>\n",
       "      <th>d2</th>\n",
       "      <td>0.000000</td>\n",
       "      <td>0.233786</td>\n",
       "      <td>0.000000</td>\n",
       "      <td>0.000000</td>\n",
       "      <td>0.000000</td>\n",
       "      <td>0.000000</td>\n",
       "      <td>0.000000</td>\n",
       "      <td>0.000000</td>\n",
       "      <td>0.000000</td>\n",
       "      <td>0.000000</td>\n",
       "      <td>...</td>\n",
       "      <td>0.000000</td>\n",
       "      <td>0.414234</td>\n",
       "      <td>0.177800</td>\n",
       "      <td>0.000000</td>\n",
       "      <td>0.000000</td>\n",
       "      <td>0.000000</td>\n",
       "      <td>0.000000</td>\n",
       "      <td>0.000000</td>\n",
       "      <td>0.233786</td>\n",
       "      <td>0.000000</td>\n",
       "    </tr>\n",
       "    <tr>\n",
       "      <th>d3</th>\n",
       "      <td>0.000000</td>\n",
       "      <td>0.000000</td>\n",
       "      <td>0.202913</td>\n",
       "      <td>0.202913</td>\n",
       "      <td>0.000000</td>\n",
       "      <td>0.202913</td>\n",
       "      <td>0.202913</td>\n",
       "      <td>0.202913</td>\n",
       "      <td>0.000000</td>\n",
       "      <td>0.202913</td>\n",
       "      <td>...</td>\n",
       "      <td>0.000000</td>\n",
       "      <td>0.239688</td>\n",
       "      <td>0.154321</td>\n",
       "      <td>0.202913</td>\n",
       "      <td>0.000000</td>\n",
       "      <td>0.202913</td>\n",
       "      <td>0.000000</td>\n",
       "      <td>0.000000</td>\n",
       "      <td>0.000000</td>\n",
       "      <td>0.202913</td>\n",
       "    </tr>\n",
       "  </tbody>\n",
       "</table>\n",
       "<p>3 rows × 57 columns</p>\n",
       "</div>"
      ],
      "text/plain": [
       "        21st     about       all       and  approach       are  athletes  \\\n",
       "d1  0.216193  0.000000  0.000000  0.000000  0.216193  0.000000  0.000000   \n",
       "d2  0.000000  0.233786  0.000000  0.000000  0.000000  0.000000  0.000000   \n",
       "d3  0.000000  0.000000  0.202913  0.202913  0.000000  0.202913  0.202913   \n",
       "\n",
       "    athleticism    before  bringing  ...      than       the        to  \\\n",
       "d1     0.000000  0.216193  0.000000  ...  0.216193  0.255374  0.000000   \n",
       "d2     0.000000  0.000000  0.000000  ...  0.000000  0.414234  0.177800   \n",
       "d3     0.202913  0.000000  0.202913  ...  0.000000  0.239688  0.154321   \n",
       "\n",
       "    together  transformed     unity       way        we      week     world  \n",
       "d1  0.000000     0.216193  0.000000  0.216193  0.216193  0.000000  0.000000  \n",
       "d2  0.000000     0.000000  0.000000  0.000000  0.000000  0.233786  0.000000  \n",
       "d3  0.202913     0.000000  0.202913  0.000000  0.000000  0.000000  0.202913  \n",
       "\n",
       "[3 rows x 57 columns]"
      ]
     },
     "execution_count": 48,
     "metadata": {},
     "output_type": "execute_result"
    }
   ],
   "source": [
    "df"
   ]
  },
  {
   "cell_type": "markdown",
   "metadata": {},
   "source": [
    "# CountVector"
   ]
  },
  {
   "cell_type": "code",
   "execution_count": 49,
   "metadata": {},
   "outputs": [],
   "source": [
    "from sklearn.feature_extraction.text import CountVectorizer"
   ]
  },
  {
   "cell_type": "code",
   "execution_count": 50,
   "metadata": {},
   "outputs": [],
   "source": [
    "ctv = CountVectorizer()\n",
    "ctv1 = ctv.fit_transform(collections)"
   ]
  },
  {
   "cell_type": "code",
   "execution_count": 51,
   "metadata": {},
   "outputs": [
    {
     "data": {
      "text/plain": [
       "array(['21st', 'about', 'all', 'and', 'approach', 'are', 'athletes',\n",
       "       'athleticism', 'before', 'bringing', 'century', 'compete',\n",
       "       'concerns', 'corners', 'digital', 'downturn', 'economy',\n",
       "       'education', 'ever', 'experienced', 'from', 'games', 'global',\n",
       "       'grand', 'has', 'health', 'human', 'in', 'international', 'last',\n",
       "       'leading', 'learning', 'making', 'market', 'more', 'of', 'olympic',\n",
       "       'on', 'online', 'overall', 'platforms', 'popular', 'showcase',\n",
       "       'significant', 'stage', 'stock', 'technology', 'than', 'the', 'to',\n",
       "       'together', 'transformed', 'unity', 'way', 'we', 'week', 'world'],\n",
       "      dtype=object)"
      ]
     },
     "execution_count": 51,
     "metadata": {},
     "output_type": "execute_result"
    }
   ],
   "source": [
    "terms = ctv.get_feature_names_out()\n",
    "terms"
   ]
  },
  {
   "cell_type": "code",
   "execution_count": 52,
   "metadata": {},
   "outputs": [
    {
     "data": {
      "text/plain": [
       "{'in': 27,\n",
       " 'the': 48,\n",
       " '21st': 0,\n",
       " 'century': 10,\n",
       " 'digital': 14,\n",
       " 'technology': 46,\n",
       " 'has': 24,\n",
       " 'transformed': 51,\n",
       " 'way': 53,\n",
       " 'we': 54,\n",
       " 'approach': 4,\n",
       " 'education': 17,\n",
       " 'making': 32,\n",
       " 'online': 38,\n",
       " 'learning': 31,\n",
       " 'platforms': 40,\n",
       " 'more': 34,\n",
       " 'popular': 41,\n",
       " 'than': 47,\n",
       " 'ever': 18,\n",
       " 'before': 8,\n",
       " 'stock': 45,\n",
       " 'market': 33,\n",
       " 'experienced': 19,\n",
       " 'significant': 43,\n",
       " 'downturn': 15,\n",
       " 'last': 29,\n",
       " 'week': 55,\n",
       " 'leading': 30,\n",
       " 'to': 49,\n",
       " 'concerns': 12,\n",
       " 'about': 1,\n",
       " 'overall': 39,\n",
       " 'health': 25,\n",
       " 'of': 35,\n",
       " 'global': 22,\n",
       " 'economy': 16,\n",
       " 'olympic': 36,\n",
       " 'games': 21,\n",
       " 'are': 5,\n",
       " 'showcase': 42,\n",
       " 'human': 26,\n",
       " 'athleticism': 7,\n",
       " 'and': 3,\n",
       " 'international': 28,\n",
       " 'unity': 52,\n",
       " 'bringing': 9,\n",
       " 'together': 50,\n",
       " 'athletes': 6,\n",
       " 'from': 20,\n",
       " 'all': 2,\n",
       " 'corners': 13,\n",
       " 'world': 56,\n",
       " 'compete': 11,\n",
       " 'on': 37,\n",
       " 'grand': 23,\n",
       " 'stage': 44}"
      ]
     },
     "execution_count": 52,
     "metadata": {},
     "output_type": "execute_result"
    }
   ],
   "source": [
    "ctv.vocabulary_"
   ]
  },
  {
   "cell_type": "code",
   "execution_count": 53,
   "metadata": {},
   "outputs": [],
   "source": [
    "import pandas as pd\n",
    "\n",
    "df = pd.DataFrame(\n",
    "    data = ctv1.toarray(),\n",
    "    index = ['d1', 'd2', 'd3'],\n",
    "    columns = terms\n",
    ")"
   ]
  },
  {
   "cell_type": "code",
   "execution_count": 54,
   "metadata": {},
   "outputs": [
    {
     "data": {
      "text/html": [
       "<div>\n",
       "<style scoped>\n",
       "    .dataframe tbody tr th:only-of-type {\n",
       "        vertical-align: middle;\n",
       "    }\n",
       "\n",
       "    .dataframe tbody tr th {\n",
       "        vertical-align: top;\n",
       "    }\n",
       "\n",
       "    .dataframe thead th {\n",
       "        text-align: right;\n",
       "    }\n",
       "</style>\n",
       "<table border=\"1\" class=\"dataframe\">\n",
       "  <thead>\n",
       "    <tr style=\"text-align: right;\">\n",
       "      <th></th>\n",
       "      <th>21st</th>\n",
       "      <th>about</th>\n",
       "      <th>all</th>\n",
       "      <th>and</th>\n",
       "      <th>approach</th>\n",
       "      <th>are</th>\n",
       "      <th>athletes</th>\n",
       "      <th>athleticism</th>\n",
       "      <th>before</th>\n",
       "      <th>bringing</th>\n",
       "      <th>...</th>\n",
       "      <th>than</th>\n",
       "      <th>the</th>\n",
       "      <th>to</th>\n",
       "      <th>together</th>\n",
       "      <th>transformed</th>\n",
       "      <th>unity</th>\n",
       "      <th>way</th>\n",
       "      <th>we</th>\n",
       "      <th>week</th>\n",
       "      <th>world</th>\n",
       "    </tr>\n",
       "  </thead>\n",
       "  <tbody>\n",
       "    <tr>\n",
       "      <th>d1</th>\n",
       "      <td>1</td>\n",
       "      <td>0</td>\n",
       "      <td>0</td>\n",
       "      <td>0</td>\n",
       "      <td>1</td>\n",
       "      <td>0</td>\n",
       "      <td>0</td>\n",
       "      <td>0</td>\n",
       "      <td>1</td>\n",
       "      <td>0</td>\n",
       "      <td>...</td>\n",
       "      <td>1</td>\n",
       "      <td>2</td>\n",
       "      <td>0</td>\n",
       "      <td>0</td>\n",
       "      <td>1</td>\n",
       "      <td>0</td>\n",
       "      <td>1</td>\n",
       "      <td>1</td>\n",
       "      <td>0</td>\n",
       "      <td>0</td>\n",
       "    </tr>\n",
       "    <tr>\n",
       "      <th>d2</th>\n",
       "      <td>0</td>\n",
       "      <td>1</td>\n",
       "      <td>0</td>\n",
       "      <td>0</td>\n",
       "      <td>0</td>\n",
       "      <td>0</td>\n",
       "      <td>0</td>\n",
       "      <td>0</td>\n",
       "      <td>0</td>\n",
       "      <td>0</td>\n",
       "      <td>...</td>\n",
       "      <td>0</td>\n",
       "      <td>3</td>\n",
       "      <td>1</td>\n",
       "      <td>0</td>\n",
       "      <td>0</td>\n",
       "      <td>0</td>\n",
       "      <td>0</td>\n",
       "      <td>0</td>\n",
       "      <td>1</td>\n",
       "      <td>0</td>\n",
       "    </tr>\n",
       "    <tr>\n",
       "      <th>d3</th>\n",
       "      <td>0</td>\n",
       "      <td>0</td>\n",
       "      <td>1</td>\n",
       "      <td>1</td>\n",
       "      <td>0</td>\n",
       "      <td>1</td>\n",
       "      <td>1</td>\n",
       "      <td>1</td>\n",
       "      <td>0</td>\n",
       "      <td>1</td>\n",
       "      <td>...</td>\n",
       "      <td>0</td>\n",
       "      <td>2</td>\n",
       "      <td>1</td>\n",
       "      <td>1</td>\n",
       "      <td>0</td>\n",
       "      <td>1</td>\n",
       "      <td>0</td>\n",
       "      <td>0</td>\n",
       "      <td>0</td>\n",
       "      <td>1</td>\n",
       "    </tr>\n",
       "  </tbody>\n",
       "</table>\n",
       "<p>3 rows × 57 columns</p>\n",
       "</div>"
      ],
      "text/plain": [
       "    21st  about  all  and  approach  are  athletes  athleticism  before  \\\n",
       "d1     1      0    0    0         1    0         0            0       1   \n",
       "d2     0      1    0    0         0    0         0            0       0   \n",
       "d3     0      0    1    1         0    1         1            1       0   \n",
       "\n",
       "    bringing  ...  than  the  to  together  transformed  unity  way  we  week  \\\n",
       "d1         0  ...     1    2   0         0            1      0    1   1     0   \n",
       "d2         0  ...     0    3   1         0            0      0    0   0     1   \n",
       "d3         1  ...     0    2   1         1            0      1    0   0     0   \n",
       "\n",
       "    world  \n",
       "d1      0  \n",
       "d2      0  \n",
       "d3      1  \n",
       "\n",
       "[3 rows x 57 columns]"
      ]
     },
     "execution_count": 54,
     "metadata": {},
     "output_type": "execute_result"
    }
   ],
   "source": [
    "df"
   ]
  }
 ],
 "metadata": {
  "kernelspec": {
   "display_name": "tf-intel",
   "language": "python",
   "name": "python3"
  },
  "language_info": {
   "codemirror_mode": {
    "name": "ipython",
    "version": 3
   },
   "file_extension": ".py",
   "mimetype": "text/x-python",
   "name": "python",
   "nbconvert_exporter": "python",
   "pygments_lexer": "ipython3",
   "version": "3.9.16"
  },
  "orig_nbformat": 4
 },
 "nbformat": 4,
 "nbformat_minor": 2
}
