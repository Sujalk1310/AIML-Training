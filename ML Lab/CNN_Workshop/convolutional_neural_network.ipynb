{
  "cells": [
    {
      "cell_type": "markdown",
      "metadata": {
        "id": "3DR-eO17geWu"
      },
      "source": [
        "# Convolutional Neural Network"
      ]
    },
    {
      "cell_type": "markdown",
      "metadata": {
        "id": "EMefrVPCg-60"
      },
      "source": [
        "### Importing the libraries"
      ]
    },
    {
      "cell_type": "code",
      "execution_count": 18,
      "metadata": {
        "id": "sCV30xyVhFbE"
      },
      "outputs": [],
      "source": [
        "import tensorflow as tf\n",
        "from keras.preprocessing.image import ImageDataGenerator"
      ]
    },
    {
      "cell_type": "code",
      "execution_count": 19,
      "metadata": {
        "colab": {
          "base_uri": "https://localhost:8080/",
          "height": 36
        },
        "id": "FIleuCAjoFD8",
        "outputId": "1f5b0e0f-f3dd-4e78-bc09-c2df1e45e4d5"
      },
      "outputs": [
        {
          "data": {
            "text/plain": [
              "'2.10.1'"
            ]
          },
          "execution_count": 19,
          "metadata": {},
          "output_type": "execute_result"
        }
      ],
      "source": [
        "tf.__version__"
      ]
    },
    {
      "cell_type": "markdown",
      "metadata": {
        "id": "oxQxCBWyoGPE"
      },
      "source": [
        "## Part 1 - Data Preprocessing"
      ]
    },
    {
      "cell_type": "markdown",
      "metadata": {
        "id": "MvE-heJNo3GG"
      },
      "source": [
        "### Preprocessing the Training set"
      ]
    },
    {
      "cell_type": "code",
      "execution_count": 20,
      "metadata": {
        "colab": {
          "base_uri": "https://localhost:8080/"
        },
        "id": "0koUcJMJpEBD",
        "outputId": "61000893-01a9-45d9-f4f8-36ee77c44f76"
      },
      "outputs": [
        {
          "name": "stdout",
          "output_type": "stream",
          "text": [
            "Found 8000 images belonging to 2 classes.\n"
          ]
        }
      ],
      "source": [
        "train_datagen = ImageDataGenerator(rescale = 1./255,\n",
        "                                   shear_range = 0.2,\n",
        "                                   zoom_range = 0.2,\n",
        "                                   horizontal_flip = True)\n",
        "training_set = train_datagen.flow_from_directory('Dataset/Cat_Dog/training_set',\n",
        "                                                 target_size = (64, 64),\n",
        "                                                 batch_size = 32,\n",
        "                                                 class_mode = 'binary')"
      ]
    },
    {
      "cell_type": "markdown",
      "metadata": {
        "id": "mrCMmGw9pHys"
      },
      "source": [
        "### Preprocessing the Test set"
      ]
    },
    {
      "cell_type": "code",
      "execution_count": 21,
      "metadata": {
        "colab": {
          "base_uri": "https://localhost:8080/"
        },
        "id": "SH4WzfOhpKc3",
        "outputId": "3d792bdb-07cd-48b8-e22d-f9361c8ce2e2"
      },
      "outputs": [
        {
          "name": "stdout",
          "output_type": "stream",
          "text": [
            "Found 2000 images belonging to 2 classes.\n"
          ]
        }
      ],
      "source": [
        "test_datagen = ImageDataGenerator(rescale = 1./255)\n",
        "test_set = test_datagen.flow_from_directory('Dataset/Cat_Dog/test_set',\n",
        "                                            target_size = (64, 64),\n",
        "                                            batch_size = 32,\n",
        "                                            class_mode = 'binary')"
      ]
    },
    {
      "cell_type": "markdown",
      "metadata": {
        "id": "af8O4l90gk7B"
      },
      "source": [
        "## Part 2 - Building the CNN"
      ]
    },
    {
      "cell_type": "markdown",
      "metadata": {
        "id": "ces1gXY2lmoX"
      },
      "source": [
        "### Initialising the CNN"
      ]
    },
    {
      "cell_type": "code",
      "execution_count": 22,
      "metadata": {
        "id": "SAUt4UMPlhLS"
      },
      "outputs": [],
      "source": [
        "cnn = tf.keras.models.Sequential()"
      ]
    },
    {
      "cell_type": "markdown",
      "metadata": {
        "id": "u5YJj_XMl5LF"
      },
      "source": [
        "### Step 1 - Convolution"
      ]
    },
    {
      "cell_type": "code",
      "execution_count": 23,
      "metadata": {
        "id": "XPzPrMckl-hV"
      },
      "outputs": [],
      "source": [
        "cnn.add(tf.keras.layers.Conv2D(filters=32, kernel_size=3, activation='relu', input_shape=[64, 64, 3]))"
      ]
    },
    {
      "cell_type": "markdown",
      "metadata": {
        "id": "tf87FpvxmNOJ"
      },
      "source": [
        "### Step 2 - Pooling"
      ]
    },
    {
      "cell_type": "code",
      "execution_count": 24,
      "metadata": {
        "id": "ncpqPl69mOac"
      },
      "outputs": [],
      "source": [
        "cnn.add(tf.keras.layers.MaxPool2D(pool_size=2, strides=2))"
      ]
    },
    {
      "cell_type": "markdown",
      "metadata": {
        "id": "xaTOgD8rm4mU"
      },
      "source": [
        "### Adding a second convolutional layer"
      ]
    },
    {
      "cell_type": "code",
      "execution_count": 25,
      "metadata": {
        "id": "i_-FZjn_m8gk"
      },
      "outputs": [],
      "source": [
        "cnn.add(tf.keras.layers.Conv2D(filters=32, kernel_size=3, activation='relu'))\n",
        "cnn.add(tf.keras.layers.MaxPool2D(pool_size=2, strides=2))"
      ]
    },
    {
      "cell_type": "markdown",
      "metadata": {
        "id": "tmiEuvTunKfk"
      },
      "source": [
        "### Step 3 - Flattening"
      ]
    },
    {
      "cell_type": "code",
      "execution_count": 26,
      "metadata": {
        "id": "6AZeOGCvnNZn"
      },
      "outputs": [],
      "source": [
        "cnn.add(tf.keras.layers.Flatten())"
      ]
    },
    {
      "cell_type": "markdown",
      "metadata": {
        "id": "dAoSECOm203v"
      },
      "source": [
        "### Step 4 - Full Connection"
      ]
    },
    {
      "cell_type": "code",
      "execution_count": 27,
      "metadata": {
        "id": "8GtmUlLd26Nq"
      },
      "outputs": [],
      "source": [
        "cnn.add(tf.keras.layers.Dense(units=128, activation='relu'))"
      ]
    },
    {
      "cell_type": "markdown",
      "metadata": {
        "id": "yTldFvbX28Na"
      },
      "source": [
        "### Step 5 - Output Layer"
      ]
    },
    {
      "cell_type": "code",
      "execution_count": 28,
      "metadata": {
        "id": "1p_Zj1Mc3Ko_"
      },
      "outputs": [],
      "source": [
        "cnn.add(tf.keras.layers.Dense(units=1, activation='sigmoid'))"
      ]
    },
    {
      "cell_type": "markdown",
      "metadata": {
        "id": "D6XkI90snSDl"
      },
      "source": [
        "## Part 3 - Training the CNN"
      ]
    },
    {
      "cell_type": "markdown",
      "metadata": {
        "id": "vfrFQACEnc6i"
      },
      "source": [
        "### Compiling the CNN"
      ]
    },
    {
      "cell_type": "code",
      "execution_count": 29,
      "metadata": {
        "id": "NALksrNQpUlJ"
      },
      "outputs": [],
      "source": [
        "cnn.compile(optimizer = 'adam', loss = 'binary_crossentropy', metrics = ['accuracy'])"
      ]
    },
    {
      "cell_type": "markdown",
      "metadata": {
        "id": "ehS-v3MIpX2h"
      },
      "source": [
        "### Training the CNN on the Training set and evaluating it on the Test set"
      ]
    },
    {
      "cell_type": "code",
      "execution_count": 30,
      "metadata": {
        "colab": {
          "base_uri": "https://localhost:8080/"
        },
        "id": "XUj1W4PJptta",
        "outputId": "ae3789e8-0810-4a0f-e0ea-47ca1863d491"
      },
      "outputs": [
        {
          "name": "stdout",
          "output_type": "stream",
          "text": [
            "Epoch 1/50\n",
            "250/250 [==============================] - 40s 158ms/step - loss: 0.6798 - accuracy: 0.5540 - val_loss: 0.6119 - val_accuracy: 0.6720\n",
            "Epoch 2/50\n",
            "250/250 [==============================] - 14s 56ms/step - loss: 0.6157 - accuracy: 0.6539 - val_loss: 0.5502 - val_accuracy: 0.7175\n",
            "Epoch 3/50\n",
            "250/250 [==============================] - 14s 56ms/step - loss: 0.5649 - accuracy: 0.7106 - val_loss: 0.5365 - val_accuracy: 0.7355\n",
            "Epoch 4/50\n",
            "250/250 [==============================] - 14s 56ms/step - loss: 0.5266 - accuracy: 0.7326 - val_loss: 0.5212 - val_accuracy: 0.7450\n",
            "Epoch 5/50\n",
            "250/250 [==============================] - 14s 57ms/step - loss: 0.4987 - accuracy: 0.7590 - val_loss: 0.5056 - val_accuracy: 0.7405\n",
            "Epoch 6/50\n",
            "250/250 [==============================] - 14s 57ms/step - loss: 0.4858 - accuracy: 0.7651 - val_loss: 0.4851 - val_accuracy: 0.7675\n",
            "Epoch 7/50\n",
            "250/250 [==============================] - 14s 57ms/step - loss: 0.4631 - accuracy: 0.7791 - val_loss: 0.4701 - val_accuracy: 0.7735\n",
            "Epoch 8/50\n",
            "250/250 [==============================] - 14s 57ms/step - loss: 0.4491 - accuracy: 0.7847 - val_loss: 0.4967 - val_accuracy: 0.7565\n",
            "Epoch 9/50\n",
            "250/250 [==============================] - 14s 57ms/step - loss: 0.4397 - accuracy: 0.7949 - val_loss: 0.4367 - val_accuracy: 0.7985\n",
            "Epoch 10/50\n",
            "250/250 [==============================] - 14s 57ms/step - loss: 0.4253 - accuracy: 0.8031 - val_loss: 0.4724 - val_accuracy: 0.7840\n",
            "Epoch 11/50\n",
            "250/250 [==============================] - 14s 58ms/step - loss: 0.4068 - accuracy: 0.8148 - val_loss: 0.4547 - val_accuracy: 0.7915\n",
            "Epoch 12/50\n",
            "250/250 [==============================] - 20s 78ms/step - loss: 0.3932 - accuracy: 0.8179 - val_loss: 0.4701 - val_accuracy: 0.7885\n",
            "Epoch 13/50\n",
            "250/250 [==============================] - 14s 58ms/step - loss: 0.3908 - accuracy: 0.8240 - val_loss: 0.4531 - val_accuracy: 0.7935\n",
            "Epoch 14/50\n",
            "250/250 [==============================] - 14s 56ms/step - loss: 0.3740 - accuracy: 0.8295 - val_loss: 0.4878 - val_accuracy: 0.7820\n",
            "Epoch 15/50\n",
            "250/250 [==============================] - 15s 59ms/step - loss: 0.3634 - accuracy: 0.8364 - val_loss: 0.4806 - val_accuracy: 0.7855\n",
            "Epoch 16/50\n",
            "250/250 [==============================] - 15s 58ms/step - loss: 0.3566 - accuracy: 0.8434 - val_loss: 0.4869 - val_accuracy: 0.7875\n",
            "Epoch 17/50\n",
            "250/250 [==============================] - 15s 60ms/step - loss: 0.3371 - accuracy: 0.8525 - val_loss: 0.4735 - val_accuracy: 0.7830\n",
            "Epoch 18/50\n",
            "250/250 [==============================] - 15s 60ms/step - loss: 0.3160 - accuracy: 0.8608 - val_loss: 0.4853 - val_accuracy: 0.7795\n",
            "Epoch 19/50\n",
            "250/250 [==============================] - 15s 60ms/step - loss: 0.3103 - accuracy: 0.8715 - val_loss: 0.5149 - val_accuracy: 0.7935\n",
            "Epoch 20/50\n",
            "250/250 [==============================] - 15s 59ms/step - loss: 0.2965 - accuracy: 0.8709 - val_loss: 0.5081 - val_accuracy: 0.7910\n",
            "Epoch 21/50\n",
            "250/250 [==============================] - 15s 60ms/step - loss: 0.2858 - accuracy: 0.8769 - val_loss: 0.5104 - val_accuracy: 0.8000\n",
            "Epoch 22/50\n",
            "250/250 [==============================] - 15s 62ms/step - loss: 0.2746 - accuracy: 0.8826 - val_loss: 0.5389 - val_accuracy: 0.7890\n",
            "Epoch 23/50\n",
            "250/250 [==============================] - 14s 56ms/step - loss: 0.2557 - accuracy: 0.8934 - val_loss: 0.5054 - val_accuracy: 0.7950\n",
            "Epoch 24/50\n",
            "250/250 [==============================] - 13s 53ms/step - loss: 0.2488 - accuracy: 0.8953 - val_loss: 0.5585 - val_accuracy: 0.7920\n",
            "Epoch 25/50\n",
            "250/250 [==============================] - 13s 53ms/step - loss: 0.2427 - accuracy: 0.8978 - val_loss: 0.6841 - val_accuracy: 0.7420\n",
            "Epoch 26/50\n",
            "250/250 [==============================] - 14s 54ms/step - loss: 0.2282 - accuracy: 0.9062 - val_loss: 0.5126 - val_accuracy: 0.7965\n",
            "Epoch 27/50\n",
            "250/250 [==============================] - 15s 58ms/step - loss: 0.2256 - accuracy: 0.9070 - val_loss: 0.5955 - val_accuracy: 0.7745\n",
            "Epoch 28/50\n",
            "250/250 [==============================] - 13s 53ms/step - loss: 0.2175 - accuracy: 0.9111 - val_loss: 0.5762 - val_accuracy: 0.7850\n",
            "Epoch 29/50\n",
            "250/250 [==============================] - 14s 55ms/step - loss: 0.2011 - accuracy: 0.9181 - val_loss: 0.5622 - val_accuracy: 0.7800\n",
            "Epoch 30/50\n",
            "250/250 [==============================] - 14s 54ms/step - loss: 0.1938 - accuracy: 0.9284 - val_loss: 0.5751 - val_accuracy: 0.8015\n",
            "Epoch 31/50\n",
            "250/250 [==============================] - 13s 53ms/step - loss: 0.1706 - accuracy: 0.9314 - val_loss: 0.5878 - val_accuracy: 0.7960\n",
            "Epoch 32/50\n",
            "250/250 [==============================] - 14s 57ms/step - loss: 0.1771 - accuracy: 0.9273 - val_loss: 0.6579 - val_accuracy: 0.7765\n",
            "Epoch 33/50\n",
            "250/250 [==============================] - 15s 59ms/step - loss: 0.1632 - accuracy: 0.9358 - val_loss: 0.6073 - val_accuracy: 0.7900\n",
            "Epoch 34/50\n",
            "250/250 [==============================] - 15s 61ms/step - loss: 0.1626 - accuracy: 0.9377 - val_loss: 0.6304 - val_accuracy: 0.7885\n",
            "Epoch 35/50\n",
            "250/250 [==============================] - 15s 59ms/step - loss: 0.1600 - accuracy: 0.9360 - val_loss: 0.6389 - val_accuracy: 0.7930\n",
            "Epoch 36/50\n",
            "250/250 [==============================] - 14s 56ms/step - loss: 0.1538 - accuracy: 0.9413 - val_loss: 0.6149 - val_accuracy: 0.7940\n",
            "Epoch 37/50\n",
            "250/250 [==============================] - 14s 55ms/step - loss: 0.1313 - accuracy: 0.9503 - val_loss: 0.6310 - val_accuracy: 0.7850\n",
            "Epoch 38/50\n",
            "250/250 [==============================] - 13s 53ms/step - loss: 0.1279 - accuracy: 0.9501 - val_loss: 0.6500 - val_accuracy: 0.7825\n",
            "Epoch 39/50\n",
            "250/250 [==============================] - 14s 57ms/step - loss: 0.1311 - accuracy: 0.9504 - val_loss: 0.7231 - val_accuracy: 0.7855\n",
            "Epoch 40/50\n",
            "250/250 [==============================] - 14s 56ms/step - loss: 0.1419 - accuracy: 0.9465 - val_loss: 0.7052 - val_accuracy: 0.7870\n",
            "Epoch 41/50\n",
            "250/250 [==============================] - 13s 52ms/step - loss: 0.1325 - accuracy: 0.9491 - val_loss: 0.7180 - val_accuracy: 0.8020\n",
            "Epoch 42/50\n",
            "250/250 [==============================] - 16s 62ms/step - loss: 0.1234 - accuracy: 0.9534 - val_loss: 0.7681 - val_accuracy: 0.7695\n",
            "Epoch 43/50\n",
            "250/250 [==============================] - 15s 59ms/step - loss: 0.1174 - accuracy: 0.9546 - val_loss: 0.7834 - val_accuracy: 0.7800\n",
            "Epoch 44/50\n",
            "250/250 [==============================] - 15s 62ms/step - loss: 0.1133 - accuracy: 0.9566 - val_loss: 0.6997 - val_accuracy: 0.7815\n",
            "Epoch 45/50\n",
            "250/250 [==============================] - 15s 59ms/step - loss: 0.1051 - accuracy: 0.9613 - val_loss: 0.7781 - val_accuracy: 0.7815\n",
            "Epoch 46/50\n",
            "250/250 [==============================] - 15s 60ms/step - loss: 0.0960 - accuracy: 0.9615 - val_loss: 0.8016 - val_accuracy: 0.7870\n",
            "Epoch 47/50\n",
            "250/250 [==============================] - 15s 60ms/step - loss: 0.1043 - accuracy: 0.9616 - val_loss: 0.7774 - val_accuracy: 0.7885\n",
            "Epoch 48/50\n",
            "250/250 [==============================] - 15s 60ms/step - loss: 0.0923 - accuracy: 0.9649 - val_loss: 0.8180 - val_accuracy: 0.7785\n",
            "Epoch 49/50\n",
            "250/250 [==============================] - 15s 61ms/step - loss: 0.0962 - accuracy: 0.9644 - val_loss: 0.8314 - val_accuracy: 0.7845\n",
            "Epoch 50/50\n",
            "250/250 [==============================] - 15s 60ms/step - loss: 0.0896 - accuracy: 0.9691 - val_loss: 0.8809 - val_accuracy: 0.7850\n"
          ]
        },
        {
          "data": {
            "text/plain": [
              "<keras.callbacks.History at 0x23142687fa0>"
            ]
          },
          "execution_count": 30,
          "metadata": {},
          "output_type": "execute_result"
        }
      ],
      "source": [
        "cnn.fit(x = training_set, validation_data = test_set, epochs = 50)"
      ]
    },
    {
      "cell_type": "markdown",
      "metadata": {
        "id": "U3PZasO0006Z"
      },
      "source": [
        "## Part 4 - Making a single prediction"
      ]
    },
    {
      "cell_type": "code",
      "execution_count": 31,
      "metadata": {
        "colab": {
          "base_uri": "https://localhost:8080/"
        },
        "id": "gsSiWEJY1BPB",
        "outputId": "ab4371fd-08c0-498f-b330-daaf8c5c4b38"
      },
      "outputs": [
        {
          "name": "stdout",
          "output_type": "stream",
          "text": [
            "1/1 [==============================] - 0s 60ms/step\n"
          ]
        }
      ],
      "source": [
        "import tensorflow as tf\n",
        "import numpy as np\n",
        "#from keras.preprocessing import image\n",
        "from keras.utils import load_img, img_to_array\n",
        "test_image = tf.keras.utils.load_img('Dataset/Cat_Dog/single_prediction/cat_or_dog_2.jpg', target_size = (64, 64))\n",
        "test_image =tf.keras.utils.img_to_array(test_image)\n",
        "test_image = np.expand_dims(test_image, axis = 0)\n",
        "result = cnn.predict(test_image)\n",
        "training_set.class_indices\n",
        "if result[0][0] == 1:\n",
        "  prediction = 'dog'\n",
        "else:\n",
        "  prediction = 'cat'"
      ]
    },
    {
      "cell_type": "code",
      "execution_count": 32,
      "metadata": {
        "colab": {
          "base_uri": "https://localhost:8080/"
        },
        "id": "ED9KB3I54c1i",
        "outputId": "95bb6633-aff7-4d3f-9844-286ac1462f0f"
      },
      "outputs": [
        {
          "name": "stdout",
          "output_type": "stream",
          "text": [
            "cat\n"
          ]
        }
      ],
      "source": [
        "print(prediction)"
      ]
    }
  ],
  "metadata": {
    "colab": {
      "provenance": []
    },
    "kernelspec": {
      "display_name": "Python 3",
      "language": "python",
      "name": "python3"
    },
    "language_info": {
      "codemirror_mode": {
        "name": "ipython",
        "version": 3
      },
      "file_extension": ".py",
      "mimetype": "text/x-python",
      "name": "python",
      "nbconvert_exporter": "python",
      "pygments_lexer": "ipython3",
      "version": "3.10.8 (tags/v3.10.8:aaaf517, Oct 11 2022, 16:50:30) [MSC v.1933 64 bit (AMD64)]"
    },
    "vscode": {
      "interpreter": {
        "hash": "1ed739916f056cbaa1c1d07d49b59abad810f48beee2c23ab8674585a1239e62"
      }
    }
  },
  "nbformat": 4,
  "nbformat_minor": 0
}
