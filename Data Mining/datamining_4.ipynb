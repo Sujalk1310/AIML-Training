{
  "nbformat": 4,
  "nbformat_minor": 0,
  "metadata": {
    "colab": {
      "provenance": []
    },
    "kernelspec": {
      "name": "python3",
      "display_name": "Python 3"
    },
    "language_info": {
      "name": "python"
    }
  },
  "cells": [
    {
      "cell_type": "code",
      "execution_count": 12,
      "metadata": {
        "colab": {
          "base_uri": "https://localhost:8080/"
        },
        "id": "WMV8M5Ex2Kka",
        "outputId": "5e7688c3-8d42-49f2-e570-b0a1e5808eaf"
      },
      "outputs": [
        {
          "output_type": "stream",
          "name": "stderr",
          "text": [
            "/usr/local/lib/python3.10/dist-packages/ipykernel/ipkernel.py:283: DeprecationWarning: `should_run_async` will not call `transform_cell` automatically in the future. Please pass the result to `transformed_cell` argument and any exception that happen during thetransform in `preprocessing_exc_tuple` in IPython 7.17 and above.\n",
            "  and should_run_async(code)\n"
          ]
        },
        {
          "output_type": "stream",
          "name": "stdout",
          "text": [
            "Requirement already satisfied: mlxtend in /usr/local/lib/python3.10/dist-packages (0.22.0)\n",
            "Requirement already satisfied: scipy>=1.2.1 in /usr/local/lib/python3.10/dist-packages (from mlxtend) (1.11.3)\n",
            "Requirement already satisfied: numpy>=1.16.2 in /usr/local/lib/python3.10/dist-packages (from mlxtend) (1.23.5)\n",
            "Requirement already satisfied: pandas>=0.24.2 in /usr/local/lib/python3.10/dist-packages (from mlxtend) (1.5.3)\n",
            "Requirement already satisfied: scikit-learn>=1.0.2 in /usr/local/lib/python3.10/dist-packages (from mlxtend) (1.2.2)\n",
            "Requirement already satisfied: matplotlib>=3.0.0 in /usr/local/lib/python3.10/dist-packages (from mlxtend) (3.7.1)\n",
            "Requirement already satisfied: joblib>=0.13.2 in /usr/local/lib/python3.10/dist-packages (from mlxtend) (1.3.2)\n",
            "Requirement already satisfied: setuptools in /usr/local/lib/python3.10/dist-packages (from mlxtend) (67.7.2)\n",
            "Requirement already satisfied: contourpy>=1.0.1 in /usr/local/lib/python3.10/dist-packages (from matplotlib>=3.0.0->mlxtend) (1.1.1)\n",
            "Requirement already satisfied: cycler>=0.10 in /usr/local/lib/python3.10/dist-packages (from matplotlib>=3.0.0->mlxtend) (0.12.1)\n",
            "Requirement already satisfied: fonttools>=4.22.0 in /usr/local/lib/python3.10/dist-packages (from matplotlib>=3.0.0->mlxtend) (4.43.1)\n",
            "Requirement already satisfied: kiwisolver>=1.0.1 in /usr/local/lib/python3.10/dist-packages (from matplotlib>=3.0.0->mlxtend) (1.4.5)\n",
            "Requirement already satisfied: packaging>=20.0 in /usr/local/lib/python3.10/dist-packages (from matplotlib>=3.0.0->mlxtend) (23.2)\n",
            "Requirement already satisfied: pillow>=6.2.0 in /usr/local/lib/python3.10/dist-packages (from matplotlib>=3.0.0->mlxtend) (9.4.0)\n",
            "Requirement already satisfied: pyparsing>=2.3.1 in /usr/local/lib/python3.10/dist-packages (from matplotlib>=3.0.0->mlxtend) (3.1.1)\n",
            "Requirement already satisfied: python-dateutil>=2.7 in /usr/local/lib/python3.10/dist-packages (from matplotlib>=3.0.0->mlxtend) (2.8.2)\n",
            "Requirement already satisfied: pytz>=2020.1 in /usr/local/lib/python3.10/dist-packages (from pandas>=0.24.2->mlxtend) (2023.3.post1)\n",
            "Requirement already satisfied: threadpoolctl>=2.0.0 in /usr/local/lib/python3.10/dist-packages (from scikit-learn>=1.0.2->mlxtend) (3.2.0)\n",
            "Requirement already satisfied: six>=1.5 in /usr/local/lib/python3.10/dist-packages (from python-dateutil>=2.7->matplotlib>=3.0.0->mlxtend) (1.16.0)\n"
          ]
        }
      ],
      "source": [
        "pip install mlxtend\n"
      ]
    },
    {
      "cell_type": "code",
      "source": [
        "from mlxtend.preprocessing import TransactionEncoder\n",
        "from mlxtend.frequent_patterns import apriori, association_rules\n",
        "import pandas as pd\n",
        "\n",
        "# Sample transactions\n",
        "transactions = [['bread', 'milk', 'eggs'],\n",
        "                ['bread', 'diapers', 'beer', 'eggs'],\n",
        "                ['milk', 'diapers', 'beer', 'cola'],\n",
        "                ['bread', 'milk', 'diapers', 'beer'],\n",
        "                ['bread', 'milk', 'diapers', 'cola']]\n",
        "\n",
        "# Encode the transactions\n",
        "te = TransactionEncoder()\n",
        "te_ary = te.fit(transactions).transform(transactions)\n",
        "df = pd.DataFrame(te_ary, columns=te.columns_)\n",
        "\n",
        "# Find frequent itemsets with minimum support\n",
        "frequent_itemsets = apriori(df, min_support=0.2, use_colnames=True)\n",
        "\n",
        "\n",
        "\n"
      ],
      "metadata": {
        "colab": {
          "base_uri": "https://localhost:8080/"
        },
        "id": "pVFbFvpN2Op1",
        "outputId": "2125f935-d626-4a43-a385-09f6ab37993d"
      },
      "execution_count": 13,
      "outputs": [
        {
          "output_type": "stream",
          "name": "stderr",
          "text": [
            "/usr/local/lib/python3.10/dist-packages/ipykernel/ipkernel.py:283: DeprecationWarning: `should_run_async` will not call `transform_cell` automatically in the future. Please pass the result to `transformed_cell` argument and any exception that happen during thetransform in `preprocessing_exc_tuple` in IPython 7.17 and above.\n",
            "  and should_run_async(code)\n"
          ]
        }
      ]
    },
    {
      "cell_type": "code",
      "source": [
        "from itertools import combinations\n",
        "\n",
        "# Sample transactions\n",
        "transactions = [['bread', 'milk', 'eggs'],\n",
        "                ['bread', 'diapers', 'beer', 'eggs'],\n",
        "                ['milk', 'diapers', 'beer', 'cola'],\n",
        "                ['bread', 'milk', 'diapers', 'beer'],\n",
        "                ['bread', 'milk', 'diapers', 'cola']]\n",
        "\n",
        "# Flatten the list of transactions\n",
        "items = set(item for transaction in transactions for item in transaction)\n",
        "\n",
        "# Generate all combinations of items\n",
        "for r in range(1, len(items) + 1):\n",
        "    item_combinations = combinations(items, r)\n",
        "    print(f'Combinations of {r} items:')\n",
        "    for combination in item_combinations:\n",
        "        print(combination)\n"
      ],
      "metadata": {
        "colab": {
          "base_uri": "https://localhost:8080/"
        },
        "id": "ODR_zDiG3gGW",
        "outputId": "0d17d0ba-5909-4f0a-b330-c08cf82d461c"
      },
      "execution_count": 14,
      "outputs": [
        {
          "output_type": "stream",
          "name": "stdout",
          "text": [
            "Combinations of 1 items:\n",
            "('cola',)\n",
            "('beer',)\n",
            "('diapers',)\n",
            "('bread',)\n",
            "('milk',)\n",
            "('eggs',)\n",
            "Combinations of 2 items:\n",
            "('cola', 'beer')\n",
            "('cola', 'diapers')\n",
            "('cola', 'bread')\n",
            "('cola', 'milk')\n",
            "('cola', 'eggs')\n",
            "('beer', 'diapers')\n",
            "('beer', 'bread')\n",
            "('beer', 'milk')\n",
            "('beer', 'eggs')\n",
            "('diapers', 'bread')\n",
            "('diapers', 'milk')\n",
            "('diapers', 'eggs')\n",
            "('bread', 'milk')\n",
            "('bread', 'eggs')\n",
            "('milk', 'eggs')\n",
            "Combinations of 3 items:\n",
            "('cola', 'beer', 'diapers')\n",
            "('cola', 'beer', 'bread')\n",
            "('cola', 'beer', 'milk')\n",
            "('cola', 'beer', 'eggs')\n",
            "('cola', 'diapers', 'bread')\n",
            "('cola', 'diapers', 'milk')\n",
            "('cola', 'diapers', 'eggs')\n",
            "('cola', 'bread', 'milk')\n",
            "('cola', 'bread', 'eggs')\n",
            "('cola', 'milk', 'eggs')\n",
            "('beer', 'diapers', 'bread')\n",
            "('beer', 'diapers', 'milk')\n",
            "('beer', 'diapers', 'eggs')\n",
            "('beer', 'bread', 'milk')\n",
            "('beer', 'bread', 'eggs')\n",
            "('beer', 'milk', 'eggs')\n",
            "('diapers', 'bread', 'milk')\n",
            "('diapers', 'bread', 'eggs')\n",
            "('diapers', 'milk', 'eggs')\n",
            "('bread', 'milk', 'eggs')\n",
            "Combinations of 4 items:\n",
            "('cola', 'beer', 'diapers', 'bread')\n",
            "('cola', 'beer', 'diapers', 'milk')\n",
            "('cola', 'beer', 'diapers', 'eggs')\n",
            "('cola', 'beer', 'bread', 'milk')\n",
            "('cola', 'beer', 'bread', 'eggs')\n",
            "('cola', 'beer', 'milk', 'eggs')\n",
            "('cola', 'diapers', 'bread', 'milk')\n",
            "('cola', 'diapers', 'bread', 'eggs')\n",
            "('cola', 'diapers', 'milk', 'eggs')\n",
            "('cola', 'bread', 'milk', 'eggs')\n",
            "('beer', 'diapers', 'bread', 'milk')\n",
            "('beer', 'diapers', 'bread', 'eggs')\n",
            "('beer', 'diapers', 'milk', 'eggs')\n",
            "('beer', 'bread', 'milk', 'eggs')\n",
            "('diapers', 'bread', 'milk', 'eggs')\n",
            "Combinations of 5 items:\n",
            "('cola', 'beer', 'diapers', 'bread', 'milk')\n",
            "('cola', 'beer', 'diapers', 'bread', 'eggs')\n",
            "('cola', 'beer', 'diapers', 'milk', 'eggs')\n",
            "('cola', 'beer', 'bread', 'milk', 'eggs')\n",
            "('cola', 'diapers', 'bread', 'milk', 'eggs')\n",
            "('beer', 'diapers', 'bread', 'milk', 'eggs')\n",
            "Combinations of 6 items:\n",
            "('cola', 'beer', 'diapers', 'bread', 'milk', 'eggs')\n"
          ]
        },
        {
          "output_type": "stream",
          "name": "stderr",
          "text": [
            "/usr/local/lib/python3.10/dist-packages/ipykernel/ipkernel.py:283: DeprecationWarning: `should_run_async` will not call `transform_cell` automatically in the future. Please pass the result to `transformed_cell` argument and any exception that happen during thetransform in `preprocessing_exc_tuple` in IPython 7.17 and above.\n",
            "  and should_run_async(code)\n"
          ]
        }
      ]
    },
    {
      "cell_type": "code",
      "source": [
        "from mlxtend.preprocessing import TransactionEncoder\n",
        "from mlxtend.frequent_patterns import apriori, association_rules\n",
        "from itertools import combinations\n",
        "\n",
        "# Sample transactions\n",
        "transactions = [['bread', 'milk', 'eggs'],\n",
        "                ['bread', 'diapers', 'beer', 'eggs'],\n",
        "                ['milk', 'diapers', 'beer', 'cola'],\n",
        "                ['bread', 'milk', 'diapers', 'beer'],\n",
        "                ['bread', 'milk', 'diapers', 'cola']]\n",
        "\n",
        "# Encode the transactions\n",
        "te = TransactionEncoder()\n",
        "te_ary = te.fit(transactions).transform(transactions)\n",
        "df = pd.DataFrame(te_ary, columns=te.columns_)\n",
        "\n",
        "# Find frequent itemsets with minimum support of 50%\n",
        "frequent_itemsets = apriori(df, min_support=0.5, use_colnames=True)\n",
        "\n",
        "# Generate association rules\n",
        "rules = association_rules(frequent_itemsets, metric=\"confidence\", min_threshold=0.75)\n",
        "\n",
        "# Print out the rules\n",
        "print(\"Combinations with support >= 50%:\")\n",
        "for index, row in frequent_itemsets.iterrows():\n",
        "    print(f\"{row['itemsets']} : {row['support']:.2f}\")\n",
        "\n",
        "print(\"\\nCombinations with confidence >= 75%:\")\n",
        "for index, row in rules.iterrows():\n",
        "    print(f\"Rule: {row['antecedents']} => {row['consequents']}, Confidence: {row['confidence']:.2f}\")\n",
        "\n"
      ],
      "metadata": {
        "colab": {
          "base_uri": "https://localhost:8080/"
        },
        "id": "rW22otTb4zMv",
        "outputId": "6d30b9f1-b64d-4aaa-a186-c76676cc6eba"
      },
      "execution_count": 15,
      "outputs": [
        {
          "output_type": "stream",
          "name": "stdout",
          "text": [
            "Combinations with support >= 50%:\n",
            "frozenset({'beer'}) : 0.60\n",
            "frozenset({'bread'}) : 0.80\n",
            "frozenset({'diapers'}) : 0.80\n",
            "frozenset({'milk'}) : 0.80\n",
            "frozenset({'diapers', 'beer'}) : 0.60\n",
            "frozenset({'diapers', 'bread'}) : 0.60\n",
            "frozenset({'milk', 'bread'}) : 0.60\n",
            "frozenset({'diapers', 'milk'}) : 0.60\n",
            "\n",
            "Combinations with confidence >= 75%:\n",
            "Rule: frozenset({'beer'}) => frozenset({'diapers'}), Confidence: 1.00\n"
          ]
        },
        {
          "output_type": "stream",
          "name": "stderr",
          "text": [
            "/usr/local/lib/python3.10/dist-packages/ipykernel/ipkernel.py:283: DeprecationWarning: `should_run_async` will not call `transform_cell` automatically in the future. Please pass the result to `transformed_cell` argument and any exception that happen during thetransform in `preprocessing_exc_tuple` in IPython 7.17 and above.\n",
            "  and should_run_async(code)\n"
          ]
        }
      ]
    }
  ]
}