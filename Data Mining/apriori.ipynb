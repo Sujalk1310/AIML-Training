{
 "cells": [
  {
   "cell_type": "code",
   "execution_count": 3,
   "metadata": {
    "ExecuteTime": {
     "end_time": "2019-05-31T11:46:52.394081Z",
     "start_time": "2019-05-31T11:46:51.727017Z"
    }
   },
   "outputs": [],
   "source": [
    "import numpy as np\n",
    "import pandas as pd\n",
    "import matplotlib.pyplot as plt\n",
    "from apyori import apriori"
   ]
  },
  {
   "cell_type": "code",
   "execution_count": 19,
   "metadata": {
    "ExecuteTime": {
     "end_time": "2019-05-31T11:46:52.446120Z",
     "start_time": "2019-05-31T11:46:52.396020Z"
    }
   },
   "outputs": [
    {
     "data": {
      "text/html": [
       "<div>\n",
       "<style scoped>\n",
       "    .dataframe tbody tr th:only-of-type {\n",
       "        vertical-align: middle;\n",
       "    }\n",
       "\n",
       "    .dataframe tbody tr th {\n",
       "        vertical-align: top;\n",
       "    }\n",
       "\n",
       "    .dataframe thead th {\n",
       "        text-align: right;\n",
       "    }\n",
       "</style>\n",
       "<table border=\"1\" class=\"dataframe\">\n",
       "  <thead>\n",
       "    <tr style=\"text-align: right;\">\n",
       "      <th></th>\n",
       "      <th>0</th>\n",
       "      <th>1</th>\n",
       "      <th>2</th>\n",
       "      <th>3</th>\n",
       "      <th>4</th>\n",
       "      <th>5</th>\n",
       "      <th>6</th>\n",
       "      <th>7</th>\n",
       "      <th>8</th>\n",
       "      <th>9</th>\n",
       "      <th>10</th>\n",
       "      <th>11</th>\n",
       "      <th>12</th>\n",
       "      <th>13</th>\n",
       "      <th>14</th>\n",
       "      <th>15</th>\n",
       "      <th>16</th>\n",
       "      <th>17</th>\n",
       "      <th>18</th>\n",
       "      <th>19</th>\n",
       "    </tr>\n",
       "  </thead>\n",
       "  <tbody>\n",
       "    <tr>\n",
       "      <th>0</th>\n",
       "      <td>shrimp</td>\n",
       "      <td>almonds</td>\n",
       "      <td>avocado</td>\n",
       "      <td>vegetables mix</td>\n",
       "      <td>green grapes</td>\n",
       "      <td>whole weat flour</td>\n",
       "      <td>yams</td>\n",
       "      <td>cottage cheese</td>\n",
       "      <td>energy drink</td>\n",
       "      <td>tomato juice</td>\n",
       "      <td>low fat yogurt</td>\n",
       "      <td>green tea</td>\n",
       "      <td>honey</td>\n",
       "      <td>salad</td>\n",
       "      <td>mineral water</td>\n",
       "      <td>salmon</td>\n",
       "      <td>antioxydant juice</td>\n",
       "      <td>frozen smoothie</td>\n",
       "      <td>spinach</td>\n",
       "      <td>olive oil</td>\n",
       "    </tr>\n",
       "    <tr>\n",
       "      <th>1</th>\n",
       "      <td>burgers</td>\n",
       "      <td>meatballs</td>\n",
       "      <td>eggs</td>\n",
       "      <td>NaN</td>\n",
       "      <td>NaN</td>\n",
       "      <td>NaN</td>\n",
       "      <td>NaN</td>\n",
       "      <td>NaN</td>\n",
       "      <td>NaN</td>\n",
       "      <td>NaN</td>\n",
       "      <td>NaN</td>\n",
       "      <td>NaN</td>\n",
       "      <td>NaN</td>\n",
       "      <td>NaN</td>\n",
       "      <td>NaN</td>\n",
       "      <td>NaN</td>\n",
       "      <td>NaN</td>\n",
       "      <td>NaN</td>\n",
       "      <td>NaN</td>\n",
       "      <td>NaN</td>\n",
       "    </tr>\n",
       "    <tr>\n",
       "      <th>2</th>\n",
       "      <td>chutney</td>\n",
       "      <td>NaN</td>\n",
       "      <td>NaN</td>\n",
       "      <td>NaN</td>\n",
       "      <td>NaN</td>\n",
       "      <td>NaN</td>\n",
       "      <td>NaN</td>\n",
       "      <td>NaN</td>\n",
       "      <td>NaN</td>\n",
       "      <td>NaN</td>\n",
       "      <td>NaN</td>\n",
       "      <td>NaN</td>\n",
       "      <td>NaN</td>\n",
       "      <td>NaN</td>\n",
       "      <td>NaN</td>\n",
       "      <td>NaN</td>\n",
       "      <td>NaN</td>\n",
       "      <td>NaN</td>\n",
       "      <td>NaN</td>\n",
       "      <td>NaN</td>\n",
       "    </tr>\n",
       "    <tr>\n",
       "      <th>3</th>\n",
       "      <td>turkey</td>\n",
       "      <td>avocado</td>\n",
       "      <td>NaN</td>\n",
       "      <td>NaN</td>\n",
       "      <td>NaN</td>\n",
       "      <td>NaN</td>\n",
       "      <td>NaN</td>\n",
       "      <td>NaN</td>\n",
       "      <td>NaN</td>\n",
       "      <td>NaN</td>\n",
       "      <td>NaN</td>\n",
       "      <td>NaN</td>\n",
       "      <td>NaN</td>\n",
       "      <td>NaN</td>\n",
       "      <td>NaN</td>\n",
       "      <td>NaN</td>\n",
       "      <td>NaN</td>\n",
       "      <td>NaN</td>\n",
       "      <td>NaN</td>\n",
       "      <td>NaN</td>\n",
       "    </tr>\n",
       "    <tr>\n",
       "      <th>4</th>\n",
       "      <td>mineral water</td>\n",
       "      <td>milk</td>\n",
       "      <td>energy bar</td>\n",
       "      <td>whole wheat rice</td>\n",
       "      <td>green tea</td>\n",
       "      <td>NaN</td>\n",
       "      <td>NaN</td>\n",
       "      <td>NaN</td>\n",
       "      <td>NaN</td>\n",
       "      <td>NaN</td>\n",
       "      <td>NaN</td>\n",
       "      <td>NaN</td>\n",
       "      <td>NaN</td>\n",
       "      <td>NaN</td>\n",
       "      <td>NaN</td>\n",
       "      <td>NaN</td>\n",
       "      <td>NaN</td>\n",
       "      <td>NaN</td>\n",
       "      <td>NaN</td>\n",
       "      <td>NaN</td>\n",
       "    </tr>\n",
       "  </tbody>\n",
       "</table>\n",
       "</div>"
      ],
      "text/plain": [
       "              0          1           2                 3             4   \\\n",
       "0         shrimp    almonds     avocado    vegetables mix  green grapes   \n",
       "1        burgers  meatballs        eggs               NaN           NaN   \n",
       "2        chutney        NaN         NaN               NaN           NaN   \n",
       "3         turkey    avocado         NaN               NaN           NaN   \n",
       "4  mineral water       milk  energy bar  whole wheat rice     green tea   \n",
       "\n",
       "                 5     6               7             8             9   \\\n",
       "0  whole weat flour  yams  cottage cheese  energy drink  tomato juice   \n",
       "1               NaN   NaN             NaN           NaN           NaN   \n",
       "2               NaN   NaN             NaN           NaN           NaN   \n",
       "3               NaN   NaN             NaN           NaN           NaN   \n",
       "4               NaN   NaN             NaN           NaN           NaN   \n",
       "\n",
       "               10         11     12     13             14      15  \\\n",
       "0  low fat yogurt  green tea  honey  salad  mineral water  salmon   \n",
       "1             NaN        NaN    NaN    NaN            NaN     NaN   \n",
       "2             NaN        NaN    NaN    NaN            NaN     NaN   \n",
       "3             NaN        NaN    NaN    NaN            NaN     NaN   \n",
       "4             NaN        NaN    NaN    NaN            NaN     NaN   \n",
       "\n",
       "                  16               17       18         19  \n",
       "0  antioxydant juice  frozen smoothie  spinach  olive oil  \n",
       "1                NaN              NaN      NaN        NaN  \n",
       "2                NaN              NaN      NaN        NaN  \n",
       "3                NaN              NaN      NaN        NaN  \n",
       "4                NaN              NaN      NaN        NaN  "
      ]
     },
     "metadata": {},
     "output_type": "display_data"
    },
    {
     "name": "stdout",
     "output_type": "stream",
     "text": [
      "(7501, 20)\n"
     ]
    }
   ],
   "source": [
    "store_data = pd.read_csv(\"store_data.csv\", header=None)\n",
    "display(store_data.head())\n",
    "print(store_data.shape)"
   ]
  },
  {
   "cell_type": "code",
   "execution_count": 20,
   "metadata": {
    "ExecuteTime": {
     "end_time": "2019-05-31T11:46:53.754118Z",
     "start_time": "2019-05-31T11:46:52.448022Z"
    }
   },
   "outputs": [],
   "source": [
    "records = []\n",
    "for i in range(1, 7501):\n",
    "    records.append([str(store_data.values[i, j]) for j in range(0, 20)])"
   ]
  },
  {
   "cell_type": "code",
   "execution_count": 21,
   "metadata": {
    "ExecuteTime": {
     "end_time": "2019-05-31T11:46:53.759119Z",
     "start_time": "2019-05-31T11:46:53.756117Z"
    }
   },
   "outputs": [
    {
     "name": "stdout",
     "output_type": "stream",
     "text": [
      "<class 'list'>\n"
     ]
    }
   ],
   "source": [
    "print(type(records))"
   ]
  },
  {
   "cell_type": "code",
   "execution_count": 22,
   "metadata": {
    "ExecuteTime": {
     "end_time": "2019-05-31T11:47:42.407141Z",
     "start_time": "2019-05-31T11:47:40.566100Z"
    }
   },
   "outputs": [],
   "source": [
    "association_rules = apriori(records, min_support=0.0045, min_confidence=0.2, min_lift=3, min_length=2)\n",
    "association_results = list(association_rules)"
   ]
  },
  {
   "cell_type": "code",
   "execution_count": 23,
   "metadata": {
    "ExecuteTime": {
     "end_time": "2019-05-31T11:46:55.776118Z",
     "start_time": "2019-05-31T11:46:55.770118Z"
    }
   },
   "outputs": [
    {
     "name": "stdout",
     "output_type": "stream",
     "text": [
      "There are 48 Relation derived.\n"
     ]
    }
   ],
   "source": [
    "print(\"There are {} Relation derived.\".format(len(association_results)))"
   ]
  },
  {
   "cell_type": "code",
   "execution_count": 24,
   "metadata": {
    "ExecuteTime": {
     "end_time": "2019-05-31T11:46:55.873119Z",
     "start_time": "2019-05-31T11:46:55.778119Z"
    },
    "code_folding": []
   },
   "outputs": [
    {
     "name": "stdout",
     "output_type": "stream",
     "text": [
      "frozenset({'chicken', 'light cream'})\n",
      "frozenset({'mushroom cream sauce', 'escalope'})\n",
      "frozenset({'escalope', 'pasta'})\n",
      "frozenset({'herb & pepper', 'ground beef'})\n",
      "frozenset({'ground beef', 'tomato sauce'})\n",
      "frozenset({'olive oil', 'whole wheat pasta'})\n",
      "frozenset({'pasta', 'shrimp'})\n",
      "frozenset({'nan', 'chicken', 'light cream'})\n",
      "frozenset({'shrimp', 'chocolate', 'frozen vegetables'})\n",
      "frozenset({'cooking oil', 'spaghetti', 'ground beef'})\n",
      "frozenset({'nan', 'mushroom cream sauce', 'escalope'})\n",
      "frozenset({'nan', 'escalope', 'pasta'})\n",
      "frozenset({'spaghetti', 'ground beef', 'frozen vegetables'})\n",
      "frozenset({'olive oil', 'milk', 'frozen vegetables'})\n",
      "frozenset({'mineral water', 'shrimp', 'frozen vegetables'})\n",
      "frozenset({'olive oil', 'spaghetti', 'frozen vegetables'})\n",
      "frozenset({'spaghetti', 'shrimp', 'frozen vegetables'})\n",
      "frozenset({'tomatoes', 'spaghetti', 'frozen vegetables'})\n",
      "frozenset({'ground beef', 'spaghetti', 'grated cheese'})\n",
      "frozenset({'herb & pepper', 'ground beef', 'mineral water'})\n",
      "frozenset({'nan', 'herb & pepper', 'ground beef'})\n",
      "frozenset({'herb & pepper', 'spaghetti', 'ground beef'})\n",
      "frozenset({'olive oil', 'ground beef', 'milk'})\n",
      "frozenset({'nan', 'ground beef', 'tomato sauce'})\n",
      "frozenset({'spaghetti', 'shrimp', 'ground beef'})\n",
      "frozenset({'olive oil', 'spaghetti', 'milk'})\n",
      "frozenset({'olive oil', 'soup', 'mineral water'})\n",
      "frozenset({'olive oil', 'nan', 'whole wheat pasta'})\n",
      "frozenset({'nan', 'pasta', 'shrimp'})\n",
      "frozenset({'olive oil', 'spaghetti', 'pancakes'})\n",
      "frozenset({'nan', 'shrimp', 'chocolate', 'frozen vegetables'})\n",
      "frozenset({'nan', 'cooking oil', 'spaghetti', 'ground beef'})\n",
      "frozenset({'nan', 'spaghetti', 'ground beef', 'frozen vegetables'})\n",
      "frozenset({'mineral water', 'spaghetti', 'milk', 'frozen vegetables'})\n",
      "frozenset({'olive oil', 'nan', 'milk', 'frozen vegetables'})\n",
      "frozenset({'nan', 'mineral water', 'shrimp', 'frozen vegetables'})\n",
      "frozenset({'olive oil', 'nan', 'spaghetti', 'frozen vegetables'})\n",
      "frozenset({'nan', 'spaghetti', 'shrimp', 'frozen vegetables'})\n",
      "frozenset({'nan', 'tomatoes', 'spaghetti', 'frozen vegetables'})\n",
      "frozenset({'nan', 'ground beef', 'spaghetti', 'grated cheese'})\n",
      "frozenset({'nan', 'herb & pepper', 'ground beef', 'mineral water'})\n",
      "frozenset({'nan', 'herb & pepper', 'spaghetti', 'ground beef'})\n",
      "frozenset({'olive oil', 'nan', 'ground beef', 'milk'})\n",
      "frozenset({'nan', 'spaghetti', 'shrimp', 'ground beef'})\n",
      "frozenset({'olive oil', 'nan', 'spaghetti', 'milk'})\n",
      "frozenset({'olive oil', 'nan', 'soup', 'mineral water'})\n",
      "frozenset({'olive oil', 'nan', 'spaghetti', 'pancakes'})\n",
      "frozenset({'milk', 'mineral water', 'nan', 'spaghetti', 'frozen vegetables'})\n"
     ]
    }
   ],
   "source": [
    "for i in range(0, len(association_results)):\n",
    "    print(association_results[i][0])"
   ]
  },
  {
   "cell_type": "code",
   "execution_count": 31,
   "metadata": {
    "ExecuteTime": {
     "end_time": "2019-05-31T11:48:08.589737Z",
     "start_time": "2019-05-31T11:48:08.573742Z"
    },
    "scrolled": false
   },
   "outputs": [
    {
     "name": "stdout",
     "output_type": "stream",
     "text": [
      "Rule: mushroom cream sauce -> escalope\n",
      "Rule: escalope -> pasta\n",
      "Rule: herb & pepper -> ground beef\n",
      "Rule: ground beef -> tomato sauce\n",
      "Rule: pasta -> shrimp\n",
      "Rule: spaghetti -> ground beef\n",
      "Rule: mineral water -> shrimp\n",
      "Rule: ground beef -> spaghetti\n",
      "Rule: herb & pepper -> ground beef\n",
      "Rule: herb & pepper -> spaghetti\n",
      "Rule: spaghetti -> shrimp\n"
     ]
    }
   ],
   "source": [
    "for item in association_results:\n",
    "    \n",
    "    pair = item[0]\n",
    "    items = [x for x in pair]\n",
    "    if(item[1]>0.005 and item[2][0][2]>0.3 and ('nan' not in item[0])):\n",
    "        print(\"Rule: \" + items[0] + \" -> \" + items[1])\n",
    "\n",
    "    \n",
    "       "
   ]
  },
  {
   "cell_type": "code",
   "execution_count": null,
   "metadata": {},
   "outputs": [],
   "source": []
  }
 ],
 "metadata": {
  "hide_input": false,
  "kernelspec": {
   "display_name": "Python 3 (ipykernel)",
   "language": "python",
   "name": "python3"
  },
  "language_info": {
   "codemirror_mode": {
    "name": "ipython",
    "version": 3
   },
   "file_extension": ".py",
   "mimetype": "text/x-python",
   "name": "python",
   "nbconvert_exporter": "python",
   "pygments_lexer": "ipython3",
   "version": "3.9.12"
  },
  "latex_envs": {
   "LaTeX_envs_menu_present": true,
   "autoclose": false,
   "autocomplete": true,
   "bibliofile": "biblio.bib",
   "cite_by": "apalike",
   "current_citInitial": 1,
   "eqLabelWithNumbers": true,
   "eqNumInitial": 1,
   "hotkeys": {
    "equation": "Ctrl-E",
    "itemize": "Ctrl-I"
   },
   "labels_anchors": false,
   "latex_user_defs": false,
   "report_style_numbering": false,
   "user_envs_cfg": false
  },
  "nbTranslate": {
   "displayLangs": [
    "*"
   ],
   "hotkey": "alt-t",
   "langInMainMenu": true,
   "sourceLang": "en",
   "targetLang": "fr",
   "useGoogleTranslate": true
  },
  "toc": {
   "base_numbering": 1,
   "nav_menu": {},
   "number_sections": true,
   "sideBar": true,
   "skip_h1_title": false,
   "title_cell": "Table of Contents",
   "title_sidebar": "Contents",
   "toc_cell": false,
   "toc_position": {},
   "toc_section_display": true,
   "toc_window_display": false
  },
  "varInspector": {
   "cols": {
    "lenName": 16,
    "lenType": 16,
    "lenVar": 40
   },
   "kernels_config": {
    "python": {
     "delete_cmd_postfix": "",
     "delete_cmd_prefix": "del ",
     "library": "var_list.py",
     "varRefreshCmd": "print(var_dic_list())"
    },
    "r": {
     "delete_cmd_postfix": ") ",
     "delete_cmd_prefix": "rm(",
     "library": "var_list.r",
     "varRefreshCmd": "cat(var_dic_list()) "
    }
   },
   "types_to_exclude": [
    "module",
    "function",
    "builtin_function_or_method",
    "instance",
    "_Feature"
   ],
   "window_display": false
  }
 },
 "nbformat": 4,
 "nbformat_minor": 2
}
