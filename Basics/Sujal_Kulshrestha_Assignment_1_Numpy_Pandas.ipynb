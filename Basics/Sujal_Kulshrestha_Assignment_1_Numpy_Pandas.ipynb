{
  "cells": [
    {
      "cell_type": "markdown",
      "metadata": {
        "id": "P1SrbdMR8I22"
      },
      "source": [
        "<div style=\"display: flex; flex-direction: column; align-items: center; padding-top: 5px;\">\n",
        "    <div style=\"display: flex; gap: 0 50px;\">\n",
        "        <img style=\"box-sizing: border-box; border-radius: 100%; outline: 10px solid lightblue; border: 3px solid black;\" src=\"https://cdn.discordapp.com/attachments/998995040514883694/1005571542001909840/Sujal.jpg\" width=\"200px\" alt=\"Profile_Pic\" />\n",
        "        <div style=\"display: flex; flex-direction: column; justify-content: center; line-height: 0;\">\n",
        "            <h1>Sujal Kulshrestha</h1>\n",
        "            <h3>2115500144 - 2T - (51)</h3>\n",
        "            <h3>GLA University, Mathura (281406)</h3>\n",
        "        </div>\n",
        "        <img height=\"140px\" style=\"padding-top: 20px; padding-right: 50px;\" src=\"https://cdn.discordapp.com/attachments/998995040514883694/1018942042178588752/GLA.png\" alt=\"GLA Logo\" />\n",
        "    </div>\n",
        "    <h3 style=\"text-align: center; text-decoration: underline;\"> Assingment - 1 (Numpy & Pandas) </h3>\n",
        "</div>"
      ]
    },
    {
      "cell_type": "markdown",
      "metadata": {
        "id": "nGFx7K5s8I24"
      },
      "source": [
        "# **Numpy**\n",
        "* **Importing the Library**"
      ]
    },
    {
      "cell_type": "code",
      "execution_count": null,
      "metadata": {
        "id": "CvsWaCzv8I25"
      },
      "outputs": [],
      "source": [
        "import numpy as np"
      ]
    },
    {
      "cell_type": "markdown",
      "metadata": {
        "id": "oFLw44898I27"
      },
      "source": [
        "* **Creating an Array**"
      ]
    },
    {
      "cell_type": "code",
      "execution_count": null,
      "metadata": {
        "id": "mtBgGqA68I27",
        "outputId": "11669526-af0b-4313-d0a7-06c6b55c356d"
      },
      "outputs": [
        {
          "name": "stdout",
          "output_type": "stream",
          "text": [
            "[1 2 3]\n"
          ]
        }
      ],
      "source": [
        "Array = np.array([1, 2, 3])\n",
        "print(Array)"
      ]
    },
    {
      "cell_type": "code",
      "execution_count": null,
      "metadata": {
        "id": "qv-uz_4O8I28",
        "outputId": "9a556e63-0b88-41cc-8bd5-5d05bbbaf982"
      },
      "outputs": [
        {
          "name": "stdout",
          "output_type": "stream",
          "text": [
            "[1 2 3 4 5 6]\n"
          ]
        }
      ],
      "source": [
        "My_List = [1, 2, 3, 4, 5, 6]\n",
        "Array = np.array(My_List)\n",
        "print(Array)"
      ]
    },
    {
      "cell_type": "markdown",
      "metadata": {
        "id": "Lv06pHrn8I29"
      },
      "source": [
        "* **Trying different Numpy Operaions**"
      ]
    },
    {
      "cell_type": "code",
      "execution_count": null,
      "metadata": {
        "id": "UmgjsFjx8I29",
        "outputId": "d574c9a5-cd5c-434b-8b94-1c39c7342d71"
      },
      "outputs": [
        {
          "name": "stdout",
          "output_type": "stream",
          "text": [
            "[[1 2 3]\n",
            " [4 5 6]]\n"
          ]
        }
      ],
      "source": [
        "My_List = [[1, 2, 3], [4, 5, 6]]\n",
        "Array = np.array(My_List)\n",
        "print(Array)"
      ]
    },
    {
      "cell_type": "code",
      "execution_count": null,
      "metadata": {
        "id": "DoNPFXoQ8I29",
        "outputId": "e612caa9-b625-4f39-afbc-17a4116d7f26"
      },
      "outputs": [
        {
          "name": "stdout",
          "output_type": "stream",
          "text": [
            "<class 'numpy.ndarray'>\n"
          ]
        }
      ],
      "source": [
        "print(type(Array))"
      ]
    },
    {
      "cell_type": "code",
      "execution_count": null,
      "metadata": {
        "id": "JcN2chJh8I2-",
        "outputId": "a5a29d55-8f01-4103-9207-7115b69e255b"
      },
      "outputs": [
        {
          "name": "stdout",
          "output_type": "stream",
          "text": [
            "2\n"
          ]
        }
      ],
      "source": [
        "print(Array.ndim)"
      ]
    },
    {
      "cell_type": "code",
      "execution_count": null,
      "metadata": {
        "id": "dDeENziq8I2-",
        "outputId": "ff4118ba-3862-4108-b9ca-a2fb7d33d1da"
      },
      "outputs": [
        {
          "name": "stdout",
          "output_type": "stream",
          "text": [
            "(2, 3)\n"
          ]
        }
      ],
      "source": [
        "print(Array.shape)"
      ]
    },
    {
      "cell_type": "code",
      "execution_count": null,
      "metadata": {
        "id": "l4vvUvrj8I2-",
        "outputId": "60753df0-6931-4ca4-b0f7-48261376cc66"
      },
      "outputs": [
        {
          "name": "stdout",
          "output_type": "stream",
          "text": [
            "int32\n"
          ]
        }
      ],
      "source": [
        "print(Array.dtype)"
      ]
    },
    {
      "cell_type": "code",
      "execution_count": null,
      "metadata": {
        "id": "rluFWopc8I2-",
        "outputId": "f1044a3a-ee77-4259-8c3b-dbfe6cd0b1ab"
      },
      "outputs": [
        {
          "name": "stdout",
          "output_type": "stream",
          "text": [
            "6\n"
          ]
        }
      ],
      "source": [
        "print(Array.size)"
      ]
    },
    {
      "cell_type": "markdown",
      "metadata": {
        "id": "jRTmvkdG8I2_"
      },
      "source": [
        "# 1. Numpy Creating Arrays"
      ]
    },
    {
      "cell_type": "code",
      "execution_count": null,
      "metadata": {
        "id": "EAef2kFB8I2_",
        "outputId": "f3c43f8e-d787-4784-a14f-b8461400c0ef"
      },
      "outputs": [
        {
          "name": "stdout",
          "output_type": "stream",
          "text": [
            "42\n"
          ]
        }
      ],
      "source": [
        "# Creating 0-d Array\n",
        "arr = np.array(42)\n",
        "print(arr)"
      ]
    },
    {
      "cell_type": "code",
      "execution_count": null,
      "metadata": {
        "id": "GhI54Bka8I2_",
        "outputId": "fad0ab2f-3d6c-450a-c89d-75d7553dfd7c"
      },
      "outputs": [
        {
          "name": "stdout",
          "output_type": "stream",
          "text": [
            "[1 2 3 4 5]\n"
          ]
        }
      ],
      "source": [
        "# Creating 1-d Array\n",
        "arr = np.array([1, 2, 3, 4, 5])\n",
        "print(arr)"
      ]
    },
    {
      "cell_type": "code",
      "execution_count": null,
      "metadata": {
        "id": "5parKrnv8I2_",
        "outputId": "3a6779ef-dbe5-4ca3-b32c-72b979873015"
      },
      "outputs": [
        {
          "name": "stdout",
          "output_type": "stream",
          "text": [
            "[[1 2 3]\n",
            " [4 5 6]]\n"
          ]
        }
      ],
      "source": [
        "# Creataing 2-d Array\n",
        "arr = np.array([[1, 2, 3], [4, 5, 6]])\n",
        "print(arr)"
      ]
    },
    {
      "cell_type": "code",
      "execution_count": null,
      "metadata": {
        "id": "uc5P4Q5p8I3A",
        "outputId": "67e1c3f9-98c6-44e9-a338-bc82df141d56"
      },
      "outputs": [
        {
          "name": "stdout",
          "output_type": "stream",
          "text": [
            "[[[1 2 3]\n",
            "  [4 5 6]]\n",
            "\n",
            " [[1 2 3]\n",
            "  [4 5 6]]]\n"
          ]
        }
      ],
      "source": [
        "# Creating 3-d Array\n",
        "arr = np.array([[[1, 2, 3], [4, 5, 6]], [[1, 2, 3], [4, 5, 6]]])\n",
        "print(arr)"
      ]
    },
    {
      "cell_type": "markdown",
      "metadata": {
        "id": "ko0nOrXg8I3A"
      },
      "source": [
        "# 2. Numpy Array Indexing"
      ]
    },
    {
      "cell_type": "code",
      "execution_count": null,
      "metadata": {
        "id": "-6Bq60PH8I3A",
        "outputId": "9d5c948c-a648-4177-9307-142353883c93"
      },
      "outputs": [
        {
          "name": "stdout",
          "output_type": "stream",
          "text": [
            "1\n"
          ]
        }
      ],
      "source": [
        "arr = np.array([1, 2, 3, 4])\n",
        "print(arr[0])"
      ]
    },
    {
      "cell_type": "code",
      "execution_count": null,
      "metadata": {
        "id": "iHLnlUcE8I3A",
        "outputId": "3578afde-1cab-46d5-d40f-36de117fc329"
      },
      "outputs": [
        {
          "name": "stdout",
          "output_type": "stream",
          "text": [
            "2\n"
          ]
        }
      ],
      "source": [
        "arr = np.array([1, 2, 3, 4])\n",
        "print(arr[1])"
      ]
    },
    {
      "cell_type": "code",
      "execution_count": null,
      "metadata": {
        "id": "r4KxMPKn8I3A",
        "outputId": "a266629c-c7f9-4837-8c6d-c14055a3a0bc"
      },
      "outputs": [
        {
          "name": "stdout",
          "output_type": "stream",
          "text": [
            "7\n"
          ]
        }
      ],
      "source": [
        "arr = np.array([1, 2, 3, 4])\n",
        "print(arr[2] + arr[3])"
      ]
    },
    {
      "cell_type": "code",
      "execution_count": null,
      "metadata": {
        "id": "n-d7fSlI8I3B",
        "outputId": "416fca92-fb7f-41d8-d625-3536948ece21"
      },
      "outputs": [
        {
          "name": "stdout",
          "output_type": "stream",
          "text": [
            "2nd element on 1st row:  2\n"
          ]
        }
      ],
      "source": [
        "arr = np.array([[1,2,3,4,5], [6,7,8,9,10]])\n",
        "print('2nd element on 1st row: ', arr[0, 1])"
      ]
    },
    {
      "cell_type": "code",
      "execution_count": null,
      "metadata": {
        "id": "Ytuld42r8I3B",
        "outputId": "c5698339-6a86-42c8-d964-6032492082c1"
      },
      "outputs": [
        {
          "name": "stdout",
          "output_type": "stream",
          "text": [
            "5th element on 2nd row:  10\n"
          ]
        }
      ],
      "source": [
        "arr = np.array([[1,2,3,4,5], [6,7,8,9,10]])\n",
        "print('5th element on 2nd row: ', arr[1, 4])"
      ]
    },
    {
      "cell_type": "code",
      "execution_count": null,
      "metadata": {
        "id": "qRkRRw-l8I3B",
        "outputId": "b2b9c949-3c6d-4cad-ec19-7034281b0bbc"
      },
      "outputs": [
        {
          "name": "stdout",
          "output_type": "stream",
          "text": [
            "6\n"
          ]
        }
      ],
      "source": [
        "arr = np.array([[[1, 2, 3], [4, 5, 6]], [[7, 8, 9], [10, 11, 12]]])\n",
        "print(arr[0, 1, 2])"
      ]
    },
    {
      "cell_type": "code",
      "execution_count": null,
      "metadata": {
        "id": "dii-VUsL8I3B",
        "outputId": "c896b764-ad28-47b4-d164-88ec8e0f017e"
      },
      "outputs": [
        {
          "name": "stdout",
          "output_type": "stream",
          "text": [
            "Last element from 2nd dim:  10\n"
          ]
        }
      ],
      "source": [
        "arr = np.array([[1,2,3,4,5], [6,7,8,9,10]])\n",
        "print('Last element from 2nd dim: ', arr[1, -1])"
      ]
    },
    {
      "cell_type": "markdown",
      "metadata": {
        "id": "2r-lAiAy8I3C"
      },
      "source": [
        "# 3. Numpy Array Slicing"
      ]
    },
    {
      "cell_type": "code",
      "execution_count": null,
      "metadata": {
        "id": "A4l2Gwr58I3C",
        "outputId": "7156ef13-676e-44be-9f5d-98fec89dad09"
      },
      "outputs": [
        {
          "name": "stdout",
          "output_type": "stream",
          "text": [
            "[2 3 4 5]\n"
          ]
        }
      ],
      "source": [
        "arr = np.array([1, 2, 3, 4, 5, 6, 7])\n",
        "print(arr[1:5])"
      ]
    },
    {
      "cell_type": "code",
      "execution_count": null,
      "metadata": {
        "id": "De2plsKo8I3C",
        "outputId": "3c465448-7be0-4f8d-aea7-50c36c9d16e5"
      },
      "outputs": [
        {
          "name": "stdout",
          "output_type": "stream",
          "text": [
            "[5 6 7]\n"
          ]
        }
      ],
      "source": [
        "arr = np.array([1, 2, 3, 4, 5, 6, 7])\n",
        "print(arr[4:])"
      ]
    },
    {
      "cell_type": "code",
      "execution_count": null,
      "metadata": {
        "id": "YIfDHSDy8I3C",
        "outputId": "be64c4fe-a305-4469-e1b8-4ef2c6ddd47e"
      },
      "outputs": [
        {
          "name": "stdout",
          "output_type": "stream",
          "text": [
            "[1 2 3 4]\n"
          ]
        }
      ],
      "source": [
        "arr = np.array([1, 2, 3, 4, 5, 6, 7])\n",
        "print(arr[:4])"
      ]
    },
    {
      "cell_type": "code",
      "execution_count": null,
      "metadata": {
        "id": "2nehF-7b8I3C",
        "outputId": "6255b5d9-fa6e-4645-e1ce-efd2e8480d3e"
      },
      "outputs": [
        {
          "name": "stdout",
          "output_type": "stream",
          "text": [
            "[5 6]\n"
          ]
        }
      ],
      "source": [
        "arr = np.array([1, 2, 3, 4, 5, 6, 7])\n",
        "print(arr[-3:-1])"
      ]
    },
    {
      "cell_type": "code",
      "execution_count": null,
      "metadata": {
        "id": "H8Cg7J948I3C",
        "outputId": "53071925-3894-481e-b9e9-cdb40761c8f7"
      },
      "outputs": [
        {
          "name": "stdout",
          "output_type": "stream",
          "text": [
            "[2 4]\n"
          ]
        }
      ],
      "source": [
        "arr = np.array([1, 2, 3, 4, 5, 6, 7])\n",
        "print(arr[1:5:2])"
      ]
    },
    {
      "cell_type": "code",
      "execution_count": null,
      "metadata": {
        "id": "zgR2poV98I3D",
        "outputId": "d67a9c74-92ba-4fcf-ab5e-4654c035c571"
      },
      "outputs": [
        {
          "name": "stdout",
          "output_type": "stream",
          "text": [
            "[1 3 5 7]\n"
          ]
        }
      ],
      "source": [
        "arr = np.array([1, 2, 3, 4, 5, 6, 7])\n",
        "print(arr[::2])"
      ]
    },
    {
      "cell_type": "code",
      "execution_count": null,
      "metadata": {
        "id": "b9Kxaki98I3D",
        "outputId": "a6517a96-24db-4f11-9fa4-ba5c2b62c494"
      },
      "outputs": [
        {
          "name": "stdout",
          "output_type": "stream",
          "text": [
            "[7 8 9]\n"
          ]
        }
      ],
      "source": [
        "arr = np.array([[1, 2, 3, 4, 5], [6, 7, 8, 9, 10]])\n",
        "print(arr[1, 1:4])"
      ]
    },
    {
      "cell_type": "code",
      "execution_count": null,
      "metadata": {
        "id": "57ntne_x8I3D",
        "outputId": "a66800ab-3106-430b-8349-b9e56e87e9d4"
      },
      "outputs": [
        {
          "name": "stdout",
          "output_type": "stream",
          "text": [
            "[3 8]\n"
          ]
        }
      ],
      "source": [
        "arr = np.array([[1, 2, 3, 4, 5], [6, 7, 8, 9, 10]])\n",
        "print(arr[0:2, 2])"
      ]
    },
    {
      "cell_type": "code",
      "execution_count": null,
      "metadata": {
        "id": "7Ga6U1928I3D",
        "outputId": "25033234-43d4-4c62-9677-788b23e84a3f"
      },
      "outputs": [
        {
          "name": "stdout",
          "output_type": "stream",
          "text": [
            "[[2 3 4]\n",
            " [7 8 9]]\n"
          ]
        }
      ],
      "source": [
        "arr = np.array([[1, 2, 3, 4, 5], [6, 7, 8, 9, 10]])\n",
        "print(arr[0:2, 1:4])"
      ]
    },
    {
      "cell_type": "markdown",
      "metadata": {
        "id": "Lrwgr7ua8I3D"
      },
      "source": [
        "# 4. Numpy Data Types"
      ]
    },
    {
      "cell_type": "markdown",
      "metadata": {
        "id": "AcoEaehQ8I3D"
      },
      "source": [
        "* i - integer\n",
        "* b - boolean\n",
        "* u - unsigned integer\n",
        "* f - float\n",
        "* c - complex float\n",
        "* m - timedelta\n",
        "* M - datetime\n",
        "* O - object\n",
        "* S - string\n",
        "* U - unicode string\n",
        "* V - fixed chunk of memory for other type ( void )"
      ]
    },
    {
      "cell_type": "code",
      "execution_count": null,
      "metadata": {
        "id": "GnI5V_tn8I3E",
        "outputId": "21260cfb-4c56-411b-c81a-5df61943e05a"
      },
      "outputs": [
        {
          "name": "stdout",
          "output_type": "stream",
          "text": [
            "int32\n"
          ]
        }
      ],
      "source": [
        "arr = np.array([1, 2, 3, 4])\n",
        "print(arr.dtype)"
      ]
    },
    {
      "cell_type": "code",
      "execution_count": null,
      "metadata": {
        "id": "ZCB8sMgJ8I3E",
        "outputId": "16fb1bde-0a5c-4f25-d101-8cef73c6e905"
      },
      "outputs": [
        {
          "name": "stdout",
          "output_type": "stream",
          "text": [
            "<U6\n"
          ]
        }
      ],
      "source": [
        "arr = np.array(['apple', 'banana', 'cherry'])\n",
        "print(arr.dtype)"
      ]
    },
    {
      "cell_type": "code",
      "execution_count": null,
      "metadata": {
        "id": "oaDowygq8I3E",
        "outputId": "6857f8ce-d123-4be8-d365-85cf4ec6fe92"
      },
      "outputs": [
        {
          "name": "stdout",
          "output_type": "stream",
          "text": [
            "[b'1' b'2' b'3' b'4']\n",
            "|S1\n"
          ]
        }
      ],
      "source": [
        "# Creating Array with defined Data Type\n",
        "arr = np.array([1, 2, 3, 4], dtype='S')\n",
        "print(arr)\n",
        "print(arr.dtype)"
      ]
    },
    {
      "cell_type": "code",
      "execution_count": null,
      "metadata": {
        "id": "eFmOS2fZ8I3E",
        "outputId": "8654b703-3e0a-4276-f9f9-5d4dcb0a01b4"
      },
      "outputs": [
        {
          "name": "stdout",
          "output_type": "stream",
          "text": [
            "[1 2 3 4]\n",
            "int32\n"
          ]
        }
      ],
      "source": [
        "arr = np.array([1, 2, 3, 4], dtype='i4')\n",
        "print(arr)\n",
        "print(arr.dtype)"
      ]
    },
    {
      "cell_type": "code",
      "execution_count": null,
      "metadata": {
        "id": "PLfG1SaD8I3E",
        "outputId": "1517d6d2-8bce-4ba7-cba7-9e403fb7860a"
      },
      "outputs": [
        {
          "name": "stdout",
          "output_type": "stream",
          "text": [
            "[1 2 3]\n",
            "int32\n"
          ]
        }
      ],
      "source": [
        "arr = np.array([1.1, 2.1, 3.1])\n",
        "newarr = arr.astype('i')\n",
        "print(newarr)\n",
        "print(newarr.dtype)"
      ]
    },
    {
      "cell_type": "code",
      "execution_count": null,
      "metadata": {
        "id": "fpDx2WaH8I3E",
        "outputId": "09f0f96b-8b69-4ff8-c5ee-941ced254102"
      },
      "outputs": [
        {
          "name": "stdout",
          "output_type": "stream",
          "text": [
            "[1 2 3]\n",
            "int32\n"
          ]
        }
      ],
      "source": [
        "arr = np.array([1.1, 2.1, 3.1])\n",
        "newarr = arr.astype(int)\n",
        "print(newarr)\n",
        "print(newarr.dtype)"
      ]
    },
    {
      "cell_type": "code",
      "execution_count": null,
      "metadata": {
        "id": "wuNNgTtI8I3E",
        "outputId": "b8255e47-3079-4dd9-fb95-31977d6a8f1f"
      },
      "outputs": [
        {
          "name": "stdout",
          "output_type": "stream",
          "text": [
            "[ True False  True]\n",
            "bool\n"
          ]
        }
      ],
      "source": [
        "arr = np.array([1, 0, 3])\n",
        "newarr = arr.astype(bool)\n",
        "print(newarr)\n",
        "print(newarr.dtype)"
      ]
    },
    {
      "cell_type": "markdown",
      "metadata": {
        "id": "J4CjfTW_8I3F"
      },
      "source": [
        "# 5. Numpy Copy VS View"
      ]
    },
    {
      "cell_type": "code",
      "execution_count": null,
      "metadata": {
        "id": "cpaNFb118I3F",
        "outputId": "47f5d394-daf9-4d81-f5d6-e07b2bc920fd"
      },
      "outputs": [
        {
          "name": "stdout",
          "output_type": "stream",
          "text": [
            "[42  2  3  4  5]\n",
            "[1 2 3 4 5]\n"
          ]
        }
      ],
      "source": [
        "# Copy\n",
        "arr = np.array([1, 2, 3, 4, 5])\n",
        "x = arr.copy()\n",
        "arr[0] = 42\n",
        "print(arr)\n",
        "print(x)"
      ]
    },
    {
      "cell_type": "code",
      "execution_count": null,
      "metadata": {
        "id": "IppbfE1b8I3F",
        "outputId": "5d951847-b283-433c-dbc9-fcc0cdcb189a"
      },
      "outputs": [
        {
          "name": "stdout",
          "output_type": "stream",
          "text": [
            "[42  2  3  4  5]\n",
            "[42  2  3  4  5]\n"
          ]
        }
      ],
      "source": [
        "# View\n",
        "arr = np.array([1, 2, 3, 4, 5])\n",
        "x = arr.view()\n",
        "arr[0] = 42\n",
        "print(arr)\n",
        "print(x)"
      ]
    },
    {
      "cell_type": "code",
      "execution_count": null,
      "metadata": {
        "id": "XomFK3e18I3F",
        "outputId": "4e3a57bb-a0ad-444a-9169-712fce60fba8"
      },
      "outputs": [
        {
          "name": "stdout",
          "output_type": "stream",
          "text": [
            "[31  2  3  4  5]\n",
            "[31  2  3  4  5]\n"
          ]
        }
      ],
      "source": [
        "arr = np.array([1, 2, 3, 4, 5])\n",
        "x = arr.view()\n",
        "x[0] = 31\n",
        "print(arr)\n",
        "print(x)"
      ]
    },
    {
      "cell_type": "code",
      "execution_count": null,
      "metadata": {
        "id": "OdyqA8FH8I3F",
        "outputId": "58cb7742-003b-4777-f0ee-5a9d4c6a6a1d"
      },
      "outputs": [
        {
          "name": "stdout",
          "output_type": "stream",
          "text": [
            "None\n",
            "[1 2 3 4 5]\n"
          ]
        }
      ],
      "source": [
        "arr = np.array([1, 2, 3, 4, 5])\n",
        "x = arr.copy()\n",
        "y = arr.view()\n",
        "print(x.base)\n",
        "print(y.base)"
      ]
    },
    {
      "cell_type": "markdown",
      "metadata": {
        "id": "_MAKqBBe8I3F"
      },
      "source": [
        "# 6. Numpy Array Shape"
      ]
    },
    {
      "cell_type": "code",
      "execution_count": null,
      "metadata": {
        "id": "iH-MDEoG8I3F",
        "outputId": "632f427a-a8ef-41a8-f7d8-15a98a9ee4ca"
      },
      "outputs": [
        {
          "name": "stdout",
          "output_type": "stream",
          "text": [
            "(2, 4)\n"
          ]
        }
      ],
      "source": [
        "arr = np.array([[1, 2, 3, 4], [5, 6, 7, 8]])\n",
        "print(arr.shape)"
      ]
    },
    {
      "cell_type": "code",
      "execution_count": null,
      "metadata": {
        "id": "0czXHtds8I3G",
        "outputId": "86b462d8-fbfd-4753-a5fb-634c20559c03"
      },
      "outputs": [
        {
          "name": "stdout",
          "output_type": "stream",
          "text": [
            "[[[[[1 2 3 4]]]]]\n",
            "shape of array : (1, 1, 1, 1, 4)\n"
          ]
        }
      ],
      "source": [
        "arr = np.array([1, 2, 3, 4], ndmin=5)\n",
        "print(arr)\n",
        "print('shape of array :', arr.shape)"
      ]
    },
    {
      "cell_type": "markdown",
      "metadata": {
        "id": "JTpcdeyh8I3G"
      },
      "source": [
        "# 7. Numpy Array Reshape"
      ]
    },
    {
      "cell_type": "code",
      "execution_count": null,
      "metadata": {
        "id": "TChFvnwK8I3G",
        "outputId": "f99bbf28-2e62-43ec-8628-707c405ee049"
      },
      "outputs": [
        {
          "name": "stdout",
          "output_type": "stream",
          "text": [
            "[[ 1  2  3]\n",
            " [ 4  5  6]\n",
            " [ 7  8  9]\n",
            " [10 11 12]]\n"
          ]
        }
      ],
      "source": [
        "arr = np.array([1, 2, 3, 4, 5, 6, 7, 8, 9, 10, 11, 12])\n",
        "newarr = arr.reshape(4, 3)\n",
        "print(newarr)"
      ]
    },
    {
      "cell_type": "code",
      "execution_count": null,
      "metadata": {
        "id": "GDIBt4k-8I3G",
        "outputId": "bbe36509-06cf-4092-c9a7-f9825b5ee98a"
      },
      "outputs": [
        {
          "name": "stdout",
          "output_type": "stream",
          "text": [
            "[[[ 1  2]\n",
            "  [ 3  4]\n",
            "  [ 5  6]]\n",
            "\n",
            " [[ 7  8]\n",
            "  [ 9 10]\n",
            "  [11 12]]]\n"
          ]
        }
      ],
      "source": [
        "arr = np.array([1, 2, 3, 4, 5, 6, 7, 8, 9, 10, 11, 12])\n",
        "newarr = arr.reshape(2, 3, 2)\n",
        "print(newarr)"
      ]
    },
    {
      "cell_type": "code",
      "execution_count": null,
      "metadata": {
        "id": "xlnW4n978I3G",
        "outputId": "5dffedf6-67f1-468f-a730-ee0a6712d136"
      },
      "outputs": [
        {
          "name": "stdout",
          "output_type": "stream",
          "text": [
            "[1 2 3 4 5 6 7 8]\n"
          ]
        }
      ],
      "source": [
        "arr = np.array([1, 2, 3, 4, 5, 6, 7, 8])\n",
        "print(arr.reshape(2, 4).base)"
      ]
    },
    {
      "cell_type": "code",
      "execution_count": null,
      "metadata": {
        "id": "aW7MuCZK8I3G",
        "outputId": "5aafbebd-b7e1-4c4e-de00-f85c194571c9"
      },
      "outputs": [
        {
          "name": "stdout",
          "output_type": "stream",
          "text": [
            "[[[1 2]\n",
            "  [3 4]]\n",
            "\n",
            " [[5 6]\n",
            "  [7 8]]]\n"
          ]
        }
      ],
      "source": [
        "arr = np.array([1, 2, 3, 4, 5, 6, 7, 8])\n",
        "newarr = arr.reshape(2, 2, -1)\n",
        "print(newarr)"
      ]
    },
    {
      "cell_type": "code",
      "execution_count": null,
      "metadata": {
        "id": "9SzhSF-q8I3G",
        "outputId": "dbb74a64-6aa9-47a4-b5c9-2db31d860aad"
      },
      "outputs": [
        {
          "name": "stdout",
          "output_type": "stream",
          "text": [
            "[1 2 3 4 5 6]\n"
          ]
        }
      ],
      "source": [
        "arr = np.array([[1, 2, 3], [4, 5, 6]])\n",
        "newarr = arr.reshape(-1)\n",
        "print(newarr)"
      ]
    },
    {
      "cell_type": "markdown",
      "metadata": {
        "id": "vAvuy1uz8I3G"
      },
      "source": [
        "# 8. Numpy Array Iterating"
      ]
    },
    {
      "cell_type": "code",
      "execution_count": null,
      "metadata": {
        "id": "CLy7kUyA8I3G",
        "outputId": "4efe3439-d415-4537-ed2e-7933c1a4c529"
      },
      "outputs": [
        {
          "name": "stdout",
          "output_type": "stream",
          "text": [
            "1\n",
            "2\n",
            "3\n"
          ]
        }
      ],
      "source": [
        "arr = np.array([1, 2, 3])\n",
        "for x in arr:\n",
        "  print(x)"
      ]
    },
    {
      "cell_type": "code",
      "execution_count": null,
      "metadata": {
        "id": "8vYk699e8I3H",
        "outputId": "b006fab6-93d3-44cd-8780-09abeb0855dc"
      },
      "outputs": [
        {
          "name": "stdout",
          "output_type": "stream",
          "text": [
            "[1 2 3]\n",
            "[4 5 6]\n"
          ]
        }
      ],
      "source": [
        "arr = np.array([[1, 2, 3], [4, 5, 6]])\n",
        "for x in arr:\n",
        "  print(x)"
      ]
    },
    {
      "cell_type": "code",
      "execution_count": null,
      "metadata": {
        "id": "Q9vFUsxx8I3H",
        "outputId": "209bd531-50b2-46f7-ef9e-96eee1653802"
      },
      "outputs": [
        {
          "name": "stdout",
          "output_type": "stream",
          "text": [
            "1\n",
            "2\n",
            "3\n",
            "4\n",
            "5\n",
            "6\n"
          ]
        }
      ],
      "source": [
        "arr = np.array([[1, 2, 3], [4, 5, 6]])\n",
        "for x in arr:\n",
        "  for y in x:\n",
        "    print(y)"
      ]
    },
    {
      "cell_type": "code",
      "execution_count": null,
      "metadata": {
        "id": "0l7dUuFF8I3H",
        "outputId": "ec70c585-3952-4c58-d3f3-b3f6ee2c2155"
      },
      "outputs": [
        {
          "name": "stdout",
          "output_type": "stream",
          "text": [
            "[[1 2 3]\n",
            " [4 5 6]]\n",
            "[[ 7  8  9]\n",
            " [10 11 12]]\n"
          ]
        }
      ],
      "source": [
        "arr = np.array([[[1, 2, 3], [4, 5, 6]], [[7, 8, 9], [10, 11, 12]]])\n",
        "for x in arr:\n",
        "  print(x)"
      ]
    },
    {
      "cell_type": "code",
      "execution_count": null,
      "metadata": {
        "id": "jAPyYUhr8I3H",
        "outputId": "254b6229-ee09-4c4c-b8ae-7c31a4ccdf7f"
      },
      "outputs": [
        {
          "name": "stdout",
          "output_type": "stream",
          "text": [
            "1\n",
            "2\n",
            "3\n",
            "4\n",
            "5\n",
            "6\n",
            "7\n",
            "8\n",
            "9\n",
            "10\n",
            "11\n",
            "12\n"
          ]
        }
      ],
      "source": [
        "arr = np.array([[[1, 2, 3], [4, 5, 6]], [[7, 8, 9], [10, 11, 12]]])\n",
        "for x in arr:\n",
        "  for y in x:\n",
        "    for z in y:\n",
        "      print(z)"
      ]
    },
    {
      "cell_type": "code",
      "execution_count": null,
      "metadata": {
        "id": "O3Wi1vz_8I3H",
        "outputId": "9e7e7482-7917-46cb-e4df-d52b30370469"
      },
      "outputs": [
        {
          "name": "stdout",
          "output_type": "stream",
          "text": [
            "1\n",
            "2\n",
            "3\n",
            "4\n",
            "5\n",
            "6\n",
            "7\n",
            "8\n"
          ]
        }
      ],
      "source": [
        "arr = np.array([[[1, 2], [3, 4]], [[5, 6], [7, 8]]])\n",
        "for x in np.nditer(arr):\n",
        "  print(x)"
      ]
    },
    {
      "cell_type": "code",
      "execution_count": null,
      "metadata": {
        "id": "X2IbJO9s8I3H",
        "outputId": "da98684d-41d3-418e-f222-e55d37ccd45c"
      },
      "outputs": [
        {
          "name": "stdout",
          "output_type": "stream",
          "text": [
            "b'1'\n",
            "b'2'\n",
            "b'3'\n"
          ]
        }
      ],
      "source": [
        "arr = np.array([1, 2, 3])\n",
        "for x in np.nditer(arr, flags=['buffered'], op_dtypes=['S']):\n",
        "  print(x)"
      ]
    },
    {
      "cell_type": "code",
      "execution_count": null,
      "metadata": {
        "id": "IhVOMEFk8I3H",
        "outputId": "2c7ca3be-52dc-43b7-ed92-44f3ae2b3c5f"
      },
      "outputs": [
        {
          "name": "stdout",
          "output_type": "stream",
          "text": [
            "1\n",
            "3\n",
            "5\n",
            "7\n"
          ]
        }
      ],
      "source": [
        "arr = np.array([[1, 2, 3, 4], [5, 6, 7, 8]])\n",
        "for x in np.nditer(arr[:, ::2]):\n",
        "  print(x)"
      ]
    },
    {
      "cell_type": "code",
      "execution_count": null,
      "metadata": {
        "id": "_xiyQS8f8I3H",
        "outputId": "9e02dd3d-8ccf-4f8e-cdea-806ccc36d420"
      },
      "outputs": [
        {
          "name": "stdout",
          "output_type": "stream",
          "text": [
            "(0,) 1\n",
            "(1,) 2\n",
            "(2,) 3\n"
          ]
        }
      ],
      "source": [
        "arr = np.array([1, 2, 3])\n",
        "for idx, x in np.ndenumerate(arr):\n",
        "  print(idx, x)"
      ]
    },
    {
      "cell_type": "code",
      "execution_count": null,
      "metadata": {
        "id": "HzH459Cc8I3H",
        "outputId": "ee3bcfdc-3ad1-4697-c04b-cde992cc7dc5"
      },
      "outputs": [
        {
          "name": "stdout",
          "output_type": "stream",
          "text": [
            "(0, 0) 1\n",
            "(0, 1) 2\n",
            "(0, 2) 3\n",
            "(0, 3) 4\n",
            "(1, 0) 5\n",
            "(1, 1) 6\n",
            "(1, 2) 7\n",
            "(1, 3) 8\n"
          ]
        }
      ],
      "source": [
        "arr = np.array([[1, 2, 3, 4], [5, 6, 7, 8]])\n",
        "for idx, x in np.ndenumerate(arr):\n",
        "  print(idx, x)"
      ]
    },
    {
      "cell_type": "markdown",
      "metadata": {
        "id": "fHfH63Zh8I3I"
      },
      "source": [
        "# 9. Numpy Array Join"
      ]
    },
    {
      "cell_type": "code",
      "execution_count": null,
      "metadata": {
        "id": "DXUCmHYo8I3I",
        "outputId": "bd5595bb-8df5-4a6d-d1b1-d92d8c66b69e"
      },
      "outputs": [
        {
          "name": "stdout",
          "output_type": "stream",
          "text": [
            "[1 2 3 4 5 6]\n"
          ]
        }
      ],
      "source": [
        "arr1 = np.array([1, 2, 3])\n",
        "arr2 = np.array([4, 5, 6])\n",
        "arr = np.concatenate((arr1, arr2))\n",
        "print(arr)"
      ]
    },
    {
      "cell_type": "code",
      "execution_count": null,
      "metadata": {
        "id": "UuNjR0P88I3I",
        "outputId": "7b3177a6-c717-441a-aefe-da462ad66617"
      },
      "outputs": [
        {
          "name": "stdout",
          "output_type": "stream",
          "text": [
            "[[1 2 5 6]\n",
            " [3 4 7 8]]\n"
          ]
        }
      ],
      "source": [
        "arr1 = np.array([[1, 2], [3, 4]])\n",
        "arr2 = np.array([[5, 6], [7, 8]])\n",
        "arr = np.concatenate((arr1, arr2), axis=1)\n",
        "print(arr)"
      ]
    },
    {
      "cell_type": "code",
      "execution_count": null,
      "metadata": {
        "id": "a0rQp0Yp8I3I",
        "outputId": "33d302b8-3ce5-46e6-cfdd-8848b63d9850"
      },
      "outputs": [
        {
          "name": "stdout",
          "output_type": "stream",
          "text": [
            "[[1 4]\n",
            " [2 5]\n",
            " [3 6]]\n"
          ]
        }
      ],
      "source": [
        "arr1 = np.array([1, 2, 3])\n",
        "arr2 = np.array([4, 5, 6])\n",
        "arr = np.stack((arr1, arr2), axis=1)\n",
        "print(arr)"
      ]
    },
    {
      "cell_type": "code",
      "execution_count": null,
      "metadata": {
        "id": "7Mab_SvZ8I3I",
        "outputId": "91610f25-e533-4c14-ccbc-2aec88ae6224"
      },
      "outputs": [
        {
          "name": "stdout",
          "output_type": "stream",
          "text": [
            "[1 2 3 4 5 6]\n"
          ]
        }
      ],
      "source": [
        "arr1 = np.array([1, 2, 3])\n",
        "arr2 = np.array([4, 5, 6])\n",
        "arr = np.hstack((arr1, arr2))\n",
        "print(arr)"
      ]
    },
    {
      "cell_type": "code",
      "execution_count": null,
      "metadata": {
        "id": "WPGSQ0pl8I3I",
        "outputId": "0cf760e8-af11-4226-c5ee-85ffa7e83c86"
      },
      "outputs": [
        {
          "name": "stdout",
          "output_type": "stream",
          "text": [
            "[[1 2 3]\n",
            " [4 5 6]]\n"
          ]
        }
      ],
      "source": [
        "arr1 = np.array([1, 2, 3])\n",
        "arr2 = np.array([4, 5, 6])\n",
        "arr = np.vstack((arr1, arr2))\n",
        "print(arr)"
      ]
    },
    {
      "cell_type": "code",
      "execution_count": null,
      "metadata": {
        "id": "rQG9g2Uy8I3I",
        "outputId": "ecdbba01-b05f-408b-94b1-3e781c69ed2b"
      },
      "outputs": [
        {
          "name": "stdout",
          "output_type": "stream",
          "text": [
            "[[[1 4]\n",
            "  [2 5]\n",
            "  [3 6]]]\n"
          ]
        }
      ],
      "source": [
        "arr1 = np.array([1, 2, 3])\n",
        "arr2 = np.array([4, 5, 6])\n",
        "arr = np.dstack((arr1, arr2))\n",
        "print(arr)"
      ]
    },
    {
      "cell_type": "markdown",
      "metadata": {
        "id": "y7Xsb9J_8I3I"
      },
      "source": [
        "# 10. Numpy Array Split"
      ]
    },
    {
      "cell_type": "code",
      "execution_count": null,
      "metadata": {
        "id": "WTtcWf5W8I3J",
        "outputId": "194982e8-75f1-4176-b67b-3129a59bcf91"
      },
      "outputs": [
        {
          "name": "stdout",
          "output_type": "stream",
          "text": [
            "[array([1, 2]), array([3, 4]), array([5, 6])]\n"
          ]
        }
      ],
      "source": [
        "arr = np.array([1, 2, 3, 4, 5, 6])\n",
        "newarr = np.array_split(arr, 3)\n",
        "print(newarr)"
      ]
    },
    {
      "cell_type": "code",
      "execution_count": null,
      "metadata": {
        "id": "pA7zZd0t8I3J",
        "outputId": "2c56df16-5e7a-4110-9c63-e00ff4fabc51"
      },
      "outputs": [
        {
          "name": "stdout",
          "output_type": "stream",
          "text": [
            "[array([1, 2]), array([3, 4]), array([5]), array([6])]\n"
          ]
        }
      ],
      "source": [
        "arr = np.array([1, 2, 3, 4, 5, 6])\n",
        "newarr = np.array_split(arr, 4)\n",
        "print(newarr)"
      ]
    },
    {
      "cell_type": "code",
      "execution_count": null,
      "metadata": {
        "id": "MmkeLT6h8I3J",
        "outputId": "04880744-aee4-4855-a4de-0c79c721a32b"
      },
      "outputs": [
        {
          "name": "stdout",
          "output_type": "stream",
          "text": [
            "[1 2]\n",
            "[3 4]\n",
            "[5 6]\n"
          ]
        }
      ],
      "source": [
        "arr = np.array([1, 2, 3, 4, 5, 6])\n",
        "newarr = np.array_split(arr, 3)\n",
        "print(newarr[0])\n",
        "print(newarr[1])\n",
        "print(newarr[2])"
      ]
    },
    {
      "cell_type": "code",
      "execution_count": null,
      "metadata": {
        "id": "85w-NlKt8I3J",
        "outputId": "3f772239-80e0-4947-b1f5-9306cc4e98eb"
      },
      "outputs": [
        {
          "name": "stdout",
          "output_type": "stream",
          "text": [
            "[array([[1, 2],\n",
            "       [3, 4]]), array([[5, 6],\n",
            "       [7, 8]]), array([[ 9, 10],\n",
            "       [11, 12]])]\n"
          ]
        }
      ],
      "source": [
        "arr = np.array([[1, 2], [3, 4], [5, 6], [7, 8], [9, 10], [11, 12]])\n",
        "newarr = np.array_split(arr, 3)\n",
        "print(newarr)"
      ]
    },
    {
      "cell_type": "code",
      "execution_count": null,
      "metadata": {
        "id": "mU1Fvact8I3K",
        "outputId": "ce3df3ae-a806-4508-ac1e-4e57cc926daa"
      },
      "outputs": [
        {
          "name": "stdout",
          "output_type": "stream",
          "text": [
            "[array([[1, 2, 3],\n",
            "       [4, 5, 6]]), array([[ 7,  8,  9],\n",
            "       [10, 11, 12]]), array([[13, 14, 15],\n",
            "       [16, 17, 18]])]\n"
          ]
        }
      ],
      "source": [
        "arr = np.array([[1, 2, 3], [4, 5, 6], [7, 8, 9], [10, 11, 12], [13, 14, 15], [16, 17, 18]])\n",
        "newarr = np.array_split(arr, 3)\n",
        "print(newarr)"
      ]
    },
    {
      "cell_type": "code",
      "execution_count": null,
      "metadata": {
        "id": "3YrQ2zF78I3K",
        "outputId": "35e8071e-10e9-4388-f334-0d722ab306cf"
      },
      "outputs": [
        {
          "name": "stdout",
          "output_type": "stream",
          "text": [
            "[array([[ 1],\n",
            "       [ 4],\n",
            "       [ 7],\n",
            "       [10],\n",
            "       [13],\n",
            "       [16]]), array([[ 2],\n",
            "       [ 5],\n",
            "       [ 8],\n",
            "       [11],\n",
            "       [14],\n",
            "       [17]]), array([[ 3],\n",
            "       [ 6],\n",
            "       [ 9],\n",
            "       [12],\n",
            "       [15],\n",
            "       [18]])]\n"
          ]
        }
      ],
      "source": [
        "arr = np.array([[1, 2, 3], [4, 5, 6], [7, 8, 9], [10, 11, 12], [13, 14, 15], [16, 17, 18]])\n",
        "newarr = np.array_split(arr, 3, axis=1)\n",
        "print(newarr)"
      ]
    },
    {
      "cell_type": "code",
      "execution_count": null,
      "metadata": {
        "id": "_SAW39gB8I3K",
        "outputId": "9e9f6f83-34a7-4e6e-84b2-a380af54b740"
      },
      "outputs": [
        {
          "name": "stdout",
          "output_type": "stream",
          "text": [
            "[array([[ 1],\n",
            "       [ 4],\n",
            "       [ 7],\n",
            "       [10],\n",
            "       [13],\n",
            "       [16]]), array([[ 2],\n",
            "       [ 5],\n",
            "       [ 8],\n",
            "       [11],\n",
            "       [14],\n",
            "       [17]]), array([[ 3],\n",
            "       [ 6],\n",
            "       [ 9],\n",
            "       [12],\n",
            "       [15],\n",
            "       [18]])]\n"
          ]
        }
      ],
      "source": [
        "arr = np.array([[1, 2, 3], [4, 5, 6], [7, 8, 9], [10, 11, 12], [13, 14, 15], [16, 17, 18]])\n",
        "newarr = np.hsplit(arr, 3)\n",
        "print(newarr)"
      ]
    },
    {
      "cell_type": "code",
      "execution_count": null,
      "metadata": {
        "id": "cgX8Rs6n8I3K",
        "outputId": "7008dc0b-de27-42d6-d0c3-ad65bde65709"
      },
      "outputs": [
        {
          "name": "stdout",
          "output_type": "stream",
          "text": [
            "[array([[1, 2, 3],\n",
            "       [4, 5, 6]]), array([[ 7,  8,  9],\n",
            "       [10, 11, 12]]), array([[13, 14, 15],\n",
            "       [16, 17, 18]])]\n"
          ]
        }
      ],
      "source": [
        "arr = np.array([[1, 2, 3], [4, 5, 6], [7, 8, 9], [10, 11, 12], [13, 14, 15], [16, 17, 18]])\n",
        "newarr = np.vsplit(arr, 3)\n",
        "print(newarr)"
      ]
    },
    {
      "cell_type": "markdown",
      "metadata": {
        "id": "TpoxHFwm8I3K"
      },
      "source": [
        "# 11. Numpy Array Search"
      ]
    },
    {
      "cell_type": "code",
      "execution_count": null,
      "metadata": {
        "id": "5XatNrgg8I3K",
        "outputId": "10928808-624d-4154-8b88-32e4973f723d"
      },
      "outputs": [
        {
          "name": "stdout",
          "output_type": "stream",
          "text": [
            "(array([3, 5, 6], dtype=int64),)\n"
          ]
        }
      ],
      "source": [
        "arr = np.array([1, 2, 3, 4, 5, 4, 4])\n",
        "x = np.where(arr == 4)\n",
        "print(x)"
      ]
    },
    {
      "cell_type": "code",
      "execution_count": null,
      "metadata": {
        "id": "tz86vzaD8I3K",
        "outputId": "bcf01f8f-c0bd-447a-cc1f-f6245fcdf673"
      },
      "outputs": [
        {
          "name": "stdout",
          "output_type": "stream",
          "text": [
            "(array([1, 3, 5, 7], dtype=int64),)\n"
          ]
        }
      ],
      "source": [
        "arr = np.array([1, 2, 3, 4, 5, 6, 7, 8])\n",
        "x = np.where(arr%2 == 0)\n",
        "print(x)"
      ]
    },
    {
      "cell_type": "code",
      "execution_count": null,
      "metadata": {
        "id": "eAPXCVoF8I3K",
        "outputId": "e50668b8-2291-4efc-c291-8a9dcae2758f"
      },
      "outputs": [
        {
          "name": "stdout",
          "output_type": "stream",
          "text": [
            "(array([0, 2, 4, 6], dtype=int64),)\n"
          ]
        }
      ],
      "source": [
        "arr = np.array([1, 2, 3, 4, 5, 6, 7, 8])\n",
        "x = np.where(arr%2 == 1)\n",
        "print(x)"
      ]
    },
    {
      "cell_type": "code",
      "execution_count": null,
      "metadata": {
        "id": "PBL2OcKX8I3L",
        "outputId": "e2d19eb0-aeea-4a8c-c064-a3f6b99c53e5"
      },
      "outputs": [
        {
          "name": "stdout",
          "output_type": "stream",
          "text": [
            "1\n"
          ]
        }
      ],
      "source": [
        "arr = np.array([6, 7, 8, 9])\n",
        "x = np.searchsorted(arr, 7)\n",
        "print(x)"
      ]
    },
    {
      "cell_type": "code",
      "execution_count": null,
      "metadata": {
        "id": "8F1BSU9e8I3L",
        "outputId": "a6a1d8f9-bcba-4c55-8bd5-fd57ef12467f"
      },
      "outputs": [
        {
          "name": "stdout",
          "output_type": "stream",
          "text": [
            "2\n"
          ]
        }
      ],
      "source": [
        "arr = np.array([6, 7, 8, 9])\n",
        "x = np.searchsorted(arr, 7, side='right')\n",
        "print(x)"
      ]
    },
    {
      "cell_type": "code",
      "execution_count": null,
      "metadata": {
        "id": "SoGltqg28I3L",
        "outputId": "d5f5440e-b94e-4c55-d591-f0422377bb1f"
      },
      "outputs": [
        {
          "name": "stdout",
          "output_type": "stream",
          "text": [
            "[1 2 3]\n"
          ]
        }
      ],
      "source": [
        "arr = np.array([1, 3, 5, 7])\n",
        "x = np.searchsorted(arr, [2, 4, 6])\n",
        "print(x)"
      ]
    },
    {
      "cell_type": "markdown",
      "metadata": {
        "id": "1lhPbk1g8I3L"
      },
      "source": [
        "# 12. Numpy Array Sort"
      ]
    },
    {
      "cell_type": "code",
      "execution_count": null,
      "metadata": {
        "id": "ZUezQO328I3L",
        "outputId": "e38ce751-de80-407c-bbd8-480a7c6f5b65"
      },
      "outputs": [
        {
          "name": "stdout",
          "output_type": "stream",
          "text": [
            "[0 1 2 3]\n"
          ]
        }
      ],
      "source": [
        "arr = np.array([3, 2, 0, 1])\n",
        "print(np.sort(arr))"
      ]
    },
    {
      "cell_type": "code",
      "execution_count": null,
      "metadata": {
        "id": "tqq9rQLC8I3L",
        "outputId": "f56d7cca-9b80-47ae-b772-6e62b5322aa3"
      },
      "outputs": [
        {
          "name": "stdout",
          "output_type": "stream",
          "text": [
            "['apple' 'banana' 'cherry']\n"
          ]
        }
      ],
      "source": [
        "arr = np.array(['banana', 'cherry', 'apple'])\n",
        "print(np.sort(arr))"
      ]
    },
    {
      "cell_type": "code",
      "execution_count": null,
      "metadata": {
        "id": "6Lh-JAl18I3L",
        "outputId": "a9e0f1b7-c33a-44d2-8984-1bb1de0dc8ac"
      },
      "outputs": [
        {
          "name": "stdout",
          "output_type": "stream",
          "text": [
            "[False  True  True]\n"
          ]
        }
      ],
      "source": [
        "arr = np.array([True, False, True])\n",
        "print(np.sort(arr))"
      ]
    },
    {
      "cell_type": "code",
      "execution_count": null,
      "metadata": {
        "id": "N52UzSNm8I3L",
        "outputId": "feb82bb8-757c-47cc-987f-1cb5a5edd3b7"
      },
      "outputs": [
        {
          "name": "stdout",
          "output_type": "stream",
          "text": [
            "[[2 3 4]\n",
            " [0 1 5]]\n"
          ]
        }
      ],
      "source": [
        "arr = np.array([[3, 2, 4], [5, 0, 1]])\n",
        "print(np.sort(arr))"
      ]
    },
    {
      "cell_type": "markdown",
      "metadata": {
        "id": "xkgajcR28I3L"
      },
      "source": [
        "# 13. Numpy Array Filter"
      ]
    },
    {
      "cell_type": "code",
      "execution_count": null,
      "metadata": {
        "id": "OkV7NRUW8I3L",
        "outputId": "0537f65f-12bd-4317-bfd0-d125f6c8c033"
      },
      "outputs": [
        {
          "name": "stdout",
          "output_type": "stream",
          "text": [
            "[41 43]\n"
          ]
        }
      ],
      "source": [
        "arr = np.array([41, 42, 43, 44])\n",
        "x = [True, False, True, False]\n",
        "newarr = arr[x]\n",
        "print(newarr)"
      ]
    },
    {
      "cell_type": "code",
      "execution_count": null,
      "metadata": {
        "id": "uSCzTMqU8I3M",
        "outputId": "ac2e4336-80ad-44ad-851f-97ac6810d6f9"
      },
      "outputs": [
        {
          "name": "stdout",
          "output_type": "stream",
          "text": [
            "[False, False, True, True]\n",
            "[43 44]\n"
          ]
        }
      ],
      "source": [
        "arr = np.array([41, 42, 43, 44])\n",
        "# Create an empty list\n",
        "filter_arr = []\n",
        "\n",
        "# go through each element in arr\n",
        "for element in arr:\n",
        "  # if the element is higher than 42, set the value to True, otherwise False:\n",
        "  if element > 42:\n",
        "    filter_arr.append(True)\n",
        "  else:\n",
        "    filter_arr.append(False)\n",
        "\n",
        "newarr = arr[filter_arr]\n",
        "print(filter_arr)\n",
        "print(newarr)"
      ]
    },
    {
      "cell_type": "code",
      "execution_count": null,
      "metadata": {
        "id": "jKf78xBa8I3M",
        "outputId": "aae28145-3869-4300-d4a9-da800e58c4ce"
      },
      "outputs": [
        {
          "name": "stdout",
          "output_type": "stream",
          "text": [
            "[False, True, False, True, False, True, False]\n",
            "[2 4 6]\n"
          ]
        }
      ],
      "source": [
        "arr = np.array([1, 2, 3, 4, 5, 6, 7])\n",
        "\n",
        "# Create an empty list\n",
        "filter_arr = []\n",
        "\n",
        "# go through each element in arr\n",
        "for element in arr:\n",
        "  # if the element is completely divisble by 2, set the value to True, otherwise False\n",
        "  if element % 2 == 0:\n",
        "    filter_arr.append(True)\n",
        "  else:\n",
        "    filter_arr.append(False)\n",
        "\n",
        "newarr = arr[filter_arr]\n",
        "\n",
        "print(filter_arr)\n",
        "print(newarr)"
      ]
    },
    {
      "cell_type": "code",
      "execution_count": null,
      "metadata": {
        "id": "ZH7Ftq978I3M",
        "outputId": "510afc8b-8674-410e-c85c-f2d5c1a22073"
      },
      "outputs": [
        {
          "name": "stdout",
          "output_type": "stream",
          "text": [
            "[False False  True  True]\n",
            "[43 44]\n"
          ]
        }
      ],
      "source": [
        "arr = np.array([41, 42, 43, 44])\n",
        "\n",
        "filter_arr = arr > 42\n",
        "\n",
        "newarr = arr[filter_arr]\n",
        "\n",
        "print(filter_arr)\n",
        "print(newarr)"
      ]
    },
    {
      "cell_type": "code",
      "execution_count": null,
      "metadata": {
        "id": "tJEgnvVa8I3M",
        "outputId": "12bcda12-eb21-45e9-df5a-615003383377"
      },
      "outputs": [
        {
          "name": "stdout",
          "output_type": "stream",
          "text": [
            "[False  True False  True False  True False]\n",
            "[2 4 6]\n"
          ]
        }
      ],
      "source": [
        "arr = np.array([1, 2, 3, 4, 5, 6, 7])\n",
        "\n",
        "filter_arr = arr % 2 == 0\n",
        "\n",
        "newarr = arr[filter_arr]\n",
        "\n",
        "print(filter_arr)\n",
        "print(newarr)"
      ]
    },
    {
      "cell_type": "markdown",
      "metadata": {
        "id": "77eGqAUO8I3M"
      },
      "source": [
        "# **Pandas**\n",
        "\n",
        "# Importing the Libraries"
      ]
    },
    {
      "cell_type": "code",
      "execution_count": null,
      "metadata": {
        "id": "MmDn1K6P8I3M"
      },
      "outputs": [],
      "source": [
        "import pandas as pd"
      ]
    },
    {
      "cell_type": "markdown",
      "metadata": {
        "id": "2NRV9CZR8I3N"
      },
      "source": [
        "# Creating Series from Array"
      ]
    },
    {
      "cell_type": "code",
      "execution_count": null,
      "metadata": {
        "id": "nZ52ShIb8I3N",
        "outputId": "8752092f-b9d7-4e3d-ea0d-4da2e517a7b6"
      },
      "outputs": [
        {
          "name": "stdout",
          "output_type": "stream",
          "text": [
            "0    P\n",
            "1    A\n",
            "2    N\n",
            "3    D\n",
            "4    A\n",
            "5    S\n",
            "dtype: object\n"
          ]
        }
      ],
      "source": [
        "Info = ['P', 'A', 'N', 'D', 'A', 'S']\n",
        "Array = pd.Series(Info)\n",
        "print(Array)"
      ]
    },
    {
      "cell_type": "markdown",
      "metadata": {
        "id": "RrJvUnoY8I3N"
      },
      "source": [
        "# Create DataFrame"
      ]
    },
    {
      "cell_type": "code",
      "execution_count": null,
      "metadata": {
        "id": "Sx314tml8I3N",
        "outputId": "ccd20cc7-5ff2-463b-a15b-a8496c639e97"
      },
      "outputs": [
        {
          "name": "stdout",
          "output_type": "stream",
          "text": [
            "   0\n",
            "0  1\n",
            "1  2\n",
            "2  3\n",
            "3  4\n",
            "4  5\n"
          ]
        }
      ],
      "source": [
        "Data = [1, 2, 3, 4, 5]\n",
        "df = pd.DataFrame(Data)\n",
        "print(df)"
      ]
    },
    {
      "cell_type": "markdown",
      "metadata": {
        "id": "XFC35m5z8I3N"
      },
      "source": [
        "# Create a DataFrame using List"
      ]
    },
    {
      "cell_type": "code",
      "execution_count": null,
      "metadata": {
        "id": "RreWafP48I3N",
        "outputId": "bdb7b75d-6351-410d-bdd1-af5bb62726bc"
      },
      "outputs": [
        {
          "name": "stdout",
          "output_type": "stream",
          "text": [
            "     NAME  AGE\n",
            "0    ALEX   10\n",
            "1     BOB   12\n",
            "2  CLARKE   13\n"
          ]
        }
      ],
      "source": [
        "Data = [['ALEX', 10], ['BOB', 12], ['CLARKE', 13]]\n",
        "df = pd.DataFrame(Data, columns = ['NAME', 'AGE'])\n",
        "print(df)"
      ]
    },
    {
      "cell_type": "markdown",
      "metadata": {
        "id": "iwzAAp8f8I3N"
      },
      "source": [
        "# Create a DataFrame from Dict of ndarrays / Lists"
      ]
    },
    {
      "cell_type": "code",
      "execution_count": null,
      "metadata": {
        "id": "wY790qNz8I3O",
        "outputId": "0f5a584a-9cbc-426b-e7c3-34673f92b85d"
      },
      "outputs": [
        {
          "name": "stdout",
          "output_type": "stream",
          "text": [
            "    NAME  AGE\n",
            "0    TOM   28\n",
            "1   JACK   34\n",
            "2  STEVE   29\n",
            "3  RICKY   42\n"
          ]
        }
      ],
      "source": [
        "Data = {'NAME':['TOM', 'JACK', 'STEVE', 'RICKY'], 'AGE':[28,34,29,42]}\n",
        "df = pd.DataFrame(Data)\n",
        "print(df)"
      ]
    },
    {
      "cell_type": "markdown",
      "metadata": {
        "id": "UzYup2tj8I3O"
      },
      "source": [
        "#  Create an indexed DataFrame using arrays"
      ]
    },
    {
      "cell_type": "code",
      "execution_count": null,
      "metadata": {
        "id": "CC2Xuxvf8I3O",
        "outputId": "0eb30b82-e2ff-450e-e27b-77237b9293e4"
      },
      "outputs": [
        {
          "name": "stdout",
          "output_type": "stream",
          "text": [
            "        NAME  AGE\n",
            "RANK1    TOM   28\n",
            "RANK2   JACK   34\n",
            "RANK3  STEVE   29\n",
            "RANK4  RICKY   42\n"
          ]
        }
      ],
      "source": [
        "Data = {'NAME':['TOM', 'JACK', 'STEVE', 'RICKY'], 'AGE':[28,34,29,42]}\n",
        "df = pd.DataFrame(Data, index = ['RANK1', 'RANK2', 'RANK3', 'RANK4'])\n",
        "print(df)"
      ]
    },
    {
      "cell_type": "markdown",
      "metadata": {
        "id": "NqXEF6rT8I3O"
      },
      "source": [
        "# Pandas Reading Files\n",
        "READING FROM CSV FILE"
      ]
    },
    {
      "cell_type": "markdown",
      "source": [
        "# Mounting Drive"
      ],
      "metadata": {
        "id": "5pKw2k0I9k7c"
      }
    },
    {
      "cell_type": "code",
      "source": [
        "from google.colab import drive\n",
        "drive.mount('/content/drive')"
      ],
      "metadata": {
        "colab": {
          "base_uri": "https://localhost:8080/"
        },
        "id": "6CwAD6gk9dtn",
        "outputId": "28e7f6f4-e6f2-418c-ba48-537d0d29992b"
      },
      "execution_count": null,
      "outputs": [
        {
          "output_type": "stream",
          "name": "stdout",
          "text": [
            "Mounted at /content/drive\n"
          ]
        }
      ]
    },
    {
      "cell_type": "code",
      "execution_count": null,
      "metadata": {
        "colab": {
          "base_uri": "https://localhost:8080/"
        },
        "id": "Dw0_Orbk8I3O",
        "outputId": "e0560075-9731-4415-e004-0872d74463f8"
      },
      "outputs": [
        {
          "output_type": "stream",
          "name": "stdout",
          "text": [
            "    YearsExperience    Salary\n",
            "0               1.1   39343.0\n",
            "1               1.3   46205.0\n",
            "2               1.5   37731.0\n",
            "3               2.0   43525.0\n",
            "4               2.2   39891.0\n",
            "5               2.9   56642.0\n",
            "6               3.0   60150.0\n",
            "7               3.2   54445.0\n",
            "8               3.2   64445.0\n",
            "9               3.7   57189.0\n",
            "10              3.9   63218.0\n",
            "11              4.0   55794.0\n",
            "12              4.0   56957.0\n",
            "13              4.1   57081.0\n",
            "14              4.5   61111.0\n",
            "15              4.9   67938.0\n",
            "16              5.1   66029.0\n",
            "17              5.3   83088.0\n",
            "18              5.9   81363.0\n",
            "19              6.0   93940.0\n",
            "20              6.8   91738.0\n",
            "21              7.1   98273.0\n",
            "22              7.9  101302.0\n",
            "23              8.2  113812.0\n",
            "24              8.7  109431.0\n",
            "25              9.0  105582.0\n",
            "26              9.5  116969.0\n",
            "27              9.6  112635.0\n",
            "28             10.3  122391.0\n",
            "29             10.5  121872.0\n"
          ]
        }
      ],
      "source": [
        "# Link\n",
        "df = pd.read_csv('drive/MyDrive/ML-Lab/Datasets/Salary_Data.csv')\n",
        "print(df)"
      ]
    },
    {
      "cell_type": "markdown",
      "metadata": {
        "id": "GQeaqrsN8I3O"
      },
      "source": [
        "# TO PRINT THE ENTIRE DATAFRAME"
      ]
    },
    {
      "cell_type": "code",
      "execution_count": null,
      "metadata": {
        "id": "4WKb_XdN8I3O",
        "outputId": "7defcc15-ef93-4596-c3ec-790281c41e29"
      },
      "outputs": [
        {
          "name": "stdout",
          "output_type": "stream",
          "text": [
            "    YearsExperience    Salary\n",
            "0               1.1   39343.0\n",
            "1               1.3   46205.0\n",
            "2               1.5   37731.0\n",
            "3               2.0   43525.0\n",
            "4               2.2   39891.0\n",
            "5               2.9   56642.0\n",
            "6               3.0   60150.0\n",
            "7               3.2   54445.0\n",
            "8               3.2   64445.0\n",
            "9               3.7   57189.0\n",
            "10              3.9   63218.0\n",
            "11              4.0   55794.0\n",
            "12              4.0   56957.0\n",
            "13              4.1   57081.0\n",
            "14              4.5   61111.0\n",
            "15              4.9   67938.0\n",
            "16              5.1   66029.0\n",
            "17              5.3   83088.0\n",
            "18              5.9   81363.0\n",
            "19              6.0   93940.0\n",
            "20              6.8   91738.0\n",
            "21              7.1   98273.0\n",
            "22              7.9  101302.0\n",
            "23              8.2  113812.0\n",
            "24              8.7  109431.0\n",
            "25              9.0  105582.0\n",
            "26              9.5  116969.0\n",
            "27              9.6  112635.0\n",
            "28             10.3  122391.0\n",
            "29             10.5  121872.0\n"
          ]
        }
      ],
      "source": [
        "print(df.to_string())"
      ]
    },
    {
      "cell_type": "markdown",
      "metadata": {
        "id": "F3NBMIhf8I3O"
      },
      "source": [
        "# READING FROM JSON"
      ]
    },
    {
      "cell_type": "code",
      "execution_count": null,
      "metadata": {
        "colab": {
          "base_uri": "https://localhost:8080/"
        },
        "id": "uVVLX4Vc8I3O",
        "outputId": "66b93b04-1334-4060-81bd-4edd64ec0775"
      },
      "outputs": [
        {
          "output_type": "stream",
          "name": "stdout",
          "text": [
            "     sepalLength  sepalWidth  petalLength  petalWidth    species\n",
            "0            5.1         3.5          1.4         0.2     setosa\n",
            "1            4.9         3.0          1.4         0.2     setosa\n",
            "2            4.7         3.2          1.3         0.2     setosa\n",
            "3            4.6         3.1          1.5         0.2     setosa\n",
            "4            5.0         3.6          1.4         0.2     setosa\n",
            "..           ...         ...          ...         ...        ...\n",
            "145          6.7         3.0          5.2         2.3  virginica\n",
            "146          6.3         2.5          5.0         1.9  virginica\n",
            "147          6.5         3.0          5.2         2.0  virginica\n",
            "148          6.2         3.4          5.4         2.3  virginica\n",
            "149          5.9         3.0          5.1         1.8  virginica\n",
            "\n",
            "[150 rows x 5 columns]\n"
          ]
        }
      ],
      "source": [
        "Data = pd.read_json('drive/MyDrive/ML-Lab/Datasets/iris.json')\n",
        "print(Data)"
      ]
    },
    {
      "cell_type": "markdown",
      "metadata": {
        "id": "j9fsoWZ88I3P"
      },
      "source": [
        "# Pandas - Analyzing DataFrames\n",
        "### VIEWING THE DATA"
      ]
    },
    {
      "cell_type": "code",
      "execution_count": null,
      "metadata": {
        "id": "2_3GDNjv8I3P",
        "outputId": "59c18f19-9271-413f-d963-cedfe7afb9cb"
      },
      "outputs": [
        {
          "name": "stdout",
          "output_type": "stream",
          "text": [
            "   YearsExperience   Salary\n",
            "0              1.1  39343.0\n",
            "1              1.3  46205.0\n",
            "2              1.5  37731.0\n",
            "3              2.0  43525.0\n"
          ]
        }
      ],
      "source": [
        "df = pd.read_csv('drive/MyDrive/ML-Lab/Datasets/Salary_Data.csv')\n",
        "print(df.head(4))\n",
        "# IF THE NUMBER OF ROWS IS NOT SPECIFIED, THE HEAD() METHOD WILL RETURN THE TOP 5 ROWS"
      ]
    },
    {
      "cell_type": "code",
      "execution_count": null,
      "metadata": {
        "id": "fP1N1IYA8I3P",
        "outputId": "ed7c8223-e634-4531-dedf-b5104c860c60"
      },
      "outputs": [
        {
          "name": "stdout",
          "output_type": "stream",
          "text": [
            "    YearsExperience    Salary\n",
            "26              9.5  116969.0\n",
            "27              9.6  112635.0\n",
            "28             10.3  122391.0\n",
            "29             10.5  121872.0\n"
          ]
        }
      ],
      "source": [
        "df = pd.read_csv('drive/MyDrive/ML-Lab/Datasets/Salary_Data.csv')\n",
        "print(df.tail(4))"
      ]
    },
    {
      "cell_type": "code",
      "execution_count": null,
      "metadata": {
        "id": "wC4njZpG8I3P",
        "outputId": "770e81e2-0dd0-4730-c0fa-cf75efbbf33a"
      },
      "outputs": [
        {
          "name": "stdout",
          "output_type": "stream",
          "text": [
            "<class 'pandas.core.frame.DataFrame'>\n",
            "RangeIndex: 30 entries, 0 to 29\n",
            "Data columns (total 2 columns):\n",
            " #   Column           Non-Null Count  Dtype  \n",
            "---  ------           --------------  -----  \n",
            " 0   YearsExperience  30 non-null     float64\n",
            " 1   Salary           30 non-null     float64\n",
            "dtypes: float64(2)\n",
            "memory usage: 608.0 bytes\n",
            "None\n"
          ]
        }
      ],
      "source": [
        "print(df.info())"
      ]
    },
    {
      "cell_type": "markdown",
      "metadata": {
        "id": "Sls8UKm38I3P"
      },
      "source": [
        "# Pandas - Cleaning Data\n",
        "### Pandas - Cleaning Empty Cells\n",
        "REMOVE ROWS"
      ]
    },
    {
      "cell_type": "code",
      "execution_count": null,
      "metadata": {
        "id": "kmw9BlDJ8I3P",
        "outputId": "3ec1c901-81ff-449e-943c-31849b57bef9"
      },
      "outputs": [
        {
          "name": "stdout",
          "output_type": "stream",
          "text": [
            "    Duration          Date  Pulse  Maxpulse  Calories\n",
            "0         60  '2020/12/01'    110       130     409.1\n",
            "1         60  '2020/12/02'    117       145     479.0\n",
            "2         60  '2020/12/03'    103       135     340.0\n",
            "3         45  '2020/12/04'    109       175     282.4\n",
            "4         45  '2020/12/05'    117       148     406.0\n",
            "5         60  '2020/12/06'    102       127     300.0\n",
            "6         60  '2020/12/07'    110       136     374.0\n",
            "7        450  '2020/12/08'    104       134     253.3\n",
            "8         30  '2020/12/09'    109       133     195.1\n",
            "9         60  '2020/12/10'     98       124     269.0\n",
            "10        60  '2020/12/11'    103       147     329.3\n",
            "11        60  '2020/12/12'    100       120     250.7\n",
            "12        60  '2020/12/12'    100       120     250.7\n",
            "13        60  '2020/12/13'    106       128     345.3\n",
            "14        60  '2020/12/14'    104       132     379.3\n",
            "15        60  '2020/12/15'     98       123     275.0\n",
            "16        60  '2020/12/16'     98       120     215.2\n",
            "17        60  '2020/12/17'    100       120     300.0\n",
            "19        60  '2020/12/19'    103       123     323.0\n",
            "20        45  '2020/12/20'     97       125     243.0\n",
            "21        60  '2020/12/21'    108       131     364.2\n",
            "23        60  '2020/12/23'    130       101     300.0\n",
            "24        45  '2020/12/24'    105       132     246.0\n",
            "25        60  '2020/12/25'    102       126     334.5\n",
            "26        60      20201226    100       120     250.0\n",
            "27        60  '2020/12/27'     92       118     241.0\n",
            "29        60  '2020/12/29'    100       132     280.0\n",
            "30        60  '2020/12/30'    102       129     380.3\n",
            "31        60  '2020/12/31'     92       115     243.0\n"
          ]
        }
      ],
      "source": [
        "df = pd.read_csv('drive/MyDrive/ML-Lab/Datasets/data.csv')\n",
        "new_df = df.dropna()\n",
        "print(new_df.to_string())\n",
        "\n",
        "# IF YOU WANT TO CHANGE THE ORIGINAL DATAFRAME, USE THE\n",
        "# INPLACE = TRUE ARGUMENT: DF.DROPNA(INPLACE = TRUE)"
      ]
    },
    {
      "cell_type": "markdown",
      "metadata": {
        "id": "eSPP28jz8I3Q"
      },
      "source": [
        "# REPLACE EMPTY VALUES"
      ]
    },
    {
      "cell_type": "code",
      "execution_count": null,
      "metadata": {
        "id": "Rv4IL4zB8I3Q",
        "outputId": "28e25ac8-8f43-47a6-e39f-c015648e3f7d"
      },
      "outputs": [
        {
          "data": {
            "text/html": [
              "<div>\n",
              "<style scoped>\n",
              "    .dataframe tbody tr th:only-of-type {\n",
              "        vertical-align: middle;\n",
              "    }\n",
              "\n",
              "    .dataframe tbody tr th {\n",
              "        vertical-align: top;\n",
              "    }\n",
              "\n",
              "    .dataframe thead th {\n",
              "        text-align: right;\n",
              "    }\n",
              "</style>\n",
              "<table border=\"1\" class=\"dataframe\">\n",
              "  <thead>\n",
              "    <tr style=\"text-align: right;\">\n",
              "      <th></th>\n",
              "      <th>Duration</th>\n",
              "      <th>Date</th>\n",
              "      <th>Pulse</th>\n",
              "      <th>Maxpulse</th>\n",
              "      <th>Calories</th>\n",
              "    </tr>\n",
              "  </thead>\n",
              "  <tbody>\n",
              "    <tr>\n",
              "      <th>0</th>\n",
              "      <td>60</td>\n",
              "      <td>'2020/12/01'</td>\n",
              "      <td>110</td>\n",
              "      <td>130</td>\n",
              "      <td>409.1</td>\n",
              "    </tr>\n",
              "    <tr>\n",
              "      <th>1</th>\n",
              "      <td>60</td>\n",
              "      <td>'2020/12/02'</td>\n",
              "      <td>117</td>\n",
              "      <td>145</td>\n",
              "      <td>479.0</td>\n",
              "    </tr>\n",
              "    <tr>\n",
              "      <th>2</th>\n",
              "      <td>60</td>\n",
              "      <td>'2020/12/03'</td>\n",
              "      <td>103</td>\n",
              "      <td>135</td>\n",
              "      <td>340.0</td>\n",
              "    </tr>\n",
              "    <tr>\n",
              "      <th>3</th>\n",
              "      <td>45</td>\n",
              "      <td>'2020/12/04'</td>\n",
              "      <td>109</td>\n",
              "      <td>175</td>\n",
              "      <td>282.4</td>\n",
              "    </tr>\n",
              "    <tr>\n",
              "      <th>4</th>\n",
              "      <td>45</td>\n",
              "      <td>'2020/12/05'</td>\n",
              "      <td>117</td>\n",
              "      <td>148</td>\n",
              "      <td>406.0</td>\n",
              "    </tr>\n",
              "    <tr>\n",
              "      <th>5</th>\n",
              "      <td>60</td>\n",
              "      <td>'2020/12/06'</td>\n",
              "      <td>102</td>\n",
              "      <td>127</td>\n",
              "      <td>300.0</td>\n",
              "    </tr>\n",
              "    <tr>\n",
              "      <th>6</th>\n",
              "      <td>60</td>\n",
              "      <td>'2020/12/07'</td>\n",
              "      <td>110</td>\n",
              "      <td>136</td>\n",
              "      <td>374.0</td>\n",
              "    </tr>\n",
              "    <tr>\n",
              "      <th>7</th>\n",
              "      <td>450</td>\n",
              "      <td>'2020/12/08'</td>\n",
              "      <td>104</td>\n",
              "      <td>134</td>\n",
              "      <td>253.3</td>\n",
              "    </tr>\n",
              "    <tr>\n",
              "      <th>8</th>\n",
              "      <td>30</td>\n",
              "      <td>'2020/12/09'</td>\n",
              "      <td>109</td>\n",
              "      <td>133</td>\n",
              "      <td>195.1</td>\n",
              "    </tr>\n",
              "    <tr>\n",
              "      <th>9</th>\n",
              "      <td>60</td>\n",
              "      <td>'2020/12/10'</td>\n",
              "      <td>98</td>\n",
              "      <td>124</td>\n",
              "      <td>269.0</td>\n",
              "    </tr>\n",
              "    <tr>\n",
              "      <th>10</th>\n",
              "      <td>60</td>\n",
              "      <td>'2020/12/11'</td>\n",
              "      <td>103</td>\n",
              "      <td>147</td>\n",
              "      <td>329.3</td>\n",
              "    </tr>\n",
              "    <tr>\n",
              "      <th>11</th>\n",
              "      <td>60</td>\n",
              "      <td>'2020/12/12'</td>\n",
              "      <td>100</td>\n",
              "      <td>120</td>\n",
              "      <td>250.7</td>\n",
              "    </tr>\n",
              "    <tr>\n",
              "      <th>12</th>\n",
              "      <td>60</td>\n",
              "      <td>'2020/12/12'</td>\n",
              "      <td>100</td>\n",
              "      <td>120</td>\n",
              "      <td>250.7</td>\n",
              "    </tr>\n",
              "    <tr>\n",
              "      <th>13</th>\n",
              "      <td>60</td>\n",
              "      <td>'2020/12/13'</td>\n",
              "      <td>106</td>\n",
              "      <td>128</td>\n",
              "      <td>345.3</td>\n",
              "    </tr>\n",
              "    <tr>\n",
              "      <th>14</th>\n",
              "      <td>60</td>\n",
              "      <td>'2020/12/14'</td>\n",
              "      <td>104</td>\n",
              "      <td>132</td>\n",
              "      <td>379.3</td>\n",
              "    </tr>\n",
              "    <tr>\n",
              "      <th>15</th>\n",
              "      <td>60</td>\n",
              "      <td>'2020/12/15'</td>\n",
              "      <td>98</td>\n",
              "      <td>123</td>\n",
              "      <td>275.0</td>\n",
              "    </tr>\n",
              "    <tr>\n",
              "      <th>16</th>\n",
              "      <td>60</td>\n",
              "      <td>'2020/12/16'</td>\n",
              "      <td>98</td>\n",
              "      <td>120</td>\n",
              "      <td>215.2</td>\n",
              "    </tr>\n",
              "    <tr>\n",
              "      <th>17</th>\n",
              "      <td>60</td>\n",
              "      <td>'2020/12/17'</td>\n",
              "      <td>100</td>\n",
              "      <td>120</td>\n",
              "      <td>300.0</td>\n",
              "    </tr>\n",
              "    <tr>\n",
              "      <th>18</th>\n",
              "      <td>45</td>\n",
              "      <td>'2020/12/18'</td>\n",
              "      <td>90</td>\n",
              "      <td>112</td>\n",
              "      <td>130.0</td>\n",
              "    </tr>\n",
              "    <tr>\n",
              "      <th>19</th>\n",
              "      <td>60</td>\n",
              "      <td>'2020/12/19'</td>\n",
              "      <td>103</td>\n",
              "      <td>123</td>\n",
              "      <td>323.0</td>\n",
              "    </tr>\n",
              "    <tr>\n",
              "      <th>20</th>\n",
              "      <td>45</td>\n",
              "      <td>'2020/12/20'</td>\n",
              "      <td>97</td>\n",
              "      <td>125</td>\n",
              "      <td>243.0</td>\n",
              "    </tr>\n",
              "    <tr>\n",
              "      <th>21</th>\n",
              "      <td>60</td>\n",
              "      <td>'2020/12/21'</td>\n",
              "      <td>108</td>\n",
              "      <td>131</td>\n",
              "      <td>364.2</td>\n",
              "    </tr>\n",
              "    <tr>\n",
              "      <th>22</th>\n",
              "      <td>45</td>\n",
              "      <td>130</td>\n",
              "      <td>100</td>\n",
              "      <td>119</td>\n",
              "      <td>282.0</td>\n",
              "    </tr>\n",
              "    <tr>\n",
              "      <th>23</th>\n",
              "      <td>60</td>\n",
              "      <td>'2020/12/23'</td>\n",
              "      <td>130</td>\n",
              "      <td>101</td>\n",
              "      <td>300.0</td>\n",
              "    </tr>\n",
              "    <tr>\n",
              "      <th>24</th>\n",
              "      <td>45</td>\n",
              "      <td>'2020/12/24'</td>\n",
              "      <td>105</td>\n",
              "      <td>132</td>\n",
              "      <td>246.0</td>\n",
              "    </tr>\n",
              "    <tr>\n",
              "      <th>25</th>\n",
              "      <td>60</td>\n",
              "      <td>'2020/12/25'</td>\n",
              "      <td>102</td>\n",
              "      <td>126</td>\n",
              "      <td>334.5</td>\n",
              "    </tr>\n",
              "    <tr>\n",
              "      <th>26</th>\n",
              "      <td>60</td>\n",
              "      <td>20201226</td>\n",
              "      <td>100</td>\n",
              "      <td>120</td>\n",
              "      <td>250.0</td>\n",
              "    </tr>\n",
              "    <tr>\n",
              "      <th>27</th>\n",
              "      <td>60</td>\n",
              "      <td>'2020/12/27'</td>\n",
              "      <td>92</td>\n",
              "      <td>118</td>\n",
              "      <td>241.0</td>\n",
              "    </tr>\n",
              "    <tr>\n",
              "      <th>28</th>\n",
              "      <td>60</td>\n",
              "      <td>'2020/12/28'</td>\n",
              "      <td>103</td>\n",
              "      <td>132</td>\n",
              "      <td>130.0</td>\n",
              "    </tr>\n",
              "    <tr>\n",
              "      <th>29</th>\n",
              "      <td>60</td>\n",
              "      <td>'2020/12/29'</td>\n",
              "      <td>100</td>\n",
              "      <td>132</td>\n",
              "      <td>280.0</td>\n",
              "    </tr>\n",
              "    <tr>\n",
              "      <th>30</th>\n",
              "      <td>60</td>\n",
              "      <td>'2020/12/30'</td>\n",
              "      <td>102</td>\n",
              "      <td>129</td>\n",
              "      <td>380.3</td>\n",
              "    </tr>\n",
              "    <tr>\n",
              "      <th>31</th>\n",
              "      <td>60</td>\n",
              "      <td>'2020/12/31'</td>\n",
              "      <td>92</td>\n",
              "      <td>115</td>\n",
              "      <td>243.0</td>\n",
              "    </tr>\n",
              "  </tbody>\n",
              "</table>\n",
              "</div>"
            ],
            "text/plain": [
              "    Duration          Date  Pulse  Maxpulse  Calories\n",
              "0         60  '2020/12/01'    110       130     409.1\n",
              "1         60  '2020/12/02'    117       145     479.0\n",
              "2         60  '2020/12/03'    103       135     340.0\n",
              "3         45  '2020/12/04'    109       175     282.4\n",
              "4         45  '2020/12/05'    117       148     406.0\n",
              "5         60  '2020/12/06'    102       127     300.0\n",
              "6         60  '2020/12/07'    110       136     374.0\n",
              "7        450  '2020/12/08'    104       134     253.3\n",
              "8         30  '2020/12/09'    109       133     195.1\n",
              "9         60  '2020/12/10'     98       124     269.0\n",
              "10        60  '2020/12/11'    103       147     329.3\n",
              "11        60  '2020/12/12'    100       120     250.7\n",
              "12        60  '2020/12/12'    100       120     250.7\n",
              "13        60  '2020/12/13'    106       128     345.3\n",
              "14        60  '2020/12/14'    104       132     379.3\n",
              "15        60  '2020/12/15'     98       123     275.0\n",
              "16        60  '2020/12/16'     98       120     215.2\n",
              "17        60  '2020/12/17'    100       120     300.0\n",
              "18        45  '2020/12/18'     90       112     130.0\n",
              "19        60  '2020/12/19'    103       123     323.0\n",
              "20        45  '2020/12/20'     97       125     243.0\n",
              "21        60  '2020/12/21'    108       131     364.2\n",
              "22        45           130    100       119     282.0\n",
              "23        60  '2020/12/23'    130       101     300.0\n",
              "24        45  '2020/12/24'    105       132     246.0\n",
              "25        60  '2020/12/25'    102       126     334.5\n",
              "26        60      20201226    100       120     250.0\n",
              "27        60  '2020/12/27'     92       118     241.0\n",
              "28        60  '2020/12/28'    103       132     130.0\n",
              "29        60  '2020/12/29'    100       132     280.0\n",
              "30        60  '2020/12/30'    102       129     380.3\n",
              "31        60  '2020/12/31'     92       115     243.0"
            ]
          },
          "execution_count": 2,
          "metadata": {},
          "output_type": "execute_result"
        }
      ],
      "source": [
        "df = pd.read_csv('drive/MyDrive/ML-Lab/Datasets/data.csv')\n",
        "df.fillna(130, inplace = True)\n",
        "df"
      ]
    },
    {
      "cell_type": "markdown",
      "metadata": {
        "id": "6ltRv3vS8I3Q"
      },
      "source": [
        "# REPLACE ONLY FOR A SPECIFIED COLUMNS"
      ]
    },
    {
      "cell_type": "code",
      "execution_count": null,
      "metadata": {
        "id": "1Yzhasbc8I3Q",
        "outputId": "12bcf719-eb4c-479d-96cb-5c1b0cbd47c1"
      },
      "outputs": [
        {
          "data": {
            "text/html": [
              "<div>\n",
              "<style scoped>\n",
              "    .dataframe tbody tr th:only-of-type {\n",
              "        vertical-align: middle;\n",
              "    }\n",
              "\n",
              "    .dataframe tbody tr th {\n",
              "        vertical-align: top;\n",
              "    }\n",
              "\n",
              "    .dataframe thead th {\n",
              "        text-align: right;\n",
              "    }\n",
              "</style>\n",
              "<table border=\"1\" class=\"dataframe\">\n",
              "  <thead>\n",
              "    <tr style=\"text-align: right;\">\n",
              "      <th></th>\n",
              "      <th>Duration</th>\n",
              "      <th>Date</th>\n",
              "      <th>Pulse</th>\n",
              "      <th>Maxpulse</th>\n",
              "      <th>Calories</th>\n",
              "    </tr>\n",
              "  </thead>\n",
              "  <tbody>\n",
              "    <tr>\n",
              "      <th>0</th>\n",
              "      <td>60</td>\n",
              "      <td>'2020/12/01'</td>\n",
              "      <td>110</td>\n",
              "      <td>130</td>\n",
              "      <td>409.1</td>\n",
              "    </tr>\n",
              "    <tr>\n",
              "      <th>1</th>\n",
              "      <td>60</td>\n",
              "      <td>'2020/12/02'</td>\n",
              "      <td>117</td>\n",
              "      <td>145</td>\n",
              "      <td>479.0</td>\n",
              "    </tr>\n",
              "    <tr>\n",
              "      <th>2</th>\n",
              "      <td>60</td>\n",
              "      <td>'2020/12/03'</td>\n",
              "      <td>103</td>\n",
              "      <td>135</td>\n",
              "      <td>340.0</td>\n",
              "    </tr>\n",
              "    <tr>\n",
              "      <th>3</th>\n",
              "      <td>45</td>\n",
              "      <td>'2020/12/04'</td>\n",
              "      <td>109</td>\n",
              "      <td>175</td>\n",
              "      <td>282.4</td>\n",
              "    </tr>\n",
              "    <tr>\n",
              "      <th>4</th>\n",
              "      <td>45</td>\n",
              "      <td>'2020/12/05'</td>\n",
              "      <td>117</td>\n",
              "      <td>148</td>\n",
              "      <td>406.0</td>\n",
              "    </tr>\n",
              "    <tr>\n",
              "      <th>5</th>\n",
              "      <td>60</td>\n",
              "      <td>'2020/12/06'</td>\n",
              "      <td>102</td>\n",
              "      <td>127</td>\n",
              "      <td>300.0</td>\n",
              "    </tr>\n",
              "    <tr>\n",
              "      <th>6</th>\n",
              "      <td>60</td>\n",
              "      <td>'2020/12/07'</td>\n",
              "      <td>110</td>\n",
              "      <td>136</td>\n",
              "      <td>374.0</td>\n",
              "    </tr>\n",
              "    <tr>\n",
              "      <th>7</th>\n",
              "      <td>450</td>\n",
              "      <td>'2020/12/08'</td>\n",
              "      <td>104</td>\n",
              "      <td>134</td>\n",
              "      <td>253.3</td>\n",
              "    </tr>\n",
              "    <tr>\n",
              "      <th>8</th>\n",
              "      <td>30</td>\n",
              "      <td>'2020/12/09'</td>\n",
              "      <td>109</td>\n",
              "      <td>133</td>\n",
              "      <td>195.1</td>\n",
              "    </tr>\n",
              "    <tr>\n",
              "      <th>9</th>\n",
              "      <td>60</td>\n",
              "      <td>'2020/12/10'</td>\n",
              "      <td>98</td>\n",
              "      <td>124</td>\n",
              "      <td>269.0</td>\n",
              "    </tr>\n",
              "    <tr>\n",
              "      <th>10</th>\n",
              "      <td>60</td>\n",
              "      <td>'2020/12/11'</td>\n",
              "      <td>103</td>\n",
              "      <td>147</td>\n",
              "      <td>329.3</td>\n",
              "    </tr>\n",
              "    <tr>\n",
              "      <th>11</th>\n",
              "      <td>60</td>\n",
              "      <td>'2020/12/12'</td>\n",
              "      <td>100</td>\n",
              "      <td>120</td>\n",
              "      <td>250.7</td>\n",
              "    </tr>\n",
              "    <tr>\n",
              "      <th>12</th>\n",
              "      <td>60</td>\n",
              "      <td>'2020/12/12'</td>\n",
              "      <td>100</td>\n",
              "      <td>120</td>\n",
              "      <td>250.7</td>\n",
              "    </tr>\n",
              "    <tr>\n",
              "      <th>13</th>\n",
              "      <td>60</td>\n",
              "      <td>'2020/12/13'</td>\n",
              "      <td>106</td>\n",
              "      <td>128</td>\n",
              "      <td>345.3</td>\n",
              "    </tr>\n",
              "    <tr>\n",
              "      <th>14</th>\n",
              "      <td>60</td>\n",
              "      <td>'2020/12/14'</td>\n",
              "      <td>104</td>\n",
              "      <td>132</td>\n",
              "      <td>379.3</td>\n",
              "    </tr>\n",
              "    <tr>\n",
              "      <th>15</th>\n",
              "      <td>60</td>\n",
              "      <td>'2020/12/15'</td>\n",
              "      <td>98</td>\n",
              "      <td>123</td>\n",
              "      <td>275.0</td>\n",
              "    </tr>\n",
              "    <tr>\n",
              "      <th>16</th>\n",
              "      <td>60</td>\n",
              "      <td>'2020/12/16'</td>\n",
              "      <td>98</td>\n",
              "      <td>120</td>\n",
              "      <td>215.2</td>\n",
              "    </tr>\n",
              "    <tr>\n",
              "      <th>17</th>\n",
              "      <td>60</td>\n",
              "      <td>'2020/12/17'</td>\n",
              "      <td>100</td>\n",
              "      <td>120</td>\n",
              "      <td>300.0</td>\n",
              "    </tr>\n",
              "    <tr>\n",
              "      <th>18</th>\n",
              "      <td>45</td>\n",
              "      <td>'2020/12/18'</td>\n",
              "      <td>90</td>\n",
              "      <td>112</td>\n",
              "      <td>130.0</td>\n",
              "    </tr>\n",
              "    <tr>\n",
              "      <th>19</th>\n",
              "      <td>60</td>\n",
              "      <td>'2020/12/19'</td>\n",
              "      <td>103</td>\n",
              "      <td>123</td>\n",
              "      <td>323.0</td>\n",
              "    </tr>\n",
              "    <tr>\n",
              "      <th>20</th>\n",
              "      <td>45</td>\n",
              "      <td>'2020/12/20'</td>\n",
              "      <td>97</td>\n",
              "      <td>125</td>\n",
              "      <td>243.0</td>\n",
              "    </tr>\n",
              "    <tr>\n",
              "      <th>21</th>\n",
              "      <td>60</td>\n",
              "      <td>'2020/12/21'</td>\n",
              "      <td>108</td>\n",
              "      <td>131</td>\n",
              "      <td>364.2</td>\n",
              "    </tr>\n",
              "    <tr>\n",
              "      <th>22</th>\n",
              "      <td>45</td>\n",
              "      <td>NaN</td>\n",
              "      <td>100</td>\n",
              "      <td>119</td>\n",
              "      <td>282.0</td>\n",
              "    </tr>\n",
              "    <tr>\n",
              "      <th>23</th>\n",
              "      <td>60</td>\n",
              "      <td>'2020/12/23'</td>\n",
              "      <td>130</td>\n",
              "      <td>101</td>\n",
              "      <td>300.0</td>\n",
              "    </tr>\n",
              "    <tr>\n",
              "      <th>24</th>\n",
              "      <td>45</td>\n",
              "      <td>'2020/12/24'</td>\n",
              "      <td>105</td>\n",
              "      <td>132</td>\n",
              "      <td>246.0</td>\n",
              "    </tr>\n",
              "    <tr>\n",
              "      <th>25</th>\n",
              "      <td>60</td>\n",
              "      <td>'2020/12/25'</td>\n",
              "      <td>102</td>\n",
              "      <td>126</td>\n",
              "      <td>334.5</td>\n",
              "    </tr>\n",
              "    <tr>\n",
              "      <th>26</th>\n",
              "      <td>60</td>\n",
              "      <td>20201226</td>\n",
              "      <td>100</td>\n",
              "      <td>120</td>\n",
              "      <td>250.0</td>\n",
              "    </tr>\n",
              "    <tr>\n",
              "      <th>27</th>\n",
              "      <td>60</td>\n",
              "      <td>'2020/12/27'</td>\n",
              "      <td>92</td>\n",
              "      <td>118</td>\n",
              "      <td>241.0</td>\n",
              "    </tr>\n",
              "    <tr>\n",
              "      <th>28</th>\n",
              "      <td>60</td>\n",
              "      <td>'2020/12/28'</td>\n",
              "      <td>103</td>\n",
              "      <td>132</td>\n",
              "      <td>130.0</td>\n",
              "    </tr>\n",
              "    <tr>\n",
              "      <th>29</th>\n",
              "      <td>60</td>\n",
              "      <td>'2020/12/29'</td>\n",
              "      <td>100</td>\n",
              "      <td>132</td>\n",
              "      <td>280.0</td>\n",
              "    </tr>\n",
              "    <tr>\n",
              "      <th>30</th>\n",
              "      <td>60</td>\n",
              "      <td>'2020/12/30'</td>\n",
              "      <td>102</td>\n",
              "      <td>129</td>\n",
              "      <td>380.3</td>\n",
              "    </tr>\n",
              "    <tr>\n",
              "      <th>31</th>\n",
              "      <td>60</td>\n",
              "      <td>'2020/12/31'</td>\n",
              "      <td>92</td>\n",
              "      <td>115</td>\n",
              "      <td>243.0</td>\n",
              "    </tr>\n",
              "  </tbody>\n",
              "</table>\n",
              "</div>"
            ],
            "text/plain": [
              "    Duration          Date  Pulse  Maxpulse  Calories\n",
              "0         60  '2020/12/01'    110       130     409.1\n",
              "1         60  '2020/12/02'    117       145     479.0\n",
              "2         60  '2020/12/03'    103       135     340.0\n",
              "3         45  '2020/12/04'    109       175     282.4\n",
              "4         45  '2020/12/05'    117       148     406.0\n",
              "5         60  '2020/12/06'    102       127     300.0\n",
              "6         60  '2020/12/07'    110       136     374.0\n",
              "7        450  '2020/12/08'    104       134     253.3\n",
              "8         30  '2020/12/09'    109       133     195.1\n",
              "9         60  '2020/12/10'     98       124     269.0\n",
              "10        60  '2020/12/11'    103       147     329.3\n",
              "11        60  '2020/12/12'    100       120     250.7\n",
              "12        60  '2020/12/12'    100       120     250.7\n",
              "13        60  '2020/12/13'    106       128     345.3\n",
              "14        60  '2020/12/14'    104       132     379.3\n",
              "15        60  '2020/12/15'     98       123     275.0\n",
              "16        60  '2020/12/16'     98       120     215.2\n",
              "17        60  '2020/12/17'    100       120     300.0\n",
              "18        45  '2020/12/18'     90       112     130.0\n",
              "19        60  '2020/12/19'    103       123     323.0\n",
              "20        45  '2020/12/20'     97       125     243.0\n",
              "21        60  '2020/12/21'    108       131     364.2\n",
              "22        45           NaN    100       119     282.0\n",
              "23        60  '2020/12/23'    130       101     300.0\n",
              "24        45  '2020/12/24'    105       132     246.0\n",
              "25        60  '2020/12/25'    102       126     334.5\n",
              "26        60      20201226    100       120     250.0\n",
              "27        60  '2020/12/27'     92       118     241.0\n",
              "28        60  '2020/12/28'    103       132     130.0\n",
              "29        60  '2020/12/29'    100       132     280.0\n",
              "30        60  '2020/12/30'    102       129     380.3\n",
              "31        60  '2020/12/31'     92       115     243.0"
            ]
          },
          "execution_count": 3,
          "metadata": {},
          "output_type": "execute_result"
        }
      ],
      "source": [
        "df = pd.read_csv('drive/MyDrive/ML-Lab/Datasets/data.csv')\n",
        "df[\"Calories\"].fillna(130, inplace = True)\n",
        "df"
      ]
    },
    {
      "cell_type": "markdown",
      "metadata": {
        "id": "098EoeVw8I3Q"
      },
      "source": [
        "# REPLACE USING MEAN, MEDIAN, OR MODE"
      ]
    },
    {
      "cell_type": "code",
      "execution_count": null,
      "metadata": {
        "id": "cF7IeCpB8I3Q",
        "outputId": "9f895a9c-3212-4a5e-e262-dc23dbbc95da"
      },
      "outputs": [
        {
          "data": {
            "text/html": [
              "<div>\n",
              "<style scoped>\n",
              "    .dataframe tbody tr th:only-of-type {\n",
              "        vertical-align: middle;\n",
              "    }\n",
              "\n",
              "    .dataframe tbody tr th {\n",
              "        vertical-align: top;\n",
              "    }\n",
              "\n",
              "    .dataframe thead th {\n",
              "        text-align: right;\n",
              "    }\n",
              "</style>\n",
              "<table border=\"1\" class=\"dataframe\">\n",
              "  <thead>\n",
              "    <tr style=\"text-align: right;\">\n",
              "      <th></th>\n",
              "      <th>Duration</th>\n",
              "      <th>Date</th>\n",
              "      <th>Pulse</th>\n",
              "      <th>Maxpulse</th>\n",
              "      <th>Calories</th>\n",
              "    </tr>\n",
              "  </thead>\n",
              "  <tbody>\n",
              "    <tr>\n",
              "      <th>0</th>\n",
              "      <td>60</td>\n",
              "      <td>'2020/12/01'</td>\n",
              "      <td>110</td>\n",
              "      <td>130</td>\n",
              "      <td>409.10</td>\n",
              "    </tr>\n",
              "    <tr>\n",
              "      <th>1</th>\n",
              "      <td>60</td>\n",
              "      <td>'2020/12/02'</td>\n",
              "      <td>117</td>\n",
              "      <td>145</td>\n",
              "      <td>479.00</td>\n",
              "    </tr>\n",
              "    <tr>\n",
              "      <th>2</th>\n",
              "      <td>60</td>\n",
              "      <td>'2020/12/03'</td>\n",
              "      <td>103</td>\n",
              "      <td>135</td>\n",
              "      <td>340.00</td>\n",
              "    </tr>\n",
              "    <tr>\n",
              "      <th>3</th>\n",
              "      <td>45</td>\n",
              "      <td>'2020/12/04'</td>\n",
              "      <td>109</td>\n",
              "      <td>175</td>\n",
              "      <td>282.40</td>\n",
              "    </tr>\n",
              "    <tr>\n",
              "      <th>4</th>\n",
              "      <td>45</td>\n",
              "      <td>'2020/12/05'</td>\n",
              "      <td>117</td>\n",
              "      <td>148</td>\n",
              "      <td>406.00</td>\n",
              "    </tr>\n",
              "    <tr>\n",
              "      <th>5</th>\n",
              "      <td>60</td>\n",
              "      <td>'2020/12/06'</td>\n",
              "      <td>102</td>\n",
              "      <td>127</td>\n",
              "      <td>300.00</td>\n",
              "    </tr>\n",
              "    <tr>\n",
              "      <th>6</th>\n",
              "      <td>60</td>\n",
              "      <td>'2020/12/07'</td>\n",
              "      <td>110</td>\n",
              "      <td>136</td>\n",
              "      <td>374.00</td>\n",
              "    </tr>\n",
              "    <tr>\n",
              "      <th>7</th>\n",
              "      <td>450</td>\n",
              "      <td>'2020/12/08'</td>\n",
              "      <td>104</td>\n",
              "      <td>134</td>\n",
              "      <td>253.30</td>\n",
              "    </tr>\n",
              "    <tr>\n",
              "      <th>8</th>\n",
              "      <td>30</td>\n",
              "      <td>'2020/12/09'</td>\n",
              "      <td>109</td>\n",
              "      <td>133</td>\n",
              "      <td>195.10</td>\n",
              "    </tr>\n",
              "    <tr>\n",
              "      <th>9</th>\n",
              "      <td>60</td>\n",
              "      <td>'2020/12/10'</td>\n",
              "      <td>98</td>\n",
              "      <td>124</td>\n",
              "      <td>269.00</td>\n",
              "    </tr>\n",
              "    <tr>\n",
              "      <th>10</th>\n",
              "      <td>60</td>\n",
              "      <td>'2020/12/11'</td>\n",
              "      <td>103</td>\n",
              "      <td>147</td>\n",
              "      <td>329.30</td>\n",
              "    </tr>\n",
              "    <tr>\n",
              "      <th>11</th>\n",
              "      <td>60</td>\n",
              "      <td>'2020/12/12'</td>\n",
              "      <td>100</td>\n",
              "      <td>120</td>\n",
              "      <td>250.70</td>\n",
              "    </tr>\n",
              "    <tr>\n",
              "      <th>12</th>\n",
              "      <td>60</td>\n",
              "      <td>'2020/12/12'</td>\n",
              "      <td>100</td>\n",
              "      <td>120</td>\n",
              "      <td>250.70</td>\n",
              "    </tr>\n",
              "    <tr>\n",
              "      <th>13</th>\n",
              "      <td>60</td>\n",
              "      <td>'2020/12/13'</td>\n",
              "      <td>106</td>\n",
              "      <td>128</td>\n",
              "      <td>345.30</td>\n",
              "    </tr>\n",
              "    <tr>\n",
              "      <th>14</th>\n",
              "      <td>60</td>\n",
              "      <td>'2020/12/14'</td>\n",
              "      <td>104</td>\n",
              "      <td>132</td>\n",
              "      <td>379.30</td>\n",
              "    </tr>\n",
              "    <tr>\n",
              "      <th>15</th>\n",
              "      <td>60</td>\n",
              "      <td>'2020/12/15'</td>\n",
              "      <td>98</td>\n",
              "      <td>123</td>\n",
              "      <td>275.00</td>\n",
              "    </tr>\n",
              "    <tr>\n",
              "      <th>16</th>\n",
              "      <td>60</td>\n",
              "      <td>'2020/12/16'</td>\n",
              "      <td>98</td>\n",
              "      <td>120</td>\n",
              "      <td>215.20</td>\n",
              "    </tr>\n",
              "    <tr>\n",
              "      <th>17</th>\n",
              "      <td>60</td>\n",
              "      <td>'2020/12/17'</td>\n",
              "      <td>100</td>\n",
              "      <td>120</td>\n",
              "      <td>300.00</td>\n",
              "    </tr>\n",
              "    <tr>\n",
              "      <th>18</th>\n",
              "      <td>45</td>\n",
              "      <td>'2020/12/18'</td>\n",
              "      <td>90</td>\n",
              "      <td>112</td>\n",
              "      <td>304.68</td>\n",
              "    </tr>\n",
              "    <tr>\n",
              "      <th>19</th>\n",
              "      <td>60</td>\n",
              "      <td>'2020/12/19'</td>\n",
              "      <td>103</td>\n",
              "      <td>123</td>\n",
              "      <td>323.00</td>\n",
              "    </tr>\n",
              "    <tr>\n",
              "      <th>20</th>\n",
              "      <td>45</td>\n",
              "      <td>'2020/12/20'</td>\n",
              "      <td>97</td>\n",
              "      <td>125</td>\n",
              "      <td>243.00</td>\n",
              "    </tr>\n",
              "    <tr>\n",
              "      <th>21</th>\n",
              "      <td>60</td>\n",
              "      <td>'2020/12/21'</td>\n",
              "      <td>108</td>\n",
              "      <td>131</td>\n",
              "      <td>364.20</td>\n",
              "    </tr>\n",
              "    <tr>\n",
              "      <th>22</th>\n",
              "      <td>45</td>\n",
              "      <td>NaN</td>\n",
              "      <td>100</td>\n",
              "      <td>119</td>\n",
              "      <td>282.00</td>\n",
              "    </tr>\n",
              "    <tr>\n",
              "      <th>23</th>\n",
              "      <td>60</td>\n",
              "      <td>'2020/12/23'</td>\n",
              "      <td>130</td>\n",
              "      <td>101</td>\n",
              "      <td>300.00</td>\n",
              "    </tr>\n",
              "    <tr>\n",
              "      <th>24</th>\n",
              "      <td>45</td>\n",
              "      <td>'2020/12/24'</td>\n",
              "      <td>105</td>\n",
              "      <td>132</td>\n",
              "      <td>246.00</td>\n",
              "    </tr>\n",
              "    <tr>\n",
              "      <th>25</th>\n",
              "      <td>60</td>\n",
              "      <td>'2020/12/25'</td>\n",
              "      <td>102</td>\n",
              "      <td>126</td>\n",
              "      <td>334.50</td>\n",
              "    </tr>\n",
              "    <tr>\n",
              "      <th>26</th>\n",
              "      <td>60</td>\n",
              "      <td>20201226</td>\n",
              "      <td>100</td>\n",
              "      <td>120</td>\n",
              "      <td>250.00</td>\n",
              "    </tr>\n",
              "    <tr>\n",
              "      <th>27</th>\n",
              "      <td>60</td>\n",
              "      <td>'2020/12/27'</td>\n",
              "      <td>92</td>\n",
              "      <td>118</td>\n",
              "      <td>241.00</td>\n",
              "    </tr>\n",
              "    <tr>\n",
              "      <th>28</th>\n",
              "      <td>60</td>\n",
              "      <td>'2020/12/28'</td>\n",
              "      <td>103</td>\n",
              "      <td>132</td>\n",
              "      <td>304.68</td>\n",
              "    </tr>\n",
              "    <tr>\n",
              "      <th>29</th>\n",
              "      <td>60</td>\n",
              "      <td>'2020/12/29'</td>\n",
              "      <td>100</td>\n",
              "      <td>132</td>\n",
              "      <td>280.00</td>\n",
              "    </tr>\n",
              "    <tr>\n",
              "      <th>30</th>\n",
              "      <td>60</td>\n",
              "      <td>'2020/12/30'</td>\n",
              "      <td>102</td>\n",
              "      <td>129</td>\n",
              "      <td>380.30</td>\n",
              "    </tr>\n",
              "    <tr>\n",
              "      <th>31</th>\n",
              "      <td>60</td>\n",
              "      <td>'2020/12/31'</td>\n",
              "      <td>92</td>\n",
              "      <td>115</td>\n",
              "      <td>243.00</td>\n",
              "    </tr>\n",
              "  </tbody>\n",
              "</table>\n",
              "</div>"
            ],
            "text/plain": [
              "    Duration          Date  Pulse  Maxpulse  Calories\n",
              "0         60  '2020/12/01'    110       130    409.10\n",
              "1         60  '2020/12/02'    117       145    479.00\n",
              "2         60  '2020/12/03'    103       135    340.00\n",
              "3         45  '2020/12/04'    109       175    282.40\n",
              "4         45  '2020/12/05'    117       148    406.00\n",
              "5         60  '2020/12/06'    102       127    300.00\n",
              "6         60  '2020/12/07'    110       136    374.00\n",
              "7        450  '2020/12/08'    104       134    253.30\n",
              "8         30  '2020/12/09'    109       133    195.10\n",
              "9         60  '2020/12/10'     98       124    269.00\n",
              "10        60  '2020/12/11'    103       147    329.30\n",
              "11        60  '2020/12/12'    100       120    250.70\n",
              "12        60  '2020/12/12'    100       120    250.70\n",
              "13        60  '2020/12/13'    106       128    345.30\n",
              "14        60  '2020/12/14'    104       132    379.30\n",
              "15        60  '2020/12/15'     98       123    275.00\n",
              "16        60  '2020/12/16'     98       120    215.20\n",
              "17        60  '2020/12/17'    100       120    300.00\n",
              "18        45  '2020/12/18'     90       112    304.68\n",
              "19        60  '2020/12/19'    103       123    323.00\n",
              "20        45  '2020/12/20'     97       125    243.00\n",
              "21        60  '2020/12/21'    108       131    364.20\n",
              "22        45           NaN    100       119    282.00\n",
              "23        60  '2020/12/23'    130       101    300.00\n",
              "24        45  '2020/12/24'    105       132    246.00\n",
              "25        60  '2020/12/25'    102       126    334.50\n",
              "26        60      20201226    100       120    250.00\n",
              "27        60  '2020/12/27'     92       118    241.00\n",
              "28        60  '2020/12/28'    103       132    304.68\n",
              "29        60  '2020/12/29'    100       132    280.00\n",
              "30        60  '2020/12/30'    102       129    380.30\n",
              "31        60  '2020/12/31'     92       115    243.00"
            ]
          },
          "execution_count": 6,
          "metadata": {},
          "output_type": "execute_result"
        }
      ],
      "source": [
        "df = pd.read_csv('drive/MyDrive/ML-Lab/Datasets/data.csv')\n",
        "x = df[\"Calories\"].mean()\n",
        "df[\"Calories\"].fillna(x, inplace = True)\n",
        "df"
      ]
    },
    {
      "cell_type": "code",
      "execution_count": null,
      "metadata": {
        "id": "HQZzDlcG8I3Q",
        "outputId": "5b380f6c-f753-4b2d-8676-18c682336b3c"
      },
      "outputs": [
        {
          "data": {
            "text/html": [
              "<div>\n",
              "<style scoped>\n",
              "    .dataframe tbody tr th:only-of-type {\n",
              "        vertical-align: middle;\n",
              "    }\n",
              "\n",
              "    .dataframe tbody tr th {\n",
              "        vertical-align: top;\n",
              "    }\n",
              "\n",
              "    .dataframe thead th {\n",
              "        text-align: right;\n",
              "    }\n",
              "</style>\n",
              "<table border=\"1\" class=\"dataframe\">\n",
              "  <thead>\n",
              "    <tr style=\"text-align: right;\">\n",
              "      <th></th>\n",
              "      <th>Duration</th>\n",
              "      <th>Date</th>\n",
              "      <th>Pulse</th>\n",
              "      <th>Maxpulse</th>\n",
              "      <th>Calories</th>\n",
              "    </tr>\n",
              "  </thead>\n",
              "  <tbody>\n",
              "    <tr>\n",
              "      <th>0</th>\n",
              "      <td>60</td>\n",
              "      <td>'2020/12/01'</td>\n",
              "      <td>110</td>\n",
              "      <td>130</td>\n",
              "      <td>409.1</td>\n",
              "    </tr>\n",
              "    <tr>\n",
              "      <th>1</th>\n",
              "      <td>60</td>\n",
              "      <td>'2020/12/02'</td>\n",
              "      <td>117</td>\n",
              "      <td>145</td>\n",
              "      <td>479.0</td>\n",
              "    </tr>\n",
              "    <tr>\n",
              "      <th>2</th>\n",
              "      <td>60</td>\n",
              "      <td>'2020/12/03'</td>\n",
              "      <td>103</td>\n",
              "      <td>135</td>\n",
              "      <td>340.0</td>\n",
              "    </tr>\n",
              "    <tr>\n",
              "      <th>3</th>\n",
              "      <td>45</td>\n",
              "      <td>'2020/12/04'</td>\n",
              "      <td>109</td>\n",
              "      <td>175</td>\n",
              "      <td>282.4</td>\n",
              "    </tr>\n",
              "    <tr>\n",
              "      <th>4</th>\n",
              "      <td>45</td>\n",
              "      <td>'2020/12/05'</td>\n",
              "      <td>117</td>\n",
              "      <td>148</td>\n",
              "      <td>406.0</td>\n",
              "    </tr>\n",
              "    <tr>\n",
              "      <th>5</th>\n",
              "      <td>60</td>\n",
              "      <td>'2020/12/06'</td>\n",
              "      <td>102</td>\n",
              "      <td>127</td>\n",
              "      <td>300.0</td>\n",
              "    </tr>\n",
              "    <tr>\n",
              "      <th>6</th>\n",
              "      <td>60</td>\n",
              "      <td>'2020/12/07'</td>\n",
              "      <td>110</td>\n",
              "      <td>136</td>\n",
              "      <td>374.0</td>\n",
              "    </tr>\n",
              "    <tr>\n",
              "      <th>7</th>\n",
              "      <td>450</td>\n",
              "      <td>'2020/12/08'</td>\n",
              "      <td>104</td>\n",
              "      <td>134</td>\n",
              "      <td>253.3</td>\n",
              "    </tr>\n",
              "    <tr>\n",
              "      <th>8</th>\n",
              "      <td>30</td>\n",
              "      <td>'2020/12/09'</td>\n",
              "      <td>109</td>\n",
              "      <td>133</td>\n",
              "      <td>195.1</td>\n",
              "    </tr>\n",
              "    <tr>\n",
              "      <th>9</th>\n",
              "      <td>60</td>\n",
              "      <td>'2020/12/10'</td>\n",
              "      <td>98</td>\n",
              "      <td>124</td>\n",
              "      <td>269.0</td>\n",
              "    </tr>\n",
              "    <tr>\n",
              "      <th>10</th>\n",
              "      <td>60</td>\n",
              "      <td>'2020/12/11'</td>\n",
              "      <td>103</td>\n",
              "      <td>147</td>\n",
              "      <td>329.3</td>\n",
              "    </tr>\n",
              "    <tr>\n",
              "      <th>11</th>\n",
              "      <td>60</td>\n",
              "      <td>'2020/12/12'</td>\n",
              "      <td>100</td>\n",
              "      <td>120</td>\n",
              "      <td>250.7</td>\n",
              "    </tr>\n",
              "    <tr>\n",
              "      <th>12</th>\n",
              "      <td>60</td>\n",
              "      <td>'2020/12/12'</td>\n",
              "      <td>100</td>\n",
              "      <td>120</td>\n",
              "      <td>250.7</td>\n",
              "    </tr>\n",
              "    <tr>\n",
              "      <th>13</th>\n",
              "      <td>60</td>\n",
              "      <td>'2020/12/13'</td>\n",
              "      <td>106</td>\n",
              "      <td>128</td>\n",
              "      <td>345.3</td>\n",
              "    </tr>\n",
              "    <tr>\n",
              "      <th>14</th>\n",
              "      <td>60</td>\n",
              "      <td>'2020/12/14'</td>\n",
              "      <td>104</td>\n",
              "      <td>132</td>\n",
              "      <td>379.3</td>\n",
              "    </tr>\n",
              "    <tr>\n",
              "      <th>15</th>\n",
              "      <td>60</td>\n",
              "      <td>'2020/12/15'</td>\n",
              "      <td>98</td>\n",
              "      <td>123</td>\n",
              "      <td>275.0</td>\n",
              "    </tr>\n",
              "    <tr>\n",
              "      <th>16</th>\n",
              "      <td>60</td>\n",
              "      <td>'2020/12/16'</td>\n",
              "      <td>98</td>\n",
              "      <td>120</td>\n",
              "      <td>215.2</td>\n",
              "    </tr>\n",
              "    <tr>\n",
              "      <th>17</th>\n",
              "      <td>60</td>\n",
              "      <td>'2020/12/17'</td>\n",
              "      <td>100</td>\n",
              "      <td>120</td>\n",
              "      <td>300.0</td>\n",
              "    </tr>\n",
              "    <tr>\n",
              "      <th>18</th>\n",
              "      <td>45</td>\n",
              "      <td>'2020/12/18'</td>\n",
              "      <td>90</td>\n",
              "      <td>112</td>\n",
              "      <td>291.2</td>\n",
              "    </tr>\n",
              "    <tr>\n",
              "      <th>19</th>\n",
              "      <td>60</td>\n",
              "      <td>'2020/12/19'</td>\n",
              "      <td>103</td>\n",
              "      <td>123</td>\n",
              "      <td>323.0</td>\n",
              "    </tr>\n",
              "    <tr>\n",
              "      <th>20</th>\n",
              "      <td>45</td>\n",
              "      <td>'2020/12/20'</td>\n",
              "      <td>97</td>\n",
              "      <td>125</td>\n",
              "      <td>243.0</td>\n",
              "    </tr>\n",
              "    <tr>\n",
              "      <th>21</th>\n",
              "      <td>60</td>\n",
              "      <td>'2020/12/21'</td>\n",
              "      <td>108</td>\n",
              "      <td>131</td>\n",
              "      <td>364.2</td>\n",
              "    </tr>\n",
              "    <tr>\n",
              "      <th>22</th>\n",
              "      <td>45</td>\n",
              "      <td>NaN</td>\n",
              "      <td>100</td>\n",
              "      <td>119</td>\n",
              "      <td>282.0</td>\n",
              "    </tr>\n",
              "    <tr>\n",
              "      <th>23</th>\n",
              "      <td>60</td>\n",
              "      <td>'2020/12/23'</td>\n",
              "      <td>130</td>\n",
              "      <td>101</td>\n",
              "      <td>300.0</td>\n",
              "    </tr>\n",
              "    <tr>\n",
              "      <th>24</th>\n",
              "      <td>45</td>\n",
              "      <td>'2020/12/24'</td>\n",
              "      <td>105</td>\n",
              "      <td>132</td>\n",
              "      <td>246.0</td>\n",
              "    </tr>\n",
              "    <tr>\n",
              "      <th>25</th>\n",
              "      <td>60</td>\n",
              "      <td>'2020/12/25'</td>\n",
              "      <td>102</td>\n",
              "      <td>126</td>\n",
              "      <td>334.5</td>\n",
              "    </tr>\n",
              "    <tr>\n",
              "      <th>26</th>\n",
              "      <td>60</td>\n",
              "      <td>20201226</td>\n",
              "      <td>100</td>\n",
              "      <td>120</td>\n",
              "      <td>250.0</td>\n",
              "    </tr>\n",
              "    <tr>\n",
              "      <th>27</th>\n",
              "      <td>60</td>\n",
              "      <td>'2020/12/27'</td>\n",
              "      <td>92</td>\n",
              "      <td>118</td>\n",
              "      <td>241.0</td>\n",
              "    </tr>\n",
              "    <tr>\n",
              "      <th>28</th>\n",
              "      <td>60</td>\n",
              "      <td>'2020/12/28'</td>\n",
              "      <td>103</td>\n",
              "      <td>132</td>\n",
              "      <td>291.2</td>\n",
              "    </tr>\n",
              "    <tr>\n",
              "      <th>29</th>\n",
              "      <td>60</td>\n",
              "      <td>'2020/12/29'</td>\n",
              "      <td>100</td>\n",
              "      <td>132</td>\n",
              "      <td>280.0</td>\n",
              "    </tr>\n",
              "    <tr>\n",
              "      <th>30</th>\n",
              "      <td>60</td>\n",
              "      <td>'2020/12/30'</td>\n",
              "      <td>102</td>\n",
              "      <td>129</td>\n",
              "      <td>380.3</td>\n",
              "    </tr>\n",
              "    <tr>\n",
              "      <th>31</th>\n",
              "      <td>60</td>\n",
              "      <td>'2020/12/31'</td>\n",
              "      <td>92</td>\n",
              "      <td>115</td>\n",
              "      <td>243.0</td>\n",
              "    </tr>\n",
              "  </tbody>\n",
              "</table>\n",
              "</div>"
            ],
            "text/plain": [
              "    Duration          Date  Pulse  Maxpulse  Calories\n",
              "0         60  '2020/12/01'    110       130     409.1\n",
              "1         60  '2020/12/02'    117       145     479.0\n",
              "2         60  '2020/12/03'    103       135     340.0\n",
              "3         45  '2020/12/04'    109       175     282.4\n",
              "4         45  '2020/12/05'    117       148     406.0\n",
              "5         60  '2020/12/06'    102       127     300.0\n",
              "6         60  '2020/12/07'    110       136     374.0\n",
              "7        450  '2020/12/08'    104       134     253.3\n",
              "8         30  '2020/12/09'    109       133     195.1\n",
              "9         60  '2020/12/10'     98       124     269.0\n",
              "10        60  '2020/12/11'    103       147     329.3\n",
              "11        60  '2020/12/12'    100       120     250.7\n",
              "12        60  '2020/12/12'    100       120     250.7\n",
              "13        60  '2020/12/13'    106       128     345.3\n",
              "14        60  '2020/12/14'    104       132     379.3\n",
              "15        60  '2020/12/15'     98       123     275.0\n",
              "16        60  '2020/12/16'     98       120     215.2\n",
              "17        60  '2020/12/17'    100       120     300.0\n",
              "18        45  '2020/12/18'     90       112     291.2\n",
              "19        60  '2020/12/19'    103       123     323.0\n",
              "20        45  '2020/12/20'     97       125     243.0\n",
              "21        60  '2020/12/21'    108       131     364.2\n",
              "22        45           NaN    100       119     282.0\n",
              "23        60  '2020/12/23'    130       101     300.0\n",
              "24        45  '2020/12/24'    105       132     246.0\n",
              "25        60  '2020/12/25'    102       126     334.5\n",
              "26        60      20201226    100       120     250.0\n",
              "27        60  '2020/12/27'     92       118     241.0\n",
              "28        60  '2020/12/28'    103       132     291.2\n",
              "29        60  '2020/12/29'    100       132     280.0\n",
              "30        60  '2020/12/30'    102       129     380.3\n",
              "31        60  '2020/12/31'     92       115     243.0"
            ]
          },
          "execution_count": 7,
          "metadata": {},
          "output_type": "execute_result"
        }
      ],
      "source": [
        "df = pd.read_csv('drive/MyDrive/ML-Lab/Datasets/data.csv')\n",
        "x = df[\"Calories\"].median()\n",
        "df[\"Calories\"].fillna(x, inplace = True)\n",
        "df"
      ]
    },
    {
      "cell_type": "code",
      "execution_count": null,
      "metadata": {
        "id": "ZQ8YPTvy8I3Q",
        "outputId": "cce19717-01cf-4e7e-b3f0-f7e97d89cdb5"
      },
      "outputs": [
        {
          "data": {
            "text/html": [
              "<div>\n",
              "<style scoped>\n",
              "    .dataframe tbody tr th:only-of-type {\n",
              "        vertical-align: middle;\n",
              "    }\n",
              "\n",
              "    .dataframe tbody tr th {\n",
              "        vertical-align: top;\n",
              "    }\n",
              "\n",
              "    .dataframe thead th {\n",
              "        text-align: right;\n",
              "    }\n",
              "</style>\n",
              "<table border=\"1\" class=\"dataframe\">\n",
              "  <thead>\n",
              "    <tr style=\"text-align: right;\">\n",
              "      <th></th>\n",
              "      <th>Duration</th>\n",
              "      <th>Date</th>\n",
              "      <th>Pulse</th>\n",
              "      <th>Maxpulse</th>\n",
              "      <th>Calories</th>\n",
              "    </tr>\n",
              "  </thead>\n",
              "  <tbody>\n",
              "    <tr>\n",
              "      <th>0</th>\n",
              "      <td>60</td>\n",
              "      <td>'2020/12/01'</td>\n",
              "      <td>110</td>\n",
              "      <td>130</td>\n",
              "      <td>409.1</td>\n",
              "    </tr>\n",
              "    <tr>\n",
              "      <th>1</th>\n",
              "      <td>60</td>\n",
              "      <td>'2020/12/02'</td>\n",
              "      <td>117</td>\n",
              "      <td>145</td>\n",
              "      <td>479.0</td>\n",
              "    </tr>\n",
              "    <tr>\n",
              "      <th>2</th>\n",
              "      <td>60</td>\n",
              "      <td>'2020/12/03'</td>\n",
              "      <td>103</td>\n",
              "      <td>135</td>\n",
              "      <td>340.0</td>\n",
              "    </tr>\n",
              "    <tr>\n",
              "      <th>3</th>\n",
              "      <td>45</td>\n",
              "      <td>'2020/12/04'</td>\n",
              "      <td>109</td>\n",
              "      <td>175</td>\n",
              "      <td>282.4</td>\n",
              "    </tr>\n",
              "    <tr>\n",
              "      <th>4</th>\n",
              "      <td>45</td>\n",
              "      <td>'2020/12/05'</td>\n",
              "      <td>117</td>\n",
              "      <td>148</td>\n",
              "      <td>406.0</td>\n",
              "    </tr>\n",
              "    <tr>\n",
              "      <th>5</th>\n",
              "      <td>60</td>\n",
              "      <td>'2020/12/06'</td>\n",
              "      <td>102</td>\n",
              "      <td>127</td>\n",
              "      <td>300.0</td>\n",
              "    </tr>\n",
              "    <tr>\n",
              "      <th>6</th>\n",
              "      <td>60</td>\n",
              "      <td>'2020/12/07'</td>\n",
              "      <td>110</td>\n",
              "      <td>136</td>\n",
              "      <td>374.0</td>\n",
              "    </tr>\n",
              "    <tr>\n",
              "      <th>7</th>\n",
              "      <td>450</td>\n",
              "      <td>'2020/12/08'</td>\n",
              "      <td>104</td>\n",
              "      <td>134</td>\n",
              "      <td>253.3</td>\n",
              "    </tr>\n",
              "    <tr>\n",
              "      <th>8</th>\n",
              "      <td>30</td>\n",
              "      <td>'2020/12/09'</td>\n",
              "      <td>109</td>\n",
              "      <td>133</td>\n",
              "      <td>195.1</td>\n",
              "    </tr>\n",
              "    <tr>\n",
              "      <th>9</th>\n",
              "      <td>60</td>\n",
              "      <td>'2020/12/10'</td>\n",
              "      <td>98</td>\n",
              "      <td>124</td>\n",
              "      <td>269.0</td>\n",
              "    </tr>\n",
              "    <tr>\n",
              "      <th>10</th>\n",
              "      <td>60</td>\n",
              "      <td>'2020/12/11'</td>\n",
              "      <td>103</td>\n",
              "      <td>147</td>\n",
              "      <td>329.3</td>\n",
              "    </tr>\n",
              "    <tr>\n",
              "      <th>11</th>\n",
              "      <td>60</td>\n",
              "      <td>'2020/12/12'</td>\n",
              "      <td>100</td>\n",
              "      <td>120</td>\n",
              "      <td>250.7</td>\n",
              "    </tr>\n",
              "    <tr>\n",
              "      <th>12</th>\n",
              "      <td>60</td>\n",
              "      <td>'2020/12/12'</td>\n",
              "      <td>100</td>\n",
              "      <td>120</td>\n",
              "      <td>250.7</td>\n",
              "    </tr>\n",
              "    <tr>\n",
              "      <th>13</th>\n",
              "      <td>60</td>\n",
              "      <td>'2020/12/13'</td>\n",
              "      <td>106</td>\n",
              "      <td>128</td>\n",
              "      <td>345.3</td>\n",
              "    </tr>\n",
              "    <tr>\n",
              "      <th>14</th>\n",
              "      <td>60</td>\n",
              "      <td>'2020/12/14'</td>\n",
              "      <td>104</td>\n",
              "      <td>132</td>\n",
              "      <td>379.3</td>\n",
              "    </tr>\n",
              "    <tr>\n",
              "      <th>15</th>\n",
              "      <td>60</td>\n",
              "      <td>'2020/12/15'</td>\n",
              "      <td>98</td>\n",
              "      <td>123</td>\n",
              "      <td>275.0</td>\n",
              "    </tr>\n",
              "    <tr>\n",
              "      <th>16</th>\n",
              "      <td>60</td>\n",
              "      <td>'2020/12/16'</td>\n",
              "      <td>98</td>\n",
              "      <td>120</td>\n",
              "      <td>215.2</td>\n",
              "    </tr>\n",
              "    <tr>\n",
              "      <th>17</th>\n",
              "      <td>60</td>\n",
              "      <td>'2020/12/17'</td>\n",
              "      <td>100</td>\n",
              "      <td>120</td>\n",
              "      <td>300.0</td>\n",
              "    </tr>\n",
              "    <tr>\n",
              "      <th>18</th>\n",
              "      <td>45</td>\n",
              "      <td>'2020/12/18'</td>\n",
              "      <td>90</td>\n",
              "      <td>112</td>\n",
              "      <td>300.0</td>\n",
              "    </tr>\n",
              "    <tr>\n",
              "      <th>19</th>\n",
              "      <td>60</td>\n",
              "      <td>'2020/12/19'</td>\n",
              "      <td>103</td>\n",
              "      <td>123</td>\n",
              "      <td>323.0</td>\n",
              "    </tr>\n",
              "    <tr>\n",
              "      <th>20</th>\n",
              "      <td>45</td>\n",
              "      <td>'2020/12/20'</td>\n",
              "      <td>97</td>\n",
              "      <td>125</td>\n",
              "      <td>243.0</td>\n",
              "    </tr>\n",
              "    <tr>\n",
              "      <th>21</th>\n",
              "      <td>60</td>\n",
              "      <td>'2020/12/21'</td>\n",
              "      <td>108</td>\n",
              "      <td>131</td>\n",
              "      <td>364.2</td>\n",
              "    </tr>\n",
              "    <tr>\n",
              "      <th>22</th>\n",
              "      <td>45</td>\n",
              "      <td>NaN</td>\n",
              "      <td>100</td>\n",
              "      <td>119</td>\n",
              "      <td>282.0</td>\n",
              "    </tr>\n",
              "    <tr>\n",
              "      <th>23</th>\n",
              "      <td>60</td>\n",
              "      <td>'2020/12/23'</td>\n",
              "      <td>130</td>\n",
              "      <td>101</td>\n",
              "      <td>300.0</td>\n",
              "    </tr>\n",
              "    <tr>\n",
              "      <th>24</th>\n",
              "      <td>45</td>\n",
              "      <td>'2020/12/24'</td>\n",
              "      <td>105</td>\n",
              "      <td>132</td>\n",
              "      <td>246.0</td>\n",
              "    </tr>\n",
              "    <tr>\n",
              "      <th>25</th>\n",
              "      <td>60</td>\n",
              "      <td>'2020/12/25'</td>\n",
              "      <td>102</td>\n",
              "      <td>126</td>\n",
              "      <td>334.5</td>\n",
              "    </tr>\n",
              "    <tr>\n",
              "      <th>26</th>\n",
              "      <td>60</td>\n",
              "      <td>20201226</td>\n",
              "      <td>100</td>\n",
              "      <td>120</td>\n",
              "      <td>250.0</td>\n",
              "    </tr>\n",
              "    <tr>\n",
              "      <th>27</th>\n",
              "      <td>60</td>\n",
              "      <td>'2020/12/27'</td>\n",
              "      <td>92</td>\n",
              "      <td>118</td>\n",
              "      <td>241.0</td>\n",
              "    </tr>\n",
              "    <tr>\n",
              "      <th>28</th>\n",
              "      <td>60</td>\n",
              "      <td>'2020/12/28'</td>\n",
              "      <td>103</td>\n",
              "      <td>132</td>\n",
              "      <td>300.0</td>\n",
              "    </tr>\n",
              "    <tr>\n",
              "      <th>29</th>\n",
              "      <td>60</td>\n",
              "      <td>'2020/12/29'</td>\n",
              "      <td>100</td>\n",
              "      <td>132</td>\n",
              "      <td>280.0</td>\n",
              "    </tr>\n",
              "    <tr>\n",
              "      <th>30</th>\n",
              "      <td>60</td>\n",
              "      <td>'2020/12/30'</td>\n",
              "      <td>102</td>\n",
              "      <td>129</td>\n",
              "      <td>380.3</td>\n",
              "    </tr>\n",
              "    <tr>\n",
              "      <th>31</th>\n",
              "      <td>60</td>\n",
              "      <td>'2020/12/31'</td>\n",
              "      <td>92</td>\n",
              "      <td>115</td>\n",
              "      <td>243.0</td>\n",
              "    </tr>\n",
              "  </tbody>\n",
              "</table>\n",
              "</div>"
            ],
            "text/plain": [
              "    Duration          Date  Pulse  Maxpulse  Calories\n",
              "0         60  '2020/12/01'    110       130     409.1\n",
              "1         60  '2020/12/02'    117       145     479.0\n",
              "2         60  '2020/12/03'    103       135     340.0\n",
              "3         45  '2020/12/04'    109       175     282.4\n",
              "4         45  '2020/12/05'    117       148     406.0\n",
              "5         60  '2020/12/06'    102       127     300.0\n",
              "6         60  '2020/12/07'    110       136     374.0\n",
              "7        450  '2020/12/08'    104       134     253.3\n",
              "8         30  '2020/12/09'    109       133     195.1\n",
              "9         60  '2020/12/10'     98       124     269.0\n",
              "10        60  '2020/12/11'    103       147     329.3\n",
              "11        60  '2020/12/12'    100       120     250.7\n",
              "12        60  '2020/12/12'    100       120     250.7\n",
              "13        60  '2020/12/13'    106       128     345.3\n",
              "14        60  '2020/12/14'    104       132     379.3\n",
              "15        60  '2020/12/15'     98       123     275.0\n",
              "16        60  '2020/12/16'     98       120     215.2\n",
              "17        60  '2020/12/17'    100       120     300.0\n",
              "18        45  '2020/12/18'     90       112     300.0\n",
              "19        60  '2020/12/19'    103       123     323.0\n",
              "20        45  '2020/12/20'     97       125     243.0\n",
              "21        60  '2020/12/21'    108       131     364.2\n",
              "22        45           NaN    100       119     282.0\n",
              "23        60  '2020/12/23'    130       101     300.0\n",
              "24        45  '2020/12/24'    105       132     246.0\n",
              "25        60  '2020/12/25'    102       126     334.5\n",
              "26        60      20201226    100       120     250.0\n",
              "27        60  '2020/12/27'     92       118     241.0\n",
              "28        60  '2020/12/28'    103       132     300.0\n",
              "29        60  '2020/12/29'    100       132     280.0\n",
              "30        60  '2020/12/30'    102       129     380.3\n",
              "31        60  '2020/12/31'     92       115     243.0"
            ]
          },
          "execution_count": 12,
          "metadata": {},
          "output_type": "execute_result"
        }
      ],
      "source": [
        "df = pd.read_csv('drive/MyDrive/ML-Lab/Datasets/data.csv')\n",
        "x = df[\"Calories\"].mode()[0]\n",
        "df[\"Calories\"].fillna(x, inplace = True)\n",
        "df"
      ]
    },
    {
      "cell_type": "markdown",
      "metadata": {
        "id": "5CqVV7SY8I3R"
      },
      "source": [
        "# Pandas - Cleaning Data of Wrong Format\n",
        "TO FIX IT, YOU HAVE TWO OPTIONS:\n",
        "* REMOVE THE ROWS, OR\n",
        "* CONVERT ALL CELLS IN THE COLUMNS INTO THE SAME FORMAT\n",
        "\n",
        "# CONVERT ALL CELLS IN THE COLUMNS INTO THE SAME FORMAT."
      ]
    },
    {
      "cell_type": "code",
      "execution_count": null,
      "metadata": {
        "id": "tzELyDH98I3R",
        "outputId": "fc59b523-0bee-4d39-d666-3d20fdb42742"
      },
      "outputs": [
        {
          "name": "stdout",
          "output_type": "stream",
          "text": [
            "    Duration       Date  Pulse  Maxpulse  Calories\n",
            "0         60 2020-12-01    110       130     409.1\n",
            "1         60 2020-12-02    117       145     479.0\n",
            "2         60 2020-12-03    103       135     340.0\n",
            "3         45 2020-12-04    109       175     282.4\n",
            "4         45 2020-12-05    117       148     406.0\n",
            "5         60 2020-12-06    102       127     300.0\n",
            "6         60 2020-12-07    110       136     374.0\n",
            "7        450 2020-12-08    104       134     253.3\n",
            "8         30 2020-12-09    109       133     195.1\n",
            "9         60 2020-12-10     98       124     269.0\n",
            "10        60 2020-12-11    103       147     329.3\n",
            "11        60 2020-12-12    100       120     250.7\n",
            "12        60 2020-12-12    100       120     250.7\n",
            "13        60 2020-12-13    106       128     345.3\n",
            "14        60 2020-12-14    104       132     379.3\n",
            "15        60 2020-12-15     98       123     275.0\n",
            "16        60 2020-12-16     98       120     215.2\n",
            "17        60 2020-12-17    100       120     300.0\n",
            "18        45 2020-12-18     90       112       NaN\n",
            "19        60 2020-12-19    103       123     323.0\n",
            "20        45 2020-12-20     97       125     243.0\n",
            "21        60 2020-12-21    108       131     364.2\n",
            "22        45        NaT    100       119     282.0\n",
            "23        60 2020-12-23    130       101     300.0\n",
            "24        45 2020-12-24    105       132     246.0\n",
            "25        60 2020-12-25    102       126     334.5\n",
            "26        60 2020-12-26    100       120     250.0\n",
            "27        60 2020-12-27     92       118     241.0\n",
            "28        60 2020-12-28    103       132       NaN\n",
            "29        60 2020-12-29    100       132     280.0\n",
            "30        60 2020-12-30    102       129     380.3\n",
            "31        60 2020-12-31     92       115     243.0\n"
          ]
        }
      ],
      "source": [
        "df = pd.read_csv('drive/MyDrive/ML-Lab/Datasets/data.csv')\n",
        "df['Date'] = pd.to_datetime(df['Date'])\n",
        "print(df.to_string())"
      ]
    },
    {
      "cell_type": "markdown",
      "metadata": {
        "id": "-Xn6z3w58I3R"
      },
      "source": [
        "# REMOVING ROWS"
      ]
    },
    {
      "cell_type": "code",
      "execution_count": null,
      "metadata": {
        "id": "mqVZiUaY8I3R",
        "outputId": "63e67283-c272-4029-e19d-da633a3cfa6b"
      },
      "outputs": [
        {
          "name": "stdout",
          "output_type": "stream",
          "text": [
            "    Duration       Date  Pulse  Maxpulse  Calories\n",
            "0         60 2020-12-01    110       130     409.1\n",
            "1         60 2020-12-02    117       145     479.0\n",
            "2         60 2020-12-03    103       135     340.0\n",
            "3         45 2020-12-04    109       175     282.4\n",
            "4         45 2020-12-05    117       148     406.0\n",
            "5         60 2020-12-06    102       127     300.0\n",
            "6         60 2020-12-07    110       136     374.0\n",
            "7        450 2020-12-08    104       134     253.3\n",
            "8         30 2020-12-09    109       133     195.1\n",
            "9         60 2020-12-10     98       124     269.0\n",
            "10        60 2020-12-11    103       147     329.3\n",
            "11        60 2020-12-12    100       120     250.7\n",
            "12        60 2020-12-12    100       120     250.7\n",
            "13        60 2020-12-13    106       128     345.3\n",
            "14        60 2020-12-14    104       132     379.3\n",
            "15        60 2020-12-15     98       123     275.0\n",
            "16        60 2020-12-16     98       120     215.2\n",
            "17        60 2020-12-17    100       120     300.0\n",
            "18        45 2020-12-18     90       112       NaN\n",
            "19        60 2020-12-19    103       123     323.0\n",
            "20        45 2020-12-20     97       125     243.0\n",
            "21        60 2020-12-21    108       131     364.2\n",
            "23        60 2020-12-23    130       101     300.0\n",
            "24        45 2020-12-24    105       132     246.0\n",
            "25        60 2020-12-25    102       126     334.5\n",
            "26        60 2020-12-26    100       120     250.0\n",
            "27        60 2020-12-27     92       118     241.0\n",
            "28        60 2020-12-28    103       132       NaN\n",
            "29        60 2020-12-29    100       132     280.0\n",
            "30        60 2020-12-30    102       129     380.3\n",
            "31        60 2020-12-31     92       115     243.0\n"
          ]
        }
      ],
      "source": [
        "df = pd.read_csv('drive/MyDrive/ML-Lab/Datasets/data.csv')\n",
        "df['Date'] = pd.to_datetime(df['Date'])\n",
        "df.dropna(subset=['Date'], inplace = True)\n",
        "print(df.to_string())\n"
      ]
    },
    {
      "cell_type": "markdown",
      "metadata": {
        "id": "MP7qY2618I3R"
      },
      "source": [
        "# PANDAS - FIXING WRONG DATA\n",
        "# REPLACING VALUES"
      ]
    },
    {
      "cell_type": "code",
      "execution_count": null,
      "metadata": {
        "id": "y0kL2VNM8I3R",
        "outputId": "daa20597-92c0-41c3-e16c-38eeb24d87c4"
      },
      "outputs": [
        {
          "data": {
            "text/html": [
              "<div>\n",
              "<style scoped>\n",
              "    .dataframe tbody tr th:only-of-type {\n",
              "        vertical-align: middle;\n",
              "    }\n",
              "\n",
              "    .dataframe tbody tr th {\n",
              "        vertical-align: top;\n",
              "    }\n",
              "\n",
              "    .dataframe thead th {\n",
              "        text-align: right;\n",
              "    }\n",
              "</style>\n",
              "<table border=\"1\" class=\"dataframe\">\n",
              "  <thead>\n",
              "    <tr style=\"text-align: right;\">\n",
              "      <th></th>\n",
              "      <th>Duration</th>\n",
              "      <th>Date</th>\n",
              "      <th>Pulse</th>\n",
              "      <th>Maxpulse</th>\n",
              "      <th>Calories</th>\n",
              "    </tr>\n",
              "  </thead>\n",
              "  <tbody>\n",
              "    <tr>\n",
              "      <th>0</th>\n",
              "      <td>60</td>\n",
              "      <td>2020-12-01</td>\n",
              "      <td>110</td>\n",
              "      <td>130</td>\n",
              "      <td>409.1</td>\n",
              "    </tr>\n",
              "    <tr>\n",
              "      <th>1</th>\n",
              "      <td>60</td>\n",
              "      <td>2020-12-02</td>\n",
              "      <td>117</td>\n",
              "      <td>145</td>\n",
              "      <td>479.0</td>\n",
              "    </tr>\n",
              "    <tr>\n",
              "      <th>2</th>\n",
              "      <td>60</td>\n",
              "      <td>2020-12-03</td>\n",
              "      <td>103</td>\n",
              "      <td>135</td>\n",
              "      <td>340.0</td>\n",
              "    </tr>\n",
              "    <tr>\n",
              "      <th>3</th>\n",
              "      <td>45</td>\n",
              "      <td>2020-12-04</td>\n",
              "      <td>109</td>\n",
              "      <td>175</td>\n",
              "      <td>282.4</td>\n",
              "    </tr>\n",
              "    <tr>\n",
              "      <th>4</th>\n",
              "      <td>45</td>\n",
              "      <td>2020-12-05</td>\n",
              "      <td>117</td>\n",
              "      <td>148</td>\n",
              "      <td>406.0</td>\n",
              "    </tr>\n",
              "    <tr>\n",
              "      <th>5</th>\n",
              "      <td>60</td>\n",
              "      <td>2020-12-06</td>\n",
              "      <td>102</td>\n",
              "      <td>127</td>\n",
              "      <td>300.0</td>\n",
              "    </tr>\n",
              "    <tr>\n",
              "      <th>6</th>\n",
              "      <td>60</td>\n",
              "      <td>2020-12-07</td>\n",
              "      <td>110</td>\n",
              "      <td>136</td>\n",
              "      <td>374.0</td>\n",
              "    </tr>\n",
              "    <tr>\n",
              "      <th>7</th>\n",
              "      <td>120</td>\n",
              "      <td>2020-12-08</td>\n",
              "      <td>104</td>\n",
              "      <td>134</td>\n",
              "      <td>253.3</td>\n",
              "    </tr>\n",
              "    <tr>\n",
              "      <th>8</th>\n",
              "      <td>30</td>\n",
              "      <td>2020-12-09</td>\n",
              "      <td>109</td>\n",
              "      <td>133</td>\n",
              "      <td>195.1</td>\n",
              "    </tr>\n",
              "    <tr>\n",
              "      <th>9</th>\n",
              "      <td>60</td>\n",
              "      <td>2020-12-10</td>\n",
              "      <td>98</td>\n",
              "      <td>124</td>\n",
              "      <td>269.0</td>\n",
              "    </tr>\n",
              "    <tr>\n",
              "      <th>10</th>\n",
              "      <td>60</td>\n",
              "      <td>2020-12-11</td>\n",
              "      <td>103</td>\n",
              "      <td>147</td>\n",
              "      <td>329.3</td>\n",
              "    </tr>\n",
              "    <tr>\n",
              "      <th>11</th>\n",
              "      <td>60</td>\n",
              "      <td>2020-12-12</td>\n",
              "      <td>100</td>\n",
              "      <td>120</td>\n",
              "      <td>250.7</td>\n",
              "    </tr>\n",
              "    <tr>\n",
              "      <th>12</th>\n",
              "      <td>60</td>\n",
              "      <td>2020-12-12</td>\n",
              "      <td>100</td>\n",
              "      <td>120</td>\n",
              "      <td>250.7</td>\n",
              "    </tr>\n",
              "    <tr>\n",
              "      <th>13</th>\n",
              "      <td>60</td>\n",
              "      <td>2020-12-13</td>\n",
              "      <td>106</td>\n",
              "      <td>128</td>\n",
              "      <td>345.3</td>\n",
              "    </tr>\n",
              "    <tr>\n",
              "      <th>14</th>\n",
              "      <td>60</td>\n",
              "      <td>2020-12-14</td>\n",
              "      <td>104</td>\n",
              "      <td>132</td>\n",
              "      <td>379.3</td>\n",
              "    </tr>\n",
              "    <tr>\n",
              "      <th>15</th>\n",
              "      <td>60</td>\n",
              "      <td>2020-12-15</td>\n",
              "      <td>98</td>\n",
              "      <td>123</td>\n",
              "      <td>275.0</td>\n",
              "    </tr>\n",
              "    <tr>\n",
              "      <th>16</th>\n",
              "      <td>60</td>\n",
              "      <td>2020-12-16</td>\n",
              "      <td>98</td>\n",
              "      <td>120</td>\n",
              "      <td>215.2</td>\n",
              "    </tr>\n",
              "    <tr>\n",
              "      <th>17</th>\n",
              "      <td>60</td>\n",
              "      <td>2020-12-17</td>\n",
              "      <td>100</td>\n",
              "      <td>120</td>\n",
              "      <td>300.0</td>\n",
              "    </tr>\n",
              "    <tr>\n",
              "      <th>18</th>\n",
              "      <td>45</td>\n",
              "      <td>2020-12-18</td>\n",
              "      <td>90</td>\n",
              "      <td>112</td>\n",
              "      <td>NaN</td>\n",
              "    </tr>\n",
              "    <tr>\n",
              "      <th>19</th>\n",
              "      <td>60</td>\n",
              "      <td>2020-12-19</td>\n",
              "      <td>103</td>\n",
              "      <td>123</td>\n",
              "      <td>323.0</td>\n",
              "    </tr>\n",
              "    <tr>\n",
              "      <th>20</th>\n",
              "      <td>45</td>\n",
              "      <td>2020-12-20</td>\n",
              "      <td>97</td>\n",
              "      <td>125</td>\n",
              "      <td>243.0</td>\n",
              "    </tr>\n",
              "    <tr>\n",
              "      <th>21</th>\n",
              "      <td>60</td>\n",
              "      <td>2020-12-21</td>\n",
              "      <td>108</td>\n",
              "      <td>131</td>\n",
              "      <td>364.2</td>\n",
              "    </tr>\n",
              "    <tr>\n",
              "      <th>23</th>\n",
              "      <td>60</td>\n",
              "      <td>2020-12-23</td>\n",
              "      <td>130</td>\n",
              "      <td>101</td>\n",
              "      <td>300.0</td>\n",
              "    </tr>\n",
              "    <tr>\n",
              "      <th>24</th>\n",
              "      <td>45</td>\n",
              "      <td>2020-12-24</td>\n",
              "      <td>105</td>\n",
              "      <td>132</td>\n",
              "      <td>246.0</td>\n",
              "    </tr>\n",
              "    <tr>\n",
              "      <th>25</th>\n",
              "      <td>60</td>\n",
              "      <td>2020-12-25</td>\n",
              "      <td>102</td>\n",
              "      <td>126</td>\n",
              "      <td>334.5</td>\n",
              "    </tr>\n",
              "    <tr>\n",
              "      <th>26</th>\n",
              "      <td>60</td>\n",
              "      <td>2020-12-26</td>\n",
              "      <td>100</td>\n",
              "      <td>120</td>\n",
              "      <td>250.0</td>\n",
              "    </tr>\n",
              "    <tr>\n",
              "      <th>27</th>\n",
              "      <td>60</td>\n",
              "      <td>2020-12-27</td>\n",
              "      <td>92</td>\n",
              "      <td>118</td>\n",
              "      <td>241.0</td>\n",
              "    </tr>\n",
              "    <tr>\n",
              "      <th>28</th>\n",
              "      <td>60</td>\n",
              "      <td>2020-12-28</td>\n",
              "      <td>103</td>\n",
              "      <td>132</td>\n",
              "      <td>NaN</td>\n",
              "    </tr>\n",
              "    <tr>\n",
              "      <th>29</th>\n",
              "      <td>60</td>\n",
              "      <td>2020-12-29</td>\n",
              "      <td>100</td>\n",
              "      <td>132</td>\n",
              "      <td>280.0</td>\n",
              "    </tr>\n",
              "    <tr>\n",
              "      <th>30</th>\n",
              "      <td>60</td>\n",
              "      <td>2020-12-30</td>\n",
              "      <td>102</td>\n",
              "      <td>129</td>\n",
              "      <td>380.3</td>\n",
              "    </tr>\n",
              "    <tr>\n",
              "      <th>31</th>\n",
              "      <td>60</td>\n",
              "      <td>2020-12-31</td>\n",
              "      <td>92</td>\n",
              "      <td>115</td>\n",
              "      <td>243.0</td>\n",
              "    </tr>\n",
              "  </tbody>\n",
              "</table>\n",
              "</div>"
            ],
            "text/plain": [
              "    Duration       Date  Pulse  Maxpulse  Calories\n",
              "0         60 2020-12-01    110       130     409.1\n",
              "1         60 2020-12-02    117       145     479.0\n",
              "2         60 2020-12-03    103       135     340.0\n",
              "3         45 2020-12-04    109       175     282.4\n",
              "4         45 2020-12-05    117       148     406.0\n",
              "5         60 2020-12-06    102       127     300.0\n",
              "6         60 2020-12-07    110       136     374.0\n",
              "7        120 2020-12-08    104       134     253.3\n",
              "8         30 2020-12-09    109       133     195.1\n",
              "9         60 2020-12-10     98       124     269.0\n",
              "10        60 2020-12-11    103       147     329.3\n",
              "11        60 2020-12-12    100       120     250.7\n",
              "12        60 2020-12-12    100       120     250.7\n",
              "13        60 2020-12-13    106       128     345.3\n",
              "14        60 2020-12-14    104       132     379.3\n",
              "15        60 2020-12-15     98       123     275.0\n",
              "16        60 2020-12-16     98       120     215.2\n",
              "17        60 2020-12-17    100       120     300.0\n",
              "18        45 2020-12-18     90       112       NaN\n",
              "19        60 2020-12-19    103       123     323.0\n",
              "20        45 2020-12-20     97       125     243.0\n",
              "21        60 2020-12-21    108       131     364.2\n",
              "23        60 2020-12-23    130       101     300.0\n",
              "24        45 2020-12-24    105       132     246.0\n",
              "25        60 2020-12-25    102       126     334.5\n",
              "26        60 2020-12-26    100       120     250.0\n",
              "27        60 2020-12-27     92       118     241.0\n",
              "28        60 2020-12-28    103       132       NaN\n",
              "29        60 2020-12-29    100       132     280.0\n",
              "30        60 2020-12-30    102       129     380.3\n",
              "31        60 2020-12-31     92       115     243.0"
            ]
          },
          "execution_count": 18,
          "metadata": {},
          "output_type": "execute_result"
        }
      ],
      "source": [
        "for x in df.index:\n",
        "    if df.loc[x,\"Duration\"] > 120:\n",
        "        df.loc[x,\"Duration\"] = 120\n",
        "df"
      ]
    },
    {
      "cell_type": "markdown",
      "metadata": {
        "id": "eP_312QZ8I3R"
      },
      "source": [
        "# REMOVING ROWS"
      ]
    },
    {
      "cell_type": "code",
      "execution_count": null,
      "metadata": {
        "id": "6cVjlfyO8I3R",
        "outputId": "4d719221-a5c8-4402-c206-b7986386f103"
      },
      "outputs": [
        {
          "data": {
            "text/html": [
              "<div>\n",
              "<style scoped>\n",
              "    .dataframe tbody tr th:only-of-type {\n",
              "        vertical-align: middle;\n",
              "    }\n",
              "\n",
              "    .dataframe tbody tr th {\n",
              "        vertical-align: top;\n",
              "    }\n",
              "\n",
              "    .dataframe thead th {\n",
              "        text-align: right;\n",
              "    }\n",
              "</style>\n",
              "<table border=\"1\" class=\"dataframe\">\n",
              "  <thead>\n",
              "    <tr style=\"text-align: right;\">\n",
              "      <th></th>\n",
              "      <th>Duration</th>\n",
              "      <th>Date</th>\n",
              "      <th>Pulse</th>\n",
              "      <th>Maxpulse</th>\n",
              "      <th>Calories</th>\n",
              "    </tr>\n",
              "  </thead>\n",
              "  <tbody>\n",
              "    <tr>\n",
              "      <th>0</th>\n",
              "      <td>60</td>\n",
              "      <td>2020-12-01</td>\n",
              "      <td>110</td>\n",
              "      <td>130</td>\n",
              "      <td>409.1</td>\n",
              "    </tr>\n",
              "    <tr>\n",
              "      <th>1</th>\n",
              "      <td>60</td>\n",
              "      <td>2020-12-02</td>\n",
              "      <td>117</td>\n",
              "      <td>145</td>\n",
              "      <td>479.0</td>\n",
              "    </tr>\n",
              "    <tr>\n",
              "      <th>2</th>\n",
              "      <td>60</td>\n",
              "      <td>2020-12-03</td>\n",
              "      <td>103</td>\n",
              "      <td>135</td>\n",
              "      <td>340.0</td>\n",
              "    </tr>\n",
              "    <tr>\n",
              "      <th>3</th>\n",
              "      <td>45</td>\n",
              "      <td>2020-12-04</td>\n",
              "      <td>109</td>\n",
              "      <td>175</td>\n",
              "      <td>282.4</td>\n",
              "    </tr>\n",
              "    <tr>\n",
              "      <th>4</th>\n",
              "      <td>45</td>\n",
              "      <td>2020-12-05</td>\n",
              "      <td>117</td>\n",
              "      <td>148</td>\n",
              "      <td>406.0</td>\n",
              "    </tr>\n",
              "    <tr>\n",
              "      <th>5</th>\n",
              "      <td>60</td>\n",
              "      <td>2020-12-06</td>\n",
              "      <td>102</td>\n",
              "      <td>127</td>\n",
              "      <td>300.0</td>\n",
              "    </tr>\n",
              "    <tr>\n",
              "      <th>6</th>\n",
              "      <td>60</td>\n",
              "      <td>2020-12-07</td>\n",
              "      <td>110</td>\n",
              "      <td>136</td>\n",
              "      <td>374.0</td>\n",
              "    </tr>\n",
              "    <tr>\n",
              "      <th>7</th>\n",
              "      <td>120</td>\n",
              "      <td>2020-12-08</td>\n",
              "      <td>104</td>\n",
              "      <td>134</td>\n",
              "      <td>253.3</td>\n",
              "    </tr>\n",
              "    <tr>\n",
              "      <th>8</th>\n",
              "      <td>30</td>\n",
              "      <td>2020-12-09</td>\n",
              "      <td>109</td>\n",
              "      <td>133</td>\n",
              "      <td>195.1</td>\n",
              "    </tr>\n",
              "    <tr>\n",
              "      <th>9</th>\n",
              "      <td>60</td>\n",
              "      <td>2020-12-10</td>\n",
              "      <td>98</td>\n",
              "      <td>124</td>\n",
              "      <td>269.0</td>\n",
              "    </tr>\n",
              "    <tr>\n",
              "      <th>10</th>\n",
              "      <td>60</td>\n",
              "      <td>2020-12-11</td>\n",
              "      <td>103</td>\n",
              "      <td>147</td>\n",
              "      <td>329.3</td>\n",
              "    </tr>\n",
              "    <tr>\n",
              "      <th>11</th>\n",
              "      <td>60</td>\n",
              "      <td>2020-12-12</td>\n",
              "      <td>100</td>\n",
              "      <td>120</td>\n",
              "      <td>250.7</td>\n",
              "    </tr>\n",
              "    <tr>\n",
              "      <th>12</th>\n",
              "      <td>60</td>\n",
              "      <td>2020-12-12</td>\n",
              "      <td>100</td>\n",
              "      <td>120</td>\n",
              "      <td>250.7</td>\n",
              "    </tr>\n",
              "    <tr>\n",
              "      <th>13</th>\n",
              "      <td>60</td>\n",
              "      <td>2020-12-13</td>\n",
              "      <td>106</td>\n",
              "      <td>128</td>\n",
              "      <td>345.3</td>\n",
              "    </tr>\n",
              "    <tr>\n",
              "      <th>14</th>\n",
              "      <td>60</td>\n",
              "      <td>2020-12-14</td>\n",
              "      <td>104</td>\n",
              "      <td>132</td>\n",
              "      <td>379.3</td>\n",
              "    </tr>\n",
              "    <tr>\n",
              "      <th>15</th>\n",
              "      <td>60</td>\n",
              "      <td>2020-12-15</td>\n",
              "      <td>98</td>\n",
              "      <td>123</td>\n",
              "      <td>275.0</td>\n",
              "    </tr>\n",
              "    <tr>\n",
              "      <th>16</th>\n",
              "      <td>60</td>\n",
              "      <td>2020-12-16</td>\n",
              "      <td>98</td>\n",
              "      <td>120</td>\n",
              "      <td>215.2</td>\n",
              "    </tr>\n",
              "    <tr>\n",
              "      <th>17</th>\n",
              "      <td>60</td>\n",
              "      <td>2020-12-17</td>\n",
              "      <td>100</td>\n",
              "      <td>120</td>\n",
              "      <td>300.0</td>\n",
              "    </tr>\n",
              "    <tr>\n",
              "      <th>18</th>\n",
              "      <td>45</td>\n",
              "      <td>2020-12-18</td>\n",
              "      <td>90</td>\n",
              "      <td>112</td>\n",
              "      <td>NaN</td>\n",
              "    </tr>\n",
              "    <tr>\n",
              "      <th>19</th>\n",
              "      <td>60</td>\n",
              "      <td>2020-12-19</td>\n",
              "      <td>103</td>\n",
              "      <td>123</td>\n",
              "      <td>323.0</td>\n",
              "    </tr>\n",
              "    <tr>\n",
              "      <th>20</th>\n",
              "      <td>45</td>\n",
              "      <td>2020-12-20</td>\n",
              "      <td>97</td>\n",
              "      <td>125</td>\n",
              "      <td>243.0</td>\n",
              "    </tr>\n",
              "    <tr>\n",
              "      <th>21</th>\n",
              "      <td>60</td>\n",
              "      <td>2020-12-21</td>\n",
              "      <td>108</td>\n",
              "      <td>131</td>\n",
              "      <td>364.2</td>\n",
              "    </tr>\n",
              "    <tr>\n",
              "      <th>23</th>\n",
              "      <td>60</td>\n",
              "      <td>2020-12-23</td>\n",
              "      <td>130</td>\n",
              "      <td>101</td>\n",
              "      <td>300.0</td>\n",
              "    </tr>\n",
              "    <tr>\n",
              "      <th>24</th>\n",
              "      <td>45</td>\n",
              "      <td>2020-12-24</td>\n",
              "      <td>105</td>\n",
              "      <td>132</td>\n",
              "      <td>246.0</td>\n",
              "    </tr>\n",
              "    <tr>\n",
              "      <th>25</th>\n",
              "      <td>60</td>\n",
              "      <td>2020-12-25</td>\n",
              "      <td>102</td>\n",
              "      <td>126</td>\n",
              "      <td>334.5</td>\n",
              "    </tr>\n",
              "    <tr>\n",
              "      <th>26</th>\n",
              "      <td>60</td>\n",
              "      <td>2020-12-26</td>\n",
              "      <td>100</td>\n",
              "      <td>120</td>\n",
              "      <td>250.0</td>\n",
              "    </tr>\n",
              "    <tr>\n",
              "      <th>27</th>\n",
              "      <td>60</td>\n",
              "      <td>2020-12-27</td>\n",
              "      <td>92</td>\n",
              "      <td>118</td>\n",
              "      <td>241.0</td>\n",
              "    </tr>\n",
              "    <tr>\n",
              "      <th>28</th>\n",
              "      <td>60</td>\n",
              "      <td>2020-12-28</td>\n",
              "      <td>103</td>\n",
              "      <td>132</td>\n",
              "      <td>NaN</td>\n",
              "    </tr>\n",
              "    <tr>\n",
              "      <th>29</th>\n",
              "      <td>60</td>\n",
              "      <td>2020-12-29</td>\n",
              "      <td>100</td>\n",
              "      <td>132</td>\n",
              "      <td>280.0</td>\n",
              "    </tr>\n",
              "    <tr>\n",
              "      <th>30</th>\n",
              "      <td>60</td>\n",
              "      <td>2020-12-30</td>\n",
              "      <td>102</td>\n",
              "      <td>129</td>\n",
              "      <td>380.3</td>\n",
              "    </tr>\n",
              "    <tr>\n",
              "      <th>31</th>\n",
              "      <td>60</td>\n",
              "      <td>2020-12-31</td>\n",
              "      <td>92</td>\n",
              "      <td>115</td>\n",
              "      <td>243.0</td>\n",
              "    </tr>\n",
              "  </tbody>\n",
              "</table>\n",
              "</div>"
            ],
            "text/plain": [
              "    Duration       Date  Pulse  Maxpulse  Calories\n",
              "0         60 2020-12-01    110       130     409.1\n",
              "1         60 2020-12-02    117       145     479.0\n",
              "2         60 2020-12-03    103       135     340.0\n",
              "3         45 2020-12-04    109       175     282.4\n",
              "4         45 2020-12-05    117       148     406.0\n",
              "5         60 2020-12-06    102       127     300.0\n",
              "6         60 2020-12-07    110       136     374.0\n",
              "7        120 2020-12-08    104       134     253.3\n",
              "8         30 2020-12-09    109       133     195.1\n",
              "9         60 2020-12-10     98       124     269.0\n",
              "10        60 2020-12-11    103       147     329.3\n",
              "11        60 2020-12-12    100       120     250.7\n",
              "12        60 2020-12-12    100       120     250.7\n",
              "13        60 2020-12-13    106       128     345.3\n",
              "14        60 2020-12-14    104       132     379.3\n",
              "15        60 2020-12-15     98       123     275.0\n",
              "16        60 2020-12-16     98       120     215.2\n",
              "17        60 2020-12-17    100       120     300.0\n",
              "18        45 2020-12-18     90       112       NaN\n",
              "19        60 2020-12-19    103       123     323.0\n",
              "20        45 2020-12-20     97       125     243.0\n",
              "21        60 2020-12-21    108       131     364.2\n",
              "23        60 2020-12-23    130       101     300.0\n",
              "24        45 2020-12-24    105       132     246.0\n",
              "25        60 2020-12-25    102       126     334.5\n",
              "26        60 2020-12-26    100       120     250.0\n",
              "27        60 2020-12-27     92       118     241.0\n",
              "28        60 2020-12-28    103       132       NaN\n",
              "29        60 2020-12-29    100       132     280.0\n",
              "30        60 2020-12-30    102       129     380.3\n",
              "31        60 2020-12-31     92       115     243.0"
            ]
          },
          "execution_count": 21,
          "metadata": {},
          "output_type": "execute_result"
        }
      ],
      "source": [
        "for x in df.index:\n",
        "    if df.loc[x,\"Duration\"] > 120:\n",
        "        df.drop(x, inplace = True)\n",
        "df"
      ]
    },
    {
      "cell_type": "markdown",
      "metadata": {
        "id": "zzGqdVo48I3S"
      },
      "source": [
        "# Pandas - Removing Duplicates"
      ]
    },
    {
      "cell_type": "code",
      "execution_count": null,
      "metadata": {
        "id": "VCcsdSVI8I3S",
        "outputId": "93d78d4b-c197-4456-8127-a5d08526c1de"
      },
      "outputs": [
        {
          "name": "stdout",
          "output_type": "stream",
          "text": [
            "0     False\n",
            "1     False\n",
            "2     False\n",
            "3     False\n",
            "4     False\n",
            "5     False\n",
            "6     False\n",
            "7     False\n",
            "8     False\n",
            "9     False\n",
            "10    False\n",
            "11    False\n",
            "12     True\n",
            "13    False\n",
            "14    False\n",
            "15    False\n",
            "16    False\n",
            "17    False\n",
            "18    False\n",
            "19    False\n",
            "20    False\n",
            "21    False\n",
            "22    False\n",
            "23    False\n",
            "24    False\n",
            "25    False\n",
            "26    False\n",
            "27    False\n",
            "28    False\n",
            "29    False\n",
            "30    False\n",
            "31    False\n",
            "dtype: bool\n"
          ]
        }
      ],
      "source": [
        "df = pd.read_csv('drive/MyDrive/ML-Lab/Datasets/data.csv')\n",
        "print(df.duplicated())"
      ]
    },
    {
      "cell_type": "code",
      "execution_count": null,
      "metadata": {
        "id": "i537Fjtm8I3S",
        "outputId": "7c0fa80e-15fa-4cc3-c4f1-966107dd1085"
      },
      "outputs": [
        {
          "data": {
            "text/html": [
              "<div>\n",
              "<style scoped>\n",
              "    .dataframe tbody tr th:only-of-type {\n",
              "        vertical-align: middle;\n",
              "    }\n",
              "\n",
              "    .dataframe tbody tr th {\n",
              "        vertical-align: top;\n",
              "    }\n",
              "\n",
              "    .dataframe thead th {\n",
              "        text-align: right;\n",
              "    }\n",
              "</style>\n",
              "<table border=\"1\" class=\"dataframe\">\n",
              "  <thead>\n",
              "    <tr style=\"text-align: right;\">\n",
              "      <th></th>\n",
              "      <th>Duration</th>\n",
              "      <th>Date</th>\n",
              "      <th>Pulse</th>\n",
              "      <th>Maxpulse</th>\n",
              "      <th>Calories</th>\n",
              "    </tr>\n",
              "  </thead>\n",
              "  <tbody>\n",
              "    <tr>\n",
              "      <th>0</th>\n",
              "      <td>60</td>\n",
              "      <td>'2020/12/01'</td>\n",
              "      <td>110</td>\n",
              "      <td>130</td>\n",
              "      <td>409.1</td>\n",
              "    </tr>\n",
              "    <tr>\n",
              "      <th>1</th>\n",
              "      <td>60</td>\n",
              "      <td>'2020/12/02'</td>\n",
              "      <td>117</td>\n",
              "      <td>145</td>\n",
              "      <td>479.0</td>\n",
              "    </tr>\n",
              "    <tr>\n",
              "      <th>2</th>\n",
              "      <td>60</td>\n",
              "      <td>'2020/12/03'</td>\n",
              "      <td>103</td>\n",
              "      <td>135</td>\n",
              "      <td>340.0</td>\n",
              "    </tr>\n",
              "    <tr>\n",
              "      <th>3</th>\n",
              "      <td>45</td>\n",
              "      <td>'2020/12/04'</td>\n",
              "      <td>109</td>\n",
              "      <td>175</td>\n",
              "      <td>282.4</td>\n",
              "    </tr>\n",
              "    <tr>\n",
              "      <th>4</th>\n",
              "      <td>45</td>\n",
              "      <td>'2020/12/05'</td>\n",
              "      <td>117</td>\n",
              "      <td>148</td>\n",
              "      <td>406.0</td>\n",
              "    </tr>\n",
              "    <tr>\n",
              "      <th>5</th>\n",
              "      <td>60</td>\n",
              "      <td>'2020/12/06'</td>\n",
              "      <td>102</td>\n",
              "      <td>127</td>\n",
              "      <td>300.0</td>\n",
              "    </tr>\n",
              "    <tr>\n",
              "      <th>6</th>\n",
              "      <td>60</td>\n",
              "      <td>'2020/12/07'</td>\n",
              "      <td>110</td>\n",
              "      <td>136</td>\n",
              "      <td>374.0</td>\n",
              "    </tr>\n",
              "    <tr>\n",
              "      <th>7</th>\n",
              "      <td>450</td>\n",
              "      <td>'2020/12/08'</td>\n",
              "      <td>104</td>\n",
              "      <td>134</td>\n",
              "      <td>253.3</td>\n",
              "    </tr>\n",
              "    <tr>\n",
              "      <th>8</th>\n",
              "      <td>30</td>\n",
              "      <td>'2020/12/09'</td>\n",
              "      <td>109</td>\n",
              "      <td>133</td>\n",
              "      <td>195.1</td>\n",
              "    </tr>\n",
              "    <tr>\n",
              "      <th>9</th>\n",
              "      <td>60</td>\n",
              "      <td>'2020/12/10'</td>\n",
              "      <td>98</td>\n",
              "      <td>124</td>\n",
              "      <td>269.0</td>\n",
              "    </tr>\n",
              "    <tr>\n",
              "      <th>10</th>\n",
              "      <td>60</td>\n",
              "      <td>'2020/12/11'</td>\n",
              "      <td>103</td>\n",
              "      <td>147</td>\n",
              "      <td>329.3</td>\n",
              "    </tr>\n",
              "    <tr>\n",
              "      <th>11</th>\n",
              "      <td>60</td>\n",
              "      <td>'2020/12/12'</td>\n",
              "      <td>100</td>\n",
              "      <td>120</td>\n",
              "      <td>250.7</td>\n",
              "    </tr>\n",
              "    <tr>\n",
              "      <th>13</th>\n",
              "      <td>60</td>\n",
              "      <td>'2020/12/13'</td>\n",
              "      <td>106</td>\n",
              "      <td>128</td>\n",
              "      <td>345.3</td>\n",
              "    </tr>\n",
              "    <tr>\n",
              "      <th>14</th>\n",
              "      <td>60</td>\n",
              "      <td>'2020/12/14'</td>\n",
              "      <td>104</td>\n",
              "      <td>132</td>\n",
              "      <td>379.3</td>\n",
              "    </tr>\n",
              "    <tr>\n",
              "      <th>15</th>\n",
              "      <td>60</td>\n",
              "      <td>'2020/12/15'</td>\n",
              "      <td>98</td>\n",
              "      <td>123</td>\n",
              "      <td>275.0</td>\n",
              "    </tr>\n",
              "    <tr>\n",
              "      <th>16</th>\n",
              "      <td>60</td>\n",
              "      <td>'2020/12/16'</td>\n",
              "      <td>98</td>\n",
              "      <td>120</td>\n",
              "      <td>215.2</td>\n",
              "    </tr>\n",
              "    <tr>\n",
              "      <th>17</th>\n",
              "      <td>60</td>\n",
              "      <td>'2020/12/17'</td>\n",
              "      <td>100</td>\n",
              "      <td>120</td>\n",
              "      <td>300.0</td>\n",
              "    </tr>\n",
              "    <tr>\n",
              "      <th>18</th>\n",
              "      <td>45</td>\n",
              "      <td>'2020/12/18'</td>\n",
              "      <td>90</td>\n",
              "      <td>112</td>\n",
              "      <td>NaN</td>\n",
              "    </tr>\n",
              "    <tr>\n",
              "      <th>19</th>\n",
              "      <td>60</td>\n",
              "      <td>'2020/12/19'</td>\n",
              "      <td>103</td>\n",
              "      <td>123</td>\n",
              "      <td>323.0</td>\n",
              "    </tr>\n",
              "    <tr>\n",
              "      <th>20</th>\n",
              "      <td>45</td>\n",
              "      <td>'2020/12/20'</td>\n",
              "      <td>97</td>\n",
              "      <td>125</td>\n",
              "      <td>243.0</td>\n",
              "    </tr>\n",
              "    <tr>\n",
              "      <th>21</th>\n",
              "      <td>60</td>\n",
              "      <td>'2020/12/21'</td>\n",
              "      <td>108</td>\n",
              "      <td>131</td>\n",
              "      <td>364.2</td>\n",
              "    </tr>\n",
              "    <tr>\n",
              "      <th>22</th>\n",
              "      <td>45</td>\n",
              "      <td>NaN</td>\n",
              "      <td>100</td>\n",
              "      <td>119</td>\n",
              "      <td>282.0</td>\n",
              "    </tr>\n",
              "    <tr>\n",
              "      <th>23</th>\n",
              "      <td>60</td>\n",
              "      <td>'2020/12/23'</td>\n",
              "      <td>130</td>\n",
              "      <td>101</td>\n",
              "      <td>300.0</td>\n",
              "    </tr>\n",
              "    <tr>\n",
              "      <th>24</th>\n",
              "      <td>45</td>\n",
              "      <td>'2020/12/24'</td>\n",
              "      <td>105</td>\n",
              "      <td>132</td>\n",
              "      <td>246.0</td>\n",
              "    </tr>\n",
              "    <tr>\n",
              "      <th>25</th>\n",
              "      <td>60</td>\n",
              "      <td>'2020/12/25'</td>\n",
              "      <td>102</td>\n",
              "      <td>126</td>\n",
              "      <td>334.5</td>\n",
              "    </tr>\n",
              "    <tr>\n",
              "      <th>26</th>\n",
              "      <td>60</td>\n",
              "      <td>20201226</td>\n",
              "      <td>100</td>\n",
              "      <td>120</td>\n",
              "      <td>250.0</td>\n",
              "    </tr>\n",
              "    <tr>\n",
              "      <th>27</th>\n",
              "      <td>60</td>\n",
              "      <td>'2020/12/27'</td>\n",
              "      <td>92</td>\n",
              "      <td>118</td>\n",
              "      <td>241.0</td>\n",
              "    </tr>\n",
              "    <tr>\n",
              "      <th>28</th>\n",
              "      <td>60</td>\n",
              "      <td>'2020/12/28'</td>\n",
              "      <td>103</td>\n",
              "      <td>132</td>\n",
              "      <td>NaN</td>\n",
              "    </tr>\n",
              "    <tr>\n",
              "      <th>29</th>\n",
              "      <td>60</td>\n",
              "      <td>'2020/12/29'</td>\n",
              "      <td>100</td>\n",
              "      <td>132</td>\n",
              "      <td>280.0</td>\n",
              "    </tr>\n",
              "    <tr>\n",
              "      <th>30</th>\n",
              "      <td>60</td>\n",
              "      <td>'2020/12/30'</td>\n",
              "      <td>102</td>\n",
              "      <td>129</td>\n",
              "      <td>380.3</td>\n",
              "    </tr>\n",
              "    <tr>\n",
              "      <th>31</th>\n",
              "      <td>60</td>\n",
              "      <td>'2020/12/31'</td>\n",
              "      <td>92</td>\n",
              "      <td>115</td>\n",
              "      <td>243.0</td>\n",
              "    </tr>\n",
              "  </tbody>\n",
              "</table>\n",
              "</div>"
            ],
            "text/plain": [
              "    Duration          Date  Pulse  Maxpulse  Calories\n",
              "0         60  '2020/12/01'    110       130     409.1\n",
              "1         60  '2020/12/02'    117       145     479.0\n",
              "2         60  '2020/12/03'    103       135     340.0\n",
              "3         45  '2020/12/04'    109       175     282.4\n",
              "4         45  '2020/12/05'    117       148     406.0\n",
              "5         60  '2020/12/06'    102       127     300.0\n",
              "6         60  '2020/12/07'    110       136     374.0\n",
              "7        450  '2020/12/08'    104       134     253.3\n",
              "8         30  '2020/12/09'    109       133     195.1\n",
              "9         60  '2020/12/10'     98       124     269.0\n",
              "10        60  '2020/12/11'    103       147     329.3\n",
              "11        60  '2020/12/12'    100       120     250.7\n",
              "13        60  '2020/12/13'    106       128     345.3\n",
              "14        60  '2020/12/14'    104       132     379.3\n",
              "15        60  '2020/12/15'     98       123     275.0\n",
              "16        60  '2020/12/16'     98       120     215.2\n",
              "17        60  '2020/12/17'    100       120     300.0\n",
              "18        45  '2020/12/18'     90       112       NaN\n",
              "19        60  '2020/12/19'    103       123     323.0\n",
              "20        45  '2020/12/20'     97       125     243.0\n",
              "21        60  '2020/12/21'    108       131     364.2\n",
              "22        45           NaN    100       119     282.0\n",
              "23        60  '2020/12/23'    130       101     300.0\n",
              "24        45  '2020/12/24'    105       132     246.0\n",
              "25        60  '2020/12/25'    102       126     334.5\n",
              "26        60      20201226    100       120     250.0\n",
              "27        60  '2020/12/27'     92       118     241.0\n",
              "28        60  '2020/12/28'    103       132       NaN\n",
              "29        60  '2020/12/29'    100       132     280.0\n",
              "30        60  '2020/12/30'    102       129     380.3\n",
              "31        60  '2020/12/31'     92       115     243.0"
            ]
          },
          "execution_count": 25,
          "metadata": {},
          "output_type": "execute_result"
        }
      ],
      "source": [
        "df = pd.read_csv('drive/MyDrive/ML-Lab/Datasets/data.csv')\n",
        "df.drop_duplicates(inplace = True)\n",
        "df"
      ]
    },
    {
      "cell_type": "markdown",
      "metadata": {
        "id": "I1mPzeda8I3S"
      },
      "source": [
        "<div style=\"display: flex; justify-content: center;\">\n",
        "    <h1>!! THANK YOU !!</h1>\n",
        "</div>"
      ]
    }
  ],
  "metadata": {
    "kernelspec": {
      "display_name": "Python 3.10.5 64-bit",
      "language": "python",
      "name": "python3"
    },
    "language_info": {
      "codemirror_mode": {
        "name": "ipython",
        "version": 3
      },
      "file_extension": ".py",
      "mimetype": "text/x-python",
      "name": "python",
      "nbconvert_exporter": "python",
      "pygments_lexer": "ipython3",
      "version": "3.10.5"
    },
    "orig_nbformat": 4,
    "vscode": {
      "interpreter": {
        "hash": "1ed739916f056cbaa1c1d07d49b59abad810f48beee2c23ab8674585a1239e62"
      }
    },
    "colab": {
      "provenance": []
    }
  },
  "nbformat": 4,
  "nbformat_minor": 0
}